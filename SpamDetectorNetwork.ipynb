{
  "cells": [
    {
      "cell_type": "markdown",
      "metadata": {
        "id": "4ZBbEhVO9_39"
      },
      "source": [
        "# Drive Linking\n",
        "Linking Google Drive to Colab to enable loading data from the cloud."
      ]
    },
    {
      "cell_type": "code",
      "execution_count": null,
      "metadata": {
        "id": "E5cIX4fc8kj3",
        "colab": {
          "base_uri": "https://localhost:8080/"
        },
        "outputId": "b5a30877-1d76-4211-f317-50277cd73dc3"
      },
      "outputs": [
        {
          "output_type": "stream",
          "name": "stdout",
          "text": [
            "Drive already mounted at /content/drive; to attempt to forcibly remount, call drive.mount(\"/content/drive\", force_remount=True).\n"
          ]
        }
      ],
      "source": [
        "from google.colab import drive                                                  # Imports the Google Colab Drive module\n",
        "\n",
        "drive.mount('/content/drive')                                                   # Base address of the drive"
      ]
    },
    {
      "cell_type": "markdown",
      "metadata": {
        "id": "IDs8YisKAE08"
      },
      "source": [
        "# Library Import\n",
        "Importing all necessary libraries and modules."
      ]
    },
    {
      "cell_type": "code",
      "execution_count": null,
      "metadata": {
        "colab": {
          "base_uri": "https://localhost:8080/"
        },
        "id": "dsyEh1viBNrx",
        "outputId": "be03c9e2-fe34-416f-c5a4-93d385e750b3"
      },
      "outputs": [
        {
          "output_type": "stream",
          "name": "stdout",
          "text": [
            "Requirement already satisfied: googletrans==4.0.0-rc1 in /usr/local/lib/python3.10/dist-packages (4.0.0rc1)\n",
            "Requirement already satisfied: httpx==0.13.3 in /usr/local/lib/python3.10/dist-packages (from googletrans==4.0.0-rc1) (0.13.3)\n",
            "Requirement already satisfied: certifi in /usr/local/lib/python3.10/dist-packages (from httpx==0.13.3->googletrans==4.0.0-rc1) (2024.6.2)\n",
            "Requirement already satisfied: hstspreload in /usr/local/lib/python3.10/dist-packages (from httpx==0.13.3->googletrans==4.0.0-rc1) (2024.6.1)\n",
            "Requirement already satisfied: sniffio in /usr/local/lib/python3.10/dist-packages (from httpx==0.13.3->googletrans==4.0.0-rc1) (1.3.1)\n",
            "Requirement already satisfied: chardet==3.* in /usr/local/lib/python3.10/dist-packages (from httpx==0.13.3->googletrans==4.0.0-rc1) (3.0.4)\n",
            "Requirement already satisfied: idna==2.* in /usr/local/lib/python3.10/dist-packages (from httpx==0.13.3->googletrans==4.0.0-rc1) (2.10)\n",
            "Requirement already satisfied: rfc3986<2,>=1.3 in /usr/local/lib/python3.10/dist-packages (from httpx==0.13.3->googletrans==4.0.0-rc1) (1.5.0)\n",
            "Requirement already satisfied: httpcore==0.9.* in /usr/local/lib/python3.10/dist-packages (from httpx==0.13.3->googletrans==4.0.0-rc1) (0.9.1)\n",
            "Requirement already satisfied: h11<0.10,>=0.8 in /usr/local/lib/python3.10/dist-packages (from httpcore==0.9.*->httpx==0.13.3->googletrans==4.0.0-rc1) (0.9.0)\n",
            "Requirement already satisfied: h2==3.* in /usr/local/lib/python3.10/dist-packages (from httpcore==0.9.*->httpx==0.13.3->googletrans==4.0.0-rc1) (3.2.0)\n",
            "Requirement already satisfied: hyperframe<6,>=5.2.0 in /usr/local/lib/python3.10/dist-packages (from h2==3.*->httpcore==0.9.*->httpx==0.13.3->googletrans==4.0.0-rc1) (5.2.0)\n",
            "Requirement already satisfied: hpack<4,>=3.0 in /usr/local/lib/python3.10/dist-packages (from h2==3.*->httpcore==0.9.*->httpx==0.13.3->googletrans==4.0.0-rc1) (3.0.0)\n",
            "Requirement already satisfied: langdetect in /usr/local/lib/python3.10/dist-packages (1.0.9)\n",
            "Requirement already satisfied: six in /usr/local/lib/python3.10/dist-packages (from langdetect) (1.16.0)\n",
            "Requirement already satisfied: d2l in /usr/local/lib/python3.10/dist-packages (1.0.3)\n",
            "Requirement already satisfied: jupyter==1.0.0 in /usr/local/lib/python3.10/dist-packages (from d2l) (1.0.0)\n",
            "Requirement already satisfied: numpy==1.23.5 in /usr/local/lib/python3.10/dist-packages (from d2l) (1.23.5)\n",
            "Requirement already satisfied: matplotlib==3.7.2 in /usr/local/lib/python3.10/dist-packages (from d2l) (3.7.2)\n",
            "Requirement already satisfied: matplotlib-inline==0.1.6 in /usr/local/lib/python3.10/dist-packages (from d2l) (0.1.6)\n",
            "Requirement already satisfied: requests==2.31.0 in /usr/local/lib/python3.10/dist-packages (from d2l) (2.31.0)\n",
            "Requirement already satisfied: pandas==2.0.3 in /usr/local/lib/python3.10/dist-packages (from d2l) (2.0.3)\n",
            "Requirement already satisfied: scipy==1.10.1 in /usr/local/lib/python3.10/dist-packages (from d2l) (1.10.1)\n",
            "Requirement already satisfied: notebook in /usr/local/lib/python3.10/dist-packages (from jupyter==1.0.0->d2l) (6.5.5)\n",
            "Requirement already satisfied: qtconsole in /usr/local/lib/python3.10/dist-packages (from jupyter==1.0.0->d2l) (5.5.2)\n",
            "Requirement already satisfied: jupyter-console in /usr/local/lib/python3.10/dist-packages (from jupyter==1.0.0->d2l) (6.1.0)\n",
            "Requirement already satisfied: nbconvert in /usr/local/lib/python3.10/dist-packages (from jupyter==1.0.0->d2l) (6.5.4)\n",
            "Requirement already satisfied: ipykernel in /usr/local/lib/python3.10/dist-packages (from jupyter==1.0.0->d2l) (5.5.6)\n",
            "Requirement already satisfied: ipywidgets in /usr/local/lib/python3.10/dist-packages (from jupyter==1.0.0->d2l) (7.7.1)\n",
            "Requirement already satisfied: contourpy>=1.0.1 in /usr/local/lib/python3.10/dist-packages (from matplotlib==3.7.2->d2l) (1.2.1)\n",
            "Requirement already satisfied: cycler>=0.10 in /usr/local/lib/python3.10/dist-packages (from matplotlib==3.7.2->d2l) (0.12.1)\n",
            "Requirement already satisfied: fonttools>=4.22.0 in /usr/local/lib/python3.10/dist-packages (from matplotlib==3.7.2->d2l) (4.53.0)\n",
            "Requirement already satisfied: kiwisolver>=1.0.1 in /usr/local/lib/python3.10/dist-packages (from matplotlib==3.7.2->d2l) (1.4.5)\n",
            "Requirement already satisfied: packaging>=20.0 in /usr/local/lib/python3.10/dist-packages (from matplotlib==3.7.2->d2l) (24.1)\n",
            "Requirement already satisfied: pillow>=6.2.0 in /usr/local/lib/python3.10/dist-packages (from matplotlib==3.7.2->d2l) (9.4.0)\n",
            "Requirement already satisfied: pyparsing<3.1,>=2.3.1 in /usr/local/lib/python3.10/dist-packages (from matplotlib==3.7.2->d2l) (3.0.9)\n",
            "Requirement already satisfied: python-dateutil>=2.7 in /usr/local/lib/python3.10/dist-packages (from matplotlib==3.7.2->d2l) (2.8.2)\n",
            "Requirement already satisfied: traitlets in /usr/local/lib/python3.10/dist-packages (from matplotlib-inline==0.1.6->d2l) (5.7.1)\n",
            "Requirement already satisfied: pytz>=2020.1 in /usr/local/lib/python3.10/dist-packages (from pandas==2.0.3->d2l) (2023.4)\n",
            "Requirement already satisfied: tzdata>=2022.1 in /usr/local/lib/python3.10/dist-packages (from pandas==2.0.3->d2l) (2024.1)\n",
            "Requirement already satisfied: charset-normalizer<4,>=2 in /usr/local/lib/python3.10/dist-packages (from requests==2.31.0->d2l) (3.3.2)\n",
            "Requirement already satisfied: idna<4,>=2.5 in /usr/local/lib/python3.10/dist-packages (from requests==2.31.0->d2l) (2.10)\n",
            "Requirement already satisfied: urllib3<3,>=1.21.1 in /usr/local/lib/python3.10/dist-packages (from requests==2.31.0->d2l) (2.0.7)\n",
            "Requirement already satisfied: certifi>=2017.4.17 in /usr/local/lib/python3.10/dist-packages (from requests==2.31.0->d2l) (2024.6.2)\n",
            "Requirement already satisfied: six>=1.5 in /usr/local/lib/python3.10/dist-packages (from python-dateutil>=2.7->matplotlib==3.7.2->d2l) (1.16.0)\n",
            "Requirement already satisfied: ipython-genutils in /usr/local/lib/python3.10/dist-packages (from ipykernel->jupyter==1.0.0->d2l) (0.2.0)\n",
            "Requirement already satisfied: ipython>=5.0.0 in /usr/local/lib/python3.10/dist-packages (from ipykernel->jupyter==1.0.0->d2l) (7.34.0)\n",
            "Requirement already satisfied: jupyter-client in /usr/local/lib/python3.10/dist-packages (from ipykernel->jupyter==1.0.0->d2l) (6.1.12)\n",
            "Requirement already satisfied: tornado>=4.2 in /usr/local/lib/python3.10/dist-packages (from ipykernel->jupyter==1.0.0->d2l) (6.3.3)\n",
            "Requirement already satisfied: widgetsnbextension~=3.6.0 in /usr/local/lib/python3.10/dist-packages (from ipywidgets->jupyter==1.0.0->d2l) (3.6.6)\n",
            "Requirement already satisfied: jupyterlab-widgets>=1.0.0 in /usr/local/lib/python3.10/dist-packages (from ipywidgets->jupyter==1.0.0->d2l) (3.0.11)\n",
            "Requirement already satisfied: prompt-toolkit!=3.0.0,!=3.0.1,<3.1.0,>=2.0.0 in /usr/local/lib/python3.10/dist-packages (from jupyter-console->jupyter==1.0.0->d2l) (3.0.47)\n",
            "Requirement already satisfied: pygments in /usr/local/lib/python3.10/dist-packages (from jupyter-console->jupyter==1.0.0->d2l) (2.16.1)\n",
            "Requirement already satisfied: lxml in /usr/local/lib/python3.10/dist-packages (from nbconvert->jupyter==1.0.0->d2l) (4.9.4)\n",
            "Requirement already satisfied: beautifulsoup4 in /usr/local/lib/python3.10/dist-packages (from nbconvert->jupyter==1.0.0->d2l) (4.12.3)\n",
            "Requirement already satisfied: bleach in /usr/local/lib/python3.10/dist-packages (from nbconvert->jupyter==1.0.0->d2l) (6.1.0)\n",
            "Requirement already satisfied: defusedxml in /usr/local/lib/python3.10/dist-packages (from nbconvert->jupyter==1.0.0->d2l) (0.7.1)\n",
            "Requirement already satisfied: entrypoints>=0.2.2 in /usr/local/lib/python3.10/dist-packages (from nbconvert->jupyter==1.0.0->d2l) (0.4)\n",
            "Requirement already satisfied: jinja2>=3.0 in /usr/local/lib/python3.10/dist-packages (from nbconvert->jupyter==1.0.0->d2l) (3.1.4)\n",
            "Requirement already satisfied: jupyter-core>=4.7 in /usr/local/lib/python3.10/dist-packages (from nbconvert->jupyter==1.0.0->d2l) (5.7.2)\n",
            "Requirement already satisfied: jupyterlab-pygments in /usr/local/lib/python3.10/dist-packages (from nbconvert->jupyter==1.0.0->d2l) (0.3.0)\n",
            "Requirement already satisfied: MarkupSafe>=2.0 in /usr/local/lib/python3.10/dist-packages (from nbconvert->jupyter==1.0.0->d2l) (2.1.5)\n",
            "Requirement already satisfied: mistune<2,>=0.8.1 in /usr/local/lib/python3.10/dist-packages (from nbconvert->jupyter==1.0.0->d2l) (0.8.4)\n",
            "Requirement already satisfied: nbclient>=0.5.0 in /usr/local/lib/python3.10/dist-packages (from nbconvert->jupyter==1.0.0->d2l) (0.10.0)\n",
            "Requirement already satisfied: nbformat>=5.1 in /usr/local/lib/python3.10/dist-packages (from nbconvert->jupyter==1.0.0->d2l) (5.10.4)\n",
            "Requirement already satisfied: pandocfilters>=1.4.1 in /usr/local/lib/python3.10/dist-packages (from nbconvert->jupyter==1.0.0->d2l) (1.5.1)\n",
            "Requirement already satisfied: tinycss2 in /usr/local/lib/python3.10/dist-packages (from nbconvert->jupyter==1.0.0->d2l) (1.3.0)\n",
            "Requirement already satisfied: pyzmq<25,>=17 in /usr/local/lib/python3.10/dist-packages (from notebook->jupyter==1.0.0->d2l) (24.0.1)\n",
            "Requirement already satisfied: argon2-cffi in /usr/local/lib/python3.10/dist-packages (from notebook->jupyter==1.0.0->d2l) (23.1.0)\n",
            "Requirement already satisfied: nest-asyncio>=1.5 in /usr/local/lib/python3.10/dist-packages (from notebook->jupyter==1.0.0->d2l) (1.6.0)\n",
            "Requirement already satisfied: Send2Trash>=1.8.0 in /usr/local/lib/python3.10/dist-packages (from notebook->jupyter==1.0.0->d2l) (1.8.3)\n",
            "Requirement already satisfied: terminado>=0.8.3 in /usr/local/lib/python3.10/dist-packages (from notebook->jupyter==1.0.0->d2l) (0.18.1)\n",
            "Requirement already satisfied: prometheus-client in /usr/local/lib/python3.10/dist-packages (from notebook->jupyter==1.0.0->d2l) (0.20.0)\n",
            "Requirement already satisfied: nbclassic>=0.4.7 in /usr/local/lib/python3.10/dist-packages (from notebook->jupyter==1.0.0->d2l) (1.1.0)\n",
            "Requirement already satisfied: qtpy>=2.4.0 in /usr/local/lib/python3.10/dist-packages (from qtconsole->jupyter==1.0.0->d2l) (2.4.1)\n",
            "Requirement already satisfied: setuptools>=18.5 in /usr/local/lib/python3.10/dist-packages (from ipython>=5.0.0->ipykernel->jupyter==1.0.0->d2l) (67.7.2)\n",
            "Requirement already satisfied: jedi>=0.16 in /usr/local/lib/python3.10/dist-packages (from ipython>=5.0.0->ipykernel->jupyter==1.0.0->d2l) (0.19.1)\n",
            "Requirement already satisfied: decorator in /usr/local/lib/python3.10/dist-packages (from ipython>=5.0.0->ipykernel->jupyter==1.0.0->d2l) (4.4.2)\n",
            "Requirement already satisfied: pickleshare in /usr/local/lib/python3.10/dist-packages (from ipython>=5.0.0->ipykernel->jupyter==1.0.0->d2l) (0.7.5)\n",
            "Requirement already satisfied: backcall in /usr/local/lib/python3.10/dist-packages (from ipython>=5.0.0->ipykernel->jupyter==1.0.0->d2l) (0.2.0)\n",
            "Requirement already satisfied: pexpect>4.3 in /usr/local/lib/python3.10/dist-packages (from ipython>=5.0.0->ipykernel->jupyter==1.0.0->d2l) (4.9.0)\n",
            "Requirement already satisfied: platformdirs>=2.5 in /usr/local/lib/python3.10/dist-packages (from jupyter-core>=4.7->nbconvert->jupyter==1.0.0->d2l) (4.2.2)\n",
            "Requirement already satisfied: notebook-shim>=0.2.3 in /usr/local/lib/python3.10/dist-packages (from nbclassic>=0.4.7->notebook->jupyter==1.0.0->d2l) (0.2.4)\n",
            "Requirement already satisfied: fastjsonschema>=2.15 in /usr/local/lib/python3.10/dist-packages (from nbformat>=5.1->nbconvert->jupyter==1.0.0->d2l) (2.19.1)\n",
            "Requirement already satisfied: jsonschema>=2.6 in /usr/local/lib/python3.10/dist-packages (from nbformat>=5.1->nbconvert->jupyter==1.0.0->d2l) (4.19.2)\n",
            "Requirement already satisfied: wcwidth in /usr/local/lib/python3.10/dist-packages (from prompt-toolkit!=3.0.0,!=3.0.1,<3.1.0,>=2.0.0->jupyter-console->jupyter==1.0.0->d2l) (0.2.13)\n",
            "Requirement already satisfied: ptyprocess in /usr/local/lib/python3.10/dist-packages (from terminado>=0.8.3->notebook->jupyter==1.0.0->d2l) (0.7.0)\n",
            "Requirement already satisfied: argon2-cffi-bindings in /usr/local/lib/python3.10/dist-packages (from argon2-cffi->notebook->jupyter==1.0.0->d2l) (21.2.0)\n",
            "Requirement already satisfied: soupsieve>1.2 in /usr/local/lib/python3.10/dist-packages (from beautifulsoup4->nbconvert->jupyter==1.0.0->d2l) (2.5)\n",
            "Requirement already satisfied: webencodings in /usr/local/lib/python3.10/dist-packages (from bleach->nbconvert->jupyter==1.0.0->d2l) (0.5.1)\n",
            "Requirement already satisfied: parso<0.9.0,>=0.8.3 in /usr/local/lib/python3.10/dist-packages (from jedi>=0.16->ipython>=5.0.0->ipykernel->jupyter==1.0.0->d2l) (0.8.4)\n",
            "Requirement already satisfied: attrs>=22.2.0 in /usr/local/lib/python3.10/dist-packages (from jsonschema>=2.6->nbformat>=5.1->nbconvert->jupyter==1.0.0->d2l) (23.2.0)\n",
            "Requirement already satisfied: jsonschema-specifications>=2023.03.6 in /usr/local/lib/python3.10/dist-packages (from jsonschema>=2.6->nbformat>=5.1->nbconvert->jupyter==1.0.0->d2l) (2023.12.1)\n",
            "Requirement already satisfied: referencing>=0.28.4 in /usr/local/lib/python3.10/dist-packages (from jsonschema>=2.6->nbformat>=5.1->nbconvert->jupyter==1.0.0->d2l) (0.35.1)\n",
            "Requirement already satisfied: rpds-py>=0.7.1 in /usr/local/lib/python3.10/dist-packages (from jsonschema>=2.6->nbformat>=5.1->nbconvert->jupyter==1.0.0->d2l) (0.18.1)\n",
            "Requirement already satisfied: jupyter-server<3,>=1.8 in /usr/local/lib/python3.10/dist-packages (from notebook-shim>=0.2.3->nbclassic>=0.4.7->notebook->jupyter==1.0.0->d2l) (1.24.0)\n",
            "Requirement already satisfied: cffi>=1.0.1 in /usr/local/lib/python3.10/dist-packages (from argon2-cffi-bindings->argon2-cffi->notebook->jupyter==1.0.0->d2l) (1.16.0)\n",
            "Requirement already satisfied: pycparser in /usr/local/lib/python3.10/dist-packages (from cffi>=1.0.1->argon2-cffi-bindings->argon2-cffi->notebook->jupyter==1.0.0->d2l) (2.22)\n",
            "Requirement already satisfied: anyio<4,>=3.1.0 in /usr/local/lib/python3.10/dist-packages (from jupyter-server<3,>=1.8->notebook-shim>=0.2.3->nbclassic>=0.4.7->notebook->jupyter==1.0.0->d2l) (3.7.1)\n",
            "Requirement already satisfied: websocket-client in /usr/local/lib/python3.10/dist-packages (from jupyter-server<3,>=1.8->notebook-shim>=0.2.3->nbclassic>=0.4.7->notebook->jupyter==1.0.0->d2l) (1.8.0)\n",
            "Requirement already satisfied: sniffio>=1.1 in /usr/local/lib/python3.10/dist-packages (from anyio<4,>=3.1.0->jupyter-server<3,>=1.8->notebook-shim>=0.2.3->nbclassic>=0.4.7->notebook->jupyter==1.0.0->d2l) (1.3.1)\n",
            "Requirement already satisfied: exceptiongroup in /usr/local/lib/python3.10/dist-packages (from anyio<4,>=3.1.0->jupyter-server<3,>=1.8->notebook-shim>=0.2.3->nbclassic>=0.4.7->notebook->jupyter==1.0.0->d2l) (1.2.1)\n",
            "Requirement already satisfied: nltk in /usr/local/lib/python3.10/dist-packages (3.8.1)\n",
            "Requirement already satisfied: click in /usr/local/lib/python3.10/dist-packages (from nltk) (8.1.7)\n",
            "Requirement already satisfied: joblib in /usr/local/lib/python3.10/dist-packages (from nltk) (1.4.2)\n",
            "Requirement already satisfied: regex>=2021.8.3 in /usr/local/lib/python3.10/dist-packages (from nltk) (2024.5.15)\n",
            "Requirement already satisfied: tqdm in /usr/local/lib/python3.10/dist-packages (from nltk) (4.66.4)\n",
            "Collecting torch-summary\n",
            "  Using cached torch_summary-1.4.5-py3-none-any.whl (16 kB)\n",
            "Installing collected packages: torch-summary\n",
            "Successfully installed torch-summary-1.4.5\n"
          ]
        }
      ],
      "source": [
        "import sys\n",
        "\n",
        "# Install googletrans if not already installed\n",
        "if 'googletrans' not in sys.modules:\n",
        "    !pip install googletrans==4.0.0-rc1\n",
        "\n",
        "# Install langdetect if not already installed\n",
        "if 'langdetect' not in sys.modules:\n",
        "    !pip install langdetect\n",
        "\n",
        "# Install d2l if not already installed\n",
        "if 'd2l' not in sys.modules:\n",
        "    !pip install d2l\n",
        "\n",
        "# Install nltk if not already installed\n",
        "if 'nltk' not in sys.modules:\n",
        "    !pip install nltk\n",
        "\n",
        "# Install torch-summary if not already installed\n",
        "if 'torch-summary' not in sys.modules:\n",
        "    !pip install torch-summary"
      ]
    },
    {
      "cell_type": "code",
      "execution_count": null,
      "metadata": {
        "id": "yRhYTX6mAGx-"
      },
      "outputs": [],
      "source": [
        "# Libraries for data manipulation\n",
        "import pandas as pd\n",
        "import numpy as np\n",
        "import scipy.io as sio  # For working with MATLAB files\n",
        "\n",
        "# Libraries for natural language processing (NLP)\n",
        "import nltk\n",
        "from nltk.corpus import stopwords, wordnet\n",
        "from nltk.stem import WordNetLemmatizer\n",
        "from googletrans import Translator  # For translation\n",
        "from langdetect import detect, LangDetectException  # For language detection\n",
        "\n",
        "# Libraries for machine learning\n",
        "from sklearn.model_selection import train_test_split\n",
        "from sklearn.metrics import accuracy_score, precision_recall_fscore_support, confusion_matrix\n",
        "import tensorflow as tf\n",
        "from transformers import DistilBertTokenizer, DistilBertForSequenceClassification, AdamW, get_linear_schedule_with_warmup, TFDistilBertForSequenceClassification\n",
        "from transformers.optimization_tf import AdamWeightDecay\n",
        "\n",
        "# Libraries for parallel processing\n",
        "import os\n",
        "import multiprocessing\n",
        "\n",
        "# Libraries for neural network management\n",
        "import torch\n",
        "import torch.nn as nn\n",
        "from torch.utils.data import Dataset, DataLoader\n",
        "from torch.nn import CrossEntropyLoss\n",
        "\n",
        "# Other supporting libraries\n",
        "from tqdm import tqdm  # For progress bar\n",
        "import d2l  # Deep Learning 2.0, a library for deeper understanding of machine learning\n",
        "import time  # For time management\n",
        "\n",
        "# Libraries for data serialization and manipulation\n",
        "import json\n",
        "import base64\n",
        "import io\n",
        "\n",
        "# Data visualization libraries\n",
        "import seaborn as sns\n",
        "import matplotlib.pyplot as plt\n",
        "\n",
        "# Text processing utilities\n",
        "import re\n",
        "\n",
        "# Additional libraries\n",
        "from torchsummary import summary"
      ]
    },
    {
      "cell_type": "code",
      "execution_count": null,
      "metadata": {
        "colab": {
          "base_uri": "https://localhost:8080/"
        },
        "id": "w1ehJp3EQOxd",
        "outputId": "94f61ec1-e3ee-4e69-fc22-4120b73df7e8"
      },
      "outputs": [
        {
          "output_type": "stream",
          "name": "stderr",
          "text": [
            "[nltk_data] Downloading package stopwords to /root/nltk_data...\n",
            "[nltk_data]   Unzipping corpora/stopwords.zip.\n",
            "[nltk_data] Downloading package averaged_perceptron_tagger to\n",
            "[nltk_data]     /root/nltk_data...\n",
            "[nltk_data]   Unzipping taggers/averaged_perceptron_tagger.zip.\n",
            "[nltk_data] Downloading package wordnet to /root/nltk_data...\n"
          ]
        },
        {
          "output_type": "execute_result",
          "data": {
            "text/plain": [
              "True"
            ]
          },
          "metadata": {},
          "execution_count": 3
        }
      ],
      "source": [
        "nltk.download('stopwords')\n",
        "nltk.download('averaged_perceptron_tagger')\n",
        "nltk.download('wordnet')"
      ]
    },
    {
      "cell_type": "markdown",
      "metadata": {
        "id": "C4K65O2N-gvB"
      },
      "source": [
        "# Check Device\n",
        "Checking the availability of Google GPUs."
      ]
    },
    {
      "cell_type": "code",
      "execution_count": null,
      "metadata": {
        "id": "9EkWT3ks__Dv"
      },
      "outputs": [],
      "source": [
        "# Set the device for running the model on GPU if available, otherwise use the CPU\n",
        "device = torch.device(\"cuda:0\" if torch.cuda.is_available() else \"cpu\")"
      ]
    },
    {
      "cell_type": "code",
      "execution_count": null,
      "metadata": {
        "colab": {
          "base_uri": "https://localhost:8080/"
        },
        "id": "5pKmGR7G-gHq",
        "outputId": "0d32ff5c-77c5-46ad-f722-1a947fe2a2b3"
      },
      "outputs": [
        {
          "output_type": "stream",
          "name": "stdout",
          "text": [
            "Version: 2.3.0+cu121\n",
            "Avaible?: True\n",
            "Device: Tesla T4\n",
            "Run GPU?: cuda:0\n"
          ]
        }
      ],
      "source": [
        "print(\"Version: \" + str(torch.__version__))\n",
        "print(\"Avaible?: \" + str(torch.cuda.is_available()))\n",
        "print(\"Device: \" + str(torch.cuda.get_device_name(0)))\n",
        "print(\"Run GPU?: \" + str(device))"
      ]
    },
    {
      "cell_type": "markdown",
      "metadata": {
        "id": "8VLB8JQEADtV"
      },
      "source": [
        "# Path\n",
        "Paths to content on Google Drive."
      ]
    },
    {
      "cell_type": "code",
      "execution_count": null,
      "metadata": {
        "id": "R56yNiuRAGW3"
      },
      "outputs": [],
      "source": [
        "DATA_PATH = '/content/drive/MyDrive/CCS/Dataset'\n",
        "DATASET_PATH = DATA_PATH + '/enron_spam_data.csv'\n",
        "DATASET_CLEAR_PATH = DATA_PATH + '/enron_spam_data_clear.csv'\n",
        "TRAIN_PATH = DATA_PATH + '/train.csv'\n",
        "VAL_PATH = DATA_PATH + '/val.csv'\n",
        "TEST_PATH = DATA_PATH + '/test.csv'\n",
        "WEIGHTS_PATH = DATA_PATH + '/Weights'\n",
        "TRAIN_FINAL_PATH = DATA_PATH + '/train_final.csv'\n",
        "BEST_WEIGHT_PATH = WEIGHTS_PATH + '/Best_Weight'\n",
        "MODEL_PATH = DATA_PATH + '/Model'"
      ]
    },
    {
      "cell_type": "markdown",
      "metadata": {
        "id": "wwvyewuXgyR9"
      },
      "source": [
        "# Data Visualization & Pre-Processing\n",
        "This code section prepares text data by reading a CSV file, converting 'Spam/Ham' labels to binary format, merging 'Subject' and 'Message' into a unified 'Text' column, and reorganizing columns for clarity. It then handles missing values, prints message counts per label, and applies preprocessing steps like English translation, text cleaning, tokenization, stopword removal, and lemmatization to enhance data quality for analysis and modeling."
      ]
    },
    {
      "cell_type": "code",
      "execution_count": 15,
      "metadata": {
        "id": "-LeLNgP3gyR-"
      },
      "outputs": [],
      "source": [
        "# Read the CSV file and ensure it contains 'text' and 'label' columns\n",
        "df = pd.read_csv(DATASET_PATH)\n",
        "\n",
        "# Reconfigure the 'Spam/Ham' column to 1 for 'spam' and 0 for 'ham'\n",
        "df['Spam/Ham'] = df['Spam/Ham'].map({'spam': 1, 'ham': 0})\n",
        "\n",
        "# Merge the 'Subject' and 'Message' columns into a new column named 'Text'\n",
        "df['Text'] = df['Subject'] + ' ' + df['Message']\n",
        "\n",
        "# Remove the specified columns\n",
        "df = df.drop(columns=['Date', 'Subject', 'Message', 'Message ID'])\n",
        "\n",
        "# Arrange the columns: 'Message ID', 'Text', 'Spam/Ham'\n",
        "df = df[['Text', 'Spam/Ham']]"
      ]
    },
    {
      "cell_type": "markdown",
      "metadata": {
        "id": "12T2GT8LgyR-"
      },
      "source": [
        "**Data visualization and analysis**\n",
        "1. Counting the number of messages for each label to determine if the dataset is balanced or not.\n",
        "2. Identifying missing values present within the instances.\n",
        "3. Counting and calculating the percentage of missing values for each of the involved classes (Spam and Ham).\n",
        "4. Analyzing instances with missing values to determine if they are present in Subject, Text, or both."
      ]
    },
    {
      "cell_type": "code",
      "execution_count": 17,
      "metadata": {
        "colab": {
          "base_uri": "https://localhost:8080/"
        },
        "outputId": "5a341b0a-3f41-4418-f91b-ed190b64799b",
        "id": "IcoUeYh6gyR_"
      },
      "outputs": [
        {
          "output_type": "stream",
          "name": "stdout",
          "text": [
            "\n",
            "Total number of messages for each label:\n",
            "Label 1: 17171 messages\n",
            "Label 0: 16545 messages\n",
            "Missing values per label and percentage:\n",
            "\n",
            "Label 0:\n",
            "Text        52\n",
            "Spam/Ham     0\n",
            "dtype: int64\n",
            "\n",
            "Percentage of missing values for label 0:\n",
            "Text        0.314294\n",
            "Spam/Ham    0.000000\n",
            "dtype: float64\n",
            "\n",
            "Label 1:\n",
            "Text        557\n",
            "Spam/Ham      0\n",
            "dtype: int64\n",
            "\n",
            "Percentage of missing values for label 1:\n",
            "Text        3.243841\n",
            "Spam/Ham    0.000000\n",
            "dtype: float64\n"
          ]
        }
      ],
      "source": [
        "# Print the total number of messages for each label\n",
        "total_per_label = df['Spam/Ham'].value_counts()\n",
        "print(\"\\nTotal number of messages for each label:\")\n",
        "for label, total in total_per_label.items():\n",
        "    print(f\"Label {label}: {total} messages\")\n",
        "\n",
        "# Identify missing values for each row\n",
        "missing_values = df.isnull()\n",
        "\n",
        "# Count missing values for each label\n",
        "missing_per_label = {}\n",
        "total_per_label = df['Spam/Ham'].value_counts()\n",
        "for label in df['Spam/Ham'].unique():\n",
        "    missing_in_label = missing_values[df['Spam/Ham'] == label]\n",
        "    missing_per_label[label] = missing_in_label.sum()\n",
        "\n",
        "# Calculate percentage of missing values for each label\n",
        "percent_missing_per_label = {label: (counts / total_per_label[label] * 100) for label, counts in missing_per_label.items()}\n",
        "\n",
        "# Print missing values information for each label\n",
        "print(\"Missing values per label and percentage:\")\n",
        "for label, counts in missing_per_label.items():\n",
        "    print(f\"\\nLabel {label}:\")\n",
        "    perc = percent_missing_per_label[label]\n",
        "    print(counts)\n",
        "    print(f\"\\nPercentage of missing values for label {label}:\")\n",
        "    print(percent_missing_per_label[label])\n",
        "\n",
        "# Check if rows missing 'Text' also miss 'Body'\n",
        "missing_subject_and_body = df[missing_values['Text']]\n",
        "\n",
        "# Count how many messages are label 0 and how many are 1\n",
        "missing_subject_and_body_per_label = missing_subject_and_body['Spam/Ham'].value_counts()"
      ]
    },
    {
      "cell_type": "code",
      "execution_count": null,
      "metadata": {
        "id": "GDC7E53ZgyR_"
      },
      "outputs": [],
      "source": [
        "# Delete rows containing missing values\n",
        "df.dropna(subset=['Text'], inplace=True)"
      ]
    },
    {
      "cell_type": "markdown",
      "metadata": {
        "id": "dUj4Mz18gyR_"
      },
      "source": [
        "**Data pre-processing**\n",
        "1. Definition of a function for converting text from any language to English.\n",
        "2. Definition of a lemmatization function.\n",
        "3. Definition of a text processing function:\n",
        "   * Conversion of text to English.\n",
        "   * Removal of irrelevant elements for classification purposes (e.g., articles, conjunctions, ...).\n",
        "   * Tokenization of the text to obtain tokens that will be input to the network.\n",
        "   * Removal of stopwords.\n",
        "   * Lemmatization."
      ]
    },
    {
      "cell_type": "code",
      "execution_count": null,
      "metadata": {
        "id": "VQ45Vp-JgySA"
      },
      "outputs": [],
      "source": [
        "def translate_to_english(text):\n",
        "    \"\"\"\n",
        "    Translates text to English using Google Translate if it's detected as non-English.\n",
        "\n",
        "    Parameters:\n",
        "    - text (str): The input text to translate.\n",
        "\n",
        "    Returns:\n",
        "    - str: Translated text in English if translation succeeds, otherwise returns the original text.\n",
        "    \"\"\"\n",
        "    try:\n",
        "        detected_lang = detect(text)\n",
        "        if detected_lang == 'en':\n",
        "            return text\n",
        "    except LangDetectException as e:\n",
        "        print(f\"Error detecting language: {e}\")\n",
        "        return text  # If language detection fails, consider the text as already in English\n",
        "\n",
        "    translator = Translator()\n",
        "    chunk_size = 500  # Define the chunk size\n",
        "    chunks = [text[i:i + chunk_size] for i in range(0, len(text), chunk_size)]  # Split text into chunks\n",
        "    translated_chunks = []\n",
        "\n",
        "    try:\n",
        "        for chunk in chunks:\n",
        "            translated_chunk = translator.translate(chunk, src='auto', dest='en').text\n",
        "            translated_chunks.append(translated_chunk)\n",
        "        translated_text = ' '.join(translated_chunks)  # Concatenate translated chunks\n",
        "        return translated_text\n",
        "    except Exception as e:\n",
        "        print(f\"Translation failed for text: {text}. Error: {e}\")\n",
        "        return text  # If translation fails, return the original text\n",
        "\n",
        "\n",
        "def get_wordnet_pos(word):\n",
        "    \"\"\"\n",
        "    Maps POS tags to WordNet POS tags for lemmatization.\n",
        "\n",
        "    Parameters:\n",
        "    - word (str): Input word to determine its POS tag.\n",
        "\n",
        "    Returns:\n",
        "    - str: WordNet POS tag corresponding to the input word's POS tag.\n",
        "    \"\"\"\n",
        "    tag = nltk.pos_tag([word])[0][1][0].upper()\n",
        "    tag_dict = {\n",
        "        'J': wordnet.ADJ,\n",
        "        'N': wordnet.NOUN,\n",
        "        'V': wordnet.VERB,\n",
        "        'R': wordnet.ADV\n",
        "    }\n",
        "    return tag_dict.get(tag, wordnet.NOUN)\n",
        "\n",
        "\n",
        "def preprocess_text(text):\n",
        "    \"\"\"\n",
        "    Preprocesses text by translating to English, cleaning, tokenizing, removing stopwords,\n",
        "    and lemmatizing.\n",
        "\n",
        "    Parameters:\n",
        "    - text (str): The input text to preprocess.\n",
        "\n",
        "    Returns:\n",
        "    - str: Processed text after translation, cleaning, tokenization, stopword removal, and lemmatization.\n",
        "    \"\"\"\n",
        "    translated_text = translate_to_english(text)\n",
        "    clean_text = re.sub(r'[^\\w\\s]', '', translated_text)\n",
        "    clean_text = re.sub(r'\\b(in|the|all|for|and|on)\\b', '_connector_', clean_text)\n",
        "\n",
        "    tokenizer = DistilBertTokenizer.from_pretrained('distilbert-base-uncased')\n",
        "    tokens = tokenizer.tokenize(clean_text)\n",
        "\n",
        "    stop_words = set(stopwords.words('english'))\n",
        "\n",
        "    # Removing stop words without tqdm\n",
        "    filtered_tokens = [word for word in tokens if word not in stop_words]\n",
        "\n",
        "    # Lemmatization\n",
        "    lemmatizer = WordNetLemmatizer()\n",
        "    lemmatized_tokens = [lemmatizer.lemmatize(word, get_wordnet_pos(word)) for word in filtered_tokens]\n",
        "\n",
        "    processed_text = ' '.join(lemmatized_tokens)\n",
        "    return processed_text"
      ]
    },
    {
      "cell_type": "code",
      "execution_count": null,
      "metadata": {
        "colab": {
          "base_uri": "https://localhost:8080/",
          "height": 391,
          "referenced_widgets": [
            "c48b632392414668a889f573cdc39e38",
            "0320eb5274f34583b6ba9bb6b38fb462",
            "14999ac9b4cd4190900532268569f5f3",
            "6b756cb3e08d41b9a8fb955dbdf488c3"
          ]
        },
        "outputId": "450c7760-b58a-4cce-8f9f-9fd7182ea7ef",
        "id": "ykhFhqdKgySA"
      },
      "outputs": [
        {
          "name": "stderr",
          "output_type": "stream",
          "text": [
            "/usr/local/lib/python3.10/dist-packages/huggingface_hub/utils/_token.py:89: UserWarning: \n",
            "The secret `HF_TOKEN` does not exist in your Colab secrets.\n",
            "To authenticate with the Hugging Face Hub, create a token in your settings tab (https://huggingface.co/settings/tokens), set it as secret in your Google Colab and restart your session.\n",
            "You will be able to reuse this secret in all of your notebooks.\n",
            "Please note that authentication is recommended but still optional to access public models or datasets.\n",
            "  warnings.warn(\n"
          ]
        },
        {
          "data": {
            "application/vnd.jupyter.widget-view+json": {
              "model_id": "c48b632392414668a889f573cdc39e38",
              "version_major": 2,
              "version_minor": 0
            },
            "text/plain": [
              "tokenizer_config.json:   0%|          | 0.00/48.0 [00:00<?, ?B/s]"
            ]
          },
          "metadata": {},
          "output_type": "display_data"
        },
        {
          "data": {
            "application/vnd.jupyter.widget-view+json": {
              "model_id": "0320eb5274f34583b6ba9bb6b38fb462",
              "version_major": 2,
              "version_minor": 0
            },
            "text/plain": [
              "vocab.txt:   0%|          | 0.00/232k [00:00<?, ?B/s]"
            ]
          },
          "metadata": {},
          "output_type": "display_data"
        },
        {
          "data": {
            "application/vnd.jupyter.widget-view+json": {
              "model_id": "14999ac9b4cd4190900532268569f5f3",
              "version_major": 2,
              "version_minor": 0
            },
            "text/plain": [
              "tokenizer.json:   0%|          | 0.00/466k [00:00<?, ?B/s]"
            ]
          },
          "metadata": {},
          "output_type": "display_data"
        },
        {
          "name": "stderr",
          "output_type": "stream",
          "text": [
            "/usr/local/lib/python3.10/dist-packages/huggingface_hub/file_download.py:1132: FutureWarning: `resume_download` is deprecated and will be removed in version 1.0.0. Downloads always resume when possible. If you want to force a new download, use `force_download=True`.\n",
            "  warnings.warn(\n"
          ]
        },
        {
          "data": {
            "application/vnd.jupyter.widget-view+json": {
              "model_id": "6b756cb3e08d41b9a8fb955dbdf488c3",
              "version_major": 2,
              "version_minor": 0
            },
            "text/plain": [
              "config.json:   0%|          | 0.00/483 [00:00<?, ?B/s]"
            ]
          },
          "metadata": {},
          "output_type": "display_data"
        },
        {
          "name": "stdout",
          "output_type": "stream",
          "text": [
            "Error detecting language: No features in text.\n",
            "Error detecting language: No features in text.\n",
            "Error detecting language: No features in text.\n"
          ]
        }
      ],
      "source": [
        "# Apply transformations to the 'Text' column\n",
        "df['Text'] = df['Text'].apply(preprocess_text)"
      ]
    },
    {
      "cell_type": "code",
      "execution_count": null,
      "metadata": {
        "id": "owDp1mX_gySB"
      },
      "outputs": [],
      "source": [
        "# Save the modified DataFrame to a new CSV file\n",
        "df.to_csv(DATASET_CLEAR_PATH, index=False)"
      ]
    },
    {
      "cell_type": "markdown",
      "metadata": {
        "id": "4g3daj8TBcZO"
      },
      "source": [
        "# Stratified Splitting\n",
        "Managing and organizing directories for training and validation. Using a stratified split to ensuring a balanced distribution of classes. These functions ensure that the dataset is divided efficiently and balanced, optimizing data preparation for training and validation."
      ]
    },
    {
      "cell_type": "code",
      "execution_count": null,
      "metadata": {
        "id": "WqPjwhHcnFG_"
      },
      "outputs": [],
      "source": [
        "# Load your CSV into a pandas DataFrame\n",
        "df = pd.read_csv(DATASET_CLEAR_PATH)"
      ]
    },
    {
      "cell_type": "markdown",
      "metadata": {
        "id": "EV37ETDCZBS_"
      },
      "source": [
        "To split the data into training (65%), validation (15%), and test (20%) sets in a stratified manner using the train_test_split function, you can follow these steps:\n",
        "*   First, split the data into a training set (65%) and a remaining set (35%).\n",
        "*   Then, split the remaining set (35%) into validation (15%) and test (20%) sets."
      ]
    },
    {
      "cell_type": "code",
      "execution_count": null,
      "metadata": {
        "id": "amCqd41ODg9q"
      },
      "outputs": [],
      "source": [
        "# Assume that 'colonna_target' is your target variable\n",
        "X = df.drop('Spam/Ham', axis=1)\n",
        "y = df['Spam/Ham']\n",
        "\n",
        "# Split the data into training set and other data (validation + test)\n",
        "X_train, X_other, y_train, y_other = train_test_split(X, y, test_size=0.35, stratify=y, random_state=42)\n",
        "\n",
        "# Further split X_other and y_other into validation and test sets\n",
        "X_val, X_test, y_val, y_test = train_test_split(X_other, y_other, test_size=(0.2/0.35), stratify=y_other, random_state=42)"
      ]
    },
    {
      "cell_type": "markdown",
      "metadata": {
        "id": "FHo6ubAn5VZN"
      },
      "source": [
        "Saving the three datasets obtained into three CSV files"
      ]
    },
    {
      "cell_type": "code",
      "execution_count": null,
      "metadata": {
        "id": "pWH4YsSSZ1TF"
      },
      "outputs": [],
      "source": [
        "# Save the training set to a CSV file\n",
        "train = pd.concat([X_train, y_train], axis=1)\n",
        "train.to_csv(TRAIN_PATH, index=False)\n",
        "\n",
        "# Save the validation set to a CSV file\n",
        "val = pd.concat([X_val, y_val], axis=1)\n",
        "val.to_csv(VAL_PATH, index=False)\n",
        "\n",
        "# Save the test set to a CSV file\n",
        "test = pd.concat([X_test, y_test], axis=1)\n",
        "test.to_csv(TEST_PATH, index=False)"
      ]
    },
    {
      "cell_type": "code",
      "execution_count": null,
      "metadata": {
        "id": "LVCGy1wPajST"
      },
      "outputs": [],
      "source": [
        "train_data = pd.read_csv(TRAIN_PATH)\n",
        "val_data = pd.read_csv(VAL_PATH)\n",
        "test_data = pd.read_csv(TEST_PATH)"
      ]
    },
    {
      "cell_type": "markdown",
      "metadata": {
        "id": "7aCJcLYR5iUv"
      },
      "source": [
        "Displaying the training data"
      ]
    },
    {
      "cell_type": "code",
      "execution_count": null,
      "metadata": {
        "colab": {
          "base_uri": "https://localhost:8080/",
          "height": 424
        },
        "id": "4o8Fnau3atVh",
        "outputId": "3e4a435b-85f2-4b25-be07-d95a83e5ddbf"
      },
      "outputs": [
        {
          "data": {
            "application/vnd.google.colaboratory.intrinsic+json": {
              "summary": "{\n  \"name\": \"train_data\",\n  \"rows\": 21519,\n  \"fields\": [\n    {\n      \"column\": \"Text\",\n      \"properties\": {\n        \"dtype\": \"string\",\n        \"num_unique_values\": 20021,\n        \"samples\": [\n          \"number web market public institution _ connector _ organization private sector _ connector _ municipal official technically proven maximum quality traffic road staff soldier work _ connector _ safety safety _ connector _ protective addition approximately compose business _ connector _ light clothes 4 ##with minimum cost _ connector _ 500 variety product range reach find everything look _ connector _ please note _ connector _ first _ connector _ single web market _ connector _ sector regard ce ##m ##re lodge safety ltd ##sti http www ##ce ##m ##rel ##oj ##istic com tr life partner\",\n          \"feel old go _ connector _ click _ connector _ help father pain go away http online internet ##stor ##e com v 1 g r v ##lco ##d 1 n c 1 l 1 http online internet ##stor ##e com pay ##pal account carl ##ene mu ##rdo ##ck\",\n          \"chronic cullen 247 _ _ online doctor ##z 70 _ connector _ best pain killer _ connector _ popular med ##s val ##ium _ xx ##ana ##x _ cia ##lis http www vc ##off ##e 245 pill bi ##z b 32 spitfire fa ##go ##tt announce\"\n        ],\n        \"semantic_type\": \"\",\n        \"description\": \"\"\n      }\n    },\n    {\n      \"column\": \"Spam/Ham\",\n      \"properties\": {\n        \"dtype\": \"number\",\n        \"std\": 0,\n        \"min\": 0,\n        \"max\": 1,\n        \"num_unique_values\": 2,\n        \"samples\": [\n          0,\n          1\n        ],\n        \"semantic_type\": \"\",\n        \"description\": \"\"\n      }\n    }\n  ]\n}",
              "type": "dataframe",
              "variable_name": "train_data"
            },
            "text/html": [
              "\n",
              "  <div id=\"df-4804dece-b561-4a46-a699-6ed0f2b4a617\" class=\"colab-df-container\">\n",
              "    <div>\n",
              "<style scoped>\n",
              "    .dataframe tbody tr th:only-of-type {\n",
              "        vertical-align: middle;\n",
              "    }\n",
              "\n",
              "    .dataframe tbody tr th {\n",
              "        vertical-align: top;\n",
              "    }\n",
              "\n",
              "    .dataframe thead th {\n",
              "        text-align: right;\n",
              "    }\n",
              "</style>\n",
              "<table border=\"1\" class=\"dataframe\">\n",
              "  <thead>\n",
              "    <tr style=\"text-align: right;\">\n",
              "      <th></th>\n",
              "      <th>Text</th>\n",
              "      <th>Spam/Ham</th>\n",
              "    </tr>\n",
              "  </thead>\n",
              "  <tbody>\n",
              "    <tr>\n",
              "      <th>0</th>\n",
              "      <td>ad _ connector _ felt stiff ##en _ connector _...</td>\n",
              "      <td>1</td>\n",
              "    </tr>\n",
              "    <tr>\n",
              "      <th>1</th>\n",
              "      <td>wait _ connector _ name early ##lar ##ena age ...</td>\n",
              "      <td>1</td>\n",
              "    </tr>\n",
              "    <tr>\n",
              "      <th>2</th>\n",
              "      <td>waste money buying e usa 8 op 03 ##5 4 wo 5 ##...</td>\n",
              "      <td>1</td>\n",
              "    </tr>\n",
              "    <tr>\n",
              "      <th>3</th>\n",
              "      <td>software 3000 shatter hello get thousand softw...</td>\n",
              "      <td>1</td>\n",
              "    </tr>\n",
              "    <tr>\n",
              "      <th>4</th>\n",
              "      <td>vale ##ro meter treat sep ##erate ##ly ticket ...</td>\n",
              "      <td>0</td>\n",
              "    </tr>\n",
              "    <tr>\n",
              "      <th>...</th>\n",
              "      <td>...</td>\n",
              "      <td>...</td>\n",
              "    </tr>\n",
              "    <tr>\n",
              "      <th>21514</th>\n",
              "      <td>mark palmer ask forward per mark palmer instru...</td>\n",
              "      <td>0</td>\n",
              "    </tr>\n",
              "    <tr>\n",
              "      <th>21515</th>\n",
              "      <td>_ connector _ _ connector _ top page google gu...</td>\n",
              "      <td>1</td>\n",
              "    </tr>\n",
              "    <tr>\n",
              "      <th>21516</th>\n",
              "      <td>_ connector _ best sa 7 _ 0 ##d erin ##g ##l #...</td>\n",
              "      <td>1</td>\n",
              "    </tr>\n",
              "    <tr>\n",
              "      <th>21517</th>\n",
              "      <td>color cop ##ier hello l ##yn certainly hope en...</td>\n",
              "      <td>0</td>\n",
              "    </tr>\n",
              "    <tr>\n",
              "      <th>21518</th>\n",
              "      <td>proposal submission francois _ connector _ ken...</td>\n",
              "      <td>0</td>\n",
              "    </tr>\n",
              "  </tbody>\n",
              "</table>\n",
              "<p>21519 rows × 2 columns</p>\n",
              "</div>\n",
              "    <div class=\"colab-df-buttons\">\n",
              "\n",
              "  <div class=\"colab-df-container\">\n",
              "    <button class=\"colab-df-convert\" onclick=\"convertToInteractive('df-4804dece-b561-4a46-a699-6ed0f2b4a617')\"\n",
              "            title=\"Convert this dataframe to an interactive table.\"\n",
              "            style=\"display:none;\">\n",
              "\n",
              "  <svg xmlns=\"http://www.w3.org/2000/svg\" height=\"24px\" viewBox=\"0 -960 960 960\">\n",
              "    <path d=\"M120-120v-720h720v720H120Zm60-500h600v-160H180v160Zm220 220h160v-160H400v160Zm0 220h160v-160H400v160ZM180-400h160v-160H180v160Zm440 0h160v-160H620v160ZM180-180h160v-160H180v160Zm440 0h160v-160H620v160Z\"/>\n",
              "  </svg>\n",
              "    </button>\n",
              "\n",
              "  <style>\n",
              "    .colab-df-container {\n",
              "      display:flex;\n",
              "      gap: 12px;\n",
              "    }\n",
              "\n",
              "    .colab-df-convert {\n",
              "      background-color: #E8F0FE;\n",
              "      border: none;\n",
              "      border-radius: 50%;\n",
              "      cursor: pointer;\n",
              "      display: none;\n",
              "      fill: #1967D2;\n",
              "      height: 32px;\n",
              "      padding: 0 0 0 0;\n",
              "      width: 32px;\n",
              "    }\n",
              "\n",
              "    .colab-df-convert:hover {\n",
              "      background-color: #E2EBFA;\n",
              "      box-shadow: 0px 1px 2px rgba(60, 64, 67, 0.3), 0px 1px 3px 1px rgba(60, 64, 67, 0.15);\n",
              "      fill: #174EA6;\n",
              "    }\n",
              "\n",
              "    .colab-df-buttons div {\n",
              "      margin-bottom: 4px;\n",
              "    }\n",
              "\n",
              "    [theme=dark] .colab-df-convert {\n",
              "      background-color: #3B4455;\n",
              "      fill: #D2E3FC;\n",
              "    }\n",
              "\n",
              "    [theme=dark] .colab-df-convert:hover {\n",
              "      background-color: #434B5C;\n",
              "      box-shadow: 0px 1px 3px 1px rgba(0, 0, 0, 0.15);\n",
              "      filter: drop-shadow(0px 1px 2px rgba(0, 0, 0, 0.3));\n",
              "      fill: #FFFFFF;\n",
              "    }\n",
              "  </style>\n",
              "\n",
              "    <script>\n",
              "      const buttonEl =\n",
              "        document.querySelector('#df-4804dece-b561-4a46-a699-6ed0f2b4a617 button.colab-df-convert');\n",
              "      buttonEl.style.display =\n",
              "        google.colab.kernel.accessAllowed ? 'block' : 'none';\n",
              "\n",
              "      async function convertToInteractive(key) {\n",
              "        const element = document.querySelector('#df-4804dece-b561-4a46-a699-6ed0f2b4a617');\n",
              "        const dataTable =\n",
              "          await google.colab.kernel.invokeFunction('convertToInteractive',\n",
              "                                                    [key], {});\n",
              "        if (!dataTable) return;\n",
              "\n",
              "        const docLinkHtml = 'Like what you see? Visit the ' +\n",
              "          '<a target=\"_blank\" href=https://colab.research.google.com/notebooks/data_table.ipynb>data table notebook</a>'\n",
              "          + ' to learn more about interactive tables.';\n",
              "        element.innerHTML = '';\n",
              "        dataTable['output_type'] = 'display_data';\n",
              "        await google.colab.output.renderOutput(dataTable, element);\n",
              "        const docLink = document.createElement('div');\n",
              "        docLink.innerHTML = docLinkHtml;\n",
              "        element.appendChild(docLink);\n",
              "      }\n",
              "    </script>\n",
              "  </div>\n",
              "\n",
              "\n",
              "<div id=\"df-f8c2f663-0840-4bb0-ae2d-dc87cff04d6d\">\n",
              "  <button class=\"colab-df-quickchart\" onclick=\"quickchart('df-f8c2f663-0840-4bb0-ae2d-dc87cff04d6d')\"\n",
              "            title=\"Suggest charts\"\n",
              "            style=\"display:none;\">\n",
              "\n",
              "<svg xmlns=\"http://www.w3.org/2000/svg\" height=\"24px\"viewBox=\"0 0 24 24\"\n",
              "     width=\"24px\">\n",
              "    <g>\n",
              "        <path d=\"M19 3H5c-1.1 0-2 .9-2 2v14c0 1.1.9 2 2 2h14c1.1 0 2-.9 2-2V5c0-1.1-.9-2-2-2zM9 17H7v-7h2v7zm4 0h-2V7h2v10zm4 0h-2v-4h2v4z\"/>\n",
              "    </g>\n",
              "</svg>\n",
              "  </button>\n",
              "\n",
              "<style>\n",
              "  .colab-df-quickchart {\n",
              "      --bg-color: #E8F0FE;\n",
              "      --fill-color: #1967D2;\n",
              "      --hover-bg-color: #E2EBFA;\n",
              "      --hover-fill-color: #174EA6;\n",
              "      --disabled-fill-color: #AAA;\n",
              "      --disabled-bg-color: #DDD;\n",
              "  }\n",
              "\n",
              "  [theme=dark] .colab-df-quickchart {\n",
              "      --bg-color: #3B4455;\n",
              "      --fill-color: #D2E3FC;\n",
              "      --hover-bg-color: #434B5C;\n",
              "      --hover-fill-color: #FFFFFF;\n",
              "      --disabled-bg-color: #3B4455;\n",
              "      --disabled-fill-color: #666;\n",
              "  }\n",
              "\n",
              "  .colab-df-quickchart {\n",
              "    background-color: var(--bg-color);\n",
              "    border: none;\n",
              "    border-radius: 50%;\n",
              "    cursor: pointer;\n",
              "    display: none;\n",
              "    fill: var(--fill-color);\n",
              "    height: 32px;\n",
              "    padding: 0;\n",
              "    width: 32px;\n",
              "  }\n",
              "\n",
              "  .colab-df-quickchart:hover {\n",
              "    background-color: var(--hover-bg-color);\n",
              "    box-shadow: 0 1px 2px rgba(60, 64, 67, 0.3), 0 1px 3px 1px rgba(60, 64, 67, 0.15);\n",
              "    fill: var(--button-hover-fill-color);\n",
              "  }\n",
              "\n",
              "  .colab-df-quickchart-complete:disabled,\n",
              "  .colab-df-quickchart-complete:disabled:hover {\n",
              "    background-color: var(--disabled-bg-color);\n",
              "    fill: var(--disabled-fill-color);\n",
              "    box-shadow: none;\n",
              "  }\n",
              "\n",
              "  .colab-df-spinner {\n",
              "    border: 2px solid var(--fill-color);\n",
              "    border-color: transparent;\n",
              "    border-bottom-color: var(--fill-color);\n",
              "    animation:\n",
              "      spin 1s steps(1) infinite;\n",
              "  }\n",
              "\n",
              "  @keyframes spin {\n",
              "    0% {\n",
              "      border-color: transparent;\n",
              "      border-bottom-color: var(--fill-color);\n",
              "      border-left-color: var(--fill-color);\n",
              "    }\n",
              "    20% {\n",
              "      border-color: transparent;\n",
              "      border-left-color: var(--fill-color);\n",
              "      border-top-color: var(--fill-color);\n",
              "    }\n",
              "    30% {\n",
              "      border-color: transparent;\n",
              "      border-left-color: var(--fill-color);\n",
              "      border-top-color: var(--fill-color);\n",
              "      border-right-color: var(--fill-color);\n",
              "    }\n",
              "    40% {\n",
              "      border-color: transparent;\n",
              "      border-right-color: var(--fill-color);\n",
              "      border-top-color: var(--fill-color);\n",
              "    }\n",
              "    60% {\n",
              "      border-color: transparent;\n",
              "      border-right-color: var(--fill-color);\n",
              "    }\n",
              "    80% {\n",
              "      border-color: transparent;\n",
              "      border-right-color: var(--fill-color);\n",
              "      border-bottom-color: var(--fill-color);\n",
              "    }\n",
              "    90% {\n",
              "      border-color: transparent;\n",
              "      border-bottom-color: var(--fill-color);\n",
              "    }\n",
              "  }\n",
              "</style>\n",
              "\n",
              "  <script>\n",
              "    async function quickchart(key) {\n",
              "      const quickchartButtonEl =\n",
              "        document.querySelector('#' + key + ' button');\n",
              "      quickchartButtonEl.disabled = true;  // To prevent multiple clicks.\n",
              "      quickchartButtonEl.classList.add('colab-df-spinner');\n",
              "      try {\n",
              "        const charts = await google.colab.kernel.invokeFunction(\n",
              "            'suggestCharts', [key], {});\n",
              "      } catch (error) {\n",
              "        console.error('Error during call to suggestCharts:', error);\n",
              "      }\n",
              "      quickchartButtonEl.classList.remove('colab-df-spinner');\n",
              "      quickchartButtonEl.classList.add('colab-df-quickchart-complete');\n",
              "    }\n",
              "    (() => {\n",
              "      let quickchartButtonEl =\n",
              "        document.querySelector('#df-f8c2f663-0840-4bb0-ae2d-dc87cff04d6d button');\n",
              "      quickchartButtonEl.style.display =\n",
              "        google.colab.kernel.accessAllowed ? 'block' : 'none';\n",
              "    })();\n",
              "  </script>\n",
              "</div>\n",
              "    </div>\n",
              "  </div>\n"
            ],
            "text/plain": [
              "                                                    Text  Spam/Ham\n",
              "0      ad _ connector _ felt stiff ##en _ connector _...         1\n",
              "1      wait _ connector _ name early ##lar ##ena age ...         1\n",
              "2      waste money buying e usa 8 op 03 ##5 4 wo 5 ##...         1\n",
              "3      software 3000 shatter hello get thousand softw...         1\n",
              "4      vale ##ro meter treat sep ##erate ##ly ticket ...         0\n",
              "...                                                  ...       ...\n",
              "21514  mark palmer ask forward per mark palmer instru...         0\n",
              "21515  _ connector _ _ connector _ top page google gu...         1\n",
              "21516  _ connector _ best sa 7 _ 0 ##d erin ##g ##l #...         1\n",
              "21517  color cop ##ier hello l ##yn certainly hope en...         0\n",
              "21518  proposal submission francois _ connector _ ken...         0\n",
              "\n",
              "[21519 rows x 2 columns]"
            ]
          },
          "execution_count": 9,
          "metadata": {},
          "output_type": "execute_result"
        }
      ],
      "source": [
        "train_data"
      ]
    },
    {
      "cell_type": "code",
      "execution_count": null,
      "metadata": {
        "colab": {
          "base_uri": "https://localhost:8080/",
          "height": 452
        },
        "id": "rsxcKaWqblml",
        "outputId": "e56756ac-4010-4842-bb6f-b8f8c46579aa"
      },
      "outputs": [
        {
          "data": {
            "image/png": "[encoded data removed]",
            "text/plain": [
              "<Figure size 640x480 with 1 Axes>"
            ]
          },
          "metadata": {},
          "output_type": "display_data"
        }
      ],
      "source": [
        "train_data['Spam/Ham'].plot(kind='hist', bins=20, title='Spam/Ham')\n",
        "plt.gca().spines[['top', 'right',]].set_visible(False)"
      ]
    },
    {
      "cell_type": "markdown",
      "metadata": {
        "id": "0PCiGeBw5uQD"
      },
      "source": [
        "Displaying the validation data"
      ]
    },
    {
      "cell_type": "code",
      "execution_count": null,
      "metadata": {
        "colab": {
          "base_uri": "https://localhost:8080/",
          "height": 424
        },
        "id": "GAKsH83wa0aG",
        "outputId": "054cbf6d-439a-4fc2-bc32-0fda91236999"
      },
      "outputs": [
        {
          "data": {
            "application/vnd.google.colaboratory.intrinsic+json": {
              "summary": "{\n  \"name\": \"val_data\",\n  \"rows\": 4966,\n  \"fields\": [\n    {\n      \"column\": \"Text\",\n      \"properties\": {\n        \"dtype\": \"string\",\n        \"num_unique_values\": 4898,\n        \"samples\": [\n          \"etc theatre event cat please see attach announcement _ connector _ cat margaret ##uce ##tte _ connector _ coordinator _ connector _ event thanks\",\n          \"want submit website search engine know submit ##ting website _ connector _ search engine may increase online sale dramatically invest time _ connector _ money website simply must submit website online otherwise wii ##i invisible vi ##rt ##ua ##ii ##y mean effort spent _ connector _ vain want pe ##op ##ie know website _ connector _ boost revenue _ connector _ way make site vi ##ib ##ie _ connector _ place pe ##op ##ie search _ connector _ information e submit website _ connector _ mu ##iti ##ple search engine submit website ##ii ##ne _ connector _ watch visitor stream e business best regard josef ##ach ##ap ##man _ _ _ _ _ _ _ _ _ _ _ _ _ _ _ _ _ _ _ _ _ _ _ _ _ _ _ _ _ _ _ _ _ _ _ _ _ _ _ _ _ _ _ _ _ _ _ _ _ _ _ _ interested _ _ _ _ _ _ _ _ _ _ _ _ _ _ _ _ _ _ _ _ _ _ _ _ _ _ _ _ _ _ _ _ _ _ _ _ _ _ _ _ _ _ _ _ _ _ _ _ _ _ _ _\",\n          \"e ##ol project vince update _ connector _ thing go regard e ##ol meeting john arnold yesterday show accomplish date _ connector _ think fairly impressed _ connector _ information available ask _ connector _ input _ connector _ express interest _ connector _ couple report make create _ connector _ format _ connector _ data _ connector _ spoke clayton _ connector _ already make change reflect number _ connector _ modification john request also continue research _ connector _ issue automate trading platform _ connector _ e ##ol information _ connector _ na ##da ##q operates _ connector _ look website _ connector _ ec ##ns archipelago island _ connector _ in ##tine ##t also look _ connector _ international security exchange ##e web site seem explain much system suggestion would appreciate want find e ##ol currently _ connector _ modification may necessary _ connector _ _ connector _ exist system finish reading _ connector _ material _ connector _ website investigate _ connector _ try put together presentation _ connector _ _ connector _ greg w ##hall ##ey tom\"\n        ],\n        \"semantic_type\": \"\",\n        \"description\": \"\"\n      }\n    },\n    {\n      \"column\": \"Spam/Ham\",\n      \"properties\": {\n        \"dtype\": \"number\",\n        \"std\": 0,\n        \"min\": 0,\n        \"max\": 1,\n        \"num_unique_values\": 2,\n        \"samples\": [\n          1,\n          0\n        ],\n        \"semantic_type\": \"\",\n        \"description\": \"\"\n      }\n    }\n  ]\n}",
              "type": "dataframe",
              "variable_name": "val_data"
            },
            "text/html": [
              "\n",
              "  <div id=\"df-6363d8da-8a45-40fb-8d83-6479616cb826\" class=\"colab-df-container\">\n",
              "    <div>\n",
              "<style scoped>\n",
              "    .dataframe tbody tr th:only-of-type {\n",
              "        vertical-align: middle;\n",
              "    }\n",
              "\n",
              "    .dataframe tbody tr th {\n",
              "        vertical-align: top;\n",
              "    }\n",
              "\n",
              "    .dataframe thead th {\n",
              "        text-align: right;\n",
              "    }\n",
              "</style>\n",
              "<table border=\"1\" class=\"dataframe\">\n",
              "  <thead>\n",
              "    <tr style=\"text-align: right;\">\n",
              "      <th></th>\n",
              "      <th>Text</th>\n",
              "      <th>Spam/Ham</th>\n",
              "    </tr>\n",
              "  </thead>\n",
              "  <tbody>\n",
              "    <tr>\n",
              "      <th>0</th>\n",
              "      <td>new power ##mo ##d 97 xl ##s marty absolutely ...</td>\n",
              "      <td>0</td>\n",
              "    </tr>\n",
              "    <tr>\n",
              "      <th>1</th>\n",
              "      <td>start date 1 15 02 hour ##ah ##ead hour 2 star...</td>\n",
              "      <td>0</td>\n",
              "    </tr>\n",
              "    <tr>\n",
              "      <th>2</th>\n",
              "      <td>spa ##m mail warn notification attachment remo...</td>\n",
              "      <td>1</td>\n",
              "    </tr>\n",
              "    <tr>\n",
              "      <th>3</th>\n",
              "      <td>computer file protection dear hulk ##j ##r wan...</td>\n",
              "      <td>1</td>\n",
              "    </tr>\n",
              "    <tr>\n",
              "      <th>4</th>\n",
              "      <td>confirmation order automatic confirmation _ co...</td>\n",
              "      <td>0</td>\n",
              "    </tr>\n",
              "    <tr>\n",
              "      <th>...</th>\n",
              "      <td>...</td>\n",
              "      <td>...</td>\n",
              "    </tr>\n",
              "    <tr>\n",
              "      <th>4961</th>\n",
              "      <td>hp ##l expense contract f ##yi call question t...</td>\n",
              "      <td>0</td>\n",
              "    </tr>\n",
              "    <tr>\n",
              "      <th>4962</th>\n",
              "      <td>urgent please dr dan nk ##anga zenith internat...</td>\n",
              "      <td>1</td>\n",
              "    </tr>\n",
              "    <tr>\n",
              "      <th>4963</th>\n",
              "      <td>cheap online tablet shu ##nt willow ##y ti ##t...</td>\n",
              "      <td>1</td>\n",
              "    </tr>\n",
              "    <tr>\n",
              "      <th>4964</th>\n",
              "      <td>interview schedule _ connector _ greg mi ##kk ...</td>\n",
              "      <td>0</td>\n",
              "    </tr>\n",
              "    <tr>\n",
              "      <th>4965</th>\n",
              "      <td>_ connector _ porn get rich sc ##eh ##eme quan...</td>\n",
              "      <td>1</td>\n",
              "    </tr>\n",
              "  </tbody>\n",
              "</table>\n",
              "<p>4966 rows × 2 columns</p>\n",
              "</div>\n",
              "    <div class=\"colab-df-buttons\">\n",
              "\n",
              "  <div class=\"colab-df-container\">\n",
              "    <button class=\"colab-df-convert\" onclick=\"convertToInteractive('df-6363d8da-8a45-40fb-8d83-6479616cb826')\"\n",
              "            title=\"Convert this dataframe to an interactive table.\"\n",
              "            style=\"display:none;\">\n",
              "\n",
              "  <svg xmlns=\"http://www.w3.org/2000/svg\" height=\"24px\" viewBox=\"0 -960 960 960\">\n",
              "    <path d=\"M120-120v-720h720v720H120Zm60-500h600v-160H180v160Zm220 220h160v-160H400v160Zm0 220h160v-160H400v160ZM180-400h160v-160H180v160Zm440 0h160v-160H620v160ZM180-180h160v-160H180v160Zm440 0h160v-160H620v160Z\"/>\n",
              "  </svg>\n",
              "    </button>\n",
              "\n",
              "  <style>\n",
              "    .colab-df-container {\n",
              "      display:flex;\n",
              "      gap: 12px;\n",
              "    }\n",
              "\n",
              "    .colab-df-convert {\n",
              "      background-color: #E8F0FE;\n",
              "      border: none;\n",
              "      border-radius: 50%;\n",
              "      cursor: pointer;\n",
              "      display: none;\n",
              "      fill: #1967D2;\n",
              "      height: 32px;\n",
              "      padding: 0 0 0 0;\n",
              "      width: 32px;\n",
              "    }\n",
              "\n",
              "    .colab-df-convert:hover {\n",
              "      background-color: #E2EBFA;\n",
              "      box-shadow: 0px 1px 2px rgba(60, 64, 67, 0.3), 0px 1px 3px 1px rgba(60, 64, 67, 0.15);\n",
              "      fill: #174EA6;\n",
              "    }\n",
              "\n",
              "    .colab-df-buttons div {\n",
              "      margin-bottom: 4px;\n",
              "    }\n",
              "\n",
              "    [theme=dark] .colab-df-convert {\n",
              "      background-color: #3B4455;\n",
              "      fill: #D2E3FC;\n",
              "    }\n",
              "\n",
              "    [theme=dark] .colab-df-convert:hover {\n",
              "      background-color: #434B5C;\n",
              "      box-shadow: 0px 1px 3px 1px rgba(0, 0, 0, 0.15);\n",
              "      filter: drop-shadow(0px 1px 2px rgba(0, 0, 0, 0.3));\n",
              "      fill: #FFFFFF;\n",
              "    }\n",
              "  </style>\n",
              "\n",
              "    <script>\n",
              "      const buttonEl =\n",
              "        document.querySelector('#df-6363d8da-8a45-40fb-8d83-6479616cb826 button.colab-df-convert');\n",
              "      buttonEl.style.display =\n",
              "        google.colab.kernel.accessAllowed ? 'block' : 'none';\n",
              "\n",
              "      async function convertToInteractive(key) {\n",
              "        const element = document.querySelector('#df-6363d8da-8a45-40fb-8d83-6479616cb826');\n",
              "        const dataTable =\n",
              "          await google.colab.kernel.invokeFunction('convertToInteractive',\n",
              "                                                    [key], {});\n",
              "        if (!dataTable) return;\n",
              "\n",
              "        const docLinkHtml = 'Like what you see? Visit the ' +\n",
              "          '<a target=\"_blank\" href=https://colab.research.google.com/notebooks/data_table.ipynb>data table notebook</a>'\n",
              "          + ' to learn more about interactive tables.';\n",
              "        element.innerHTML = '';\n",
              "        dataTable['output_type'] = 'display_data';\n",
              "        await google.colab.output.renderOutput(dataTable, element);\n",
              "        const docLink = document.createElement('div');\n",
              "        docLink.innerHTML = docLinkHtml;\n",
              "        element.appendChild(docLink);\n",
              "      }\n",
              "    </script>\n",
              "  </div>\n",
              "\n",
              "\n",
              "<div id=\"df-3342e682-b000-48ac-be9c-49c5dac580e0\">\n",
              "  <button class=\"colab-df-quickchart\" onclick=\"quickchart('df-3342e682-b000-48ac-be9c-49c5dac580e0')\"\n",
              "            title=\"Suggest charts\"\n",
              "            style=\"display:none;\">\n",
              "\n",
              "<svg xmlns=\"http://www.w3.org/2000/svg\" height=\"24px\"viewBox=\"0 0 24 24\"\n",
              "     width=\"24px\">\n",
              "    <g>\n",
              "        <path d=\"M19 3H5c-1.1 0-2 .9-2 2v14c0 1.1.9 2 2 2h14c1.1 0 2-.9 2-2V5c0-1.1-.9-2-2-2zM9 17H7v-7h2v7zm4 0h-2V7h2v10zm4 0h-2v-4h2v4z\"/>\n",
              "    </g>\n",
              "</svg>\n",
              "  </button>\n",
              "\n",
              "<style>\n",
              "  .colab-df-quickchart {\n",
              "      --bg-color: #E8F0FE;\n",
              "      --fill-color: #1967D2;\n",
              "      --hover-bg-color: #E2EBFA;\n",
              "      --hover-fill-color: #174EA6;\n",
              "      --disabled-fill-color: #AAA;\n",
              "      --disabled-bg-color: #DDD;\n",
              "  }\n",
              "\n",
              "  [theme=dark] .colab-df-quickchart {\n",
              "      --bg-color: #3B4455;\n",
              "      --fill-color: #D2E3FC;\n",
              "      --hover-bg-color: #434B5C;\n",
              "      --hover-fill-color: #FFFFFF;\n",
              "      --disabled-bg-color: #3B4455;\n",
              "      --disabled-fill-color: #666;\n",
              "  }\n",
              "\n",
              "  .colab-df-quickchart {\n",
              "    background-color: var(--bg-color);\n",
              "    border: none;\n",
              "    border-radius: 50%;\n",
              "    cursor: pointer;\n",
              "    display: none;\n",
              "    fill: var(--fill-color);\n",
              "    height: 32px;\n",
              "    padding: 0;\n",
              "    width: 32px;\n",
              "  }\n",
              "\n",
              "  .colab-df-quickchart:hover {\n",
              "    background-color: var(--hover-bg-color);\n",
              "    box-shadow: 0 1px 2px rgba(60, 64, 67, 0.3), 0 1px 3px 1px rgba(60, 64, 67, 0.15);\n",
              "    fill: var(--button-hover-fill-color);\n",
              "  }\n",
              "\n",
              "  .colab-df-quickchart-complete:disabled,\n",
              "  .colab-df-quickchart-complete:disabled:hover {\n",
              "    background-color: var(--disabled-bg-color);\n",
              "    fill: var(--disabled-fill-color);\n",
              "    box-shadow: none;\n",
              "  }\n",
              "\n",
              "  .colab-df-spinner {\n",
              "    border: 2px solid var(--fill-color);\n",
              "    border-color: transparent;\n",
              "    border-bottom-color: var(--fill-color);\n",
              "    animation:\n",
              "      spin 1s steps(1) infinite;\n",
              "  }\n",
              "\n",
              "  @keyframes spin {\n",
              "    0% {\n",
              "      border-color: transparent;\n",
              "      border-bottom-color: var(--fill-color);\n",
              "      border-left-color: var(--fill-color);\n",
              "    }\n",
              "    20% {\n",
              "      border-color: transparent;\n",
              "      border-left-color: var(--fill-color);\n",
              "      border-top-color: var(--fill-color);\n",
              "    }\n",
              "    30% {\n",
              "      border-color: transparent;\n",
              "      border-left-color: var(--fill-color);\n",
              "      border-top-color: var(--fill-color);\n",
              "      border-right-color: var(--fill-color);\n",
              "    }\n",
              "    40% {\n",
              "      border-color: transparent;\n",
              "      border-right-color: var(--fill-color);\n",
              "      border-top-color: var(--fill-color);\n",
              "    }\n",
              "    60% {\n",
              "      border-color: transparent;\n",
              "      border-right-color: var(--fill-color);\n",
              "    }\n",
              "    80% {\n",
              "      border-color: transparent;\n",
              "      border-right-color: var(--fill-color);\n",
              "      border-bottom-color: var(--fill-color);\n",
              "    }\n",
              "    90% {\n",
              "      border-color: transparent;\n",
              "      border-bottom-color: var(--fill-color);\n",
              "    }\n",
              "  }\n",
              "</style>\n",
              "\n",
              "  <script>\n",
              "    async function quickchart(key) {\n",
              "      const quickchartButtonEl =\n",
              "        document.querySelector('#' + key + ' button');\n",
              "      quickchartButtonEl.disabled = true;  // To prevent multiple clicks.\n",
              "      quickchartButtonEl.classList.add('colab-df-spinner');\n",
              "      try {\n",
              "        const charts = await google.colab.kernel.invokeFunction(\n",
              "            'suggestCharts', [key], {});\n",
              "      } catch (error) {\n",
              "        console.error('Error during call to suggestCharts:', error);\n",
              "      }\n",
              "      quickchartButtonEl.classList.remove('colab-df-spinner');\n",
              "      quickchartButtonEl.classList.add('colab-df-quickchart-complete');\n",
              "    }\n",
              "    (() => {\n",
              "      let quickchartButtonEl =\n",
              "        document.querySelector('#df-3342e682-b000-48ac-be9c-49c5dac580e0 button');\n",
              "      quickchartButtonEl.style.display =\n",
              "        google.colab.kernel.accessAllowed ? 'block' : 'none';\n",
              "    })();\n",
              "  </script>\n",
              "</div>\n",
              "    </div>\n",
              "  </div>\n"
            ],
            "text/plain": [
              "                                                   Text  Spam/Ham\n",
              "0     new power ##mo ##d 97 xl ##s marty absolutely ...         0\n",
              "1     start date 1 15 02 hour ##ah ##ead hour 2 star...         0\n",
              "2     spa ##m mail warn notification attachment remo...         1\n",
              "3     computer file protection dear hulk ##j ##r wan...         1\n",
              "4     confirmation order automatic confirmation _ co...         0\n",
              "...                                                 ...       ...\n",
              "4961  hp ##l expense contract f ##yi call question t...         0\n",
              "4962  urgent please dr dan nk ##anga zenith internat...         1\n",
              "4963  cheap online tablet shu ##nt willow ##y ti ##t...         1\n",
              "4964  interview schedule _ connector _ greg mi ##kk ...         0\n",
              "4965  _ connector _ porn get rich sc ##eh ##eme quan...         1\n",
              "\n",
              "[4966 rows x 2 columns]"
            ]
          },
          "execution_count": 11,
          "metadata": {},
          "output_type": "execute_result"
        }
      ],
      "source": [
        "val_data"
      ]
    },
    {
      "cell_type": "code",
      "execution_count": null,
      "metadata": {
        "colab": {
          "base_uri": "https://localhost:8080/",
          "height": 452
        },
        "id": "HMtKH7XGbpjt",
        "outputId": "e84c23c0-8dff-43f9-b5ef-c201a04b622d"
      },
      "outputs": [
        {
          "data": {
            "image/png": "[encoded data removed]",
            "text/plain": [
              "<Figure size 640x480 with 1 Axes>"
            ]
          },
          "metadata": {},
          "output_type": "display_data"
        }
      ],
      "source": [
        "val_data['Spam/Ham'].plot(kind='hist', bins=20, title='Spam/Ham')\n",
        "plt.gca().spines[['top', 'right',]].set_visible(False)"
      ]
    },
    {
      "cell_type": "markdown",
      "metadata": {
        "id": "5D9tlLBX5yaq"
      },
      "source": [
        "Displaying the test data"
      ]
    },
    {
      "cell_type": "code",
      "execution_count": null,
      "metadata": {
        "colab": {
          "base_uri": "https://localhost:8080/",
          "height": 424
        },
        "id": "RU4Dj2qGa1dT",
        "outputId": "4227bcbf-c717-42ec-8b0e-97bc39df8c22"
      },
      "outputs": [
        {
          "data": {
            "application/vnd.google.colaboratory.intrinsic+json": {
              "summary": "{\n  \"name\": \"test_data\",\n  \"rows\": 6622,\n  \"fields\": [\n    {\n      \"column\": \"Text\",\n      \"properties\": {\n        \"dtype\": \"string\",\n        \"num_unique_values\": 6472,\n        \"samples\": [\n          \"en ##ron ##cre ##dit com credit pricing methodology dear _ connector _ attach paper describe _ connector _ propose methodology _ connector _ pricing _ connector _ bankruptcy swap ##s _ connector _ credit market group launch next week _ connector _ methodology intentionally sim ##pl ##istic _ connector _ emphasis _ connector _ provide transparent model give price _ connector _ quick easy understand manner rather create new rocket science could one _ connector _ please review _ connector _ paper _ connector _ give feedback _ connector _ _ connector _ approach _ connector _ advice _ connector _ _ connector _ area still development give u peace mind _ connector _ big launch bryan could ##rea ##d _ connector _ outline _ connector _ section need om ##itt ##ing expand _ connector _ publication _ connector _ _ connector _ website many thanks ben\",\n          \"window xp office xp 80 let ##he chin ##ook ice found bright discus heat turn second work round present sure street put lie wear guide word food lot hold piece long insect read join together difficult front long able answer star child differ left boat thick back third key three need pair ocean company _ connector _ well child take go happen walk seven soon new change\",\n          \"en ##ron hp ##l current _ connector _ july 26 2000 te ##co tap 3000 ##0 en ##ron ##90 ##00 ##0 ##er ##c l ##s hp ##l l ##sk ic 3000 ##0 en ##ron\"\n        ],\n        \"semantic_type\": \"\",\n        \"description\": \"\"\n      }\n    },\n    {\n      \"column\": \"Spam/Ham\",\n      \"properties\": {\n        \"dtype\": \"number\",\n        \"std\": 0,\n        \"min\": 0,\n        \"max\": 1,\n        \"num_unique_values\": 2,\n        \"samples\": [\n          0,\n          1\n        ],\n        \"semantic_type\": \"\",\n        \"description\": \"\"\n      }\n    }\n  ]\n}",
              "type": "dataframe",
              "variable_name": "test_data"
            },
            "text/html": [
              "\n",
              "  <div id=\"df-485c5de8-0ab9-49c7-9d5f-f8acd0f6c9e3\" class=\"colab-df-container\">\n",
              "    <div>\n",
              "<style scoped>\n",
              "    .dataframe tbody tr th:only-of-type {\n",
              "        vertical-align: middle;\n",
              "    }\n",
              "\n",
              "    .dataframe tbody tr th {\n",
              "        vertical-align: top;\n",
              "    }\n",
              "\n",
              "    .dataframe thead th {\n",
              "        text-align: right;\n",
              "    }\n",
              "</style>\n",
              "<table border=\"1\" class=\"dataframe\">\n",
              "  <thead>\n",
              "    <tr style=\"text-align: right;\">\n",
              "      <th></th>\n",
              "      <th>Text</th>\n",
              "      <th>Spam/Ham</th>\n",
              "    </tr>\n",
              "  </thead>\n",
              "  <tbody>\n",
              "    <tr>\n",
              "      <th>0</th>\n",
              "      <td>rag hard erection formula herbal alternative _...</td>\n",
              "      <td>1</td>\n",
              "    </tr>\n",
              "    <tr>\n",
              "      <th>1</th>\n",
              "      <td>brent note sally rough draft note visit yester...</td>\n",
              "      <td>0</td>\n",
              "    </tr>\n",
              "    <tr>\n",
              "      <th>2</th>\n",
              "      <td>commodity logic leslie reef work _ connector _...</td>\n",
              "      <td>0</td>\n",
              "    </tr>\n",
              "    <tr>\n",
              "      <th>3</th>\n",
              "      <td>start date 1 14 02 hour ##ah ##ead hour 13 sta...</td>\n",
              "      <td>0</td>\n",
              "    </tr>\n",
              "    <tr>\n",
              "      <th>4</th>\n",
              "      <td>cheap pharmacy rc would like cheap overseas dr...</td>\n",
              "      <td>1</td>\n",
              "    </tr>\n",
              "    <tr>\n",
              "      <th>...</th>\n",
              "      <td>...</td>\n",
              "      <td>...</td>\n",
              "    </tr>\n",
              "    <tr>\n",
              "      <th>6617</th>\n",
              "      <td>98 63 ##7 ##3 go 98 63 ##7 ##3 sit ##ara deal ...</td>\n",
              "      <td>0</td>\n",
              "    </tr>\n",
              "    <tr>\n",
              "      <th>6618</th>\n",
              "      <td>inn ##ume ##rable 88 vic ##od ##in professor g...</td>\n",
              "      <td>1</td>\n",
              "    </tr>\n",
              "    <tr>\n",
              "      <th>6619</th>\n",
              "      <td>ad ##b proposal zu ##ma chris 20 ##a crescent ...</td>\n",
              "      <td>1</td>\n",
              "    </tr>\n",
              "    <tr>\n",
              "      <th>6620</th>\n",
              "      <td>f ##w status plan revision hi louise attach sc...</td>\n",
              "      <td>0</td>\n",
              "    </tr>\n",
              "    <tr>\n",
              "      <th>6621</th>\n",
              "      <td>strong v ##lag ##ra body b ##gc ##olo ##r blac...</td>\n",
              "      <td>1</td>\n",
              "    </tr>\n",
              "  </tbody>\n",
              "</table>\n",
              "<p>6622 rows × 2 columns</p>\n",
              "</div>\n",
              "    <div class=\"colab-df-buttons\">\n",
              "\n",
              "  <div class=\"colab-df-container\">\n",
              "    <button class=\"colab-df-convert\" onclick=\"convertToInteractive('df-485c5de8-0ab9-49c7-9d5f-f8acd0f6c9e3')\"\n",
              "            title=\"Convert this dataframe to an interactive table.\"\n",
              "            style=\"display:none;\">\n",
              "\n",
              "  <svg xmlns=\"http://www.w3.org/2000/svg\" height=\"24px\" viewBox=\"0 -960 960 960\">\n",
              "    <path d=\"M120-120v-720h720v720H120Zm60-500h600v-160H180v160Zm220 220h160v-160H400v160Zm0 220h160v-160H400v160ZM180-400h160v-160H180v160Zm440 0h160v-160H620v160ZM180-180h160v-160H180v160Zm440 0h160v-160H620v160Z\"/>\n",
              "  </svg>\n",
              "    </button>\n",
              "\n",
              "  <style>\n",
              "    .colab-df-container {\n",
              "      display:flex;\n",
              "      gap: 12px;\n",
              "    }\n",
              "\n",
              "    .colab-df-convert {\n",
              "      background-color: #E8F0FE;\n",
              "      border: none;\n",
              "      border-radius: 50%;\n",
              "      cursor: pointer;\n",
              "      display: none;\n",
              "      fill: #1967D2;\n",
              "      height: 32px;\n",
              "      padding: 0 0 0 0;\n",
              "      width: 32px;\n",
              "    }\n",
              "\n",
              "    .colab-df-convert:hover {\n",
              "      background-color: #E2EBFA;\n",
              "      box-shadow: 0px 1px 2px rgba(60, 64, 67, 0.3), 0px 1px 3px 1px rgba(60, 64, 67, 0.15);\n",
              "      fill: #174EA6;\n",
              "    }\n",
              "\n",
              "    .colab-df-buttons div {\n",
              "      margin-bottom: 4px;\n",
              "    }\n",
              "\n",
              "    [theme=dark] .colab-df-convert {\n",
              "      background-color: #3B4455;\n",
              "      fill: #D2E3FC;\n",
              "    }\n",
              "\n",
              "    [theme=dark] .colab-df-convert:hover {\n",
              "      background-color: #434B5C;\n",
              "      box-shadow: 0px 1px 3px 1px rgba(0, 0, 0, 0.15);\n",
              "      filter: drop-shadow(0px 1px 2px rgba(0, 0, 0, 0.3));\n",
              "      fill: #FFFFFF;\n",
              "    }\n",
              "  </style>\n",
              "\n",
              "    <script>\n",
              "      const buttonEl =\n",
              "        document.querySelector('#df-485c5de8-0ab9-49c7-9d5f-f8acd0f6c9e3 button.colab-df-convert');\n",
              "      buttonEl.style.display =\n",
              "        google.colab.kernel.accessAllowed ? 'block' : 'none';\n",
              "\n",
              "      async function convertToInteractive(key) {\n",
              "        const element = document.querySelector('#df-485c5de8-0ab9-49c7-9d5f-f8acd0f6c9e3');\n",
              "        const dataTable =\n",
              "          await google.colab.kernel.invokeFunction('convertToInteractive',\n",
              "                                                    [key], {});\n",
              "        if (!dataTable) return;\n",
              "\n",
              "        const docLinkHtml = 'Like what you see? Visit the ' +\n",
              "          '<a target=\"_blank\" href=https://colab.research.google.com/notebooks/data_table.ipynb>data table notebook</a>'\n",
              "          + ' to learn more about interactive tables.';\n",
              "        element.innerHTML = '';\n",
              "        dataTable['output_type'] = 'display_data';\n",
              "        await google.colab.output.renderOutput(dataTable, element);\n",
              "        const docLink = document.createElement('div');\n",
              "        docLink.innerHTML = docLinkHtml;\n",
              "        element.appendChild(docLink);\n",
              "      }\n",
              "    </script>\n",
              "  </div>\n",
              "\n",
              "\n",
              "<div id=\"df-02ba2af2-1cb6-4fc0-8e49-7cd3fa1a99d1\">\n",
              "  <button class=\"colab-df-quickchart\" onclick=\"quickchart('df-02ba2af2-1cb6-4fc0-8e49-7cd3fa1a99d1')\"\n",
              "            title=\"Suggest charts\"\n",
              "            style=\"display:none;\">\n",
              "\n",
              "<svg xmlns=\"http://www.w3.org/2000/svg\" height=\"24px\"viewBox=\"0 0 24 24\"\n",
              "     width=\"24px\">\n",
              "    <g>\n",
              "        <path d=\"M19 3H5c-1.1 0-2 .9-2 2v14c0 1.1.9 2 2 2h14c1.1 0 2-.9 2-2V5c0-1.1-.9-2-2-2zM9 17H7v-7h2v7zm4 0h-2V7h2v10zm4 0h-2v-4h2v4z\"/>\n",
              "    </g>\n",
              "</svg>\n",
              "  </button>\n",
              "\n",
              "<style>\n",
              "  .colab-df-quickchart {\n",
              "      --bg-color: #E8F0FE;\n",
              "      --fill-color: #1967D2;\n",
              "      --hover-bg-color: #E2EBFA;\n",
              "      --hover-fill-color: #174EA6;\n",
              "      --disabled-fill-color: #AAA;\n",
              "      --disabled-bg-color: #DDD;\n",
              "  }\n",
              "\n",
              "  [theme=dark] .colab-df-quickchart {\n",
              "      --bg-color: #3B4455;\n",
              "      --fill-color: #D2E3FC;\n",
              "      --hover-bg-color: #434B5C;\n",
              "      --hover-fill-color: #FFFFFF;\n",
              "      --disabled-bg-color: #3B4455;\n",
              "      --disabled-fill-color: #666;\n",
              "  }\n",
              "\n",
              "  .colab-df-quickchart {\n",
              "    background-color: var(--bg-color);\n",
              "    border: none;\n",
              "    border-radius: 50%;\n",
              "    cursor: pointer;\n",
              "    display: none;\n",
              "    fill: var(--fill-color);\n",
              "    height: 32px;\n",
              "    padding: 0;\n",
              "    width: 32px;\n",
              "  }\n",
              "\n",
              "  .colab-df-quickchart:hover {\n",
              "    background-color: var(--hover-bg-color);\n",
              "    box-shadow: 0 1px 2px rgba(60, 64, 67, 0.3), 0 1px 3px 1px rgba(60, 64, 67, 0.15);\n",
              "    fill: var(--button-hover-fill-color);\n",
              "  }\n",
              "\n",
              "  .colab-df-quickchart-complete:disabled,\n",
              "  .colab-df-quickchart-complete:disabled:hover {\n",
              "    background-color: var(--disabled-bg-color);\n",
              "    fill: var(--disabled-fill-color);\n",
              "    box-shadow: none;\n",
              "  }\n",
              "\n",
              "  .colab-df-spinner {\n",
              "    border: 2px solid var(--fill-color);\n",
              "    border-color: transparent;\n",
              "    border-bottom-color: var(--fill-color);\n",
              "    animation:\n",
              "      spin 1s steps(1) infinite;\n",
              "  }\n",
              "\n",
              "  @keyframes spin {\n",
              "    0% {\n",
              "      border-color: transparent;\n",
              "      border-bottom-color: var(--fill-color);\n",
              "      border-left-color: var(--fill-color);\n",
              "    }\n",
              "    20% {\n",
              "      border-color: transparent;\n",
              "      border-left-color: var(--fill-color);\n",
              "      border-top-color: var(--fill-color);\n",
              "    }\n",
              "    30% {\n",
              "      border-color: transparent;\n",
              "      border-left-color: var(--fill-color);\n",
              "      border-top-color: var(--fill-color);\n",
              "      border-right-color: var(--fill-color);\n",
              "    }\n",
              "    40% {\n",
              "      border-color: transparent;\n",
              "      border-right-color: var(--fill-color);\n",
              "      border-top-color: var(--fill-color);\n",
              "    }\n",
              "    60% {\n",
              "      border-color: transparent;\n",
              "      border-right-color: var(--fill-color);\n",
              "    }\n",
              "    80% {\n",
              "      border-color: transparent;\n",
              "      border-right-color: var(--fill-color);\n",
              "      border-bottom-color: var(--fill-color);\n",
              "    }\n",
              "    90% {\n",
              "      border-color: transparent;\n",
              "      border-bottom-color: var(--fill-color);\n",
              "    }\n",
              "  }\n",
              "</style>\n",
              "\n",
              "  <script>\n",
              "    async function quickchart(key) {\n",
              "      const quickchartButtonEl =\n",
              "        document.querySelector('#' + key + ' button');\n",
              "      quickchartButtonEl.disabled = true;  // To prevent multiple clicks.\n",
              "      quickchartButtonEl.classList.add('colab-df-spinner');\n",
              "      try {\n",
              "        const charts = await google.colab.kernel.invokeFunction(\n",
              "            'suggestCharts', [key], {});\n",
              "      } catch (error) {\n",
              "        console.error('Error during call to suggestCharts:', error);\n",
              "      }\n",
              "      quickchartButtonEl.classList.remove('colab-df-spinner');\n",
              "      quickchartButtonEl.classList.add('colab-df-quickchart-complete');\n",
              "    }\n",
              "    (() => {\n",
              "      let quickchartButtonEl =\n",
              "        document.querySelector('#df-02ba2af2-1cb6-4fc0-8e49-7cd3fa1a99d1 button');\n",
              "      quickchartButtonEl.style.display =\n",
              "        google.colab.kernel.accessAllowed ? 'block' : 'none';\n",
              "    })();\n",
              "  </script>\n",
              "</div>\n",
              "    </div>\n",
              "  </div>\n"
            ],
            "text/plain": [
              "                                                   Text  Spam/Ham\n",
              "0     rag hard erection formula herbal alternative _...         1\n",
              "1     brent note sally rough draft note visit yester...         0\n",
              "2     commodity logic leslie reef work _ connector _...         0\n",
              "3     start date 1 14 02 hour ##ah ##ead hour 13 sta...         0\n",
              "4     cheap pharmacy rc would like cheap overseas dr...         1\n",
              "...                                                 ...       ...\n",
              "6617  98 63 ##7 ##3 go 98 63 ##7 ##3 sit ##ara deal ...         0\n",
              "6618  inn ##ume ##rable 88 vic ##od ##in professor g...         1\n",
              "6619  ad ##b proposal zu ##ma chris 20 ##a crescent ...         1\n",
              "6620  f ##w status plan revision hi louise attach sc...         0\n",
              "6621  strong v ##lag ##ra body b ##gc ##olo ##r blac...         1\n",
              "\n",
              "[6622 rows x 2 columns]"
            ]
          },
          "execution_count": 13,
          "metadata": {},
          "output_type": "execute_result"
        }
      ],
      "source": [
        "test_data"
      ]
    },
    {
      "cell_type": "code",
      "execution_count": null,
      "metadata": {
        "colab": {
          "base_uri": "https://localhost:8080/",
          "height": 452
        },
        "id": "5_PSf3f5brx4",
        "outputId": "7f38a79f-8248-45c7-f0e4-705b0243f9e2"
      },
      "outputs": [
        {
          "data": {
            "image/png": "[encoded data removed]",
            "text/plain": [
              "<Figure size 640x480 with 1 Axes>"
            ]
          },
          "metadata": {},
          "output_type": "display_data"
        }
      ],
      "source": [
        "test_data['Spam/Ham'].plot(kind='hist', bins=20, title='Spam/Ham')\n",
        "plt.gca().spines[['top', 'right',]].set_visible(False)"
      ]
    },
    {
      "cell_type": "markdown",
      "metadata": {
        "id": "qTnNnrTud1xd"
      },
      "source": [
        "# Model Definition\n",
        "Loading the DistilBERT model for sequence classification, a distilled version of BERT widely used in natural language processing tasks, was chosen for its reduced size, which leads to shorter training times without compromising performance. The model preparation involves replacing the classification layer (Linear) with a sequence comprising a ReLU activation layer, a Dropout layer, and a linear layer. Additionally, the training of the network's feature extraction layers is frozen to retain the pre-trained weights and focus on fine-tuning the classification task."
      ]
    },
    {
      "cell_type": "code",
      "execution_count": null,
      "metadata": {
        "colab": {
          "base_uri": "https://localhost:8080/",
          "height": 244,
          "referenced_widgets": [
            "960f5e09935e47f8881b60089d7a3882",
            "2cd49a5076304de1bd8da23c8f1e2669",
            "8a856dc1580b4189b44402511c9be88f",
            "f342e57351334273aa1ccba0cdee21b3",
            "71748eae9c6647c98d6a59c63e971eee",
            "4f6f198acaf94c2aa2c75b5569f4abb8",
            "59069604cd2f4b15a19833fcf2d33208",
            "54c752ecd30f4baf8e2eff383946e5e9",
            "bed0ea9e16724a959787a3866f760c0b",
            "eb0ae30c806842d38d1f073e028ced47",
            "f5c64012ba12416caaf201f073cb840c",
            "dc7761dedc1c4a54b906db43f3390146",
            "b6dbbf929851477b8cbfc3a89785b2d0",
            "3689a1bd2fb44f6788b38d3b4d306352",
            "c488cf74282f41d98eb5565f61f76b51",
            "cfb90ee4a6e44d92a774c6cf21ac20ec",
            "9cdf1e4305b24fcba7eeb6a8a773fd3e",
            "f6c686d1c96f4152a95759da78326e9f",
            "de478bbf5f0b446ba61c514278ca4a23",
            "136bce96916d4202bbacc9ecf99441d5",
            "d3102712e8dd4b83a40db64e5d6c0dbe",
            "8744f7cfd6324df5b9f79c808a1e4961"
          ]
        },
        "id": "g0G3h4rmeSfM",
        "outputId": "556285a5-bb18-47f4-e900-62f6ffc972f7"
      },
      "outputs": [
        {
          "output_type": "stream",
          "name": "stderr",
          "text": [
            "/usr/local/lib/python3.10/dist-packages/huggingface_hub/utils/_token.py:89: UserWarning: \n",
            "The secret `HF_TOKEN` does not exist in your Colab secrets.\n",
            "To authenticate with the Hugging Face Hub, create a token in your settings tab (https://huggingface.co/settings/tokens), set it as secret in your Google Colab and restart your session.\n",
            "You will be able to reuse this secret in all of your notebooks.\n",
            "Please note that authentication is recommended but still optional to access public models or datasets.\n",
            "  warnings.warn(\n"
          ]
        },
        {
          "output_type": "display_data",
          "data": {
            "text/plain": [
              "config.json:   0%|          | 0.00/483 [00:00<?, ?B/s]"
            ],
            "application/vnd.jupyter.widget-view+json": {
              "version_major": 2,
              "version_minor": 0,
              "model_id": "960f5e09935e47f8881b60089d7a3882"
            }
          },
          "metadata": {}
        },
        {
          "output_type": "display_data",
          "data": {
            "text/plain": [
              "model.safetensors:   0%|          | 0.00/268M [00:00<?, ?B/s]"
            ],
            "application/vnd.jupyter.widget-view+json": {
              "version_major": 2,
              "version_minor": 0,
              "model_id": "dc7761dedc1c4a54b906db43f3390146"
            }
          },
          "metadata": {}
        },
        {
          "output_type": "stream",
          "name": "stderr",
          "text": [
            "Some weights of DistilBertForSequenceClassification were not initialized from the model checkpoint at distilbert-base-uncased and are newly initialized: ['classifier.bias', 'classifier.weight', 'pre_classifier.bias', 'pre_classifier.weight']\n",
            "You should probably TRAIN this model on a down-stream task to be able to use it for predictions and inference.\n"
          ]
        }
      ],
      "source": [
        "model_name = 'distilbert-base-uncased'\n",
        "model = DistilBertForSequenceClassification.from_pretrained(model_name, num_labels=2).to(device)"
      ]
    },
    {
      "cell_type": "code",
      "execution_count": null,
      "metadata": {
        "id": "MNCFb2dskAWh"
      },
      "outputs": [],
      "source": [
        "# Replace the last layer for binary classification\n",
        "num_ftrs = model.classifier.out_features                                        # Number of output features from the penultimate layer\n",
        "# Replace the classifier layer\n",
        "model.classifier = nn.Sequential( nn.ReLU(),\n",
        "                                  nn.Dropout(0.2),\n",
        "                                  nn.Linear(model.classifier.in_features, 2).to(device),\n",
        "                                  nn.Softmax(dim=1)\n",
        "                                  )\n",
        "# Freeze all layers except the classifier layer\n",
        "for name, param in model.named_parameters():\n",
        "    if 'classifier' not in name:\n",
        "        param.requires_grad = False"
      ]
    },
    {
      "cell_type": "code",
      "execution_count": null,
      "metadata": {
        "id": "RoQVSf_bdeeT"
      },
      "outputs": [],
      "source": [
        "def get_vocab_from_model(model_name):\n",
        "    \"\"\"\n",
        "    Retrieve the vocabulary from a specified DistilBERT model.\n",
        "\n",
        "    Parameters:\n",
        "    model_name (str): The name or path of the pre-trained DistilBERT model to load the tokenizer from.\n",
        "\n",
        "    Returns:\n",
        "    dict: A dictionary representing the vocabulary of the tokenizer, where keys are tokens and values are their corresponding IDs.\n",
        "    \"\"\"\n",
        "\n",
        "    # Initialize the tokenizer using the specified model name\n",
        "    tokenizer = DistilBertTokenizer.from_pretrained(model_name) #ritorno la maschera di attenzione per dire alla rete dove focalizzarsi e dove no (utile perchè ho del padding)\n",
        "    # Return the vocabulary associated with the tokenizer\n",
        "    return tokenizer.get_vocab()"
      ]
    },
    {
      "cell_type": "code",
      "execution_count": null,
      "metadata": {
        "colab": {
          "base_uri": "https://localhost:8080/",
          "height": 113,
          "referenced_widgets": [
            "24ca9c0bd9cb4ba58e283adefa6ee3df",
            "5a119eb12a9348f8bdb679a7a4c97a36",
            "253dbbefed7b4ba9a02d35d0bec01064",
            "9b7fddad70394b1a8d6897def1a5e3c1",
            "16c38183c2a4496cb898e8b58d5108af",
            "0611bcbe97a44a62999abe8324099dd0",
            "cb58943d247f4931877263100717f2a2",
            "567942fcd0864134a5a7f6562b06936a",
            "3f66070e53674b0d999a64262687d476",
            "af4d9a9819e94594a0e61121ce83275f",
            "332bb4ebde9544c19627cb9125ee3417",
            "eb19b7ca6f83462c8ba7c1438e9c31ee",
            "324a562fa0c04548b805006bd0c50c94",
            "ff24539cca0d4e6bb8f6c080e1c426c2",
            "d4565491f3fa4c4bbbb68396e245983d",
            "8465f416032a414b979c77561b8348df",
            "65624f7a6c354cbaaf42ca4196b88b64",
            "fe4e92ef034449638c3d7f888d5d5f67",
            "266b9bd8d0514452854435ff7c21e6fd",
            "b4105acb280e4c7da037cd8b9e1afb76",
            "861ce48fa9014a7c80d1ecb689bfb506",
            "e41d261271b64e188516b08537a69e58",
            "3eda901248544138b0a12b0abddb2ebc",
            "fd6e6fcd924c47649b986c6b661a37bc",
            "6e5552f9bc25428e96fe0b9da6426647",
            "887b6478cda2434fa0a059a00efc9d8f",
            "ca2c34dd8032401387d7e4d4c8ff8ae6",
            "2f816b51314a4ed1858958d98b45589d",
            "fcfc6728ecfb4c0eb8dff2a1412901bf",
            "50c0363edf3048239ec33ab6ac645169",
            "778d3acd0d59477581d770b0de734fba",
            "8cc1ad8ad72142778476936258963dd2",
            "165e68697e2a4eebbba3311978623b9f"
          ]
        },
        "id": "rLAHLXvjd5FJ",
        "outputId": "8447cc9b-c268-4bad-d912-669c6e5decff"
      },
      "outputs": [
        {
          "output_type": "display_data",
          "data": {
            "text/plain": [
              "tokenizer_config.json:   0%|          | 0.00/48.0 [00:00<?, ?B/s]"
            ],
            "application/vnd.jupyter.widget-view+json": {
              "version_major": 2,
              "version_minor": 0,
              "model_id": "24ca9c0bd9cb4ba58e283adefa6ee3df"
            }
          },
          "metadata": {}
        },
        {
          "output_type": "display_data",
          "data": {
            "text/plain": [
              "vocab.txt:   0%|          | 0.00/232k [00:00<?, ?B/s]"
            ],
            "application/vnd.jupyter.widget-view+json": {
              "version_major": 2,
              "version_minor": 0,
              "model_id": "eb19b7ca6f83462c8ba7c1438e9c31ee"
            }
          },
          "metadata": {}
        },
        {
          "output_type": "display_data",
          "data": {
            "text/plain": [
              "tokenizer.json:   0%|          | 0.00/466k [00:00<?, ?B/s]"
            ],
            "application/vnd.jupyter.widget-view+json": {
              "version_major": 2,
              "version_minor": 0,
              "model_id": "3eda901248544138b0a12b0abddb2ebc"
            }
          },
          "metadata": {}
        }
      ],
      "source": [
        "# Retrieve the vocabulary from the model specified by model_name\n",
        "vocab = get_vocab_from_model(model_name)"
      ]
    },
    {
      "cell_type": "code",
      "execution_count": null,
      "metadata": {
        "colab": {
          "base_uri": "https://localhost:8080/"
        },
        "id": "oxp5VdoQRJdV",
        "outputId": "51011c14-c01a-4b55-c874-6037b9d16246"
      },
      "outputs": [
        {
          "output_type": "stream",
          "name": "stdout",
          "text": [
            "=================================================================\n",
            "Layer (type:depth-idx)                   Param #\n",
            "=================================================================\n",
            "├─DistilBertModel: 1-1                   (66,362,880)\n",
            "├─Linear: 1-2                            590,592\n",
            "├─Sequential: 1-3                        1,538\n",
            "├─Dropout: 1-4                           --\n",
            "=================================================================\n",
            "Total params: 66,955,010\n",
            "Trainable params: 592,130\n",
            "Non-trainable params: 66,362,880\n",
            "=================================================================\n"
          ]
        },
        {
          "output_type": "execute_result",
          "data": {
            "text/plain": [
              "=================================================================\n",
              "Layer (type:depth-idx)                   Param #\n",
              "=================================================================\n",
              "├─DistilBertModel: 1-1                   (66,362,880)\n",
              "├─Linear: 1-2                            590,592\n",
              "├─Sequential: 1-3                        1,538\n",
              "├─Dropout: 1-4                           --\n",
              "=================================================================\n",
              "Total params: 66,955,010\n",
              "Trainable params: 592,130\n",
              "Non-trainable params: 66,362,880\n",
              "================================================================="
            ]
          },
          "metadata": {},
          "execution_count": 12
        }
      ],
      "source": [
        "# Display the summary\n",
        "batch_size = 512\n",
        "max_len = 128\n",
        "\n",
        "summary(model, input_size=(max_len,), depth=1, batch_dim=0, dtypes=['torch.IntTensor'])"
      ]
    },
    {
      "cell_type": "markdown",
      "metadata": {
        "id": "n3rqIp54bXgZ"
      },
      "source": [
        "# Data Loader (Train and Validation)\n",
        "Setting the batch size and defining the custom class `DistilBERTDataset`, which handles tokenizing text data, padding, truncating, and converting tokens to their respective IDs. It also manages the labels and ensures the input tensors have the correct length by adding padding where necessary. For efficient processing, the `DistilBERTDataset` class uses multiprocessing for token preprocessing. The dataset is created by reading from CSV files containing the training and validation data. For both sets, text is tokenized using the DistilBERT tokenizer, and sentences are preprocessed to ensure they fit the required maximum length. Finally, DataLoaders for both the training and validation sets are created to load data in batches, enabling shuffling and using multiple processes for efficient loading.\n",
        "\n"
      ]
    },
    {
      "cell_type": "code",
      "execution_count": null,
      "metadata": {
        "id": "wOkYUsGfbZf_"
      },
      "outputs": [],
      "source": [
        "class DistilBERTDataset(torch.utils.data.Dataset):\n",
        "    def __init__(self, dataframe, max_len, model_name):\n",
        "        # Initialize the tokenizer using the specified model name\n",
        "        self.tokenizer = DistilBertTokenizer.from_pretrained(model_name)\n",
        "\n",
        "        # Fill any missing text values with an empty string and convert all text data to string type\n",
        "        dataframe['Text'] = dataframe['Text'].fillna('').astype(str)\n",
        "\n",
        "        # Extract sentences and labels from the dataframe\n",
        "        sentences = dataframe['Text']\n",
        "        labels = dataframe['Spam/Ham']\n",
        "\n",
        "        # Tokenize each sentence\n",
        "        all_tokens = [self.tokenizer.tokenize(s) for s in sentences]\n",
        "\n",
        "        # Convert labels to a torch tensor with long data type\n",
        "        self.labels = torch.tensor(labels.values, dtype=torch.long)\n",
        "        self.max_len = max_len\n",
        "\n",
        "        # Preprocess tokens to convert them to token IDs and obtain valid lengths\n",
        "        self.all_token_ids, self.valid_lens = self._preprocess(all_tokens)\n",
        "        print('Read ' + str(len(self.all_token_ids)) + ' examples')\n",
        "\n",
        "    def _preprocess(self, all_tokens):\n",
        "        # Use multiprocessing with 4 worker processes for preprocessing tokens\n",
        "        pool = multiprocessing.Pool(4)\n",
        "        out = pool.map(self._mp_worker, all_tokens)\n",
        "\n",
        "        # Separate token IDs and valid lengths from the output\n",
        "        all_token_ids = [token_ids for token_ids, valid_len in out]\n",
        "        valid_lens = [valid_len for token_ids, valid_len in out]\n",
        "\n",
        "        # Convert lists to torch tensors\n",
        "        return (torch.tensor(all_token_ids, dtype=torch.long),\n",
        "                torch.tensor(valid_lens, dtype=torch.long))\n",
        "\n",
        "    def _mp_worker(self, tokens):\n",
        "        # Truncate tokens to fit within the maximum length constraint\n",
        "        self._truncate_tokens(tokens)\n",
        "\n",
        "        # Convert tokens to token IDs\n",
        "        token_ids = self.tokenizer.convert_tokens_to_ids(tokens)\n",
        "\n",
        "        # Pad token IDs to the maximum length\n",
        "        token_ids += [self.tokenizer.pad_token_id] * (self.max_len - len(token_ids))\n",
        "\n",
        "        # Get the valid length of tokens\n",
        "        valid_len = len(tokens)\n",
        "\n",
        "        return token_ids, valid_len\n",
        "\n",
        "    def _truncate_tokens(self, tokens):\n",
        "        # Truncate tokens to ensure they fit within the maximum length minus special tokens\n",
        "        while len(tokens) > self.max_len - 2:\n",
        "            tokens.pop()\n",
        "\n",
        "    def __getitem__(self, idx):\n",
        "        # Return the input tensor, valid length tensor, and label tensor for the given index\n",
        "        input_tensor = self.all_token_ids[idx]\n",
        "        valid_len_tensor = self.valid_lens[idx]\n",
        "        label_tensor = self.labels[idx]\n",
        "        attention_mask = (input_tensor != self.tokenizer.pad_token_id).long()\n",
        "        return (input_tensor, valid_len_tensor), attention_mask, label_tensor\n",
        "\n",
        "    def __len__(self):\n",
        "        # Return the number of examples in the dataset\n",
        "        return len(self.all_token_ids)"
      ]
    },
    {
      "cell_type": "code",
      "execution_count": null,
      "metadata": {
        "id": "bJvdKke12JMM"
      },
      "outputs": [],
      "source": [
        "# Retrieving the training and validation datasets from the CSV files where they were previously stored\n",
        "train_data = pd.read_csv(TRAIN_PATH)\n",
        "val_data = pd.read_csv(VAL_PATH)"
      ]
    },
    {
      "cell_type": "code",
      "execution_count": null,
      "metadata": {
        "colab": {
          "base_uri": "https://localhost:8080/"
        },
        "id": "uMtV_mnGcF56",
        "outputId": "d4f989fe-6123-4256-d09d-27ee723b37f0"
      },
      "outputs": [
        {
          "name": "stderr",
          "output_type": "stream",
          "text": [
            "/usr/lib/python3.10/multiprocessing/popen_fork.py:66: RuntimeWarning: os.fork() was called. os.fork() is incompatible with multithreaded code, and JAX is multithreaded, so this will likely lead to a deadlock.\n",
            "  self.pid = os.fork()\n"
          ]
        },
        {
          "name": "stdout",
          "output_type": "stream",
          "text": [
            "Read 21519 examples\n"
          ]
        },
        {
          "name": "stderr",
          "output_type": "stream",
          "text": [
            "/usr/lib/python3.10/multiprocessing/popen_fork.py:66: RuntimeWarning: os.fork() was called. os.fork() is incompatible with multithreaded code, and JAX is multithreaded, so this will likely lead to a deadlock.\n",
            "  self.pid = os.fork()\n"
          ]
        },
        {
          "name": "stdout",
          "output_type": "stream",
          "text": [
            "Read 4966 examples\n"
          ]
        }
      ],
      "source": [
        "#Loading the datasets using the DataLoader function available for instances of the class defined above\n",
        "\n",
        "batch_size = 512\n",
        "max_len = 128\n",
        "\n",
        "train_set = DistilBERTDataset(train_data, max_len, model_name)\n",
        "val_set = DistilBERTDataset(val_data, max_len, model_name)"
      ]
    },
    {
      "cell_type": "code",
      "execution_count": null,
      "metadata": {
        "id": "W1U3RRx8CkVl"
      },
      "outputs": [],
      "source": [
        "train_dataloader = torch.utils.data.DataLoader(train_set, batch_size, shuffle=True,num_workers=2)\n",
        "val_dataloader = torch.utils.data.DataLoader(val_set, batch_size, shuffle=True,num_workers=2)"
      ]
    },
    {
      "cell_type": "markdown",
      "metadata": {
        "id": "y1QapB8PBm4T"
      },
      "source": [
        "# Training with Validation\n",
        "This code block sets up and executes a training and validation loop for a machine learning model. The training is organized into epochs, where the model processes batches of training data, computes outputs, calculates loss against true labels, and updates its parameters through backpropagation using an optimizer. After each epoch, the model's performance is evaluated on a validation dataset, where it processes validation data, computes outputs, and measures validation loss and accuracy.\n",
        "\n",
        "The function tracks the best validation accuracy and loss, saving the model's weights when a new best performance is achieved. It logs the training and validation metrics for each epoch. The function returns the epoch number at which the best model was obtained. The script also sets up device configuration, learning rate, number of epochs, and initializes performance metrics. It uses CrossEntropyLoss as the loss function and AdamW as the optimizer."
      ]
    },
    {
      "cell_type": "code",
      "execution_count": null,
      "metadata": {
        "id": "fi39Hoo7ta0g"
      },
      "outputs": [],
      "source": [
        "def train_loop_validation(train_dataloader, val_dataloader, startEpoch, numEpochs, model_conv, criterion, optimizer, best_acc, best_loss, best_epoca, outputPath, scheduler=None):\n",
        "    \"\"\"\n",
        "    Function to train and validate a model with given data loaders, criterion, optimizer, and scheduler.\n",
        "\n",
        "    Parameters:\n",
        "    - train_dataloader: DataLoader for the training data\n",
        "    - val_dataloader: DataLoader for the validation data\n",
        "    - startEpoch: Starting epoch number\n",
        "    - numEpochs: Total number of epochs to train\n",
        "    - model_conv: The model to be trained and validated\n",
        "    - criterion: Loss function\n",
        "    - optimizer: Optimization algorithm\n",
        "    - best_acc: Best validation accuracy achieved so far\n",
        "    - best_loss: Best validation loss achieved so far\n",
        "    - best_epoca: Epoch at which the best model was obtained\n",
        "    - outputPath: Directory path to save the training logs and model weights\n",
        "    - scheduler: Learning rate scheduler (optional)\n",
        "\n",
        "    Returns:\n",
        "    - best_epoca: The epoch at which the best model was achieved based on validation accuracy and loss\n",
        "    \"\"\"\n",
        "\n",
        "    train_files = ['lossTrain.txt', 'AccTrain.txt', 'lossVal.txt', 'AccVal.txt']\n",
        "    for filename in train_files:\n",
        "        filepath = os.path.join(outputPath, filename)\n",
        "        if os.path.exists(filepath):\n",
        "            os.remove(filepath)\n",
        "\n",
        "    for epoch in range(startEpoch, numEpochs + 1):\n",
        "        since = time.time()\n",
        "\n",
        "        modelLoss_train = 0.0\n",
        "        modelAcc_train = 0.0\n",
        "\n",
        "        model_conv.train()\n",
        "        totalSize = 0\n",
        "\n",
        "        # Training loop\n",
        "        for batch in tqdm(train_dataloader, total=len(train_dataloader), desc=f\"Epoch {epoch}/{numEpochs} - Training\"):\n",
        "            (inputs, valid_lens), attention_mask, labels = batch\n",
        "\n",
        "            inputs = inputs.to(device)\n",
        "            valid_lens = valid_lens.to(device)\n",
        "            attention_mask = attention_mask.to(device)\n",
        "            labels = labels.to(device)\n",
        "\n",
        "            optimizer.zero_grad()\n",
        "\n",
        "            # Forward pass\n",
        "            outputs = model_conv(inputs, attention_mask=attention_mask)\n",
        "            logits = outputs.logits  # Access logits from SequenceClassifierOutput\n",
        "            loss = criterion(logits, labels)\n",
        "\n",
        "            # Backward pass and optimization\n",
        "            loss.backward()\n",
        "            optimizer.step()\n",
        "\n",
        "            modelLoss_train += loss.item() * inputs.size(0)\n",
        "            _, preds = torch.max(logits, 1)\n",
        "            modelAcc_train += (preds == labels).sum().item()\n",
        "            totalSize += inputs.size(0)\n",
        "\n",
        "        epoch_loss = modelLoss_train / totalSize\n",
        "        epoch_acc = modelAcc_train / totalSize\n",
        "\n",
        "        # Validation loop\n",
        "        model_conv.eval()\n",
        "        modelLoss_val = 0.0\n",
        "        modelAcc_val = 0.0\n",
        "        totalSize_val = 0\n",
        "\n",
        "        with torch.no_grad():\n",
        "            for batch in tqdm(val_dataloader, total=len(val_dataloader), desc=f\"Epoch {epoch}/{numEpochs} - Validation\"):\n",
        "                (inputs, valid_lens), attention_mask, labels = batch\n",
        "\n",
        "                inputs = inputs.to(device)\n",
        "                valid_lens = valid_lens.to(device)\n",
        "                attention_mask = attention_mask.to(device)\n",
        "                labels = labels.to(device)  # No need for .view(-1, 1) and .float()\n",
        "\n",
        "                outputs = model_conv(inputs, attention_mask=attention_mask)\n",
        "                logits = outputs.logits  # Access logits from SequenceClassifierOutput\n",
        "                loss = criterion(logits, labels)\n",
        "\n",
        "                modelLoss_val += loss.item() * inputs.size(0)\n",
        "                _, preds = torch.max(logits, 1)\n",
        "                modelAcc_val += (preds == labels).sum().item()\n",
        "                totalSize_val += inputs.size(0)\n",
        "\n",
        "        val_loss = modelLoss_val / totalSize_val\n",
        "        val_acc = modelAcc_val / totalSize_val\n",
        "\n",
        "        time_elapsed = time.time() - since\n",
        "        current_lr = optimizer.param_groups[0]['lr']\n",
        "\n",
        "        print('[Epoch %d][TRAIN on %d [Loss: %.4f  ACC: %.4f]][VAL on %d [Loss: %.4f  ACC: %.4f]][TIME: %.0f m %.0f s] [LR: %.5f]'\n",
        "              % (epoch, totalSize, epoch_loss, epoch_acc, totalSize_val, val_loss, val_acc, time_elapsed // 60, time_elapsed % 60, current_lr))\n",
        "\n",
        "        if val_acc > best_acc or (val_acc == best_acc and val_loss < best_loss):\n",
        "            best_acc = val_acc\n",
        "            best_loss = val_loss\n",
        "            best_epoca = epoch\n",
        "            print('     .... Saving best weights ....')\n",
        "            torch.save(model_conv.state_dict(), os.path.join(outputPath, 'best_model_weights.pth'))\n",
        "\n",
        "        with open(os.path.join(outputPath, 'lossTrain.txt'), 'a') as f:\n",
        "            f.write(f'{epoch_loss}\\n')\n",
        "        with open(os.path.join(outputPath, 'AccTrain.txt'), 'a') as f:\n",
        "            f.write(f'{epoch_acc}\\n')\n",
        "        with open(os.path.join(outputPath, 'lossVal.txt'), 'a') as f:\n",
        "            f.write(f'{val_loss}\\n')\n",
        "        with open(os.path.join(outputPath, 'AccVal.txt'), 'a') as f:\n",
        "            f.write(f'{val_acc}\\n')\n",
        "\n",
        "        if scheduler:\n",
        "            scheduler.step(val_loss)\n",
        "\n",
        "    return best_epoca"
      ]
    },
    {
      "cell_type": "code",
      "execution_count": null,
      "metadata": {
        "id": "l6jTDT_Xwf66"
      },
      "outputs": [],
      "source": [
        "device = torch.device(\"cuda\" if torch.cuda.is_available() else \"cpu\") #vedo se la GPU è disponibile"
      ]
    },
    {
      "cell_type": "code",
      "execution_count": null,
      "metadata": {
        "id": "ZC1kjC5ThlSe"
      },
      "outputs": [],
      "source": [
        "# Updated hyperparameters\n",
        "learning_rate = 0.00085                                                         # Learning rate for the optimizer\n",
        "num_epochs = 45                                                                 # Total number of epochs for training\n",
        "startEpoch = 1                                                                  # Initial epoch (useful for resuming interrupted training)\n",
        "best_acc = 0.0                                                                  # Initial best accuracy (to track the best model)\n",
        "best_loss = float('inf')                                                        # Initial best loss (to track the best model)\n",
        "best_epoch = -1                                                                 # Epoch corresponding to the best saved model"
      ]
    },
    {
      "cell_type": "markdown",
      "metadata": {
        "id": "AO2XEyc-T8VG"
      },
      "source": [
        "**Model Preparation for Training**\n",
        "\n",
        "1. Choice of the loss function (CrossEntropy) and optimizer (AdamW)"
      ]
    },
    {
      "cell_type": "code",
      "execution_count": null,
      "metadata": {
        "colab": {
          "base_uri": "https://localhost:8080/"
        },
        "id": "6Cb2TPU2vMnm",
        "outputId": "52af1841-c29b-4e87-bede-9b498e6bf6be"
      },
      "outputs": [
        {
          "name": "stderr",
          "output_type": "stream",
          "text": [
            "/usr/local/lib/python3.10/dist-packages/transformers/optimization.py:588: FutureWarning: This implementation of AdamW is deprecated and will be removed in a future version. Use the PyTorch implementation torch.optim.AdamW instead, or set `no_deprecation_warning=True` to disable this warning\n",
            "  warnings.warn(\n"
          ]
        }
      ],
      "source": [
        "# Define criterion and optimizer\n",
        "criterion = nn.CrossEntropyLoss().to(device) #scelgo come loss function la CrossEntropy()\n",
        "optimizer = AdamW(model.parameters(), lr=learning_rate, correct_bias=False) #scelgo AdamW come ottimizzatore"
      ]
    },
    {
      "cell_type": "code",
      "execution_count": null,
      "metadata": {
        "colab": {
          "base_uri": "https://localhost:8080/"
        },
        "id": "vrkaARhDvhX7",
        "outputId": "8dd6af07-ff31-4bfe-83f4-2a6b5a380c14"
      },
      "outputs": [
        {
          "name": "stderr",
          "output_type": "stream",
          "text": [
            "Epoch 1/45 - Training: 100%|██████████| 43/43 [01:13<00:00,  1.71s/it]\n",
            "Epoch 1/45 - Validation: 100%|██████████| 10/10 [00:16<00:00,  1.69s/it]\n"
          ]
        },
        {
          "name": "stdout",
          "output_type": "stream",
          "text": [
            "[Epoch 1][TRAIN on 21519 [Loss: 0.4968  ACC: 0.8036]][VAL on 4966 [Loss: 0.4198  ACC: 0.8870]][TIME: 1 m 30 s] [LR: 0.00085]\n",
            "     .... Saving best weights ....\n"
          ]
        },
        {
          "name": "stderr",
          "output_type": "stream",
          "text": [
            "Epoch 2/45 - Training: 100%|██████████| 43/43 [01:13<00:00,  1.71s/it]\n",
            "Epoch 2/45 - Validation: 100%|██████████| 10/10 [00:16<00:00,  1.65s/it]\n"
          ]
        },
        {
          "name": "stdout",
          "output_type": "stream",
          "text": [
            "[Epoch 2][TRAIN on 21519 [Loss: 0.4159  ACC: 0.8937]][VAL on 4966 [Loss: 0.3962  ACC: 0.9140]][TIME: 1 m 30 s] [LR: 0.00085]\n",
            "     .... Saving best weights ....\n"
          ]
        },
        {
          "name": "stderr",
          "output_type": "stream",
          "text": [
            "Epoch 3/45 - Training: 100%|██████████| 43/43 [01:13<00:00,  1.70s/it]\n",
            "Epoch 3/45 - Validation: 100%|██████████| 10/10 [00:16<00:00,  1.66s/it]\n"
          ]
        },
        {
          "name": "stdout",
          "output_type": "stream",
          "text": [
            "[Epoch 3][TRAIN on 21519 [Loss: 0.4096  ACC: 0.9000]][VAL on 4966 [Loss: 0.3970  ACC: 0.9106]][TIME: 1 m 30 s] [LR: 0.00085]\n"
          ]
        },
        {
          "name": "stderr",
          "output_type": "stream",
          "text": [
            "Epoch 4/45 - Training: 100%|██████████| 43/43 [01:13<00:00,  1.70s/it]\n",
            "Epoch 4/45 - Validation: 100%|██████████| 10/10 [00:16<00:00,  1.66s/it]\n"
          ]
        },
        {
          "name": "stdout",
          "output_type": "stream",
          "text": [
            "[Epoch 4][TRAIN on 21519 [Loss: 0.4072  ACC: 0.9022]][VAL on 4966 [Loss: 0.3872  ACC: 0.9229]][TIME: 1 m 30 s] [LR: 0.00085]\n",
            "     .... Saving best weights ....\n"
          ]
        },
        {
          "name": "stderr",
          "output_type": "stream",
          "text": [
            "Epoch 5/45 - Training: 100%|██████████| 43/43 [01:13<00:00,  1.71s/it]\n",
            "Epoch 5/45 - Validation: 100%|██████████| 10/10 [00:16<00:00,  1.67s/it]\n"
          ]
        },
        {
          "name": "stdout",
          "output_type": "stream",
          "text": [
            "[Epoch 5][TRAIN on 21519 [Loss: 0.4043  ACC: 0.9052]][VAL on 4966 [Loss: 0.3858  ACC: 0.9223]][TIME: 1 m 30 s] [LR: 0.00085]\n"
          ]
        },
        {
          "name": "stderr",
          "output_type": "stream",
          "text": [
            "Epoch 6/45 - Training: 100%|██████████| 43/43 [01:13<00:00,  1.70s/it]\n",
            "Epoch 6/45 - Validation: 100%|██████████| 10/10 [00:16<00:00,  1.66s/it]\n"
          ]
        },
        {
          "name": "stdout",
          "output_type": "stream",
          "text": [
            "[Epoch 6][TRAIN on 21519 [Loss: 0.4011  ACC: 0.9085]][VAL on 4966 [Loss: 0.3819  ACC: 0.9291]][TIME: 1 m 30 s] [LR: 0.00085]\n",
            "     .... Saving best weights ....\n"
          ]
        },
        {
          "name": "stderr",
          "output_type": "stream",
          "text": [
            "Epoch 7/45 - Training: 100%|██████████| 43/43 [01:13<00:00,  1.71s/it]\n",
            "Epoch 7/45 - Validation: 100%|██████████| 10/10 [00:16<00:00,  1.66s/it]\n"
          ]
        },
        {
          "name": "stdout",
          "output_type": "stream",
          "text": [
            "[Epoch 7][TRAIN on 21519 [Loss: 0.3966  ACC: 0.9145]][VAL on 4966 [Loss: 0.3802  ACC: 0.9305]][TIME: 1 m 30 s] [LR: 0.00085]\n",
            "     .... Saving best weights ....\n"
          ]
        },
        {
          "name": "stderr",
          "output_type": "stream",
          "text": [
            "Epoch 8/45 - Training: 100%|██████████| 43/43 [01:13<00:00,  1.70s/it]\n",
            "Epoch 8/45 - Validation: 100%|██████████| 10/10 [00:16<00:00,  1.67s/it]\n"
          ]
        },
        {
          "name": "stdout",
          "output_type": "stream",
          "text": [
            "[Epoch 8][TRAIN on 21519 [Loss: 0.3931  ACC: 0.9174]][VAL on 4966 [Loss: 0.3815  ACC: 0.9301]][TIME: 1 m 30 s] [LR: 0.00085]\n"
          ]
        },
        {
          "name": "stderr",
          "output_type": "stream",
          "text": [
            "Epoch 9/45 - Training: 100%|██████████| 43/43 [01:13<00:00,  1.70s/it]\n",
            "Epoch 9/45 - Validation: 100%|██████████| 10/10 [00:16<00:00,  1.66s/it]\n"
          ]
        },
        {
          "name": "stdout",
          "output_type": "stream",
          "text": [
            "[Epoch 9][TRAIN on 21519 [Loss: 0.3964  ACC: 0.9127]][VAL on 4966 [Loss: 0.3875  ACC: 0.9231]][TIME: 1 m 30 s] [LR: 0.00085]\n"
          ]
        },
        {
          "name": "stderr",
          "output_type": "stream",
          "text": [
            "Epoch 10/45 - Training: 100%|██████████| 43/43 [01:13<00:00,  1.70s/it]\n",
            "Epoch 10/45 - Validation: 100%|██████████| 10/10 [00:16<00:00,  1.67s/it]\n"
          ]
        },
        {
          "name": "stdout",
          "output_type": "stream",
          "text": [
            "[Epoch 10][TRAIN on 21519 [Loss: 0.4036  ACC: 0.9057]][VAL on 4966 [Loss: 0.4064  ACC: 0.9007]][TIME: 1 m 30 s] [LR: 0.00085]\n"
          ]
        },
        {
          "name": "stderr",
          "output_type": "stream",
          "text": [
            "Epoch 11/45 - Training: 100%|██████████| 43/43 [01:13<00:00,  1.71s/it]\n",
            "Epoch 11/45 - Validation: 100%|██████████| 10/10 [00:16<00:00,  1.67s/it]\n"
          ]
        },
        {
          "name": "stdout",
          "output_type": "stream",
          "text": [
            "[Epoch 11][TRAIN on 21519 [Loss: 0.3991  ACC: 0.9109]][VAL on 4966 [Loss: 0.3891  ACC: 0.9205]][TIME: 1 m 30 s] [LR: 0.00085]\n"
          ]
        },
        {
          "name": "stderr",
          "output_type": "stream",
          "text": [
            "Epoch 12/45 - Training: 100%|██████████| 43/43 [01:13<00:00,  1.70s/it]\n",
            "Epoch 12/45 - Validation: 100%|██████████| 10/10 [00:16<00:00,  1.67s/it]\n"
          ]
        },
        {
          "name": "stdout",
          "output_type": "stream",
          "text": [
            "[Epoch 12][TRAIN on 21519 [Loss: 0.3936  ACC: 0.9174]][VAL on 4966 [Loss: 0.3845  ACC: 0.9251]][TIME: 1 m 30 s] [LR: 0.00085]\n"
          ]
        },
        {
          "name": "stderr",
          "output_type": "stream",
          "text": [
            "Epoch 13/45 - Training: 100%|██████████| 43/43 [01:13<00:00,  1.70s/it]\n",
            "Epoch 13/45 - Validation: 100%|██████████| 10/10 [00:16<00:00,  1.67s/it]\n"
          ]
        },
        {
          "name": "stdout",
          "output_type": "stream",
          "text": [
            "[Epoch 13][TRAIN on 21519 [Loss: 0.3905  ACC: 0.9201]][VAL on 4966 [Loss: 0.3785  ACC: 0.9303]][TIME: 1 m 30 s] [LR: 0.00085]\n"
          ]
        },
        {
          "name": "stderr",
          "output_type": "stream",
          "text": [
            "Epoch 14/45 - Training: 100%|██████████| 43/43 [01:13<00:00,  1.70s/it]\n",
            "Epoch 14/45 - Validation: 100%|██████████| 10/10 [00:16<00:00,  1.67s/it]\n"
          ]
        },
        {
          "name": "stdout",
          "output_type": "stream",
          "text": [
            "[Epoch 14][TRAIN on 21519 [Loss: 0.3896  ACC: 0.9201]][VAL on 4966 [Loss: 0.3869  ACC: 0.9237]][TIME: 1 m 30 s] [LR: 0.00085]\n"
          ]
        },
        {
          "name": "stderr",
          "output_type": "stream",
          "text": [
            "Epoch 15/45 - Training: 100%|██████████| 43/43 [01:13<00:00,  1.70s/it]\n",
            "Epoch 15/45 - Validation: 100%|██████████| 10/10 [00:16<00:00,  1.67s/it]\n"
          ]
        },
        {
          "name": "stdout",
          "output_type": "stream",
          "text": [
            "[Epoch 15][TRAIN on 21519 [Loss: 0.3893  ACC: 0.9206]][VAL on 4966 [Loss: 0.3810  ACC: 0.9301]][TIME: 1 m 30 s] [LR: 0.00085]\n"
          ]
        },
        {
          "name": "stderr",
          "output_type": "stream",
          "text": [
            "Epoch 16/45 - Training: 100%|██████████| 43/43 [01:13<00:00,  1.70s/it]\n",
            "Epoch 16/45 - Validation: 100%|██████████| 10/10 [00:16<00:00,  1.67s/it]\n"
          ]
        },
        {
          "name": "stdout",
          "output_type": "stream",
          "text": [
            "[Epoch 16][TRAIN on 21519 [Loss: 0.3887  ACC: 0.9221]][VAL on 4966 [Loss: 0.3755  ACC: 0.9337]][TIME: 1 m 30 s] [LR: 0.00085]\n",
            "     .... Saving best weights ....\n"
          ]
        },
        {
          "name": "stderr",
          "output_type": "stream",
          "text": [
            "Epoch 17/45 - Training: 100%|██████████| 43/43 [01:13<00:00,  1.71s/it]\n",
            "Epoch 17/45 - Validation: 100%|██████████| 10/10 [00:16<00:00,  1.67s/it]\n"
          ]
        },
        {
          "name": "stdout",
          "output_type": "stream",
          "text": [
            "[Epoch 17][TRAIN on 21519 [Loss: 0.3901  ACC: 0.9210]][VAL on 4966 [Loss: 0.3773  ACC: 0.9317]][TIME: 1 m 30 s] [LR: 0.00085]\n"
          ]
        },
        {
          "name": "stderr",
          "output_type": "stream",
          "text": [
            "Epoch 18/45 - Training: 100%|██████████| 43/43 [01:13<00:00,  1.71s/it]\n",
            "Epoch 18/45 - Validation: 100%|██████████| 10/10 [00:16<00:00,  1.66s/it]\n"
          ]
        },
        {
          "name": "stdout",
          "output_type": "stream",
          "text": [
            "[Epoch 18][TRAIN on 21519 [Loss: 0.3914  ACC: 0.9180]][VAL on 4966 [Loss: 0.3749  ACC: 0.9356]][TIME: 1 m 30 s] [LR: 0.00085]\n",
            "     .... Saving best weights ....\n"
          ]
        },
        {
          "name": "stderr",
          "output_type": "stream",
          "text": [
            "Epoch 19/45 - Training: 100%|██████████| 43/43 [01:13<00:00,  1.71s/it]\n",
            "Epoch 19/45 - Validation: 100%|██████████| 10/10 [00:16<00:00,  1.66s/it]\n"
          ]
        },
        {
          "name": "stdout",
          "output_type": "stream",
          "text": [
            "[Epoch 19][TRAIN on 21519 [Loss: 0.3856  ACC: 0.9263]][VAL on 4966 [Loss: 0.3759  ACC: 0.9323]][TIME: 1 m 30 s] [LR: 0.00085]\n"
          ]
        },
        {
          "name": "stderr",
          "output_type": "stream",
          "text": [
            "Epoch 20/45 - Training: 100%|██████████| 43/43 [01:13<00:00,  1.70s/it]\n",
            "Epoch 20/45 - Validation: 100%|██████████| 10/10 [00:16<00:00,  1.66s/it]\n"
          ]
        },
        {
          "name": "stdout",
          "output_type": "stream",
          "text": [
            "[Epoch 20][TRAIN on 21519 [Loss: 0.3840  ACC: 0.9262]][VAL on 4966 [Loss: 0.3732  ACC: 0.9364]][TIME: 1 m 30 s] [LR: 0.00085]\n",
            "     .... Saving best weights ....\n"
          ]
        },
        {
          "name": "stderr",
          "output_type": "stream",
          "text": [
            "Epoch 21/45 - Training: 100%|██████████| 43/43 [01:13<00:00,  1.71s/it]\n",
            "Epoch 21/45 - Validation: 100%|██████████| 10/10 [00:16<00:00,  1.66s/it]\n"
          ]
        },
        {
          "name": "stdout",
          "output_type": "stream",
          "text": [
            "[Epoch 21][TRAIN on 21519 [Loss: 0.3858  ACC: 0.9250]][VAL on 4966 [Loss: 0.3745  ACC: 0.9340]][TIME: 1 m 30 s] [LR: 0.00085]\n"
          ]
        },
        {
          "name": "stderr",
          "output_type": "stream",
          "text": [
            "Epoch 22/45 - Training: 100%|██████████| 43/43 [01:13<00:00,  1.70s/it]\n",
            "Epoch 22/45 - Validation: 100%|██████████| 10/10 [00:16<00:00,  1.67s/it]\n"
          ]
        },
        {
          "name": "stdout",
          "output_type": "stream",
          "text": [
            "[Epoch 22][TRAIN on 21519 [Loss: 0.3855  ACC: 0.9246]][VAL on 4966 [Loss: 0.3920  ACC: 0.9166]][TIME: 1 m 30 s] [LR: 0.00085]\n"
          ]
        },
        {
          "name": "stderr",
          "output_type": "stream",
          "text": [
            "Epoch 23/45 - Training: 100%|██████████| 43/43 [01:13<00:00,  1.70s/it]\n",
            "Epoch 23/45 - Validation: 100%|██████████| 10/10 [00:16<00:00,  1.67s/it]\n"
          ]
        },
        {
          "name": "stdout",
          "output_type": "stream",
          "text": [
            "[Epoch 23][TRAIN on 21519 [Loss: 0.3905  ACC: 0.9193]][VAL on 4966 [Loss: 0.3737  ACC: 0.9350]][TIME: 1 m 30 s] [LR: 0.00085]\n"
          ]
        },
        {
          "name": "stderr",
          "output_type": "stream",
          "text": [
            "Epoch 24/45 - Training: 100%|██████████| 43/43 [01:13<00:00,  1.70s/it]\n",
            "Epoch 24/45 - Validation: 100%|██████████| 10/10 [00:16<00:00,  1.66s/it]\n"
          ]
        },
        {
          "name": "stdout",
          "output_type": "stream",
          "text": [
            "[Epoch 24][TRAIN on 21519 [Loss: 0.3847  ACC: 0.9263]][VAL on 4966 [Loss: 0.3829  ACC: 0.9271]][TIME: 1 m 30 s] [LR: 0.00085]\n"
          ]
        },
        {
          "name": "stderr",
          "output_type": "stream",
          "text": [
            "Epoch 25/45 - Training: 100%|██████████| 43/43 [01:13<00:00,  1.70s/it]\n",
            "Epoch 25/45 - Validation: 100%|██████████| 10/10 [00:16<00:00,  1.67s/it]\n"
          ]
        },
        {
          "name": "stdout",
          "output_type": "stream",
          "text": [
            "[Epoch 25][TRAIN on 21519 [Loss: 0.3821  ACC: 0.9292]][VAL on 4966 [Loss: 0.3746  ACC: 0.9364]][TIME: 1 m 30 s] [LR: 0.00085]\n"
          ]
        },
        {
          "name": "stderr",
          "output_type": "stream",
          "text": [
            "Epoch 26/45 - Training: 100%|██████████| 43/43 [01:13<00:00,  1.71s/it]\n",
            "Epoch 26/45 - Validation: 100%|██████████| 10/10 [00:16<00:00,  1.67s/it]\n"
          ]
        },
        {
          "name": "stdout",
          "output_type": "stream",
          "text": [
            "[Epoch 26][TRAIN on 21519 [Loss: 0.3836  ACC: 0.9263]][VAL on 4966 [Loss: 0.3716  ACC: 0.9394]][TIME: 1 m 30 s] [LR: 0.00085]\n",
            "     .... Saving best weights ....\n"
          ]
        },
        {
          "name": "stderr",
          "output_type": "stream",
          "text": [
            "Epoch 27/45 - Training: 100%|██████████| 43/43 [01:13<00:00,  1.70s/it]\n",
            "Epoch 27/45 - Validation: 100%|██████████| 10/10 [00:16<00:00,  1.67s/it]\n"
          ]
        },
        {
          "name": "stdout",
          "output_type": "stream",
          "text": [
            "[Epoch 27][TRAIN on 21519 [Loss: 0.3819  ACC: 0.9291]][VAL on 4966 [Loss: 0.3721  ACC: 0.9382]][TIME: 1 m 30 s] [LR: 0.00085]\n"
          ]
        },
        {
          "name": "stderr",
          "output_type": "stream",
          "text": [
            "Epoch 28/45 - Training: 100%|██████████| 43/43 [01:13<00:00,  1.70s/it]\n",
            "Epoch 28/45 - Validation: 100%|██████████| 10/10 [00:16<00:00,  1.66s/it]\n"
          ]
        },
        {
          "name": "stdout",
          "output_type": "stream",
          "text": [
            "[Epoch 28][TRAIN on 21519 [Loss: 0.3799  ACC: 0.9313]][VAL on 4966 [Loss: 0.3811  ACC: 0.9281]][TIME: 1 m 30 s] [LR: 0.00085]\n"
          ]
        },
        {
          "name": "stderr",
          "output_type": "stream",
          "text": [
            "Epoch 29/45 - Training: 100%|██████████| 43/43 [01:13<00:00,  1.70s/it]\n",
            "Epoch 29/45 - Validation: 100%|██████████| 10/10 [00:16<00:00,  1.66s/it]\n"
          ]
        },
        {
          "name": "stdout",
          "output_type": "stream",
          "text": [
            "[Epoch 29][TRAIN on 21519 [Loss: 0.3791  ACC: 0.9324]][VAL on 4966 [Loss: 0.3700  ACC: 0.9402]][TIME: 1 m 30 s] [LR: 0.00085]\n",
            "     .... Saving best weights ....\n"
          ]
        },
        {
          "name": "stderr",
          "output_type": "stream",
          "text": [
            "Epoch 30/45 - Training: 100%|██████████| 43/43 [01:13<00:00,  1.70s/it]\n",
            "Epoch 30/45 - Validation: 100%|██████████| 10/10 [00:16<00:00,  1.68s/it]\n"
          ]
        },
        {
          "name": "stdout",
          "output_type": "stream",
          "text": [
            "[Epoch 30][TRAIN on 21519 [Loss: 0.3783  ACC: 0.9336]][VAL on 4966 [Loss: 0.3684  ACC: 0.9426]][TIME: 1 m 30 s] [LR: 0.00085]\n",
            "     .... Saving best weights ....\n"
          ]
        },
        {
          "name": "stderr",
          "output_type": "stream",
          "text": [
            "Epoch 31/45 - Training: 100%|██████████| 43/43 [01:13<00:00,  1.70s/it]\n",
            "Epoch 31/45 - Validation: 100%|██████████| 10/10 [00:16<00:00,  1.67s/it]\n"
          ]
        },
        {
          "name": "stdout",
          "output_type": "stream",
          "text": [
            "[Epoch 31][TRAIN on 21519 [Loss: 0.3776  ACC: 0.9342]][VAL on 4966 [Loss: 0.3679  ACC: 0.9454]][TIME: 1 m 30 s] [LR: 0.00085]\n",
            "     .... Saving best weights ....\n"
          ]
        },
        {
          "name": "stderr",
          "output_type": "stream",
          "text": [
            "Epoch 32/45 - Training: 100%|██████████| 43/43 [01:13<00:00,  1.70s/it]\n",
            "Epoch 32/45 - Validation: 100%|██████████| 10/10 [00:16<00:00,  1.67s/it]\n"
          ]
        },
        {
          "name": "stdout",
          "output_type": "stream",
          "text": [
            "[Epoch 32][TRAIN on 21519 [Loss: 0.3804  ACC: 0.9306]][VAL on 4966 [Loss: 0.3666  ACC: 0.9452]][TIME: 1 m 30 s] [LR: 0.00085]\n"
          ]
        },
        {
          "name": "stderr",
          "output_type": "stream",
          "text": [
            "Epoch 33/45 - Training: 100%|██████████| 43/43 [01:13<00:00,  1.70s/it]\n",
            "Epoch 33/45 - Validation: 100%|██████████| 10/10 [00:16<00:00,  1.67s/it]\n"
          ]
        },
        {
          "name": "stdout",
          "output_type": "stream",
          "text": [
            "[Epoch 33][TRAIN on 21519 [Loss: 0.3762  ACC: 0.9362]][VAL on 4966 [Loss: 0.3662  ACC: 0.9460]][TIME: 1 m 30 s] [LR: 0.00085]\n",
            "     .... Saving best weights ....\n"
          ]
        },
        {
          "name": "stderr",
          "output_type": "stream",
          "text": [
            "Epoch 34/45 - Training: 100%|██████████| 43/43 [01:13<00:00,  1.70s/it]\n",
            "Epoch 34/45 - Validation: 100%|██████████| 10/10 [00:16<00:00,  1.67s/it]\n"
          ]
        },
        {
          "name": "stdout",
          "output_type": "stream",
          "text": [
            "[Epoch 34][TRAIN on 21519 [Loss: 0.3768  ACC: 0.9348]][VAL on 4966 [Loss: 0.3789  ACC: 0.9311]][TIME: 1 m 30 s] [LR: 0.00085]\n"
          ]
        },
        {
          "name": "stderr",
          "output_type": "stream",
          "text": [
            "Epoch 35/45 - Training: 100%|██████████| 43/43 [01:13<00:00,  1.70s/it]\n",
            "Epoch 35/45 - Validation: 100%|██████████| 10/10 [00:16<00:00,  1.67s/it]\n"
          ]
        },
        {
          "name": "stdout",
          "output_type": "stream",
          "text": [
            "[Epoch 35][TRAIN on 21519 [Loss: 0.3791  ACC: 0.9314]][VAL on 4966 [Loss: 0.3705  ACC: 0.9412]][TIME: 1 m 30 s] [LR: 0.00085]\n"
          ]
        },
        {
          "name": "stderr",
          "output_type": "stream",
          "text": [
            "Epoch 36/45 - Training: 100%|██████████| 43/43 [01:13<00:00,  1.70s/it]\n",
            "Epoch 36/45 - Validation: 100%|██████████| 10/10 [00:16<00:00,  1.67s/it]\n"
          ]
        },
        {
          "name": "stdout",
          "output_type": "stream",
          "text": [
            "[Epoch 36][TRAIN on 21519 [Loss: 0.3810  ACC: 0.9293]][VAL on 4966 [Loss: 0.3662  ACC: 0.9462]][TIME: 1 m 30 s] [LR: 0.00085]\n",
            "     .... Saving best weights ....\n"
          ]
        },
        {
          "name": "stderr",
          "output_type": "stream",
          "text": [
            "Epoch 37/45 - Training: 100%|██████████| 43/43 [01:13<00:00,  1.71s/it]\n",
            "Epoch 37/45 - Validation: 100%|██████████| 10/10 [00:16<00:00,  1.67s/it]\n"
          ]
        },
        {
          "name": "stdout",
          "output_type": "stream",
          "text": [
            "[Epoch 37][TRAIN on 21519 [Loss: 0.3753  ACC: 0.9364]][VAL on 4966 [Loss: 0.3777  ACC: 0.9315]][TIME: 1 m 30 s] [LR: 0.00085]\n"
          ]
        },
        {
          "name": "stderr",
          "output_type": "stream",
          "text": [
            "Epoch 38/45 - Training: 100%|██████████| 43/43 [01:13<00:00,  1.71s/it]\n",
            "Epoch 38/45 - Validation: 100%|██████████| 10/10 [00:16<00:00,  1.67s/it]\n"
          ]
        },
        {
          "name": "stdout",
          "output_type": "stream",
          "text": [
            "[Epoch 38][TRAIN on 21519 [Loss: 0.3795  ACC: 0.9320]][VAL on 4966 [Loss: 0.3671  ACC: 0.9432]][TIME: 1 m 30 s] [LR: 0.00085]\n"
          ]
        },
        {
          "name": "stderr",
          "output_type": "stream",
          "text": [
            "Epoch 39/45 - Training: 100%|██████████| 43/43 [01:13<00:00,  1.70s/it]\n",
            "Epoch 39/45 - Validation: 100%|██████████| 10/10 [00:16<00:00,  1.67s/it]\n"
          ]
        },
        {
          "name": "stdout",
          "output_type": "stream",
          "text": [
            "[Epoch 39][TRAIN on 21519 [Loss: 0.3733  ACC: 0.9386]][VAL on 4966 [Loss: 0.3649  ACC: 0.9474]][TIME: 1 m 30 s] [LR: 0.00085]\n",
            "     .... Saving best weights ....\n"
          ]
        },
        {
          "name": "stderr",
          "output_type": "stream",
          "text": [
            "Epoch 40/45 - Training: 100%|██████████| 43/43 [01:13<00:00,  1.71s/it]\n",
            "Epoch 40/45 - Validation: 100%|██████████| 10/10 [00:16<00:00,  1.67s/it]\n"
          ]
        },
        {
          "name": "stdout",
          "output_type": "stream",
          "text": [
            "[Epoch 40][TRAIN on 21519 [Loss: 0.3749  ACC: 0.9372]][VAL on 4966 [Loss: 0.3699  ACC: 0.9400]][TIME: 1 m 30 s] [LR: 0.00085]\n"
          ]
        },
        {
          "name": "stderr",
          "output_type": "stream",
          "text": [
            "Epoch 41/45 - Training: 100%|██████████| 43/43 [01:13<00:00,  1.71s/it]\n",
            "Epoch 41/45 - Validation: 100%|██████████| 10/10 [00:16<00:00,  1.67s/it]\n"
          ]
        },
        {
          "name": "stdout",
          "output_type": "stream",
          "text": [
            "[Epoch 41][TRAIN on 21519 [Loss: 0.3751  ACC: 0.9365]][VAL on 4966 [Loss: 0.3641  ACC: 0.9470]][TIME: 1 m 30 s] [LR: 0.00085]\n"
          ]
        },
        {
          "name": "stderr",
          "output_type": "stream",
          "text": [
            "Epoch 42/45 - Training: 100%|██████████| 43/43 [01:13<00:00,  1.70s/it]\n",
            "Epoch 42/45 - Validation: 100%|██████████| 10/10 [00:16<00:00,  1.67s/it]\n"
          ]
        },
        {
          "name": "stdout",
          "output_type": "stream",
          "text": [
            "[Epoch 42][TRAIN on 21519 [Loss: 0.3785  ACC: 0.9331]][VAL on 4966 [Loss: 0.3669  ACC: 0.9428]][TIME: 1 m 30 s] [LR: 0.00085]\n"
          ]
        },
        {
          "name": "stderr",
          "output_type": "stream",
          "text": [
            "Epoch 43/45 - Training: 100%|██████████| 43/43 [01:13<00:00,  1.71s/it]\n",
            "Epoch 43/45 - Validation: 100%|██████████| 10/10 [00:16<00:00,  1.68s/it]\n"
          ]
        },
        {
          "name": "stdout",
          "output_type": "stream",
          "text": [
            "[Epoch 43][TRAIN on 21519 [Loss: 0.3749  ACC: 0.9369]][VAL on 4966 [Loss: 0.3651  ACC: 0.9448]][TIME: 1 m 30 s] [LR: 0.00085]\n"
          ]
        },
        {
          "name": "stderr",
          "output_type": "stream",
          "text": [
            "Epoch 44/45 - Training: 100%|██████████| 43/43 [01:13<00:00,  1.71s/it]\n",
            "Epoch 44/45 - Validation: 100%|██████████| 10/10 [00:16<00:00,  1.67s/it]\n"
          ]
        },
        {
          "name": "stdout",
          "output_type": "stream",
          "text": [
            "[Epoch 44][TRAIN on 21519 [Loss: 0.3742  ACC: 0.9379]][VAL on 4966 [Loss: 0.3666  ACC: 0.9452]][TIME: 1 m 30 s] [LR: 0.00085]\n"
          ]
        },
        {
          "name": "stderr",
          "output_type": "stream",
          "text": [
            "Epoch 45/45 - Training: 100%|██████████| 43/43 [01:13<00:00,  1.71s/it]\n",
            "Epoch 45/45 - Validation: 100%|██████████| 10/10 [00:16<00:00,  1.67s/it]\n"
          ]
        },
        {
          "name": "stdout",
          "output_type": "stream",
          "text": [
            "[Epoch 45][TRAIN on 21519 [Loss: 0.3776  ACC: 0.9350]][VAL on 4966 [Loss: 0.3640  ACC: 0.9489]][TIME: 1 m 30 s] [LR: 0.00085]\n",
            "     .... Saving best weights ....\n"
          ]
        }
      ],
      "source": [
        "# Call the training function with validation\n",
        "best_epoch = train_loop_validation(train_dataloader, val_dataloader, startEpoch, num_epochs, model, criterion, optimizer, best_acc, best_loss, best_epoch, WEIGHTS_PATH)"
      ]
    },
    {
      "cell_type": "markdown",
      "metadata": {
        "id": "GESxxEpy2aL2"
      },
      "source": [
        "# Metrics Plot\n",
        "Visualization and analysis of performance metrics obtained during the training and validation process.\n",
        "Loss and accuracy values are read from previously saved text files, and the values are plotted in two separate graphs: one for loss and the other for accuracy. This section allows for the selection of hyperparameters for the subsequent final training."
      ]
    },
    {
      "cell_type": "code",
      "execution_count": null,
      "metadata": {
        "colab": {
          "base_uri": "https://localhost:8080/",
          "height": 927
        },
        "id": "QQX5nwmf2bkd",
        "outputId": "8f1c5b7e-4e2f-4267-825e-b684d0deab7f"
      },
      "outputs": [
        {
          "data": {
            "image/png": "[encoded data removed]",
            "text/plain": [
              "<Figure size 640x480 with 1 Axes>"
            ]
          },
          "metadata": {},
          "output_type": "display_data"
        },
        {
          "data": {
            "image/png": "[encoded data removed]",
            "text/plain": [
              "<Figure size 640x480 with 1 Axes>"
            ]
          },
          "metadata": {},
          "output_type": "display_data"
        }
      ],
      "source": [
        "# Initialization of lists for losses and accuracies\n",
        "loss_model_train = []\n",
        "loss_model_val = []\n",
        "acc_model_train = []\n",
        "acc_model_val = []\n",
        "\n",
        "# Reading training loss files\n",
        "loss_train_path = os.path.join(WEIGHTS_PATH, 'lossTrain.txt')\n",
        "with open(loss_train_path, 'r') as file:\n",
        "    loss_model_train = [float(line.strip()) for line in file.readlines()]\n",
        "\n",
        "# Reading validation loss files\n",
        "loss_val_path = os.path.join(WEIGHTS_PATH, 'lossVal.txt')\n",
        "with open(loss_val_path, 'r') as file:\n",
        "    loss_model_val = [float(line.strip()) for line in file.readlines()]\n",
        "\n",
        "# Plotting training and validation losses\n",
        "plt.figure()\n",
        "plt.title(\"Model: Training Vs Validation Losses\")\n",
        "plt.xlabel('Epoch')\n",
        "plt.ylabel('Loss')\n",
        "plt.plot(range(1, len(loss_model_train) + 1), loss_model_train, color='r', label=\"Training Loss\")\n",
        "plt.plot(range(1, len(loss_model_val) + 1), loss_model_val, color='g', label=\"Validation Loss\")\n",
        "plt.legend()\n",
        "plt.savefig(os.path.join(WEIGHTS_PATH, 'LossTrainVal.png'))\n",
        "\n",
        "# Reading training accuracy files\n",
        "acc_train_path = os.path.join(WEIGHTS_PATH, 'AccTrain.txt')\n",
        "with open(acc_train_path, 'r') as file:\n",
        "    acc_model_train = [float(line.strip()) for line in file.readlines()]\n",
        "\n",
        "# Reading validation accuracy files\n",
        "acc_val_path = os.path.join(WEIGHTS_PATH, 'AccVal.txt')\n",
        "with open(acc_val_path, 'r') as file:\n",
        "    acc_model_val = [float(line.strip()) for line in file.readlines()]\n",
        "\n",
        "# Plotting training and validation accuracies\n",
        "plt.figure()\n",
        "plt.title(\"Training Vs Validation Accuracies\")\n",
        "plt.xlabel('Epoch')\n",
        "plt.ylabel('Accuracy')\n",
        "plt.plot(range(1, len(acc_model_train) + 1), acc_model_train, color='r', label=\"Training Accuracy\")\n",
        "plt.plot(range(1, len(acc_model_val) + 1), acc_model_val, color='g', label=\"Validation Accuracy\")\n",
        "plt.legend()\n",
        "plt.savefig(os.path.join(WEIGHTS_PATH, 'AccTrainVal.png'))"
      ]
    },
    {
      "cell_type": "markdown",
      "metadata": {
        "id": "vCxZq4pT7SP7"
      },
      "source": [
        "# DataLoader (Full Dataset)\n",
        "Applying the DataLoader to the entire dataset without splitting into train and validation."
      ]
    },
    {
      "cell_type": "code",
      "execution_count": null,
      "metadata": {
        "id": "hxfdxj7VCn0v"
      },
      "outputs": [],
      "source": [
        "class DistilBERTDataset(torch.utils.data.Dataset):\n",
        "    def __init__(self, dataframe, max_len, model_name):\n",
        "        # Initialize the tokenizer from the DistilBERT model\n",
        "        self.tokenizer = DistilBertTokenizer.from_pretrained(model_name)\n",
        "\n",
        "        # Fill missing text values with empty strings and ensure all text data is string type\n",
        "        dataframe['Text'] = dataframe['Text'].fillna('').astype(str)\n",
        "\n",
        "        # Extract sentences and labels from the dataframe\n",
        "        sentences = dataframe['Text']\n",
        "        labels = dataframe['Spam/Ham']\n",
        "\n",
        "        # Tokenize all sentences\n",
        "        all_tokens = [self.tokenizer.tokenize(s) for s in sentences]\n",
        "\n",
        "        # Convert labels to torch tensor\n",
        "        self.labels = torch.tensor(labels.values, dtype=torch.long)\n",
        "        self.max_len = max_len\n",
        "\n",
        "        # Preprocess tokens to convert them to token IDs and get valid lengths\n",
        "        self.all_token_ids, self.valid_lens = self._preprocess(all_tokens)\n",
        "        print('Read ' + str(len(self.all_token_ids)) + ' examples')\n",
        "\n",
        "    def _preprocess(self, all_tokens):\n",
        "        # Use multiprocessing to preprocess tokens with 4 worker processes\n",
        "        pool = multiprocessing.Pool(4)\n",
        "        out = pool.map(self._mp_worker, all_tokens)\n",
        "\n",
        "        # Separate token IDs and valid lengths from the output\n",
        "        all_token_ids = [token_ids for token_ids, valid_len in out]\n",
        "        valid_lens = [valid_len for token_ids, valid_len in out]\n",
        "\n",
        "        # Convert to torch tensors\n",
        "        return (torch.tensor(all_token_ids, dtype=torch.long),\n",
        "                torch.tensor(valid_lens, dtype=torch.long))\n",
        "\n",
        "    def _mp_worker(self, tokens):\n",
        "        # Truncate tokens to fit the max length constraint\n",
        "        self._truncate_tokens(tokens)\n",
        "\n",
        "        # Convert tokens to token IDs\n",
        "        token_ids = self.tokenizer.convert_tokens_to_ids(tokens)\n",
        "\n",
        "        # Pad token IDs to max length\n",
        "        token_ids += [self.tokenizer.pad_token_id] * (self.max_len - len(token_ids))\n",
        "\n",
        "        # Get the valid length of tokens\n",
        "        valid_len = len(tokens)\n",
        "\n",
        "        return token_ids, valid_len\n",
        "\n",
        "    def _truncate_tokens(self, tokens):\n",
        "        # Truncate tokens to leave room for special tokens\n",
        "        while len(tokens) > self.max_len - 2:\n",
        "            tokens.pop()\n",
        "\n",
        "    def __getitem__(self, idx):        # Return the input tensor, valid length tensor, and label tensor for the given index\n",
        "        input_tensor = self.all_token_ids[idx]\n",
        "        valid_len_tensor = self.valid_lens[idx]\n",
        "        label_tensor = self.labels[idx]\n",
        "        attention_mask = (input_tensor != self.tokenizer.pad_token_id).long()\n",
        "        return (input_tensor, valid_len_tensor), attention_mask, label_tensor\n",
        "\n",
        "    def __len__(self):\n",
        "        # Return the number of examples in the dataset\n",
        "        return len(self.all_token_ids)"
      ]
    },
    {
      "cell_type": "markdown",
      "metadata": {
        "id": "S0JfiTadY10j"
      },
      "source": [
        "**Dataset Management for Training**\n",
        "\n",
        "1. Creation of the final training dataset by concatenating the two previously used datasets for training and validation.\n",
        "2. Saving the new dataset in CSV format."
      ]
    },
    {
      "cell_type": "code",
      "execution_count": null,
      "metadata": {
        "id": "jF0v-E8i7Yqn"
      },
      "outputs": [],
      "source": [
        "# Read data from CSV files\n",
        "train_data = pd.read_csv(TRAIN_PATH)\n",
        "val_data = pd.read_csv(VAL_PATH)\n",
        "\n",
        "# Merge the two DataFrames\n",
        "combined_data = pd.concat([train_data, val_data], ignore_index=True)\n",
        "\n",
        "# Shuffle the combined DataFrame\n",
        "shuffled_data = combined_data.sample(frac=1).reset_index(drop=True)\n",
        "\n",
        "# Save the combined and shuffled DataFrame to the specified path\n",
        "shuffled_data.to_csv(TRAIN_FINAL_PATH, index=False)"
      ]
    },
    {
      "cell_type": "code",
      "execution_count": null,
      "metadata": {
        "colab": {
          "base_uri": "https://localhost:8080/"
        },
        "id": "-LiqMCHHCZGl",
        "outputId": "e90d29f0-d427-46be-f356-3fd539719a61"
      },
      "outputs": [
        {
          "output_type": "stream",
          "name": "stderr",
          "text": [
            "/usr/lib/python3.10/multiprocessing/popen_fork.py:66: RuntimeWarning: os.fork() was called. os.fork() is incompatible with multithreaded code, and JAX is multithreaded, so this will likely lead to a deadlock.\n",
            "  self.pid = os.fork()\n"
          ]
        },
        {
          "output_type": "stream",
          "name": "stdout",
          "text": [
            "Read 26485 examples\n"
          ]
        }
      ],
      "source": [
        "batch_size = 512\n",
        "max_len = 128\n",
        "\n",
        "# Read the final training data from CSV\n",
        "final_train_data = pd.read_csv(TRAIN_FINAL_PATH)\n",
        "\n",
        "# Create a dataset for training using DistilBERTDataset\n",
        "final_train_set = DistilBERTDataset(final_train_data, max_len, model_name)\n",
        "\n",
        "# Create a DataLoader for the final training set\n",
        "final_train_dataloader = torch.utils.data.DataLoader(final_train_set, batch_size, shuffle=True, num_workers=2)"
      ]
    },
    {
      "cell_type": "markdown",
      "metadata": {
        "id": "UDdLk48g7S2w"
      },
      "source": [
        "# Training (Full Dataset)\n",
        "Training using the entire available dataset. During training, model loss and accuracy metrics are calculated and monitored. Additionally, model weights are saved after each epoch to allow for resumption and monitoring of training in case of interruptions."
      ]
    },
    {
      "cell_type": "code",
      "execution_count": null,
      "metadata": {
        "id": "VIFCYvgODsCT"
      },
      "outputs": [],
      "source": [
        "def train_loop(train_dataloader, startEpoch, numEpochs, model_conv, criterion, optimizer, outputPath, scheduler=None):\n",
        "    \"\"\"\n",
        "    Function to train a PyTorch model using a specified DataLoader for a number of epochs,\n",
        "    saving training metrics and model weights periodically.\n",
        "\n",
        "    Parameters:\n",
        "    - train_dataloader (torch.utils.data.DataLoader): DataLoader containing the training data.\n",
        "    - startEpoch (int): Starting epoch number for training.\n",
        "    - numEpochs (int): Total number of epochs to train the model.\n",
        "    - model_conv (torch.nn.Module): PyTorch model to be trained.\n",
        "    - criterion: Loss function to calculate the loss.\n",
        "    - optimizer: Optimization algorithm used for training.\n",
        "    - outputPath (str): Directory path to save training outputs (losses, accuracies, weights).\n",
        "    - scheduler (optional): Learning rate scheduler to adjust the learning rate during training.\n",
        "\n",
        "    Returns:\n",
        "    - None: Trains the model, saves training metrics and model weights, and prints training progress.\n",
        "    \"\"\"\n",
        "\n",
        "    train_files = ['lossTrain.txt', 'AccTrain.txt']\n",
        "    for filename in train_files:\n",
        "        filepath = os.path.join(outputPath, filename)\n",
        "        if os.path.exists(filepath):\n",
        "            os.remove(filepath)\n",
        "\n",
        "    for epoch in range(startEpoch, numEpochs + 1):\n",
        "        since = time.time()\n",
        "\n",
        "        modelLoss_train = 0.0\n",
        "        modelAcc_train = 0.0\n",
        "\n",
        "        model_conv.train()\n",
        "        totalSize = 0\n",
        "\n",
        "        # Training loop\n",
        "        for batch in tqdm(train_dataloader, total=len(train_dataloader), desc=f\"Epoch {epoch}/{numEpochs} - Training\"):\n",
        "            (inputs, valid_lens), attention_mask, labels = batch\n",
        "\n",
        "            inputs = inputs.to(device)\n",
        "            valid_lens = valid_lens.to(device)\n",
        "            attention_mask = attention_mask.to(device)\n",
        "            labels = labels.to(device)\n",
        "\n",
        "            optimizer.zero_grad()\n",
        "\n",
        "            # Forward pass\n",
        "            outputs = model_conv(inputs, attention_mask=attention_mask)\n",
        "            logits = outputs.logits                 # Access logits from the SequenceClassifierOutput object\n",
        "            loss = criterion(logits, labels)\n",
        "\n",
        "            # Backward pass and optimization\n",
        "            loss.backward()\n",
        "            optimizer.step()\n",
        "\n",
        "            modelLoss_train += loss.item() * inputs.size(0)\n",
        "            _, preds = torch.max(logits, 1)\n",
        "            modelAcc_train += (preds == labels).sum().item()\n",
        "            totalSize += inputs.size(0)\n",
        "\n",
        "        epoch_loss = modelLoss_train / totalSize\n",
        "        epoch_acc = modelAcc_train / totalSize\n",
        "\n",
        "        time_elapsed = time.time() - since\n",
        "        current_lr = optimizer.param_groups[0]['lr']\n",
        "\n",
        "        print('[Epoch %d][TRAIN on %d [Loss: %.4f  ACC: %.4f]][TIME: %.0f m %.0f s] [LR: %.5f]'\n",
        "              % (epoch, totalSize, epoch_loss, epoch_acc, time_elapsed // 60, time_elapsed % 60, current_lr))\n",
        "\n",
        "        # Save weights after each epoch, overwriting them\n",
        "        torch.save(model_conv.state_dict(), os.path.join(outputPath, 'weights.pth'))\n",
        "\n",
        "        with open(os.path.join(outputPath, 'lossTrain.txt'), 'a') as f:\n",
        "            f.write(f'{epoch_loss}\\n')\n",
        "        with open(os.path.join(outputPath, 'AccTrain.txt'), 'a') as f:\n",
        "            f.write(f'{epoch_acc}\\n')\n",
        "\n",
        "        if scheduler:\n",
        "            scheduler.step(epoch_loss)"
      ]
    },
    {
      "cell_type": "code",
      "execution_count": null,
      "metadata": {
        "id": "qjP1PGWVESYu"
      },
      "outputs": [],
      "source": [
        "device = torch.device(\"cuda\" if torch.cuda.is_available() else \"cpu\")"
      ]
    },
    {
      "cell_type": "code",
      "execution_count": null,
      "metadata": {
        "id": "UuGB3baRZ1yW"
      },
      "outputs": [],
      "source": [
        "# Updated hyperparameters\n",
        "learning_rate = 0.00085                                                         # Learning rate for the optimizer\n",
        "num_epochs = 45                                                                # Total number of epochs for training\n",
        "startEpoch = 1                                                                  # Initial epoch (useful for resuming interrupted training)\n",
        "best_acc = 0.0                                                                  # Initial best accuracy (to track the best model)\n",
        "best_loss = float('inf')                                                        # Initial best loss (to track the best model)\n",
        "best_epoch = -1                                                                 # Epoch corresponding to the best saved model"
      ]
    },
    {
      "cell_type": "markdown",
      "metadata": {
        "id": "cW7exvKJeFlX"
      },
      "source": [
        "**Preparing the model for training**\n",
        "\n",
        "1. Selection of the loss function (CrossEntropy) and optimizer (AdamW)"
      ]
    },
    {
      "cell_type": "code",
      "execution_count": null,
      "metadata": {
        "id": "SFLzjRYQELVZ"
      },
      "outputs": [],
      "source": [
        "# Define criterion and optimizer\n",
        "criterion = nn.CrossEntropyLoss().to(device)\n",
        "optimizer = AdamW(model.parameters(), lr=learning_rate, correct_bias=False)"
      ]
    },
    {
      "cell_type": "code",
      "execution_count": null,
      "metadata": {
        "colab": {
          "base_uri": "https://localhost:8080/"
        },
        "id": "7-YdLQOnEMw1",
        "outputId": "d80c9045-3281-4a4b-8884-0ef60a6f8615"
      },
      "outputs": [
        {
          "name": "stderr",
          "output_type": "stream",
          "text": [
            "Epoch 1/45 - Training: 100%|██████████| 52/52 [01:30<00:00,  1.74s/it]\n"
          ]
        },
        {
          "name": "stdout",
          "output_type": "stream",
          "text": [
            "[Epoch 1][TRAIN on 26485 [Loss: 0.3843  ACC: 0.9255]][TIME: 1 m 31 s] [LR: 0.00085]\n"
          ]
        },
        {
          "name": "stderr",
          "output_type": "stream",
          "text": [
            "Epoch 2/45 - Training: 100%|██████████| 52/52 [01:30<00:00,  1.74s/it]\n"
          ]
        },
        {
          "name": "stdout",
          "output_type": "stream",
          "text": [
            "[Epoch 2][TRAIN on 26485 [Loss: 0.3768  ACC: 0.9351]][TIME: 1 m 30 s] [LR: 0.00085]\n"
          ]
        },
        {
          "name": "stderr",
          "output_type": "stream",
          "text": [
            "Epoch 3/45 - Training: 100%|██████████| 52/52 [01:30<00:00,  1.74s/it]\n"
          ]
        },
        {
          "name": "stdout",
          "output_type": "stream",
          "text": [
            "[Epoch 3][TRAIN on 26485 [Loss: 0.3771  ACC: 0.9339]][TIME: 1 m 30 s] [LR: 0.00085]\n"
          ]
        },
        {
          "name": "stderr",
          "output_type": "stream",
          "text": [
            "Epoch 4/45 - Training: 100%|██████████| 52/52 [01:30<00:00,  1.74s/it]\n"
          ]
        },
        {
          "name": "stdout",
          "output_type": "stream",
          "text": [
            "[Epoch 4][TRAIN on 26485 [Loss: 0.3754  ACC: 0.9365]][TIME: 1 m 30 s] [LR: 0.00085]\n"
          ]
        },
        {
          "name": "stderr",
          "output_type": "stream",
          "text": [
            "Epoch 5/45 - Training: 100%|██████████| 52/52 [01:30<00:00,  1.74s/it]\n"
          ]
        },
        {
          "name": "stdout",
          "output_type": "stream",
          "text": [
            "[Epoch 5][TRAIN on 26485 [Loss: 0.3759  ACC: 0.9343]][TIME: 1 m 30 s] [LR: 0.00085]\n"
          ]
        },
        {
          "name": "stderr",
          "output_type": "stream",
          "text": [
            "Epoch 6/45 - Training: 100%|██████████| 52/52 [01:30<00:00,  1.73s/it]\n"
          ]
        },
        {
          "name": "stdout",
          "output_type": "stream",
          "text": [
            "[Epoch 6][TRAIN on 26485 [Loss: 0.3732  ACC: 0.9380]][TIME: 1 m 30 s] [LR: 0.00085]\n"
          ]
        },
        {
          "name": "stderr",
          "output_type": "stream",
          "text": [
            "Epoch 7/45 - Training: 100%|██████████| 52/52 [01:30<00:00,  1.74s/it]\n"
          ]
        },
        {
          "name": "stdout",
          "output_type": "stream",
          "text": [
            "[Epoch 7][TRAIN on 26485 [Loss: 0.3699  ACC: 0.9417]][TIME: 1 m 30 s] [LR: 0.00085]\n"
          ]
        },
        {
          "name": "stderr",
          "output_type": "stream",
          "text": [
            "Epoch 8/45 - Training: 100%|██████████| 52/52 [01:30<00:00,  1.74s/it]\n"
          ]
        },
        {
          "name": "stdout",
          "output_type": "stream",
          "text": [
            "[Epoch 8][TRAIN on 26485 [Loss: 0.3692  ACC: 0.9430]][TIME: 1 m 31 s] [LR: 0.00085]\n"
          ]
        },
        {
          "name": "stderr",
          "output_type": "stream",
          "text": [
            "Epoch 9/45 - Training: 100%|██████████| 52/52 [01:30<00:00,  1.74s/it]\n"
          ]
        },
        {
          "name": "stdout",
          "output_type": "stream",
          "text": [
            "[Epoch 9][TRAIN on 26485 [Loss: 0.3680  ACC: 0.9436]][TIME: 1 m 30 s] [LR: 0.00085]\n"
          ]
        },
        {
          "name": "stderr",
          "output_type": "stream",
          "text": [
            "Epoch 10/45 - Training: 100%|██████████| 52/52 [01:30<00:00,  1.73s/it]\n"
          ]
        },
        {
          "name": "stdout",
          "output_type": "stream",
          "text": [
            "[Epoch 10][TRAIN on 26485 [Loss: 0.3702  ACC: 0.9409]][TIME: 1 m 30 s] [LR: 0.00085]\n"
          ]
        },
        {
          "name": "stderr",
          "output_type": "stream",
          "text": [
            "Epoch 11/45 - Training: 100%|██████████| 52/52 [01:30<00:00,  1.74s/it]\n"
          ]
        },
        {
          "name": "stdout",
          "output_type": "stream",
          "text": [
            "[Epoch 11][TRAIN on 26485 [Loss: 0.3681  ACC: 0.9440]][TIME: 1 m 31 s] [LR: 0.00085]\n"
          ]
        },
        {
          "name": "stderr",
          "output_type": "stream",
          "text": [
            "Epoch 12/45 - Training: 100%|██████████| 52/52 [01:30<00:00,  1.74s/it]\n"
          ]
        },
        {
          "name": "stdout",
          "output_type": "stream",
          "text": [
            "[Epoch 12][TRAIN on 26485 [Loss: 0.3699  ACC: 0.9411]][TIME: 1 m 31 s] [LR: 0.00085]\n"
          ]
        },
        {
          "name": "stderr",
          "output_type": "stream",
          "text": [
            "Epoch 13/45 - Training: 100%|██████████| 52/52 [01:30<00:00,  1.74s/it]\n"
          ]
        },
        {
          "name": "stdout",
          "output_type": "stream",
          "text": [
            "[Epoch 13][TRAIN on 26485 [Loss: 0.3683  ACC: 0.9436]][TIME: 1 m 30 s] [LR: 0.00085]\n"
          ]
        },
        {
          "name": "stderr",
          "output_type": "stream",
          "text": [
            "Epoch 14/45 - Training: 100%|██████████| 52/52 [01:30<00:00,  1.74s/it]\n"
          ]
        },
        {
          "name": "stdout",
          "output_type": "stream",
          "text": [
            "[Epoch 14][TRAIN on 26485 [Loss: 0.3665  ACC: 0.9452]][TIME: 1 m 30 s] [LR: 0.00085]\n"
          ]
        },
        {
          "name": "stderr",
          "output_type": "stream",
          "text": [
            "Epoch 15/45 - Training: 100%|██████████| 52/52 [01:30<00:00,  1.74s/it]\n"
          ]
        },
        {
          "name": "stdout",
          "output_type": "stream",
          "text": [
            "[Epoch 15][TRAIN on 26485 [Loss: 0.3666  ACC: 0.9455]][TIME: 1 m 30 s] [LR: 0.00085]\n"
          ]
        },
        {
          "name": "stderr",
          "output_type": "stream",
          "text": [
            "Epoch 16/45 - Training: 100%|██████████| 52/52 [01:30<00:00,  1.74s/it]\n"
          ]
        },
        {
          "name": "stdout",
          "output_type": "stream",
          "text": [
            "[Epoch 16][TRAIN on 26485 [Loss: 0.3646  ACC: 0.9469]][TIME: 1 m 31 s] [LR: 0.00085]\n"
          ]
        },
        {
          "name": "stderr",
          "output_type": "stream",
          "text": [
            "Epoch 17/45 - Training: 100%|██████████| 52/52 [01:30<00:00,  1.74s/it]\n"
          ]
        },
        {
          "name": "stdout",
          "output_type": "stream",
          "text": [
            "[Epoch 17][TRAIN on 26485 [Loss: 0.3655  ACC: 0.9468]][TIME: 1 m 30 s] [LR: 0.00085]\n"
          ]
        },
        {
          "name": "stderr",
          "output_type": "stream",
          "text": [
            "Epoch 18/45 - Training: 100%|██████████| 52/52 [01:30<00:00,  1.74s/it]\n"
          ]
        },
        {
          "name": "stdout",
          "output_type": "stream",
          "text": [
            "[Epoch 18][TRAIN on 26485 [Loss: 0.3643  ACC: 0.9474]][TIME: 1 m 31 s] [LR: 0.00085]\n"
          ]
        },
        {
          "name": "stderr",
          "output_type": "stream",
          "text": [
            "Epoch 19/45 - Training: 100%|██████████| 52/52 [01:30<00:00,  1.73s/it]\n"
          ]
        },
        {
          "name": "stdout",
          "output_type": "stream",
          "text": [
            "[Epoch 19][TRAIN on 26485 [Loss: 0.3657  ACC: 0.9459]][TIME: 1 m 30 s] [LR: 0.00085]\n"
          ]
        },
        {
          "name": "stderr",
          "output_type": "stream",
          "text": [
            "Epoch 20/45 - Training: 100%|██████████| 52/52 [01:30<00:00,  1.73s/it]\n"
          ]
        },
        {
          "name": "stdout",
          "output_type": "stream",
          "text": [
            "[Epoch 20][TRAIN on 26485 [Loss: 0.3644  ACC: 0.9470]][TIME: 1 m 30 s] [LR: 0.00085]\n"
          ]
        },
        {
          "name": "stderr",
          "output_type": "stream",
          "text": [
            "Epoch 21/45 - Training: 100%|██████████| 52/52 [01:30<00:00,  1.73s/it]\n"
          ]
        },
        {
          "name": "stdout",
          "output_type": "stream",
          "text": [
            "[Epoch 21][TRAIN on 26485 [Loss: 0.3641  ACC: 0.9482]][TIME: 1 m 30 s] [LR: 0.00085]\n"
          ]
        },
        {
          "name": "stderr",
          "output_type": "stream",
          "text": [
            "Epoch 22/45 - Training: 100%|██████████| 52/52 [01:30<00:00,  1.73s/it]\n"
          ]
        },
        {
          "name": "stdout",
          "output_type": "stream",
          "text": [
            "[Epoch 22][TRAIN on 26485 [Loss: 0.3650  ACC: 0.9471]][TIME: 1 m 30 s] [LR: 0.00085]\n"
          ]
        },
        {
          "name": "stderr",
          "output_type": "stream",
          "text": [
            "Epoch 23/45 - Training: 100%|██████████| 52/52 [01:30<00:00,  1.73s/it]\n"
          ]
        },
        {
          "name": "stdout",
          "output_type": "stream",
          "text": [
            "[Epoch 23][TRAIN on 26485 [Loss: 0.3639  ACC: 0.9484]][TIME: 1 m 30 s] [LR: 0.00085]\n"
          ]
        },
        {
          "name": "stderr",
          "output_type": "stream",
          "text": [
            "Epoch 24/45 - Training: 100%|██████████| 52/52 [01:30<00:00,  1.73s/it]\n"
          ]
        },
        {
          "name": "stdout",
          "output_type": "stream",
          "text": [
            "[Epoch 24][TRAIN on 26485 [Loss: 0.3636  ACC: 0.9488]][TIME: 1 m 30 s] [LR: 0.00085]\n"
          ]
        },
        {
          "name": "stderr",
          "output_type": "stream",
          "text": [
            "Epoch 25/45 - Training: 100%|██████████| 52/52 [01:30<00:00,  1.73s/it]\n"
          ]
        },
        {
          "name": "stdout",
          "output_type": "stream",
          "text": [
            "[Epoch 25][TRAIN on 26485 [Loss: 0.3621  ACC: 0.9502]][TIME: 1 m 30 s] [LR: 0.00085]\n"
          ]
        },
        {
          "name": "stderr",
          "output_type": "stream",
          "text": [
            "Epoch 26/45 - Training: 100%|██████████| 52/52 [01:30<00:00,  1.73s/it]\n"
          ]
        },
        {
          "name": "stdout",
          "output_type": "stream",
          "text": [
            "[Epoch 26][TRAIN on 26485 [Loss: 0.3629  ACC: 0.9485]][TIME: 1 m 30 s] [LR: 0.00085]\n"
          ]
        },
        {
          "name": "stderr",
          "output_type": "stream",
          "text": [
            "Epoch 27/45 - Training: 100%|██████████| 52/52 [01:30<00:00,  1.73s/it]\n"
          ]
        },
        {
          "name": "stdout",
          "output_type": "stream",
          "text": [
            "[Epoch 27][TRAIN on 26485 [Loss: 0.3622  ACC: 0.9500]][TIME: 1 m 30 s] [LR: 0.00085]\n"
          ]
        },
        {
          "name": "stderr",
          "output_type": "stream",
          "text": [
            "Epoch 28/45 - Training: 100%|██████████| 52/52 [01:30<00:00,  1.74s/it]\n"
          ]
        },
        {
          "name": "stdout",
          "output_type": "stream",
          "text": [
            "[Epoch 28][TRAIN on 26485 [Loss: 0.3622  ACC: 0.9498]][TIME: 1 m 30 s] [LR: 0.00085]\n"
          ]
        },
        {
          "name": "stderr",
          "output_type": "stream",
          "text": [
            "Epoch 29/45 - Training: 100%|██████████| 52/52 [01:30<00:00,  1.74s/it]\n"
          ]
        },
        {
          "name": "stdout",
          "output_type": "stream",
          "text": [
            "[Epoch 29][TRAIN on 26485 [Loss: 0.3613  ACC: 0.9506]][TIME: 1 m 30 s] [LR: 0.00085]\n"
          ]
        },
        {
          "name": "stderr",
          "output_type": "stream",
          "text": [
            "Epoch 30/45 - Training: 100%|██████████| 52/52 [01:30<00:00,  1.73s/it]\n"
          ]
        },
        {
          "name": "stdout",
          "output_type": "stream",
          "text": [
            "[Epoch 30][TRAIN on 26485 [Loss: 0.3618  ACC: 0.9510]][TIME: 1 m 30 s] [LR: 0.00085]\n"
          ]
        },
        {
          "name": "stderr",
          "output_type": "stream",
          "text": [
            "Epoch 31/45 - Training: 100%|██████████| 52/52 [01:30<00:00,  1.73s/it]\n"
          ]
        },
        {
          "name": "stdout",
          "output_type": "stream",
          "text": [
            "[Epoch 31][TRAIN on 26485 [Loss: 0.3624  ACC: 0.9495]][TIME: 1 m 30 s] [LR: 0.00085]\n"
          ]
        },
        {
          "name": "stderr",
          "output_type": "stream",
          "text": [
            "Epoch 32/45 - Training: 100%|██████████| 52/52 [01:30<00:00,  1.73s/it]\n"
          ]
        },
        {
          "name": "stdout",
          "output_type": "stream",
          "text": [
            "[Epoch 32][TRAIN on 26485 [Loss: 0.3614  ACC: 0.9504]][TIME: 1 m 30 s] [LR: 0.00085]\n"
          ]
        },
        {
          "name": "stderr",
          "output_type": "stream",
          "text": [
            "Epoch 33/45 - Training: 100%|██████████| 52/52 [01:30<00:00,  1.73s/it]\n"
          ]
        },
        {
          "name": "stdout",
          "output_type": "stream",
          "text": [
            "[Epoch 33][TRAIN on 26485 [Loss: 0.3609  ACC: 0.9520]][TIME: 1 m 30 s] [LR: 0.00085]\n"
          ]
        },
        {
          "name": "stderr",
          "output_type": "stream",
          "text": [
            "Epoch 34/45 - Training: 100%|██████████| 52/52 [01:30<00:00,  1.73s/it]\n"
          ]
        },
        {
          "name": "stdout",
          "output_type": "stream",
          "text": [
            "[Epoch 34][TRAIN on 26485 [Loss: 0.3616  ACC: 0.9505]][TIME: 1 m 30 s] [LR: 0.00085]\n"
          ]
        },
        {
          "name": "stderr",
          "output_type": "stream",
          "text": [
            "Epoch 35/45 - Training: 100%|██████████| 52/52 [01:30<00:00,  1.73s/it]\n"
          ]
        },
        {
          "name": "stdout",
          "output_type": "stream",
          "text": [
            "[Epoch 35][TRAIN on 26485 [Loss: 0.3602  ACC: 0.9519]][TIME: 1 m 30 s] [LR: 0.00085]\n"
          ]
        },
        {
          "name": "stderr",
          "output_type": "stream",
          "text": [
            "Epoch 36/45 - Training: 100%|██████████| 52/52 [01:30<00:00,  1.73s/it]\n"
          ]
        },
        {
          "name": "stdout",
          "output_type": "stream",
          "text": [
            "[Epoch 36][TRAIN on 26485 [Loss: 0.3589  ACC: 0.9536]][TIME: 1 m 30 s] [LR: 0.00085]\n"
          ]
        },
        {
          "name": "stderr",
          "output_type": "stream",
          "text": [
            "Epoch 37/45 - Training: 100%|██████████| 52/52 [01:30<00:00,  1.73s/it]\n"
          ]
        },
        {
          "name": "stdout",
          "output_type": "stream",
          "text": [
            "[Epoch 37][TRAIN on 26485 [Loss: 0.3591  ACC: 0.9536]][TIME: 1 m 30 s] [LR: 0.00085]\n"
          ]
        },
        {
          "name": "stderr",
          "output_type": "stream",
          "text": [
            "Epoch 38/45 - Training: 100%|██████████| 52/52 [01:30<00:00,  1.73s/it]\n"
          ]
        },
        {
          "name": "stdout",
          "output_type": "stream",
          "text": [
            "[Epoch 38][TRAIN on 26485 [Loss: 0.3597  ACC: 0.9519]][TIME: 1 m 30 s] [LR: 0.00085]\n"
          ]
        },
        {
          "name": "stderr",
          "output_type": "stream",
          "text": [
            "Epoch 39/45 - Training: 100%|██████████| 52/52 [01:30<00:00,  1.73s/it]\n"
          ]
        },
        {
          "name": "stdout",
          "output_type": "stream",
          "text": [
            "[Epoch 39][TRAIN on 26485 [Loss: 0.3593  ACC: 0.9532]][TIME: 1 m 30 s] [LR: 0.00085]\n"
          ]
        },
        {
          "name": "stderr",
          "output_type": "stream",
          "text": [
            "Epoch 40/45 - Training: 100%|██████████| 52/52 [01:30<00:00,  1.73s/it]\n"
          ]
        },
        {
          "name": "stdout",
          "output_type": "stream",
          "text": [
            "[Epoch 40][TRAIN on 26485 [Loss: 0.3592  ACC: 0.9530]][TIME: 1 m 30 s] [LR: 0.00085]\n"
          ]
        },
        {
          "name": "stderr",
          "output_type": "stream",
          "text": [
            "Epoch 41/45 - Training: 100%|██████████| 52/52 [01:30<00:00,  1.73s/it]\n"
          ]
        },
        {
          "name": "stdout",
          "output_type": "stream",
          "text": [
            "[Epoch 41][TRAIN on 26485 [Loss: 0.3583  ACC: 0.9542]][TIME: 1 m 30 s] [LR: 0.00085]\n"
          ]
        },
        {
          "name": "stderr",
          "output_type": "stream",
          "text": [
            "Epoch 42/45 - Training: 100%|██████████| 52/52 [01:30<00:00,  1.73s/it]\n"
          ]
        },
        {
          "name": "stdout",
          "output_type": "stream",
          "text": [
            "[Epoch 42][TRAIN on 26485 [Loss: 0.3588  ACC: 0.9540]][TIME: 1 m 30 s] [LR: 0.00085]\n"
          ]
        },
        {
          "name": "stderr",
          "output_type": "stream",
          "text": [
            "Epoch 43/45 - Training: 100%|██████████| 52/52 [01:30<00:00,  1.73s/it]\n"
          ]
        },
        {
          "name": "stdout",
          "output_type": "stream",
          "text": [
            "[Epoch 43][TRAIN on 26485 [Loss: 0.3593  ACC: 0.9530]][TIME: 1 m 30 s] [LR: 0.00085]\n"
          ]
        },
        {
          "name": "stderr",
          "output_type": "stream",
          "text": [
            "Epoch 44/45 - Training: 100%|██████████| 52/52 [01:30<00:00,  1.73s/it]\n"
          ]
        },
        {
          "name": "stdout",
          "output_type": "stream",
          "text": [
            "[Epoch 44][TRAIN on 26485 [Loss: 0.3586  ACC: 0.9539]][TIME: 1 m 30 s] [LR: 0.00085]\n"
          ]
        },
        {
          "name": "stderr",
          "output_type": "stream",
          "text": [
            "Epoch 45/45 - Training: 100%|██████████| 52/52 [01:30<00:00,  1.73s/it]\n"
          ]
        },
        {
          "name": "stdout",
          "output_type": "stream",
          "text": [
            "[Epoch 45][TRAIN on 26485 [Loss: 0.3589  ACC: 0.9534]][TIME: 1 m 30 s] [LR: 0.00085]\n"
          ]
        }
      ],
      "source": [
        "# Call the training function\n",
        "train_loop(final_train_dataloader, startEpoch, num_epochs, model, criterion, optimizer, BEST_WEIGHT_PATH)"
      ]
    },
    {
      "cell_type": "markdown",
      "metadata": {
        "id": "u9YkryN5BoFp"
      },
      "source": [
        "# Testing\n",
        "Loading data for testing and evaluating the model with a confusion matrix visualization\n"
      ]
    },
    {
      "cell_type": "code",
      "execution_count": null,
      "metadata": {
        "colab": {
          "base_uri": "https://localhost:8080/"
        },
        "id": "nVwqq6KRYGMv",
        "outputId": "d4a9752a-7590-4098-862a-07717edcc1cb"
      },
      "outputs": [
        {
          "output_type": "stream",
          "name": "stderr",
          "text": [
            "Some weights of DistilBertForSequenceClassification were not initialized from the model checkpoint at distilbert-base-uncased and are newly initialized: ['classifier.bias', 'classifier.weight', 'pre_classifier.bias', 'pre_classifier.weight']\n",
            "You should probably TRAIN this model on a down-stream task to be able to use it for predictions and inference.\n"
          ]
        }
      ],
      "source": [
        "model_name = 'distilbert-base-uncased'\n",
        "model = DistilBertForSequenceClassification.from_pretrained(model_name, num_labels=2).to(device)\n",
        "\n",
        "# Replace the last layer for binary classification\n",
        "num_ftrs = model.classifier.out_features  # Number of output features from the penultimate layer\n",
        "# Replace the classifier layer\n",
        "model.classifier = nn.Sequential( nn.ReLU(),\n",
        "                                  nn.Dropout(0.2),\n",
        "                                  nn.Linear(model.classifier.in_features, 2).to(device),\n",
        "                                  nn.Softmax(dim=1)\n",
        "                                  )\n",
        "# Define criterion\n",
        "criterion = nn.CrossEntropyLoss().to(device)          # Choose CrossEntropy as the loss function"
      ]
    },
    {
      "cell_type": "code",
      "execution_count": null,
      "metadata": {
        "colab": {
          "base_uri": "https://localhost:8080/"
        },
        "id": "tCHroCKhCguZ",
        "outputId": "3a25f994-53be-4fe4-d461-98fe220ee84c"
      },
      "outputs": [
        {
          "output_type": "stream",
          "name": "stderr",
          "text": [
            "/usr/lib/python3.10/multiprocessing/popen_fork.py:66: RuntimeWarning: os.fork() was called. os.fork() is incompatible with multithreaded code, and JAX is multithreaded, so this will likely lead to a deadlock.\n",
            "  self.pid = os.fork()\n"
          ]
        },
        {
          "output_type": "stream",
          "name": "stdout",
          "text": [
            "Read 6622 examples\n"
          ]
        }
      ],
      "source": [
        "batch_size = 512\n",
        "max_len = 128\n",
        "\n",
        "test_data = pd.read_csv(TEST_PATH)\n",
        "test_set = DistilBERTDataset(test_data, max_len, model_name)\n",
        "test_dataloader = torch.utils.data.DataLoader(test_set, batch_size, shuffle=True,num_workers=2)"
      ]
    },
    {
      "cell_type": "code",
      "execution_count": null,
      "metadata": {
        "id": "KYRIiENLy2XY"
      },
      "outputs": [],
      "source": [
        "def test_model(model, model_name, test_dataloader, best_weights_path, device):\n",
        "    \"\"\"\n",
        "    Evaluate a PyTorch model on test data and display evaluation metrics.\n",
        "\n",
        "    Parameters:\n",
        "    - model (torch.nn.Module): The PyTorch model to evaluate.\n",
        "    - test_dataloader (torch.utils.data.DataLoader): DataLoader containing the test data.\n",
        "    - best_weights_path (str): Path to the directory containing the best model weights.\n",
        "    - device (torch.device): Device on which to perform the evaluation (e.g., 'cuda' or 'cpu').\n",
        "\n",
        "    Returns:\n",
        "    - None: Prints accuracy, confusion matrix, and examples of incorrectly classified instances.\n",
        "    \"\"\"\n",
        "\n",
        "    tokenizer = DistilBertTokenizer.from_pretrained(model_name)\n",
        "\n",
        "    # Load the model weights\n",
        "    model.load_state_dict(torch.load(best_weights_path + '/weights.pth'))\n",
        "    model.to(device)  # Ensure the model is on the correct device\n",
        "    model.eval()  # Set the model to evaluation mode\n",
        "\n",
        "    all_preds = []\n",
        "    all_labels = []\n",
        "\n",
        "    wrong_pred_ham = []           # List of incorrectly classified ham instances\n",
        "    wrong_seq_ham = []\n",
        "    wrong_prob_ham = []\n",
        "    wrong_pred_spam = []          # List of incorrectly classified spam instances\n",
        "    wrong_seq_spam = []\n",
        "    wrong_prob_spam = []\n",
        "\n",
        "    # Disable gradient calculations for evaluation\n",
        "    with torch.no_grad():\n",
        "        for data in test_dataloader:\n",
        "            inputs, attention_mask, labels = data\n",
        "            input_ids, valid_lens = inputs\n",
        "            input_ids, valid_lens, labels = input_ids.to(device), valid_lens.to(device), labels.to(device)\n",
        "            attention_mask = attention_mask.to(device)\n",
        "\n",
        "            outputs = model(input_ids, attention_mask=attention_mask)\n",
        "            logits = outputs.logits\n",
        "            _, preds = torch.max(logits, 1)\n",
        "\n",
        "            all_preds.extend(preds.cpu().numpy())\n",
        "            all_labels.extend(labels.cpu().numpy())\n",
        "\n",
        "            for i in range(len(labels)):\n",
        "                if preds[i] != labels[i]:\n",
        "                    if labels[i] == 0:\n",
        "                        wrong_pred_ham.append(input_ids[i].cpu().numpy())\n",
        "                        wrong_seq_ham.append(tokenizer.convert_tokens_to_string(tokenizer.convert_ids_to_tokens(input_ids[i])))\n",
        "                        wrong_prob_ham.append(logits[i].cpu().numpy())\n",
        "                    elif labels[i] == 1:\n",
        "                        wrong_pred_spam.append(input_ids[i].cpu().numpy())\n",
        "                        wrong_seq_spam.append(tokenizer.convert_tokens_to_string(tokenizer.convert_ids_to_tokens(input_ids[i])))\n",
        "                        wrong_prob_spam.append(logits[i].cpu().numpy())\n",
        "\n",
        "    # Calculate accuracy metrics\n",
        "    accuracy = accuracy_score(all_labels, all_preds)\n",
        "\n",
        "    print(f'Accuracy: {accuracy:.4f}')\n",
        "\n",
        "    # Calculate the confusion matrix\n",
        "    cm = confusion_matrix(all_labels, all_preds)\n",
        "\n",
        "    # Display the confusion matrix\n",
        "    plt.figure(figsize=(10, 7))\n",
        "    sns.heatmap(cm, annot=True, fmt='d', cmap='Blues', xticklabels=True, yticklabels=True)\n",
        "    plt.xlabel('Predicted')\n",
        "    plt.ylabel('True')\n",
        "    plt.title('Confusion Matrix')\n",
        "    plt.show()\n",
        "\n",
        "    # Display some of the incorrectly classified instances\n",
        "    print(\"Wrong predictions, true class HAM:\")\n",
        "    print(f\"      -----------------------------------     \")\n",
        "    for i in range(min(5, len(wrong_pred_ham))):\n",
        "        print(f\"  Wrong prediction {i}: predicted probability  = {wrong_prob_ham[i]}\")\n",
        "        print(f\"    input: {wrong_pred_ham[i]}\")\n",
        "        print(f\"    original sequence: {wrong_seq_ham[i]}\")\n",
        "        print(f\"      -----------------------------------     \")\n",
        "\n",
        "    print(\"\\nWrong predictions, true class SPAM:\")\n",
        "    print(f\"      -----------------------------------     \")\n",
        "    for i in range(min(5, len(wrong_pred_spam))):\n",
        "        print(f\"  Wrong prediction {i}: predicted probability = {wrong_prob_spam[i]}\")\n",
        "        print(f\"    input: {wrong_pred_spam[i]}\")\n",
        "        print(f\"    original sequence: {wrong_seq_spam[i]}\")\n",
        "        print(f\"      -----------------------------------     \")\n"
      ]
    },
    {
      "cell_type": "code",
      "execution_count": null,
      "metadata": {
        "colab": {
          "base_uri": "https://localhost:8080/",
          "height": 1000
        },
        "id": "uWTaaFJceLat",
        "outputId": "f467c126-3cb2-45fd-e4aa-570c1fb7da91"
      },
      "outputs": [
        {
          "output_type": "stream",
          "name": "stdout",
          "text": [
            "Accuracy: 0.9650\n"
          ]
        },
        {
          "output_type": "display_data",
          "data": {
            "text/plain": [
              "<Figure size 1000x700 with 2 Axes>"
            ],
            "image/png": "[encoded data removed]"
          },
          "metadata": {}
        },
        {
          "output_type": "stream",
          "name": "stdout",
          "text": [
            "Wrong predictions, true class HAM:\n",
            "      -----------------------------------     \n",
            "  Wrong prediction 0: predicted probability  = [4.6301786e-05 9.9995375e-01]\n",
            "    input: [ 2489  2397  1001  1001  1060  2175  8299  7479  4511  1001  1001 26718\n",
            "  4012  7276 22956  1035 19400  1035  8816  4511  1001  1001 26718  1019\n",
            "  1039  3298  1035 19400  1035  3953  1035 19400  1035  3931  8816 11562\n",
            "  1035 19400  1035  2771  1001  1001  1047  2102  1001  1001  4654  2188\n",
            "  3931 11562  1035 19400  1035  2771  1001  1001  1047  2102  1001  1001\n",
            "  4654  1016  1014  1035 19400  1035  8816  1035 19400  1035  1035 19400\n",
            "  1035 12944 14101  5371  2089  2036  2215  8816  2771  1001  1001  1047\n",
            "  2102  1001  1001  4654  1016  1014  6410 11135  4895  1001  1001  1062\n",
            "  2072  1001  1001  1052  1035 19400  1035  1035 19400  1035  5371  1035\n",
            " 19400  1035  3582  1035 19400  1035  3357 12685  1035 19400  1035  2771\n",
            "  1001  1001  1047  2102  1001  1001     0     0]\n",
            "    original sequence: free late # # x go http www wine # # dt com select downloads _ connector _ download wine # # dt 5 c drive _ connector _ bottom _ connector _ page download click _ connector _ mi # # kt # # ex home page click _ connector _ mi # # kt # # ex 2 0 _ connector _ download _ connector _ _ connector _ highlight zip file may also want download mi # # kt # # ex 2 0 manual pdf un # # zi # # p _ connector _ _ connector _ file _ connector _ follow _ connector _ step outline _ connector _ mi # # kt # # [PAD] [PAD]\n",
            "      -----------------------------------     \n",
            "  Wrong prediction 1: predicted probability  = [0.03966051 0.96033955]\n",
            "    input: [13075  2260  2654  5890  4998  3671  3439  5285 13058  8746  1020  3461\n",
            " 11176  1016  3461  2637  5986  1017  3461  7886  1023  3461  3806 13075\n",
            "  4720  1023  3461  4583  1018  3461 26226  1001  1001 12098  2265  2258\n",
            "  6185  2312  3891  2603  3461  2373 13075  2753  1019  3461  4720  6255\n",
            "  3461     0     0     0     0     0     0     0     0     0     0     0\n",
            "     0     0     0     0     0     0     0     0     0     0     0     0\n",
            "     0     0     0     0     0     0     0     0     0     0     0     0\n",
            "     0     0     0     0     0     0     0     0     0     0     0     0\n",
            "     0     0     0     0     0     0     0     0     0     0     0     0\n",
            "     0     0     0     0     0     0     0     0     0     0     0     0\n",
            "     0     0     0     0     0     0     0     0]\n",
            "    original sequence: var 12 28 01 aside normal historical vol corp 105 6 mm 112 2 mm america 96 3 mm 101 9 mm gas var 52 9 mm 55 4 mm cv # # ar show april 02 large risk 23 mm power var 50 5 mm 52 77 mm [PAD] [PAD] [PAD] [PAD] [PAD] [PAD] [PAD] [PAD] [PAD] [PAD] [PAD] [PAD] [PAD] [PAD] [PAD] [PAD] [PAD] [PAD] [PAD] [PAD] [PAD] [PAD] [PAD] [PAD] [PAD] [PAD] [PAD] [PAD] [PAD] [PAD] [PAD] [PAD] [PAD] [PAD] [PAD] [PAD] [PAD] [PAD] [PAD] [PAD] [PAD] [PAD] [PAD] [PAD] [PAD] [PAD] [PAD] [PAD] [PAD] [PAD] [PAD] [PAD] [PAD] [PAD] [PAD] [PAD] [PAD] [PAD] [PAD] [PAD] [PAD] [PAD] [PAD] [PAD] [PAD] [PAD] [PAD] [PAD] [PAD] [PAD] [PAD] [PAD] [PAD] [PAD] [PAD] [PAD] [PAD] [PAD] [PAD]\n",
            "      -----------------------------------     \n",
            "  Wrong prediction 2: predicted probability  = [0.07564889 0.9243511 ]\n",
            "    input: [ 2940  1001  1001 10488  2080  1001  1001  2149  2202  3371  1035 19400\n",
            "  1035  2655  5385  5401  1001  1001  1022  6356  1001  1001  5187  1035\n",
            " 19400  1035  4952  1035 19400  1035 17021  1035 19400  1035  2829 14333\n",
            "  9098  2194  1035 19400  1035  2391  3198  7276  5331  6865  2585  1001\n",
            "  1001  1999  2063  1001  1001 17710 28144  1001  1001 16417  1001  1001\n",
            " 23969  2063  1056  1001  1001 17170  1001  1001  1048  4012     0     0\n",
            "     0     0     0     0     0     0     0     0     0     0     0     0\n",
            "     0     0     0     0     0     0     0     0     0     0     0     0\n",
            "     0     0     0     0     0     0     0     0     0     0     0     0\n",
            "     0     0     0     0     0     0     0     0     0     0     0     0\n",
            "     0     0     0     0     0     0     0     0]\n",
            "    original sequence: hill # # ario # # us take minute _ connector _ call 800 57 # # 8 74 # # 53 _ connector _ listen _ connector _ greet _ connector _ brown williamson tobacco company _ connector _ point ask select extension hang david # # ine # # ke dh # # ein # # eke t # # tee # # l com [PAD] [PAD] [PAD] [PAD] [PAD] [PAD] [PAD] [PAD] [PAD] [PAD] [PAD] [PAD] [PAD] [PAD] [PAD] [PAD] [PAD] [PAD] [PAD] [PAD] [PAD] [PAD] [PAD] [PAD] [PAD] [PAD] [PAD] [PAD] [PAD] [PAD] [PAD] [PAD] [PAD] [PAD] [PAD] [PAD] [PAD] [PAD] [PAD] [PAD] [PAD] [PAD] [PAD] [PAD] [PAD] [PAD] [PAD] [PAD] [PAD] [PAD] [PAD] [PAD] [PAD] [PAD] [PAD] [PAD] [PAD] [PAD]\n",
            "      -----------------------------------     \n",
            "  Wrong prediction 3: predicted probability  = [0.02780153 0.9721985 ]\n",
            "    input: [ 2188  3931  2047  3891  5576  8299  7479  9409  1001  1001  2057  1001\n",
            "  1001  1038  4012  2188  7570  1001  1001 18720  1050  1001  1001  1042\n",
            "  1001  1001  2079  6203  6320  3246  1035 19400  1035  2092  2408  1035\n",
            " 19400  1035  4448  2089  2156  2525  2245  2052 14674  1035 19400  1035\n",
            "  1035 19400  1035  2553  2036 27084  1001  1001  8991  4139  4633  3066\n",
            "  1035 19400  1035  2900  1001  1001  7496  2194  2298  4047  3612  4053\n",
            "  1035 19400  1035  6546 10416  4633 13366  1001  1001 27118  1001  1001\n",
            "  1056  2135  4060  1035 19400  1035  2217  3037  2296  2154  3246  1035\n",
            " 19400  1035  2092 19507  2204  1001  1001  6402  2436  4008  2322  6275\n",
            "  1001  1001  4700 11523  4684  5718  1001  1001  1023  1001  1001  1021\n",
            "  1001  1001  1015  6445  1001  1001     0     0]\n",
            "    original sequence: home page new risk solution http www marsh # # we # # b com home ho # # pg n # # f # # do dear vincent hope _ connector _ well across _ connector _ atlantic may see already thought would pas _ connector _ _ connector _ case also soc # # gen pull weather deal _ connector _ japan # # ease company look protect wind damage _ connector _ flower crop weather def # # ina # # tly pick _ connector _ side interest every day hope _ connector _ well damian good # # burn office 44 20 78 # # 47 1829 mobile 07 # # 9 # # 7 # # 1 82 # # [PAD] [PAD]\n",
            "      -----------------------------------     \n",
            "  Wrong prediction 4: predicted probability  = [2.6273121e-05 9.9997377e-01]\n",
            "    input: [ 1042  1001  1001  1059  2434  4471  7779  2198  2741  9432  2255  2423\n",
            "  2541  1016  4029  7610  2474  1001  1001 29536  2099  1001  1001  2012\n",
            "  2080  2198  3395  6714  1001  1001  6583  1001  1001 17710  2099  2028\n",
            "  5965  8013  4895  1001  1001 24185  1001  1001  6151 17834  2651  1001\n",
            "  1001  1056  2215  7524  1057     0     0     0     0     0     0     0\n",
            "     0     0     0     0     0     0     0     0     0     0     0     0\n",
            "     0     0     0     0     0     0     0     0     0     0     0     0\n",
            "     0     0     0     0     0     0     0     0     0     0     0     0\n",
            "     0     0     0     0     0     0     0     0     0     0     0     0\n",
            "     0     0     0     0     0     0     0     0     0     0     0     0\n",
            "     0     0     0     0     0     0     0     0]\n",
            "    original sequence: f # # w original message arnold john sent thursday october 25 2001 2 36 pm la # # vor # # ato john subject spin # # na # # ker one fred customer un # # wo # # und hedge today # # t want exposure u [PAD] [PAD] [PAD] [PAD] [PAD] [PAD] [PAD] [PAD] [PAD] [PAD] [PAD] [PAD] [PAD] [PAD] [PAD] [PAD] [PAD] [PAD] [PAD] [PAD] [PAD] [PAD] [PAD] [PAD] [PAD] [PAD] [PAD] [PAD] [PAD] [PAD] [PAD] [PAD] [PAD] [PAD] [PAD] [PAD] [PAD] [PAD] [PAD] [PAD] [PAD] [PAD] [PAD] [PAD] [PAD] [PAD] [PAD] [PAD] [PAD] [PAD] [PAD] [PAD] [PAD] [PAD] [PAD] [PAD] [PAD] [PAD] [PAD] [PAD] [PAD] [PAD] [PAD] [PAD] [PAD] [PAD] [PAD] [PAD] [PAD] [PAD] [PAD] [PAD] [PAD] [PAD] [PAD]\n",
            "      -----------------------------------     \n",
            "\n",
            "Wrong predictions, true class SPAM:\n",
            "      -----------------------------------     \n",
            "  Wrong prediction 0: predicted probability = [9.999355e-01 6.452547e-05]\n",
            "    input: [ 2880  5060  1035 19400  1035  1035 19400  1035  5310 23724  1001  1001\n",
            "  1055 21307  1001  1001  2019  1001  1001  1047  1041  1001  1001  3016\n",
            "  1035 19400  1035  2456  8476  1035 19400  1035  2807  1035 19400  1035\n",
            "  7612  3235  9678  2332  3781     0     0     0     0     0     0     0\n",
            "     0     0     0     0     0     0     0     0     0     0     0     0\n",
            "     0     0     0     0     0     0     0     0     0     0     0     0\n",
            "     0     0     0     0     0     0     0     0     0     0     0     0\n",
            "     0     0     0     0     0     0     0     0     0     0     0     0\n",
            "     0     0     0     0     0     0     0     0     0     0     0     0\n",
            "     0     0     0     0     0     0     0     0     0     0     0     0\n",
            "     0     0     0     0     0     0     0     0]\n",
            "    original sequence: official notice _ connector _ _ connector _ user barclay # # s ib # # an # # k e # # bay _ connector _ 2000 topic _ connector _ 1994 _ connector _ 1873 martin luther king jr [PAD] [PAD] [PAD] [PAD] [PAD] [PAD] [PAD] [PAD] [PAD] [PAD] [PAD] [PAD] [PAD] [PAD] [PAD] [PAD] [PAD] [PAD] [PAD] [PAD] [PAD] [PAD] [PAD] [PAD] [PAD] [PAD] [PAD] [PAD] [PAD] [PAD] [PAD] [PAD] [PAD] [PAD] [PAD] [PAD] [PAD] [PAD] [PAD] [PAD] [PAD] [PAD] [PAD] [PAD] [PAD] [PAD] [PAD] [PAD] [PAD] [PAD] [PAD] [PAD] [PAD] [PAD] [PAD] [PAD] [PAD] [PAD] [PAD] [PAD] [PAD] [PAD] [PAD] [PAD] [PAD] [PAD] [PAD] [PAD] [PAD] [PAD] [PAD] [PAD] [PAD] [PAD] [PAD] [PAD] [PAD] [PAD] [PAD] [PAD] [PAD] [PAD] [PAD] [PAD] [PAD] [PAD] [PAD]\n",
            "      -----------------------------------     \n",
            "  Wrong prediction 1: predicted probability = [1.0000000e+00 4.7414222e-08]\n",
            "    input: [12223 13222     0     0     0     0     0     0     0     0     0     0\n",
            "     0     0     0     0     0     0     0     0     0     0     0     0\n",
            "     0     0     0     0     0     0     0     0     0     0     0     0\n",
            "     0     0     0     0     0     0     0     0     0     0     0     0\n",
            "     0     0     0     0     0     0     0     0     0     0     0     0\n",
            "     0     0     0     0     0     0     0     0     0     0     0     0\n",
            "     0     0     0     0     0     0     0     0     0     0     0     0\n",
            "     0     0     0     0     0     0     0     0     0     0     0     0\n",
            "     0     0     0     0     0     0     0     0     0     0     0     0\n",
            "     0     0     0     0     0     0     0     0     0     0     0     0\n",
            "     0     0     0     0     0     0     0     0]\n",
            "    original sequence: clement hassan [PAD] [PAD] [PAD] [PAD] [PAD] [PAD] [PAD] [PAD] [PAD] [PAD] [PAD] [PAD] [PAD] [PAD] [PAD] [PAD] [PAD] [PAD] [PAD] [PAD] [PAD] [PAD] [PAD] [PAD] [PAD] [PAD] [PAD] [PAD] [PAD] [PAD] [PAD] [PAD] [PAD] [PAD] [PAD] [PAD] [PAD] [PAD] [PAD] [PAD] [PAD] [PAD] [PAD] [PAD] [PAD] [PAD] [PAD] [PAD] [PAD] [PAD] [PAD] [PAD] [PAD] [PAD] [PAD] [PAD] [PAD] [PAD] [PAD] [PAD] [PAD] [PAD] [PAD] [PAD] [PAD] [PAD] [PAD] [PAD] [PAD] [PAD] [PAD] [PAD] [PAD] [PAD] [PAD] [PAD] [PAD] [PAD] [PAD] [PAD] [PAD] [PAD] [PAD] [PAD] [PAD] [PAD] [PAD] [PAD] [PAD] [PAD] [PAD] [PAD] [PAD] [PAD] [PAD] [PAD] [PAD] [PAD] [PAD] [PAD] [PAD] [PAD] [PAD] [PAD] [PAD] [PAD] [PAD] [PAD] [PAD] [PAD] [PAD] [PAD] [PAD] [PAD] [PAD] [PAD] [PAD] [PAD] [PAD] [PAD] [PAD] [PAD] [PAD] [PAD] [PAD] [PAD]\n",
            "      -----------------------------------     \n",
            "  Wrong prediction 2: predicted probability = [0.63453734 0.3654627 ]\n",
            "    input: [12174  4861  5060  3036  2415  3728  5060  3535  8833  1035 19400  1035\n",
            "  3477  1001  1001 14412  4070  3097 12997  4769  1035 19400  1035  3114\n",
            " 19337  1001  1001  4921  2063  4070  2224  2353  2283  2302 20104  3728\n",
            "  3229  4070  3604  1035 19400  1035  5866  8833  1035 19400  1035  3535\n",
            "  2089 17820  3568  1035 19400  1035 27167  4070  9111 11562  1035 19400\n",
            "  1035  1035 19400  1035  4957  8833  4070  1035 19400  1035  3582  1035\n",
            " 19400  1035  7899  8299  7479  3477  1001  1001 14412  4012  1039  1001\n",
            "  1001 21025  8026  4773  1001  1001  8040  1001  1001  1054  4642  1001\n",
            "  1001  1040  1035  8833  1001  1001  1999  2448  5454  8568  5227  2681\n",
            "  1057  3601  8184 28324  4070  4374  5060  1035 19400  1035  1035 19400\n",
            "  1035  3166  4697  4070  9111  3531     0     0]\n",
            "    original sequence: quarterly statement notice security center recently notice attempt log _ connector _ pay # # pal account foreign ip address _ connector _ reason bel # # ive account use third party without authorization recently access account travel _ connector _ unusual log _ connector _ attempt may initiate therefore _ connector _ rightful account holder click _ connector _ _ connector _ link log account _ connector _ follow _ connector _ instruction http www pay # # pal com c # # gi bin web # # sc # # r cm # # d _ log # # in run choose ignore request leave u choice temporarily suspend account receive notice _ connector _ _ connector _ authorize account holder please [PAD] [PAD]\n",
            "      -----------------------------------     \n",
            "  Wrong prediction 3: predicted probability = [0.73483056 0.2651695 ]\n",
            "    input: [12943  1001  1001 26220  1001  1001 19330  2050 12702  1001  1001  6178\n",
            "  1001  1001  1055  5020 26632  5618 23713  1001  1001 12098  2080  3480\n",
            "  3338  2739  1035 19400  1035  2485  9432  2244  1023  2432  8945  1001\n",
            "  1001  4487  2015  1001  1001  4372 16012  1001  1001  6627  1014 22975\n",
            "  1001  1001 22861 22861  1001  1001  1051  2072  1035 19400  1035  2204\n",
            "  2739  2562  1035 19400  1035  2272  1035 19400  1035 22861  1001  1001\n",
            "  1051  2072  2811  2713  3120  8945  1001  1001  4487  2015  1001  1001\n",
            "  4372 16012  1001  1001  6627  4297  8945  1001  1001  4487  2015  1001\n",
            "  1001  4372 16012  1001  1001  6627  8267  1018  1016  2454  1035 19400\n",
            "  1035  3206  2156  2844  1017 16428  4284  3361  2836  9432  2244  1023\n",
            "  1017  5354  7610  3802  2047  2259     0     0]\n",
            "    original sequence: ag # # ric # # ola micro # # cap # # s equal macro profit amp # # aro hurt break news _ connector _ close thursday september 9 2004 bo # # dis # # en bio # # tech 0 tc # # bb bb # # oi _ connector _ good news keep _ connector _ come _ connector _ bb # # oi press release source bo # # dis # # en bio # # tech inc bo # # dis # # en bio # # tech receives 4 2 million _ connector _ contract see strong 3 rd quarter financial performance thursday september 9 3 59 pm et new york [PAD] [PAD]\n",
            "      -----------------------------------     \n",
            "  Wrong prediction 4: predicted probability = [0.9421332  0.05786677]\n",
            "    input: [10717  4895  1001  1001 16215  2072  1001  1001 25930  1001  1001 13749\n",
            "  4847  1035 19400  1035  3691  1035 19400  1035  2307  4099  3606  2196\n",
            "  6707  4367  1035 19400  1035  2895  5223  6234  8646  2131  2489  3691\n",
            "     0     0     0     0     0     0     0     0     0     0     0     0\n",
            "     0     0     0     0     0     0     0     0     0     0     0     0\n",
            "     0     0     0     0     0     0     0     0     0     0     0     0\n",
            "     0     0     0     0     0     0     0     0     0     0     0     0\n",
            "     0     0     0     0     0     0     0     0     0     0     0     0\n",
            "     0     0     0     0     0     0     0     0     0     0     0     0\n",
            "     0     0     0     0     0     0     0     0     0     0     0     0\n",
            "     0     0     0     0     0     0     0     0]\n",
            "    original sequence: patricia un # # thi # # nk # # ing respect _ connector _ authority _ connector _ great enemy truth never mistake motion _ connector _ action hate immediate predecessor get free authority [PAD] [PAD] [PAD] [PAD] [PAD] [PAD] [PAD] [PAD] [PAD] [PAD] [PAD] [PAD] [PAD] [PAD] [PAD] [PAD] [PAD] [PAD] [PAD] [PAD] [PAD] [PAD] [PAD] [PAD] [PAD] [PAD] [PAD] [PAD] [PAD] [PAD] [PAD] [PAD] [PAD] [PAD] [PAD] [PAD] [PAD] [PAD] [PAD] [PAD] [PAD] [PAD] [PAD] [PAD] [PAD] [PAD] [PAD] [PAD] [PAD] [PAD] [PAD] [PAD] [PAD] [PAD] [PAD] [PAD] [PAD] [PAD] [PAD] [PAD] [PAD] [PAD] [PAD] [PAD] [PAD] [PAD] [PAD] [PAD] [PAD] [PAD] [PAD] [PAD] [PAD] [PAD] [PAD] [PAD] [PAD] [PAD] [PAD] [PAD] [PAD] [PAD] [PAD] [PAD] [PAD] [PAD] [PAD] [PAD] [PAD] [PAD] [PAD] [PAD]\n",
            "      -----------------------------------     \n"
          ]
        }
      ],
      "source": [
        "test_model(model, model_name, test_dataloader, BEST_WEIGHT_PATH, device)"
      ]
    },
    {
      "cell_type": "markdown",
      "metadata": {
        "id": "7fuzJyElz1wv"
      },
      "source": [
        "# TensorFlow Conversion and Save\n",
        "Transfers a PyTorch model to TensorFlow, extracts weights and biases, and saves the model in PB format.\n"
      ]
    },
    {
      "cell_type": "code",
      "execution_count": null,
      "metadata": {
        "colab": {
          "base_uri": "https://localhost:8080/"
        },
        "id": "17vMdIhxz1iJ",
        "outputId": "b36c47ec-b3ad-453b-fd44-84cd14d8dbaf"
      },
      "outputs": [
        {
          "name": "stderr",
          "output_type": "stream",
          "text": [
            "Some weights of DistilBertForSequenceClassification were not initialized from the model checkpoint at distilbert-base-uncased and are newly initialized: ['classifier.bias', 'classifier.weight', 'pre_classifier.bias', 'pre_classifier.weight']\n",
            "You should probably TRAIN this model on a down-stream task to be able to use it for predictions and inference.\n",
            "Some weights of the PyTorch model were not used when initializing the TF 2.0 model TFDistilBertForSequenceClassification: ['vocab_layer_norm.bias', 'vocab_layer_norm.weight', 'vocab_transform.weight', 'vocab_transform.bias', 'vocab_projector.bias']\n",
            "- This IS expected if you are initializing TFDistilBertForSequenceClassification from a PyTorch model trained on another task or with another architecture (e.g. initializing a TFBertForSequenceClassification model from a BertForPreTraining model).\n",
            "- This IS NOT expected if you are initializing TFDistilBertForSequenceClassification from a PyTorch model that you expect to be exactly identical (e.g. initializing a TFBertForSequenceClassification model from a BertForSequenceClassification model).\n",
            "Some weights or buffers of the TF 2.0 model TFDistilBertForSequenceClassification were not initialized from the PyTorch model and are newly initialized: ['pre_classifier.weight', 'pre_classifier.bias', 'classifier.weight', 'classifier.bias']\n",
            "You should probably TRAIN this model on a down-stream task to be able to use it for predictions and inference.\n",
            "WARNING:tensorflow:Skipping full serialization of TF-Keras layer <tf_keras.src.layers.regularization.dropout.Dropout object at 0x7c6c52da5120>, because it is not built.\n",
            "WARNING:tensorflow:Skipping full serialization of TF-Keras layer <tf_keras.src.layers.regularization.dropout.Dropout object at 0x7c6c506ca320>, because it is not built.\n",
            "WARNING:tensorflow:Skipping full serialization of TF-Keras layer <tf_keras.src.layers.regularization.dropout.Dropout object at 0x7c6c5071cf10>, because it is not built.\n",
            "WARNING:tensorflow:Skipping full serialization of TF-Keras layer <tf_keras.src.layers.regularization.dropout.Dropout object at 0x7c6c5071fac0>, because it is not built.\n",
            "WARNING:tensorflow:Skipping full serialization of TF-Keras layer <tf_keras.src.layers.regularization.dropout.Dropout object at 0x7c6c5072a6b0>, because it is not built.\n",
            "WARNING:tensorflow:Skipping full serialization of TF-Keras layer <tf_keras.src.layers.regularization.dropout.Dropout object at 0x7c6c507392a0>, because it is not built.\n"
          ]
        },
        {
          "name": "stdout",
          "output_type": "stream",
          "text": [
            "Model saved.\n"
          ]
        }
      ],
      "source": [
        "device = torch.device(\"cuda\" if torch.cuda.is_available() else \"cpu\")\n",
        "\n",
        "# Ensure the directories exist\n",
        "os.makedirs(MODEL_PATH, exist_ok=True)\n",
        "\n",
        "# Define model name and paths\n",
        "model_name = 'distilbert-base-uncased'\n",
        "best_weight_path = os.path.join(BEST_WEIGHT_PATH, 'weights.pth')\n",
        "\n",
        "# Load the PyTorch model\n",
        "pytorch_model = DistilBertForSequenceClassification.from_pretrained(model_name, num_labels=2).to(device)\n",
        "\n",
        "# Load the state dictionary\n",
        "state_dict = torch.load(best_weight_path, map_location=device)\n",
        "\n",
        "# Adjust the state dictionary keys\n",
        "state_dict['classifier.weight'] = state_dict.pop('classifier.2.weight')\n",
        "state_dict['classifier.bias'] = state_dict.pop('classifier.2.bias')\n",
        "\n",
        "# Load the modified state dictionary into the model\n",
        "pytorch_model.load_state_dict(state_dict)\n",
        "\n",
        "# Extract weights and biases\n",
        "weights = pytorch_model.classifier.weight.detach().cpu().numpy().T\n",
        "biases = pytorch_model.classifier.bias.detach().cpu().numpy()\n",
        "\n",
        "# Load the TensorFlow model\n",
        "tf_model = TFDistilBertForSequenceClassification.from_pretrained(model_name, num_labels=pytorch_model.num_labels)\n",
        "\n",
        "# Set the weights for the TensorFlow classifier layer\n",
        "tf_model.classifier.set_weights([weights, biases])\n",
        "\n",
        "# Save the TensorFlow model in PB format\n",
        "model_pb_path = os.path.join(MODEL_PATH, 'saved_model')\n",
        "tf.saved_model.save(tf_model, model_pb_path)\n",
        "\n",
        "print(\"Model saved.\")"
      ]
    }
  ],
  "metadata": {
    "accelerator": "GPU",
    "colab": {
      "collapsed_sections": [
        "4ZBbEhVO9_39",
        "IDs8YisKAE08",
        "C4K65O2N-gvB",
        "8VLB8JQEADtV",
        "wwvyewuXgyR9",
        "4g3daj8TBcZO",
        "qTnNnrTud1xd",
        "n3rqIp54bXgZ",
        "y1QapB8PBm4T",
        "GESxxEpy2aL2",
        "vCxZq4pT7SP7",
        "UDdLk48g7S2w",
        "7fuzJyElz1wv"
      ],
      "gpuType": "T4",
      "provenance": []
    },
    "kernelspec": {
      "display_name": "Python 3",
      "name": "python3"
    },
    "language_info": {
      "name": "python"
    },
    "widgets": {
      "application/vnd.jupyter.widget-state+json": {
        "960f5e09935e47f8881b60089d7a3882": {
          "model_module": "@jupyter-widgets/controls",
          "model_name": "HBoxModel",
          "model_module_version": "1.5.0",
          "state": {
            "_dom_classes": [],
            "_model_module": "@jupyter-widgets/controls",
            "_model_module_version": "1.5.0",
            "_model_name": "HBoxModel",
            "_view_count": null,
            "_view_module": "@jupyter-widgets/controls",
            "_view_module_version": "1.5.0",
            "_view_name": "HBoxView",
            "box_style": "",
            "children": [
              "IPY_MODEL_2cd49a5076304de1bd8da23c8f1e2669",
              "IPY_MODEL_8a856dc1580b4189b44402511c9be88f",
              "IPY_MODEL_f342e57351334273aa1ccba0cdee21b3"
            ],
            "layout": "IPY_MODEL_71748eae9c6647c98d6a59c63e971eee"
          }
        },
        "2cd49a5076304de1bd8da23c8f1e2669": {
          "model_module": "@jupyter-widgets/controls",
          "model_name": "HTMLModel",
          "model_module_version": "1.5.0",
          "state": {
            "_dom_classes": [],
            "_model_module": "@jupyter-widgets/controls",
            "_model_module_version": "1.5.0",
            "_model_name": "HTMLModel",
            "_view_count": null,
            "_view_module": "@jupyter-widgets/controls",
            "_view_module_version": "1.5.0",
            "_view_name": "HTMLView",
            "description": "",
            "description_tooltip": null,
            "layout": "IPY_MODEL_4f6f198acaf94c2aa2c75b5569f4abb8",
            "placeholder": "​",
            "style": "IPY_MODEL_59069604cd2f4b15a19833fcf2d33208",
            "value": "config.json: 100%"
          }
        },
        "8a856dc1580b4189b44402511c9be88f": {
          "model_module": "@jupyter-widgets/controls",
          "model_name": "FloatProgressModel",
          "model_module_version": "1.5.0",
          "state": {
            "_dom_classes": [],
            "_model_module": "@jupyter-widgets/controls",
            "_model_module_version": "1.5.0",
            "_model_name": "FloatProgressModel",
            "_view_count": null,
            "_view_module": "@jupyter-widgets/controls",
            "_view_module_version": "1.5.0",
            "_view_name": "ProgressView",
            "bar_style": "success",
            "description": "",
            "description_tooltip": null,
            "layout": "IPY_MODEL_54c752ecd30f4baf8e2eff383946e5e9",
            "max": 483,
            "min": 0,
            "orientation": "horizontal",
            "style": "IPY_MODEL_bed0ea9e16724a959787a3866f760c0b",
            "value": 483
          }
        },
        "f342e57351334273aa1ccba0cdee21b3": {
          "model_module": "@jupyter-widgets/controls",
          "model_name": "HTMLModel",
          "model_module_version": "1.5.0",
          "state": {
            "_dom_classes": [],
            "_model_module": "@jupyter-widgets/controls",
            "_model_module_version": "1.5.0",
            "_model_name": "HTMLModel",
            "_view_count": null,
            "_view_module": "@jupyter-widgets/controls",
            "_view_module_version": "1.5.0",
            "_view_name": "HTMLView",
            "description": "",
            "description_tooltip": null,
            "layout": "IPY_MODEL_eb0ae30c806842d38d1f073e028ced47",
            "placeholder": "​",
            "style": "IPY_MODEL_f5c64012ba12416caaf201f073cb840c",
            "value": " 483/483 [00:00&lt;00:00, 7.76kB/s]"
          }
        },
        "71748eae9c6647c98d6a59c63e971eee": {
          "model_module": "@jupyter-widgets/base",
          "model_name": "LayoutModel",
          "model_module_version": "1.2.0",
          "state": {
            "_model_module": "@jupyter-widgets/base",
            "_model_module_version": "1.2.0",
            "_model_name": "LayoutModel",
            "_view_count": null,
            "_view_module": "@jupyter-widgets/base",
            "_view_module_version": "1.2.0",
            "_view_name": "LayoutView",
            "align_content": null,
            "align_items": null,
            "align_self": null,
            "border": null,
            "bottom": null,
            "display": null,
            "flex": null,
            "flex_flow": null,
            "grid_area": null,
            "grid_auto_columns": null,
            "grid_auto_flow": null,
            "grid_auto_rows": null,
            "grid_column": null,
            "grid_gap": null,
            "grid_row": null,
            "grid_template_areas": null,
            "grid_template_columns": null,
            "grid_template_rows": null,
            "height": null,
            "justify_content": null,
            "justify_items": null,
            "left": null,
            "margin": null,
            "max_height": null,
            "max_width": null,
            "min_height": null,
            "min_width": null,
            "object_fit": null,
            "object_position": null,
            "order": null,
            "overflow": null,
            "overflow_x": null,
            "overflow_y": null,
            "padding": null,
            "right": null,
            "top": null,
            "visibility": null,
            "width": null
          }
        },
        "4f6f198acaf94c2aa2c75b5569f4abb8": {
          "model_module": "@jupyter-widgets/base",
          "model_name": "LayoutModel",
          "model_module_version": "1.2.0",
          "state": {
            "_model_module": "@jupyter-widgets/base",
            "_model_module_version": "1.2.0",
            "_model_name": "LayoutModel",
            "_view_count": null,
            "_view_module": "@jupyter-widgets/base",
            "_view_module_version": "1.2.0",
            "_view_name": "LayoutView",
            "align_content": null,
            "align_items": null,
            "align_self": null,
            "border": null,
            "bottom": null,
            "display": null,
            "flex": null,
            "flex_flow": null,
            "grid_area": null,
            "grid_auto_columns": null,
            "grid_auto_flow": null,
            "grid_auto_rows": null,
            "grid_column": null,
            "grid_gap": null,
            "grid_row": null,
            "grid_template_areas": null,
            "grid_template_columns": null,
            "grid_template_rows": null,
            "height": null,
            "justify_content": null,
            "justify_items": null,
            "left": null,
            "margin": null,
            "max_height": null,
            "max_width": null,
            "min_height": null,
            "min_width": null,
            "object_fit": null,
            "object_position": null,
            "order": null,
            "overflow": null,
            "overflow_x": null,
            "overflow_y": null,
            "padding": null,
            "right": null,
            "top": null,
            "visibility": null,
            "width": null
          }
        },
        "59069604cd2f4b15a19833fcf2d33208": {
          "model_module": "@jupyter-widgets/controls",
          "model_name": "DescriptionStyleModel",
          "model_module_version": "1.5.0",
          "state": {
            "_model_module": "@jupyter-widgets/controls",
            "_model_module_version": "1.5.0",
            "_model_name": "DescriptionStyleModel",
            "_view_count": null,
            "_view_module": "@jupyter-widgets/base",
            "_view_module_version": "1.2.0",
            "_view_name": "StyleView",
            "description_width": ""
          }
        },
        "54c752ecd30f4baf8e2eff383946e5e9": {
          "model_module": "@jupyter-widgets/base",
          "model_name": "LayoutModel",
          "model_module_version": "1.2.0",
          "state": {
            "_model_module": "@jupyter-widgets/base",
            "_model_module_version": "1.2.0",
            "_model_name": "LayoutModel",
            "_view_count": null,
            "_view_module": "@jupyter-widgets/base",
            "_view_module_version": "1.2.0",
            "_view_name": "LayoutView",
            "align_content": null,
            "align_items": null,
            "align_self": null,
            "border": null,
            "bottom": null,
            "display": null,
            "flex": null,
            "flex_flow": null,
            "grid_area": null,
            "grid_auto_columns": null,
            "grid_auto_flow": null,
            "grid_auto_rows": null,
            "grid_column": null,
            "grid_gap": null,
            "grid_row": null,
            "grid_template_areas": null,
            "grid_template_columns": null,
            "grid_template_rows": null,
            "height": null,
            "justify_content": null,
            "justify_items": null,
            "left": null,
            "margin": null,
            "max_height": null,
            "max_width": null,
            "min_height": null,
            "min_width": null,
            "object_fit": null,
            "object_position": null,
            "order": null,
            "overflow": null,
            "overflow_x": null,
            "overflow_y": null,
            "padding": null,
            "right": null,
            "top": null,
            "visibility": null,
            "width": null
          }
        },
        "bed0ea9e16724a959787a3866f760c0b": {
          "model_module": "@jupyter-widgets/controls",
          "model_name": "ProgressStyleModel",
          "model_module_version": "1.5.0",
          "state": {
            "_model_module": "@jupyter-widgets/controls",
            "_model_module_version": "1.5.0",
            "_model_name": "ProgressStyleModel",
            "_view_count": null,
            "_view_module": "@jupyter-widgets/base",
            "_view_module_version": "1.2.0",
            "_view_name": "StyleView",
            "bar_color": null,
            "description_width": ""
          }
        },
        "eb0ae30c806842d38d1f073e028ced47": {
          "model_module": "@jupyter-widgets/base",
          "model_name": "LayoutModel",
          "model_module_version": "1.2.0",
          "state": {
            "_model_module": "@jupyter-widgets/base",
            "_model_module_version": "1.2.0",
            "_model_name": "LayoutModel",
            "_view_count": null,
            "_view_module": "@jupyter-widgets/base",
            "_view_module_version": "1.2.0",
            "_view_name": "LayoutView",
            "align_content": null,
            "align_items": null,
            "align_self": null,
            "border": null,
            "bottom": null,
            "display": null,
            "flex": null,
            "flex_flow": null,
            "grid_area": null,
            "grid_auto_columns": null,
            "grid_auto_flow": null,
            "grid_auto_rows": null,
            "grid_column": null,
            "grid_gap": null,
            "grid_row": null,
            "grid_template_areas": null,
            "grid_template_columns": null,
            "grid_template_rows": null,
            "height": null,
            "justify_content": null,
            "justify_items": null,
            "left": null,
            "margin": null,
            "max_height": null,
            "max_width": null,
            "min_height": null,
            "min_width": null,
            "object_fit": null,
            "object_position": null,
            "order": null,
            "overflow": null,
            "overflow_x": null,
            "overflow_y": null,
            "padding": null,
            "right": null,
            "top": null,
            "visibility": null,
            "width": null
          }
        },
        "f5c64012ba12416caaf201f073cb840c": {
          "model_module": "@jupyter-widgets/controls",
          "model_name": "DescriptionStyleModel",
          "model_module_version": "1.5.0",
          "state": {
            "_model_module": "@jupyter-widgets/controls",
            "_model_module_version": "1.5.0",
            "_model_name": "DescriptionStyleModel",
            "_view_count": null,
            "_view_module": "@jupyter-widgets/base",
            "_view_module_version": "1.2.0",
            "_view_name": "StyleView",
            "description_width": ""
          }
        },
        "dc7761dedc1c4a54b906db43f3390146": {
          "model_module": "@jupyter-widgets/controls",
          "model_name": "HBoxModel",
          "model_module_version": "1.5.0",
          "state": {
            "_dom_classes": [],
            "_model_module": "@jupyter-widgets/controls",
            "_model_module_version": "1.5.0",
            "_model_name": "HBoxModel",
            "_view_count": null,
            "_view_module": "@jupyter-widgets/controls",
            "_view_module_version": "1.5.0",
            "_view_name": "HBoxView",
            "box_style": "",
            "children": [
              "IPY_MODEL_b6dbbf929851477b8cbfc3a89785b2d0",
              "IPY_MODEL_3689a1bd2fb44f6788b38d3b4d306352",
              "IPY_MODEL_c488cf74282f41d98eb5565f61f76b51"
            ],
            "layout": "IPY_MODEL_cfb90ee4a6e44d92a774c6cf21ac20ec"
          }
        },
        "b6dbbf929851477b8cbfc3a89785b2d0": {
          "model_module": "@jupyter-widgets/controls",
          "model_name": "HTMLModel",
          "model_module_version": "1.5.0",
          "state": {
            "_dom_classes": [],
            "_model_module": "@jupyter-widgets/controls",
            "_model_module_version": "1.5.0",
            "_model_name": "HTMLModel",
            "_view_count": null,
            "_view_module": "@jupyter-widgets/controls",
            "_view_module_version": "1.5.0",
            "_view_name": "HTMLView",
            "description": "",
            "description_tooltip": null,
            "layout": "IPY_MODEL_9cdf1e4305b24fcba7eeb6a8a773fd3e",
            "placeholder": "​",
            "style": "IPY_MODEL_f6c686d1c96f4152a95759da78326e9f",
            "value": "model.safetensors: 100%"
          }
        },
        "3689a1bd2fb44f6788b38d3b4d306352": {
          "model_module": "@jupyter-widgets/controls",
          "model_name": "FloatProgressModel",
          "model_module_version": "1.5.0",
          "state": {
            "_dom_classes": [],
            "_model_module": "@jupyter-widgets/controls",
            "_model_module_version": "1.5.0",
            "_model_name": "FloatProgressModel",
            "_view_count": null,
            "_view_module": "@jupyter-widgets/controls",
            "_view_module_version": "1.5.0",
            "_view_name": "ProgressView",
            "bar_style": "success",
            "description": "",
            "description_tooltip": null,
            "layout": "IPY_MODEL_de478bbf5f0b446ba61c514278ca4a23",
            "max": 267954768,
            "min": 0,
            "orientation": "horizontal",
            "style": "IPY_MODEL_136bce96916d4202bbacc9ecf99441d5",
            "value": 267954768
          }
        },
        "c488cf74282f41d98eb5565f61f76b51": {
          "model_module": "@jupyter-widgets/controls",
          "model_name": "HTMLModel",
          "model_module_version": "1.5.0",
          "state": {
            "_dom_classes": [],
            "_model_module": "@jupyter-widgets/controls",
            "_model_module_version": "1.5.0",
            "_model_name": "HTMLModel",
            "_view_count": null,
            "_view_module": "@jupyter-widgets/controls",
            "_view_module_version": "1.5.0",
            "_view_name": "HTMLView",
            "description": "",
            "description_tooltip": null,
            "layout": "IPY_MODEL_d3102712e8dd4b83a40db64e5d6c0dbe",
            "placeholder": "​",
            "style": "IPY_MODEL_8744f7cfd6324df5b9f79c808a1e4961",
            "value": " 268M/268M [00:04&lt;00:00, 31.1MB/s]"
          }
        },
        "cfb90ee4a6e44d92a774c6cf21ac20ec": {
          "model_module": "@jupyter-widgets/base",
          "model_name": "LayoutModel",
          "model_module_version": "1.2.0",
          "state": {
            "_model_module": "@jupyter-widgets/base",
            "_model_module_version": "1.2.0",
            "_model_name": "LayoutModel",
            "_view_count": null,
            "_view_module": "@jupyter-widgets/base",
            "_view_module_version": "1.2.0",
            "_view_name": "LayoutView",
            "align_content": null,
            "align_items": null,
            "align_self": null,
            "border": null,
            "bottom": null,
            "display": null,
            "flex": null,
            "flex_flow": null,
            "grid_area": null,
            "grid_auto_columns": null,
            "grid_auto_flow": null,
            "grid_auto_rows": null,
            "grid_column": null,
            "grid_gap": null,
            "grid_row": null,
            "grid_template_areas": null,
            "grid_template_columns": null,
            "grid_template_rows": null,
            "height": null,
            "justify_content": null,
            "justify_items": null,
            "left": null,
            "margin": null,
            "max_height": null,
            "max_width": null,
            "min_height": null,
            "min_width": null,
            "object_fit": null,
            "object_position": null,
            "order": null,
            "overflow": null,
            "overflow_x": null,
            "overflow_y": null,
            "padding": null,
            "right": null,
            "top": null,
            "visibility": null,
            "width": null
          }
        },
        "9cdf1e4305b24fcba7eeb6a8a773fd3e": {
          "model_module": "@jupyter-widgets/base",
          "model_name": "LayoutModel",
          "model_module_version": "1.2.0",
          "state": {
            "_model_module": "@jupyter-widgets/base",
            "_model_module_version": "1.2.0",
            "_model_name": "LayoutModel",
            "_view_count": null,
            "_view_module": "@jupyter-widgets/base",
            "_view_module_version": "1.2.0",
            "_view_name": "LayoutView",
            "align_content": null,
            "align_items": null,
            "align_self": null,
            "border": null,
            "bottom": null,
            "display": null,
            "flex": null,
            "flex_flow": null,
            "grid_area": null,
            "grid_auto_columns": null,
            "grid_auto_flow": null,
            "grid_auto_rows": null,
            "grid_column": null,
            "grid_gap": null,
            "grid_row": null,
            "grid_template_areas": null,
            "grid_template_columns": null,
            "grid_template_rows": null,
            "height": null,
            "justify_content": null,
            "justify_items": null,
            "left": null,
            "margin": null,
            "max_height": null,
            "max_width": null,
            "min_height": null,
            "min_width": null,
            "object_fit": null,
            "object_position": null,
            "order": null,
            "overflow": null,
            "overflow_x": null,
            "overflow_y": null,
            "padding": null,
            "right": null,
            "top": null,
            "visibility": null,
            "width": null
          }
        },
        "f6c686d1c96f4152a95759da78326e9f": {
          "model_module": "@jupyter-widgets/controls",
          "model_name": "DescriptionStyleModel",
          "model_module_version": "1.5.0",
          "state": {
            "_model_module": "@jupyter-widgets/controls",
            "_model_module_version": "1.5.0",
            "_model_name": "DescriptionStyleModel",
            "_view_count": null,
            "_view_module": "@jupyter-widgets/base",
            "_view_module_version": "1.2.0",
            "_view_name": "StyleView",
            "description_width": ""
          }
        },
        "de478bbf5f0b446ba61c514278ca4a23": {
          "model_module": "@jupyter-widgets/base",
          "model_name": "LayoutModel",
          "model_module_version": "1.2.0",
          "state": {
            "_model_module": "@jupyter-widgets/base",
            "_model_module_version": "1.2.0",
            "_model_name": "LayoutModel",
            "_view_count": null,
            "_view_module": "@jupyter-widgets/base",
            "_view_module_version": "1.2.0",
            "_view_name": "LayoutView",
            "align_content": null,
            "align_items": null,
            "align_self": null,
            "border": null,
            "bottom": null,
            "display": null,
            "flex": null,
            "flex_flow": null,
            "grid_area": null,
            "grid_auto_columns": null,
            "grid_auto_flow": null,
            "grid_auto_rows": null,
            "grid_column": null,
            "grid_gap": null,
            "grid_row": null,
            "grid_template_areas": null,
            "grid_template_columns": null,
            "grid_template_rows": null,
            "height": null,
            "justify_content": null,
            "justify_items": null,
            "left": null,
            "margin": null,
            "max_height": null,
            "max_width": null,
            "min_height": null,
            "min_width": null,
            "object_fit": null,
            "object_position": null,
            "order": null,
            "overflow": null,
            "overflow_x": null,
            "overflow_y": null,
            "padding": null,
            "right": null,
            "top": null,
            "visibility": null,
            "width": null
          }
        },
        "136bce96916d4202bbacc9ecf99441d5": {
          "model_module": "@jupyter-widgets/controls",
          "model_name": "ProgressStyleModel",
          "model_module_version": "1.5.0",
          "state": {
            "_model_module": "@jupyter-widgets/controls",
            "_model_module_version": "1.5.0",
            "_model_name": "ProgressStyleModel",
            "_view_count": null,
            "_view_module": "@jupyter-widgets/base",
            "_view_module_version": "1.2.0",
            "_view_name": "StyleView",
            "bar_color": null,
            "description_width": ""
          }
        },
        "d3102712e8dd4b83a40db64e5d6c0dbe": {
          "model_module": "@jupyter-widgets/base",
          "model_name": "LayoutModel",
          "model_module_version": "1.2.0",
          "state": {
            "_model_module": "@jupyter-widgets/base",
            "_model_module_version": "1.2.0",
            "_model_name": "LayoutModel",
            "_view_count": null,
            "_view_module": "@jupyter-widgets/base",
            "_view_module_version": "1.2.0",
            "_view_name": "LayoutView",
            "align_content": null,
            "align_items": null,
            "align_self": null,
            "border": null,
            "bottom": null,
            "display": null,
            "flex": null,
            "flex_flow": null,
            "grid_area": null,
            "grid_auto_columns": null,
            "grid_auto_flow": null,
            "grid_auto_rows": null,
            "grid_column": null,
            "grid_gap": null,
            "grid_row": null,
            "grid_template_areas": null,
            "grid_template_columns": null,
            "grid_template_rows": null,
            "height": null,
            "justify_content": null,
            "justify_items": null,
            "left": null,
            "margin": null,
            "max_height": null,
            "max_width": null,
            "min_height": null,
            "min_width": null,
            "object_fit": null,
            "object_position": null,
            "order": null,
            "overflow": null,
            "overflow_x": null,
            "overflow_y": null,
            "padding": null,
            "right": null,
            "top": null,
            "visibility": null,
            "width": null
          }
        },
        "8744f7cfd6324df5b9f79c808a1e4961": {
          "model_module": "@jupyter-widgets/controls",
          "model_name": "DescriptionStyleModel",
          "model_module_version": "1.5.0",
          "state": {
            "_model_module": "@jupyter-widgets/controls",
            "_model_module_version": "1.5.0",
            "_model_name": "DescriptionStyleModel",
            "_view_count": null,
            "_view_module": "@jupyter-widgets/base",
            "_view_module_version": "1.2.0",
            "_view_name": "StyleView",
            "description_width": ""
          }
        },
        "24ca9c0bd9cb4ba58e283adefa6ee3df": {
          "model_module": "@jupyter-widgets/controls",
          "model_name": "HBoxModel",
          "model_module_version": "1.5.0",
          "state": {
            "_dom_classes": [],
            "_model_module": "@jupyter-widgets/controls",
            "_model_module_version": "1.5.0",
            "_model_name": "HBoxModel",
            "_view_count": null,
            "_view_module": "@jupyter-widgets/controls",
            "_view_module_version": "1.5.0",
            "_view_name": "HBoxView",
            "box_style": "",
            "children": [
              "IPY_MODEL_5a119eb12a9348f8bdb679a7a4c97a36",
              "IPY_MODEL_253dbbefed7b4ba9a02d35d0bec01064",
              "IPY_MODEL_9b7fddad70394b1a8d6897def1a5e3c1"
            ],
            "layout": "IPY_MODEL_16c38183c2a4496cb898e8b58d5108af"
          }
        },
        "5a119eb12a9348f8bdb679a7a4c97a36": {
          "model_module": "@jupyter-widgets/controls",
          "model_name": "HTMLModel",
          "model_module_version": "1.5.0",
          "state": {
            "_dom_classes": [],
            "_model_module": "@jupyter-widgets/controls",
            "_model_module_version": "1.5.0",
            "_model_name": "HTMLModel",
            "_view_count": null,
            "_view_module": "@jupyter-widgets/controls",
            "_view_module_version": "1.5.0",
            "_view_name": "HTMLView",
            "description": "",
            "description_tooltip": null,
            "layout": "IPY_MODEL_0611bcbe97a44a62999abe8324099dd0",
            "placeholder": "​",
            "style": "IPY_MODEL_cb58943d247f4931877263100717f2a2",
            "value": "tokenizer_config.json: 100%"
          }
        },
        "253dbbefed7b4ba9a02d35d0bec01064": {
          "model_module": "@jupyter-widgets/controls",
          "model_name": "FloatProgressModel",
          "model_module_version": "1.5.0",
          "state": {
            "_dom_classes": [],
            "_model_module": "@jupyter-widgets/controls",
            "_model_module_version": "1.5.0",
            "_model_name": "FloatProgressModel",
            "_view_count": null,
            "_view_module": "@jupyter-widgets/controls",
            "_view_module_version": "1.5.0",
            "_view_name": "ProgressView",
            "bar_style": "success",
            "description": "",
            "description_tooltip": null,
            "layout": "IPY_MODEL_567942fcd0864134a5a7f6562b06936a",
            "max": 48,
            "min": 0,
            "orientation": "horizontal",
            "style": "IPY_MODEL_3f66070e53674b0d999a64262687d476",
            "value": 48
          }
        },
        "9b7fddad70394b1a8d6897def1a5e3c1": {
          "model_module": "@jupyter-widgets/controls",
          "model_name": "HTMLModel",
          "model_module_version": "1.5.0",
          "state": {
            "_dom_classes": [],
            "_model_module": "@jupyter-widgets/controls",
            "_model_module_version": "1.5.0",
            "_model_name": "HTMLModel",
            "_view_count": null,
            "_view_module": "@jupyter-widgets/controls",
            "_view_module_version": "1.5.0",
            "_view_name": "HTMLView",
            "description": "",
            "description_tooltip": null,
            "layout": "IPY_MODEL_af4d9a9819e94594a0e61121ce83275f",
            "placeholder": "​",
            "style": "IPY_MODEL_332bb4ebde9544c19627cb9125ee3417",
            "value": " 48.0/48.0 [00:00&lt;00:00, 812B/s]"
          }
        },
        "16c38183c2a4496cb898e8b58d5108af": {
          "model_module": "@jupyter-widgets/base",
          "model_name": "LayoutModel",
          "model_module_version": "1.2.0",
          "state": {
            "_model_module": "@jupyter-widgets/base",
            "_model_module_version": "1.2.0",
            "_model_name": "LayoutModel",
            "_view_count": null,
            "_view_module": "@jupyter-widgets/base",
            "_view_module_version": "1.2.0",
            "_view_name": "LayoutView",
            "align_content": null,
            "align_items": null,
            "align_self": null,
            "border": null,
            "bottom": null,
            "display": null,
            "flex": null,
            "flex_flow": null,
            "grid_area": null,
            "grid_auto_columns": null,
            "grid_auto_flow": null,
            "grid_auto_rows": null,
            "grid_column": null,
            "grid_gap": null,
            "grid_row": null,
            "grid_template_areas": null,
            "grid_template_columns": null,
            "grid_template_rows": null,
            "height": null,
            "justify_content": null,
            "justify_items": null,
            "left": null,
            "margin": null,
            "max_height": null,
            "max_width": null,
            "min_height": null,
            "min_width": null,
            "object_fit": null,
            "object_position": null,
            "order": null,
            "overflow": null,
            "overflow_x": null,
            "overflow_y": null,
            "padding": null,
            "right": null,
            "top": null,
            "visibility": null,
            "width": null
          }
        },
        "0611bcbe97a44a62999abe8324099dd0": {
          "model_module": "@jupyter-widgets/base",
          "model_name": "LayoutModel",
          "model_module_version": "1.2.0",
          "state": {
            "_model_module": "@jupyter-widgets/base",
            "_model_module_version": "1.2.0",
            "_model_name": "LayoutModel",
            "_view_count": null,
            "_view_module": "@jupyter-widgets/base",
            "_view_module_version": "1.2.0",
            "_view_name": "LayoutView",
            "align_content": null,
            "align_items": null,
            "align_self": null,
            "border": null,
            "bottom": null,
            "display": null,
            "flex": null,
            "flex_flow": null,
            "grid_area": null,
            "grid_auto_columns": null,
            "grid_auto_flow": null,
            "grid_auto_rows": null,
            "grid_column": null,
            "grid_gap": null,
            "grid_row": null,
            "grid_template_areas": null,
            "grid_template_columns": null,
            "grid_template_rows": null,
            "height": null,
            "justify_content": null,
            "justify_items": null,
            "left": null,
            "margin": null,
            "max_height": null,
            "max_width": null,
            "min_height": null,
            "min_width": null,
            "object_fit": null,
            "object_position": null,
            "order": null,
            "overflow": null,
            "overflow_x": null,
            "overflow_y": null,
            "padding": null,
            "right": null,
            "top": null,
            "visibility": null,
            "width": null
          }
        },
        "cb58943d247f4931877263100717f2a2": {
          "model_module": "@jupyter-widgets/controls",
          "model_name": "DescriptionStyleModel",
          "model_module_version": "1.5.0",
          "state": {
            "_model_module": "@jupyter-widgets/controls",
            "_model_module_version": "1.5.0",
            "_model_name": "DescriptionStyleModel",
            "_view_count": null,
            "_view_module": "@jupyter-widgets/base",
            "_view_module_version": "1.2.0",
            "_view_name": "StyleView",
            "description_width": ""
          }
        },
        "567942fcd0864134a5a7f6562b06936a": {
          "model_module": "@jupyter-widgets/base",
          "model_name": "LayoutModel",
          "model_module_version": "1.2.0",
          "state": {
            "_model_module": "@jupyter-widgets/base",
            "_model_module_version": "1.2.0",
            "_model_name": "LayoutModel",
            "_view_count": null,
            "_view_module": "@jupyter-widgets/base",
            "_view_module_version": "1.2.0",
            "_view_name": "LayoutView",
            "align_content": null,
            "align_items": null,
            "align_self": null,
            "border": null,
            "bottom": null,
            "display": null,
            "flex": null,
            "flex_flow": null,
            "grid_area": null,
            "grid_auto_columns": null,
            "grid_auto_flow": null,
            "grid_auto_rows": null,
            "grid_column": null,
            "grid_gap": null,
            "grid_row": null,
            "grid_template_areas": null,
            "grid_template_columns": null,
            "grid_template_rows": null,
            "height": null,
            "justify_content": null,
            "justify_items": null,
            "left": null,
            "margin": null,
            "max_height": null,
            "max_width": null,
            "min_height": null,
            "min_width": null,
            "object_fit": null,
            "object_position": null,
            "order": null,
            "overflow": null,
            "overflow_x": null,
            "overflow_y": null,
            "padding": null,
            "right": null,
            "top": null,
            "visibility": null,
            "width": null
          }
        },
        "3f66070e53674b0d999a64262687d476": {
          "model_module": "@jupyter-widgets/controls",
          "model_name": "ProgressStyleModel",
          "model_module_version": "1.5.0",
          "state": {
            "_model_module": "@jupyter-widgets/controls",
            "_model_module_version": "1.5.0",
            "_model_name": "ProgressStyleModel",
            "_view_count": null,
            "_view_module": "@jupyter-widgets/base",
            "_view_module_version": "1.2.0",
            "_view_name": "StyleView",
            "bar_color": null,
            "description_width": ""
          }
        },
        "af4d9a9819e94594a0e61121ce83275f": {
          "model_module": "@jupyter-widgets/base",
          "model_name": "LayoutModel",
          "model_module_version": "1.2.0",
          "state": {
            "_model_module": "@jupyter-widgets/base",
            "_model_module_version": "1.2.0",
            "_model_name": "LayoutModel",
            "_view_count": null,
            "_view_module": "@jupyter-widgets/base",
            "_view_module_version": "1.2.0",
            "_view_name": "LayoutView",
            "align_content": null,
            "align_items": null,
            "align_self": null,
            "border": null,
            "bottom": null,
            "display": null,
            "flex": null,
            "flex_flow": null,
            "grid_area": null,
            "grid_auto_columns": null,
            "grid_auto_flow": null,
            "grid_auto_rows": null,
            "grid_column": null,
            "grid_gap": null,
            "grid_row": null,
            "grid_template_areas": null,
            "grid_template_columns": null,
            "grid_template_rows": null,
            "height": null,
            "justify_content": null,
            "justify_items": null,
            "left": null,
            "margin": null,
            "max_height": null,
            "max_width": null,
            "min_height": null,
            "min_width": null,
            "object_fit": null,
            "object_position": null,
            "order": null,
            "overflow": null,
            "overflow_x": null,
            "overflow_y": null,
            "padding": null,
            "right": null,
            "top": null,
            "visibility": null,
            "width": null
          }
        },
        "332bb4ebde9544c19627cb9125ee3417": {
          "model_module": "@jupyter-widgets/controls",
          "model_name": "DescriptionStyleModel",
          "model_module_version": "1.5.0",
          "state": {
            "_model_module": "@jupyter-widgets/controls",
            "_model_module_version": "1.5.0",
            "_model_name": "DescriptionStyleModel",
            "_view_count": null,
            "_view_module": "@jupyter-widgets/base",
            "_view_module_version": "1.2.0",
            "_view_name": "StyleView",
            "description_width": ""
          }
        },
        "eb19b7ca6f83462c8ba7c1438e9c31ee": {
          "model_module": "@jupyter-widgets/controls",
          "model_name": "HBoxModel",
          "model_module_version": "1.5.0",
          "state": {
            "_dom_classes": [],
            "_model_module": "@jupyter-widgets/controls",
            "_model_module_version": "1.5.0",
            "_model_name": "HBoxModel",
            "_view_count": null,
            "_view_module": "@jupyter-widgets/controls",
            "_view_module_version": "1.5.0",
            "_view_name": "HBoxView",
            "box_style": "",
            "children": [
              "IPY_MODEL_324a562fa0c04548b805006bd0c50c94",
              "IPY_MODEL_ff24539cca0d4e6bb8f6c080e1c426c2",
              "IPY_MODEL_d4565491f3fa4c4bbbb68396e245983d"
            ],
            "layout": "IPY_MODEL_8465f416032a414b979c77561b8348df"
          }
        },
        "324a562fa0c04548b805006bd0c50c94": {
          "model_module": "@jupyter-widgets/controls",
          "model_name": "HTMLModel",
          "model_module_version": "1.5.0",
          "state": {
            "_dom_classes": [],
            "_model_module": "@jupyter-widgets/controls",
            "_model_module_version": "1.5.0",
            "_model_name": "HTMLModel",
            "_view_count": null,
            "_view_module": "@jupyter-widgets/controls",
            "_view_module_version": "1.5.0",
            "_view_name": "HTMLView",
            "description": "",
            "description_tooltip": null,
            "layout": "IPY_MODEL_65624f7a6c354cbaaf42ca4196b88b64",
            "placeholder": "​",
            "style": "IPY_MODEL_fe4e92ef034449638c3d7f888d5d5f67",
            "value": "vocab.txt: 100%"
          }
        },
        "ff24539cca0d4e6bb8f6c080e1c426c2": {
          "model_module": "@jupyter-widgets/controls",
          "model_name": "FloatProgressModel",
          "model_module_version": "1.5.0",
          "state": {
            "_dom_classes": [],
            "_model_module": "@jupyter-widgets/controls",
            "_model_module_version": "1.5.0",
            "_model_name": "FloatProgressModel",
            "_view_count": null,
            "_view_module": "@jupyter-widgets/controls",
            "_view_module_version": "1.5.0",
            "_view_name": "ProgressView",
            "bar_style": "success",
            "description": "",
            "description_tooltip": null,
            "layout": "IPY_MODEL_266b9bd8d0514452854435ff7c21e6fd",
            "max": 231508,
            "min": 0,
            "orientation": "horizontal",
            "style": "IPY_MODEL_b4105acb280e4c7da037cd8b9e1afb76",
            "value": 231508
          }
        },
        "d4565491f3fa4c4bbbb68396e245983d": {
          "model_module": "@jupyter-widgets/controls",
          "model_name": "HTMLModel",
          "model_module_version": "1.5.0",
          "state": {
            "_dom_classes": [],
            "_model_module": "@jupyter-widgets/controls",
            "_model_module_version": "1.5.0",
            "_model_name": "HTMLModel",
            "_view_count": null,
            "_view_module": "@jupyter-widgets/controls",
            "_view_module_version": "1.5.0",
            "_view_name": "HTMLView",
            "description": "",
            "description_tooltip": null,
            "layout": "IPY_MODEL_861ce48fa9014a7c80d1ecb689bfb506",
            "placeholder": "​",
            "style": "IPY_MODEL_e41d261271b64e188516b08537a69e58",
            "value": " 232k/232k [00:00&lt;00:00, 3.64MB/s]"
          }
        },
        "8465f416032a414b979c77561b8348df": {
          "model_module": "@jupyter-widgets/base",
          "model_name": "LayoutModel",
          "model_module_version": "1.2.0",
          "state": {
            "_model_module": "@jupyter-widgets/base",
            "_model_module_version": "1.2.0",
            "_model_name": "LayoutModel",
            "_view_count": null,
            "_view_module": "@jupyter-widgets/base",
            "_view_module_version": "1.2.0",
            "_view_name": "LayoutView",
            "align_content": null,
            "align_items": null,
            "align_self": null,
            "border": null,
            "bottom": null,
            "display": null,
            "flex": null,
            "flex_flow": null,
            "grid_area": null,
            "grid_auto_columns": null,
            "grid_auto_flow": null,
            "grid_auto_rows": null,
            "grid_column": null,
            "grid_gap": null,
            "grid_row": null,
            "grid_template_areas": null,
            "grid_template_columns": null,
            "grid_template_rows": null,
            "height": null,
            "justify_content": null,
            "justify_items": null,
            "left": null,
            "margin": null,
            "max_height": null,
            "max_width": null,
            "min_height": null,
            "min_width": null,
            "object_fit": null,
            "object_position": null,
            "order": null,
            "overflow": null,
            "overflow_x": null,
            "overflow_y": null,
            "padding": null,
            "right": null,
            "top": null,
            "visibility": null,
            "width": null
          }
        },
        "65624f7a6c354cbaaf42ca4196b88b64": {
          "model_module": "@jupyter-widgets/base",
          "model_name": "LayoutModel",
          "model_module_version": "1.2.0",
          "state": {
            "_model_module": "@jupyter-widgets/base",
            "_model_module_version": "1.2.0",
            "_model_name": "LayoutModel",
            "_view_count": null,
            "_view_module": "@jupyter-widgets/base",
            "_view_module_version": "1.2.0",
            "_view_name": "LayoutView",
            "align_content": null,
            "align_items": null,
            "align_self": null,
            "border": null,
            "bottom": null,
            "display": null,
            "flex": null,
            "flex_flow": null,
            "grid_area": null,
            "grid_auto_columns": null,
            "grid_auto_flow": null,
            "grid_auto_rows": null,
            "grid_column": null,
            "grid_gap": null,
            "grid_row": null,
            "grid_template_areas": null,
            "grid_template_columns": null,
            "grid_template_rows": null,
            "height": null,
            "justify_content": null,
            "justify_items": null,
            "left": null,
            "margin": null,
            "max_height": null,
            "max_width": null,
            "min_height": null,
            "min_width": null,
            "object_fit": null,
            "object_position": null,
            "order": null,
            "overflow": null,
            "overflow_x": null,
            "overflow_y": null,
            "padding": null,
            "right": null,
            "top": null,
            "visibility": null,
            "width": null
          }
        },
        "fe4e92ef034449638c3d7f888d5d5f67": {
          "model_module": "@jupyter-widgets/controls",
          "model_name": "DescriptionStyleModel",
          "model_module_version": "1.5.0",
          "state": {
            "_model_module": "@jupyter-widgets/controls",
            "_model_module_version": "1.5.0",
            "_model_name": "DescriptionStyleModel",
            "_view_count": null,
            "_view_module": "@jupyter-widgets/base",
            "_view_module_version": "1.2.0",
            "_view_name": "StyleView",
            "description_width": ""
          }
        },
        "266b9bd8d0514452854435ff7c21e6fd": {
          "model_module": "@jupyter-widgets/base",
          "model_name": "LayoutModel",
          "model_module_version": "1.2.0",
          "state": {
            "_model_module": "@jupyter-widgets/base",
            "_model_module_version": "1.2.0",
            "_model_name": "LayoutModel",
            "_view_count": null,
            "_view_module": "@jupyter-widgets/base",
            "_view_module_version": "1.2.0",
            "_view_name": "LayoutView",
            "align_content": null,
            "align_items": null,
            "align_self": null,
            "border": null,
            "bottom": null,
            "display": null,
            "flex": null,
            "flex_flow": null,
            "grid_area": null,
            "grid_auto_columns": null,
            "grid_auto_flow": null,
            "grid_auto_rows": null,
            "grid_column": null,
            "grid_gap": null,
            "grid_row": null,
            "grid_template_areas": null,
            "grid_template_columns": null,
            "grid_template_rows": null,
            "height": null,
            "justify_content": null,
            "justify_items": null,
            "left": null,
            "margin": null,
            "max_height": null,
            "max_width": null,
            "min_height": null,
            "min_width": null,
            "object_fit": null,
            "object_position": null,
            "order": null,
            "overflow": null,
            "overflow_x": null,
            "overflow_y": null,
            "padding": null,
            "right": null,
            "top": null,
            "visibility": null,
            "width": null
          }
        },
        "b4105acb280e4c7da037cd8b9e1afb76": {
          "model_module": "@jupyter-widgets/controls",
          "model_name": "ProgressStyleModel",
          "model_module_version": "1.5.0",
          "state": {
            "_model_module": "@jupyter-widgets/controls",
            "_model_module_version": "1.5.0",
            "_model_name": "ProgressStyleModel",
            "_view_count": null,
            "_view_module": "@jupyter-widgets/base",
            "_view_module_version": "1.2.0",
            "_view_name": "StyleView",
            "bar_color": null,
            "description_width": ""
          }
        },
        "861ce48fa9014a7c80d1ecb689bfb506": {
          "model_module": "@jupyter-widgets/base",
          "model_name": "LayoutModel",
          "model_module_version": "1.2.0",
          "state": {
            "_model_module": "@jupyter-widgets/base",
            "_model_module_version": "1.2.0",
            "_model_name": "LayoutModel",
            "_view_count": null,
            "_view_module": "@jupyter-widgets/base",
            "_view_module_version": "1.2.0",
            "_view_name": "LayoutView",
            "align_content": null,
            "align_items": null,
            "align_self": null,
            "border": null,
            "bottom": null,
            "display": null,
            "flex": null,
            "flex_flow": null,
            "grid_area": null,
            "grid_auto_columns": null,
            "grid_auto_flow": null,
            "grid_auto_rows": null,
            "grid_column": null,
            "grid_gap": null,
            "grid_row": null,
            "grid_template_areas": null,
            "grid_template_columns": null,
            "grid_template_rows": null,
            "height": null,
            "justify_content": null,
            "justify_items": null,
            "left": null,
            "margin": null,
            "max_height": null,
            "max_width": null,
            "min_height": null,
            "min_width": null,
            "object_fit": null,
            "object_position": null,
            "order": null,
            "overflow": null,
            "overflow_x": null,
            "overflow_y": null,
            "padding": null,
            "right": null,
            "top": null,
            "visibility": null,
            "width": null
          }
        },
        "e41d261271b64e188516b08537a69e58": {
          "model_module": "@jupyter-widgets/controls",
          "model_name": "DescriptionStyleModel",
          "model_module_version": "1.5.0",
          "state": {
            "_model_module": "@jupyter-widgets/controls",
            "_model_module_version": "1.5.0",
            "_model_name": "DescriptionStyleModel",
            "_view_count": null,
            "_view_module": "@jupyter-widgets/base",
            "_view_module_version": "1.2.0",
            "_view_name": "StyleView",
            "description_width": ""
          }
        },
        "3eda901248544138b0a12b0abddb2ebc": {
          "model_module": "@jupyter-widgets/controls",
          "model_name": "HBoxModel",
          "model_module_version": "1.5.0",
          "state": {
            "_dom_classes": [],
            "_model_module": "@jupyter-widgets/controls",
            "_model_module_version": "1.5.0",
            "_model_name": "HBoxModel",
            "_view_count": null,
            "_view_module": "@jupyter-widgets/controls",
            "_view_module_version": "1.5.0",
            "_view_name": "HBoxView",
            "box_style": "",
            "children": [
              "IPY_MODEL_fd6e6fcd924c47649b986c6b661a37bc",
              "IPY_MODEL_6e5552f9bc25428e96fe0b9da6426647",
              "IPY_MODEL_887b6478cda2434fa0a059a00efc9d8f"
            ],
            "layout": "IPY_MODEL_ca2c34dd8032401387d7e4d4c8ff8ae6"
          }
        },
        "fd6e6fcd924c47649b986c6b661a37bc": {
          "model_module": "@jupyter-widgets/controls",
          "model_name": "HTMLModel",
          "model_module_version": "1.5.0",
          "state": {
            "_dom_classes": [],
            "_model_module": "@jupyter-widgets/controls",
            "_model_module_version": "1.5.0",
            "_model_name": "HTMLModel",
            "_view_count": null,
            "_view_module": "@jupyter-widgets/controls",
            "_view_module_version": "1.5.0",
            "_view_name": "HTMLView",
            "description": "",
            "description_tooltip": null,
            "layout": "IPY_MODEL_2f816b51314a4ed1858958d98b45589d",
            "placeholder": "​",
            "style": "IPY_MODEL_fcfc6728ecfb4c0eb8dff2a1412901bf",
            "value": "tokenizer.json: 100%"
          }
        },
        "6e5552f9bc25428e96fe0b9da6426647": {
          "model_module": "@jupyter-widgets/controls",
          "model_name": "FloatProgressModel",
          "model_module_version": "1.5.0",
          "state": {
            "_dom_classes": [],
            "_model_module": "@jupyter-widgets/controls",
            "_model_module_version": "1.5.0",
            "_model_name": "FloatProgressModel",
            "_view_count": null,
            "_view_module": "@jupyter-widgets/controls",
            "_view_module_version": "1.5.0",
            "_view_name": "ProgressView",
            "bar_style": "success",
            "description": "",
            "description_tooltip": null,
            "layout": "IPY_MODEL_50c0363edf3048239ec33ab6ac645169",
            "max": 466062,
            "min": 0,
            "orientation": "horizontal",
            "style": "IPY_MODEL_778d3acd0d59477581d770b0de734fba",
            "value": 466062
          }
        },
        "887b6478cda2434fa0a059a00efc9d8f": {
          "model_module": "@jupyter-widgets/controls",
          "model_name": "HTMLModel",
          "model_module_version": "1.5.0",
          "state": {
            "_dom_classes": [],
            "_model_module": "@jupyter-widgets/controls",
            "_model_module_version": "1.5.0",
            "_model_name": "HTMLModel",
            "_view_count": null,
            "_view_module": "@jupyter-widgets/controls",
            "_view_module_version": "1.5.0",
            "_view_name": "HTMLView",
            "description": "",
            "description_tooltip": null,
            "layout": "IPY_MODEL_8cc1ad8ad72142778476936258963dd2",
            "placeholder": "​",
            "style": "IPY_MODEL_165e68697e2a4eebbba3311978623b9f",
            "value": " 466k/466k [00:00&lt;00:00, 20.7MB/s]"
          }
        },
        "ca2c34dd8032401387d7e4d4c8ff8ae6": {
          "model_module": "@jupyter-widgets/base",
          "model_name": "LayoutModel",
          "model_module_version": "1.2.0",
          "state": {
            "_model_module": "@jupyter-widgets/base",
            "_model_module_version": "1.2.0",
            "_model_name": "LayoutModel",
            "_view_count": null,
            "_view_module": "@jupyter-widgets/base",
            "_view_module_version": "1.2.0",
            "_view_name": "LayoutView",
            "align_content": null,
            "align_items": null,
            "align_self": null,
            "border": null,
            "bottom": null,
            "display": null,
            "flex": null,
            "flex_flow": null,
            "grid_area": null,
            "grid_auto_columns": null,
            "grid_auto_flow": null,
            "grid_auto_rows": null,
            "grid_column": null,
            "grid_gap": null,
            "grid_row": null,
            "grid_template_areas": null,
            "grid_template_columns": null,
            "grid_template_rows": null,
            "height": null,
            "justify_content": null,
            "justify_items": null,
            "left": null,
            "margin": null,
            "max_height": null,
            "max_width": null,
            "min_height": null,
            "min_width": null,
            "object_fit": null,
            "object_position": null,
            "order": null,
            "overflow": null,
            "overflow_x": null,
            "overflow_y": null,
            "padding": null,
            "right": null,
            "top": null,
            "visibility": null,
            "width": null
          }
        },
        "2f816b51314a4ed1858958d98b45589d": {
          "model_module": "@jupyter-widgets/base",
          "model_name": "LayoutModel",
          "model_module_version": "1.2.0",
          "state": {
            "_model_module": "@jupyter-widgets/base",
            "_model_module_version": "1.2.0",
            "_model_name": "LayoutModel",
            "_view_count": null,
            "_view_module": "@jupyter-widgets/base",
            "_view_module_version": "1.2.0",
            "_view_name": "LayoutView",
            "align_content": null,
            "align_items": null,
            "align_self": null,
            "border": null,
            "bottom": null,
            "display": null,
            "flex": null,
            "flex_flow": null,
            "grid_area": null,
            "grid_auto_columns": null,
            "grid_auto_flow": null,
            "grid_auto_rows": null,
            "grid_column": null,
            "grid_gap": null,
            "grid_row": null,
            "grid_template_areas": null,
            "grid_template_columns": null,
            "grid_template_rows": null,
            "height": null,
            "justify_content": null,
            "justify_items": null,
            "left": null,
            "margin": null,
            "max_height": null,
            "max_width": null,
            "min_height": null,
            "min_width": null,
            "object_fit": null,
            "object_position": null,
            "order": null,
            "overflow": null,
            "overflow_x": null,
            "overflow_y": null,
            "padding": null,
            "right": null,
            "top": null,
            "visibility": null,
            "width": null
          }
        },
        "fcfc6728ecfb4c0eb8dff2a1412901bf": {
          "model_module": "@jupyter-widgets/controls",
          "model_name": "DescriptionStyleModel",
          "model_module_version": "1.5.0",
          "state": {
            "_model_module": "@jupyter-widgets/controls",
            "_model_module_version": "1.5.0",
            "_model_name": "DescriptionStyleModel",
            "_view_count": null,
            "_view_module": "@jupyter-widgets/base",
            "_view_module_version": "1.2.0",
            "_view_name": "StyleView",
            "description_width": ""
          }
        },
        "50c0363edf3048239ec33ab6ac645169": {
          "model_module": "@jupyter-widgets/base",
          "model_name": "LayoutModel",
          "model_module_version": "1.2.0",
          "state": {
            "_model_module": "@jupyter-widgets/base",
            "_model_module_version": "1.2.0",
            "_model_name": "LayoutModel",
            "_view_count": null,
            "_view_module": "@jupyter-widgets/base",
            "_view_module_version": "1.2.0",
            "_view_name": "LayoutView",
            "align_content": null,
            "align_items": null,
            "align_self": null,
            "border": null,
            "bottom": null,
            "display": null,
            "flex": null,
            "flex_flow": null,
            "grid_area": null,
            "grid_auto_columns": null,
            "grid_auto_flow": null,
            "grid_auto_rows": null,
            "grid_column": null,
            "grid_gap": null,
            "grid_row": null,
            "grid_template_areas": null,
            "grid_template_columns": null,
            "grid_template_rows": null,
            "height": null,
            "justify_content": null,
            "justify_items": null,
            "left": null,
            "margin": null,
            "max_height": null,
            "max_width": null,
            "min_height": null,
            "min_width": null,
            "object_fit": null,
            "object_position": null,
            "order": null,
            "overflow": null,
            "overflow_x": null,
            "overflow_y": null,
            "padding": null,
            "right": null,
            "top": null,
            "visibility": null,
            "width": null
          }
        },
        "778d3acd0d59477581d770b0de734fba": {
          "model_module": "@jupyter-widgets/controls",
          "model_name": "ProgressStyleModel",
          "model_module_version": "1.5.0",
          "state": {
            "_model_module": "@jupyter-widgets/controls",
            "_model_module_version": "1.5.0",
            "_model_name": "ProgressStyleModel",
            "_view_count": null,
            "_view_module": "@jupyter-widgets/base",
            "_view_module_version": "1.2.0",
            "_view_name": "StyleView",
            "bar_color": null,
            "description_width": ""
          }
        },
        "8cc1ad8ad72142778476936258963dd2": {
          "model_module": "@jupyter-widgets/base",
          "model_name": "LayoutModel",
          "model_module_version": "1.2.0",
          "state": {
            "_model_module": "@jupyter-widgets/base",
            "_model_module_version": "1.2.0",
            "_model_name": "LayoutModel",
            "_view_count": null,
            "_view_module": "@jupyter-widgets/base",
            "_view_module_version": "1.2.0",
            "_view_name": "LayoutView",
            "align_content": null,
            "align_items": null,
            "align_self": null,
            "border": null,
            "bottom": null,
            "display": null,
            "flex": null,
            "flex_flow": null,
            "grid_area": null,
            "grid_auto_columns": null,
            "grid_auto_flow": null,
            "grid_auto_rows": null,
            "grid_column": null,
            "grid_gap": null,
            "grid_row": null,
            "grid_template_areas": null,
            "grid_template_columns": null,
            "grid_template_rows": null,
            "height": null,
            "justify_content": null,
            "justify_items": null,
            "left": null,
            "margin": null,
            "max_height": null,
            "max_width": null,
            "min_height": null,
            "min_width": null,
            "object_fit": null,
            "object_position": null,
            "order": null,
            "overflow": null,
            "overflow_x": null,
            "overflow_y": null,
            "padding": null,
            "right": null,
            "top": null,
            "visibility": null,
            "width": null
          }
        },
        "165e68697e2a4eebbba3311978623b9f": {
          "model_module": "@jupyter-widgets/controls",
          "model_name": "DescriptionStyleModel",
          "model_module_version": "1.5.0",
          "state": {
            "_model_module": "@jupyter-widgets/controls",
            "_model_module_version": "1.5.0",
            "_model_name": "DescriptionStyleModel",
            "_view_count": null,
            "_view_module": "@jupyter-widgets/base",
            "_view_module_version": "1.2.0",
            "_view_name": "StyleView",
            "description_width": ""
          }
        }
      }
    }
  },
  "nbformat": 4,
  "nbformat_minor": 0
}
