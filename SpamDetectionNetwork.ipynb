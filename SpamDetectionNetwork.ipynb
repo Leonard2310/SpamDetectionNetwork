{
  "cells": [
    {
      "cell_type": "markdown",
      "metadata": {
        "id": "4ZBbEhVO9_39"
      },
      "source": [
        "# Drive Linking\n"
      ]
    },
    {
      "cell_type": "code",
      "execution_count": null,
      "metadata": {
        "colab": {
          "base_uri": "https://localhost:8080/"
        },
        "id": "E5cIX4fc8kj3",
        "outputId": "45f0b4d6-a20e-4b04-d2cc-b893d4b50ef5"
      },
      "outputs": [
        {
          "output_type": "stream",
          "name": "stdout",
          "text": [
            "Mounted at /content/drive\n"
          ]
        }
      ],
      "source": [
        "from google.colab import drive                                                  # Importa il modulo Drive di Google Colab\n",
        "\n",
        "drive.mount('/content/drive')                                                   # Indirizzo base del drive"
      ]
    },
    {
      "cell_type": "markdown",
      "metadata": {
        "id": "IDs8YisKAE08"
      },
      "source": [
        "# Library"
      ]
    },
    {
      "cell_type": "code",
      "execution_count": null,
      "metadata": {
        "colab": {
          "base_uri": "https://localhost:8080/",
          "height": 1000
        },
        "id": "dsyEh1viBNrx",
        "outputId": "3de2451f-f81d-4aca-ebaf-700fb4f024e1"
      },
      "outputs": [
        {
          "output_type": "stream",
          "name": "stdout",
          "text": [
            "Collecting googletrans==4.0.0-rc1\n",
            "  Downloading googletrans-4.0.0rc1.tar.gz (20 kB)\n",
            "  Preparing metadata (setup.py) ... \u001b[?25l\u001b[?25hdone\n",
            "Collecting httpx==0.13.3 (from googletrans==4.0.0-rc1)\n",
            "  Downloading httpx-0.13.3-py3-none-any.whl (55 kB)\n",
            "\u001b[2K     \u001b[90m━━━━━━━━━━━━━━━━━━━━━━━━━━━━━━━━━━━━━━━━\u001b[0m \u001b[32m55.1/55.1 kB\u001b[0m \u001b[31m3.3 MB/s\u001b[0m eta \u001b[36m0:00:00\u001b[0m\n",
            "\u001b[?25hRequirement already satisfied: certifi in /usr/local/lib/python3.10/dist-packages (from httpx==0.13.3->googletrans==4.0.0-rc1) (2024.6.2)\n",
            "Collecting hstspreload (from httpx==0.13.3->googletrans==4.0.0-rc1)\n",
            "  Downloading hstspreload-2024.6.1-py3-none-any.whl (1.2 MB)\n",
            "\u001b[2K     \u001b[90m━━━━━━━━━━━━━━━━━━━━━━━━━━━━━━━━━━━━━━━━\u001b[0m \u001b[32m1.2/1.2 MB\u001b[0m \u001b[31m13.1 MB/s\u001b[0m eta \u001b[36m0:00:00\u001b[0m\n",
            "\u001b[?25hRequirement already satisfied: sniffio in /usr/local/lib/python3.10/dist-packages (from httpx==0.13.3->googletrans==4.0.0-rc1) (1.3.1)\n",
            "Collecting chardet==3.* (from httpx==0.13.3->googletrans==4.0.0-rc1)\n",
            "  Downloading chardet-3.0.4-py2.py3-none-any.whl (133 kB)\n",
            "\u001b[2K     \u001b[90m━━━━━━━━━━━━━━━━━━━━━━━━━━━━━━━━━━━━━━━━\u001b[0m \u001b[32m133.4/133.4 kB\u001b[0m \u001b[31m11.9 MB/s\u001b[0m eta \u001b[36m0:00:00\u001b[0m\n",
            "\u001b[?25hCollecting idna==2.* (from httpx==0.13.3->googletrans==4.0.0-rc1)\n",
            "  Downloading idna-2.10-py2.py3-none-any.whl (58 kB)\n",
            "\u001b[2K     \u001b[90m━━━━━━━━━━━━━━━━━━━━━━━━━━━━━━━━━━━━━━━━\u001b[0m \u001b[32m58.8/58.8 kB\u001b[0m \u001b[31m5.6 MB/s\u001b[0m eta \u001b[36m0:00:00\u001b[0m\n",
            "\u001b[?25hCollecting rfc3986<2,>=1.3 (from httpx==0.13.3->googletrans==4.0.0-rc1)\n",
            "  Downloading rfc3986-1.5.0-py2.py3-none-any.whl (31 kB)\n",
            "Collecting httpcore==0.9.* (from httpx==0.13.3->googletrans==4.0.0-rc1)\n",
            "  Downloading httpcore-0.9.1-py3-none-any.whl (42 kB)\n",
            "\u001b[2K     \u001b[90m━━━━━━━━━━━━━━━━━━━━━━━━━━━━━━━━━━━━━━━━\u001b[0m \u001b[32m42.6/42.6 kB\u001b[0m \u001b[31m3.2 MB/s\u001b[0m eta \u001b[36m0:00:00\u001b[0m\n",
            "\u001b[?25hCollecting h11<0.10,>=0.8 (from httpcore==0.9.*->httpx==0.13.3->googletrans==4.0.0-rc1)\n",
            "  Downloading h11-0.9.0-py2.py3-none-any.whl (53 kB)\n",
            "\u001b[2K     \u001b[90m━━━━━━━━━━━━━━━━━━━━━━━━━━━━━━━━━━━━━━━━\u001b[0m \u001b[32m53.6/53.6 kB\u001b[0m \u001b[31m3.0 MB/s\u001b[0m eta \u001b[36m0:00:00\u001b[0m\n",
            "\u001b[?25hCollecting h2==3.* (from httpcore==0.9.*->httpx==0.13.3->googletrans==4.0.0-rc1)\n",
            "  Downloading h2-3.2.0-py2.py3-none-any.whl (65 kB)\n",
            "\u001b[2K     \u001b[90m━━━━━━━━━━━━━━━━━━━━━━━━━━━━━━━━━━━━━━━━\u001b[0m \u001b[32m65.0/65.0 kB\u001b[0m \u001b[31m6.9 MB/s\u001b[0m eta \u001b[36m0:00:00\u001b[0m\n",
            "\u001b[?25hCollecting hyperframe<6,>=5.2.0 (from h2==3.*->httpcore==0.9.*->httpx==0.13.3->googletrans==4.0.0-rc1)\n",
            "  Downloading hyperframe-5.2.0-py2.py3-none-any.whl (12 kB)\n",
            "Collecting hpack<4,>=3.0 (from h2==3.*->httpcore==0.9.*->httpx==0.13.3->googletrans==4.0.0-rc1)\n",
            "  Downloading hpack-3.0.0-py2.py3-none-any.whl (38 kB)\n",
            "Building wheels for collected packages: googletrans\n",
            "  Building wheel for googletrans (setup.py) ... \u001b[?25l\u001b[?25hdone\n",
            "  Created wheel for googletrans: filename=googletrans-4.0.0rc1-py3-none-any.whl size=17395 sha256=be2245b17788ffc9bd74d65a3cc55e34048f53ebbbecab0522cc25cdc6f16378\n",
            "  Stored in directory: /root/.cache/pip/wheels/c0/59/9f/7372f0cf70160fe61b528532e1a7c8498c4becd6bcffb022de\n",
            "Successfully built googletrans\n",
            "Installing collected packages: rfc3986, hyperframe, hpack, h11, chardet, idna, hstspreload, h2, httpcore, httpx, googletrans\n",
            "  Attempting uninstall: chardet\n",
            "    Found existing installation: chardet 5.2.0\n",
            "    Uninstalling chardet-5.2.0:\n",
            "      Successfully uninstalled chardet-5.2.0\n",
            "  Attempting uninstall: idna\n",
            "    Found existing installation: idna 3.7\n",
            "    Uninstalling idna-3.7:\n",
            "      Successfully uninstalled idna-3.7\n",
            "Successfully installed chardet-3.0.4 googletrans-4.0.0rc1 h11-0.9.0 h2-3.2.0 hpack-3.0.0 hstspreload-2024.6.1 httpcore-0.9.1 httpx-0.13.3 hyperframe-5.2.0 idna-2.10 rfc3986-1.5.0\n",
            "Collecting langdetect\n",
            "  Downloading langdetect-1.0.9.tar.gz (981 kB)\n",
            "\u001b[2K     \u001b[90m━━━━━━━━━━━━━━━━━━━━━━━━━━━━━━━━━━━━━━━━\u001b[0m \u001b[32m981.5/981.5 kB\u001b[0m \u001b[31m7.4 MB/s\u001b[0m eta \u001b[36m0:00:00\u001b[0m\n",
            "\u001b[?25h  Preparing metadata (setup.py) ... \u001b[?25l\u001b[?25hdone\n",
            "Requirement already satisfied: six in /usr/local/lib/python3.10/dist-packages (from langdetect) (1.16.0)\n",
            "Building wheels for collected packages: langdetect\n",
            "  Building wheel for langdetect (setup.py) ... \u001b[?25l\u001b[?25hdone\n",
            "  Created wheel for langdetect: filename=langdetect-1.0.9-py3-none-any.whl size=993227 sha256=32b277a6cb2eadb78cdbb05c6b34679a5151c5e9c83c51d17e068664335118bb\n",
            "  Stored in directory: /root/.cache/pip/wheels/95/03/7d/59ea870c70ce4e5a370638b5462a7711ab78fba2f655d05106\n",
            "Successfully built langdetect\n",
            "Installing collected packages: langdetect\n",
            "Successfully installed langdetect-1.0.9\n",
            "Collecting d2l\n",
            "  Downloading d2l-1.0.3-py3-none-any.whl (111 kB)\n",
            "\u001b[2K     \u001b[90m━━━━━━━━━━━━━━━━━━━━━━━━━━━━━━━━━━━━━━━━\u001b[0m \u001b[32m111.7/111.7 kB\u001b[0m \u001b[31m2.0 MB/s\u001b[0m eta \u001b[36m0:00:00\u001b[0m\n",
            "\u001b[?25hCollecting jupyter==1.0.0 (from d2l)\n",
            "  Downloading jupyter-1.0.0-py2.py3-none-any.whl (2.7 kB)\n",
            "Collecting numpy==1.23.5 (from d2l)\n",
            "  Downloading numpy-1.23.5-cp310-cp310-manylinux_2_17_x86_64.manylinux2014_x86_64.whl (17.1 MB)\n",
            "\u001b[2K     \u001b[90m━━━━━━━━━━━━━━━━━━━━━━━━━━━━━━━━━━━━━━━━\u001b[0m \u001b[32m17.1/17.1 MB\u001b[0m \u001b[31m34.8 MB/s\u001b[0m eta \u001b[36m0:00:00\u001b[0m\n",
            "\u001b[?25hCollecting matplotlib==3.7.2 (from d2l)\n",
            "  Downloading matplotlib-3.7.2-cp310-cp310-manylinux_2_17_x86_64.manylinux2014_x86_64.whl (11.6 MB)\n",
            "\u001b[2K     \u001b[90m━━━━━━━━━━━━━━━━━━━━━━━━━━━━━━━━━━━━━━━━\u001b[0m \u001b[32m11.6/11.6 MB\u001b[0m \u001b[31m25.0 MB/s\u001b[0m eta \u001b[36m0:00:00\u001b[0m\n",
            "\u001b[?25hCollecting matplotlib-inline==0.1.6 (from d2l)\n",
            "  Downloading matplotlib_inline-0.1.6-py3-none-any.whl (9.4 kB)\n",
            "Requirement already satisfied: requests==2.31.0 in /usr/local/lib/python3.10/dist-packages (from d2l) (2.31.0)\n",
            "Requirement already satisfied: pandas==2.0.3 in /usr/local/lib/python3.10/dist-packages (from d2l) (2.0.3)\n",
            "Collecting scipy==1.10.1 (from d2l)\n",
            "  Downloading scipy-1.10.1-cp310-cp310-manylinux_2_17_x86_64.manylinux2014_x86_64.whl (34.4 MB)\n",
            "\u001b[2K     \u001b[90m━━━━━━━━━━━━━━━━━━━━━━━━━━━━━━━━━━━━━━━━\u001b[0m \u001b[32m34.4/34.4 MB\u001b[0m \u001b[31m11.1 MB/s\u001b[0m eta \u001b[36m0:00:00\u001b[0m\n",
            "\u001b[?25hRequirement already satisfied: notebook in /usr/local/lib/python3.10/dist-packages (from jupyter==1.0.0->d2l) (6.5.5)\n",
            "Collecting qtconsole (from jupyter==1.0.0->d2l)\n",
            "  Downloading qtconsole-5.5.2-py3-none-any.whl (123 kB)\n",
            "\u001b[2K     \u001b[90m━━━━━━━━━━━━━━━━━━━━━━━━━━━━━━━━━━━━━━━━\u001b[0m \u001b[32m123.4/123.4 kB\u001b[0m \u001b[31m16.0 MB/s\u001b[0m eta \u001b[36m0:00:00\u001b[0m\n",
            "\u001b[?25hRequirement already satisfied: jupyter-console in /usr/local/lib/python3.10/dist-packages (from jupyter==1.0.0->d2l) (6.1.0)\n",
            "Requirement already satisfied: nbconvert in /usr/local/lib/python3.10/dist-packages (from jupyter==1.0.0->d2l) (6.5.4)\n",
            "Requirement already satisfied: ipykernel in /usr/local/lib/python3.10/dist-packages (from jupyter==1.0.0->d2l) (5.5.6)\n",
            "Requirement already satisfied: ipywidgets in /usr/local/lib/python3.10/dist-packages (from jupyter==1.0.0->d2l) (7.7.1)\n",
            "Requirement already satisfied: contourpy>=1.0.1 in /usr/local/lib/python3.10/dist-packages (from matplotlib==3.7.2->d2l) (1.2.1)\n",
            "Requirement already satisfied: cycler>=0.10 in /usr/local/lib/python3.10/dist-packages (from matplotlib==3.7.2->d2l) (0.12.1)\n",
            "Requirement already satisfied: fonttools>=4.22.0 in /usr/local/lib/python3.10/dist-packages (from matplotlib==3.7.2->d2l) (4.53.0)\n",
            "Requirement already satisfied: kiwisolver>=1.0.1 in /usr/local/lib/python3.10/dist-packages (from matplotlib==3.7.2->d2l) (1.4.5)\n",
            "Requirement already satisfied: packaging>=20.0 in /usr/local/lib/python3.10/dist-packages (from matplotlib==3.7.2->d2l) (24.1)\n",
            "Requirement already satisfied: pillow>=6.2.0 in /usr/local/lib/python3.10/dist-packages (from matplotlib==3.7.2->d2l) (9.4.0)\n",
            "Collecting pyparsing<3.1,>=2.3.1 (from matplotlib==3.7.2->d2l)\n",
            "  Downloading pyparsing-3.0.9-py3-none-any.whl (98 kB)\n",
            "\u001b[2K     \u001b[90m━━━━━━━━━━━━━━━━━━━━━━━━━━━━━━━━━━━━━━━━\u001b[0m \u001b[32m98.3/98.3 kB\u001b[0m \u001b[31m10.7 MB/s\u001b[0m eta \u001b[36m0:00:00\u001b[0m\n",
            "\u001b[?25hRequirement already satisfied: python-dateutil>=2.7 in /usr/local/lib/python3.10/dist-packages (from matplotlib==3.7.2->d2l) (2.8.2)\n",
            "Requirement already satisfied: traitlets in /usr/local/lib/python3.10/dist-packages (from matplotlib-inline==0.1.6->d2l) (5.7.1)\n",
            "Requirement already satisfied: pytz>=2020.1 in /usr/local/lib/python3.10/dist-packages (from pandas==2.0.3->d2l) (2023.4)\n",
            "Requirement already satisfied: tzdata>=2022.1 in /usr/local/lib/python3.10/dist-packages (from pandas==2.0.3->d2l) (2024.1)\n",
            "Requirement already satisfied: charset-normalizer<4,>=2 in /usr/local/lib/python3.10/dist-packages (from requests==2.31.0->d2l) (3.3.2)\n",
            "Requirement already satisfied: idna<4,>=2.5 in /usr/local/lib/python3.10/dist-packages (from requests==2.31.0->d2l) (2.10)\n",
            "Requirement already satisfied: urllib3<3,>=1.21.1 in /usr/local/lib/python3.10/dist-packages (from requests==2.31.0->d2l) (2.0.7)\n",
            "Requirement already satisfied: certifi>=2017.4.17 in /usr/local/lib/python3.10/dist-packages (from requests==2.31.0->d2l) (2024.6.2)\n",
            "Requirement already satisfied: six>=1.5 in /usr/local/lib/python3.10/dist-packages (from python-dateutil>=2.7->matplotlib==3.7.2->d2l) (1.16.0)\n",
            "Requirement already satisfied: ipython-genutils in /usr/local/lib/python3.10/dist-packages (from ipykernel->jupyter==1.0.0->d2l) (0.2.0)\n",
            "Requirement already satisfied: ipython>=5.0.0 in /usr/local/lib/python3.10/dist-packages (from ipykernel->jupyter==1.0.0->d2l) (7.34.0)\n",
            "Requirement already satisfied: jupyter-client in /usr/local/lib/python3.10/dist-packages (from ipykernel->jupyter==1.0.0->d2l) (6.1.12)\n",
            "Requirement already satisfied: tornado>=4.2 in /usr/local/lib/python3.10/dist-packages (from ipykernel->jupyter==1.0.0->d2l) (6.3.3)\n",
            "Requirement already satisfied: widgetsnbextension~=3.6.0 in /usr/local/lib/python3.10/dist-packages (from ipywidgets->jupyter==1.0.0->d2l) (3.6.6)\n",
            "Requirement already satisfied: jupyterlab-widgets>=1.0.0 in /usr/local/lib/python3.10/dist-packages (from ipywidgets->jupyter==1.0.0->d2l) (3.0.11)\n",
            "Requirement already satisfied: prompt-toolkit!=3.0.0,!=3.0.1,<3.1.0,>=2.0.0 in /usr/local/lib/python3.10/dist-packages (from jupyter-console->jupyter==1.0.0->d2l) (3.0.47)\n",
            "Requirement already satisfied: pygments in /usr/local/lib/python3.10/dist-packages (from jupyter-console->jupyter==1.0.0->d2l) (2.16.1)\n",
            "Requirement already satisfied: lxml in /usr/local/lib/python3.10/dist-packages (from nbconvert->jupyter==1.0.0->d2l) (4.9.4)\n",
            "Requirement already satisfied: beautifulsoup4 in /usr/local/lib/python3.10/dist-packages (from nbconvert->jupyter==1.0.0->d2l) (4.12.3)\n",
            "Requirement already satisfied: bleach in /usr/local/lib/python3.10/dist-packages (from nbconvert->jupyter==1.0.0->d2l) (6.1.0)\n",
            "Requirement already satisfied: defusedxml in /usr/local/lib/python3.10/dist-packages (from nbconvert->jupyter==1.0.0->d2l) (0.7.1)\n",
            "Requirement already satisfied: entrypoints>=0.2.2 in /usr/local/lib/python3.10/dist-packages (from nbconvert->jupyter==1.0.0->d2l) (0.4)\n",
            "Requirement already satisfied: jinja2>=3.0 in /usr/local/lib/python3.10/dist-packages (from nbconvert->jupyter==1.0.0->d2l) (3.1.4)\n",
            "Requirement already satisfied: jupyter-core>=4.7 in /usr/local/lib/python3.10/dist-packages (from nbconvert->jupyter==1.0.0->d2l) (5.7.2)\n",
            "Requirement already satisfied: jupyterlab-pygments in /usr/local/lib/python3.10/dist-packages (from nbconvert->jupyter==1.0.0->d2l) (0.3.0)\n",
            "Requirement already satisfied: MarkupSafe>=2.0 in /usr/local/lib/python3.10/dist-packages (from nbconvert->jupyter==1.0.0->d2l) (2.1.5)\n",
            "Requirement already satisfied: mistune<2,>=0.8.1 in /usr/local/lib/python3.10/dist-packages (from nbconvert->jupyter==1.0.0->d2l) (0.8.4)\n",
            "Requirement already satisfied: nbclient>=0.5.0 in /usr/local/lib/python3.10/dist-packages (from nbconvert->jupyter==1.0.0->d2l) (0.10.0)\n",
            "Requirement already satisfied: nbformat>=5.1 in /usr/local/lib/python3.10/dist-packages (from nbconvert->jupyter==1.0.0->d2l) (5.10.4)\n",
            "Requirement already satisfied: pandocfilters>=1.4.1 in /usr/local/lib/python3.10/dist-packages (from nbconvert->jupyter==1.0.0->d2l) (1.5.1)\n",
            "Requirement already satisfied: tinycss2 in /usr/local/lib/python3.10/dist-packages (from nbconvert->jupyter==1.0.0->d2l) (1.3.0)\n",
            "Requirement already satisfied: pyzmq<25,>=17 in /usr/local/lib/python3.10/dist-packages (from notebook->jupyter==1.0.0->d2l) (24.0.1)\n",
            "Requirement already satisfied: argon2-cffi in /usr/local/lib/python3.10/dist-packages (from notebook->jupyter==1.0.0->d2l) (23.1.0)\n",
            "Requirement already satisfied: nest-asyncio>=1.5 in /usr/local/lib/python3.10/dist-packages (from notebook->jupyter==1.0.0->d2l) (1.6.0)\n",
            "Requirement already satisfied: Send2Trash>=1.8.0 in /usr/local/lib/python3.10/dist-packages (from notebook->jupyter==1.0.0->d2l) (1.8.3)\n",
            "Requirement already satisfied: terminado>=0.8.3 in /usr/local/lib/python3.10/dist-packages (from notebook->jupyter==1.0.0->d2l) (0.18.1)\n",
            "Requirement already satisfied: prometheus-client in /usr/local/lib/python3.10/dist-packages (from notebook->jupyter==1.0.0->d2l) (0.20.0)\n",
            "Requirement already satisfied: nbclassic>=0.4.7 in /usr/local/lib/python3.10/dist-packages (from notebook->jupyter==1.0.0->d2l) (1.1.0)\n",
            "Collecting qtpy>=2.4.0 (from qtconsole->jupyter==1.0.0->d2l)\n",
            "  Downloading QtPy-2.4.1-py3-none-any.whl (93 kB)\n",
            "\u001b[2K     \u001b[90m━━━━━━━━━━━━━━━━━━━━━━━━━━━━━━━━━━━━━━━━\u001b[0m \u001b[32m93.5/93.5 kB\u001b[0m \u001b[31m11.9 MB/s\u001b[0m eta \u001b[36m0:00:00\u001b[0m\n",
            "\u001b[?25hRequirement already satisfied: setuptools>=18.5 in /usr/local/lib/python3.10/dist-packages (from ipython>=5.0.0->ipykernel->jupyter==1.0.0->d2l) (67.7.2)\n",
            "Collecting jedi>=0.16 (from ipython>=5.0.0->ipykernel->jupyter==1.0.0->d2l)\n",
            "  Downloading jedi-0.19.1-py2.py3-none-any.whl (1.6 MB)\n",
            "\u001b[2K     \u001b[90m━━━━━━━━━━━━━━━━━━━━━━━━━━━━━━━━━━━━━━━━\u001b[0m \u001b[32m1.6/1.6 MB\u001b[0m \u001b[31m60.3 MB/s\u001b[0m eta \u001b[36m0:00:00\u001b[0m\n",
            "\u001b[?25hRequirement already satisfied: decorator in /usr/local/lib/python3.10/dist-packages (from ipython>=5.0.0->ipykernel->jupyter==1.0.0->d2l) (4.4.2)\n",
            "Requirement already satisfied: pickleshare in /usr/local/lib/python3.10/dist-packages (from ipython>=5.0.0->ipykernel->jupyter==1.0.0->d2l) (0.7.5)\n",
            "Requirement already satisfied: backcall in /usr/local/lib/python3.10/dist-packages (from ipython>=5.0.0->ipykernel->jupyter==1.0.0->d2l) (0.2.0)\n",
            "Requirement already satisfied: pexpect>4.3 in /usr/local/lib/python3.10/dist-packages (from ipython>=5.0.0->ipykernel->jupyter==1.0.0->d2l) (4.9.0)\n",
            "Requirement already satisfied: platformdirs>=2.5 in /usr/local/lib/python3.10/dist-packages (from jupyter-core>=4.7->nbconvert->jupyter==1.0.0->d2l) (4.2.2)\n",
            "Requirement already satisfied: notebook-shim>=0.2.3 in /usr/local/lib/python3.10/dist-packages (from nbclassic>=0.4.7->notebook->jupyter==1.0.0->d2l) (0.2.4)\n",
            "Requirement already satisfied: fastjsonschema>=2.15 in /usr/local/lib/python3.10/dist-packages (from nbformat>=5.1->nbconvert->jupyter==1.0.0->d2l) (2.19.1)\n",
            "Requirement already satisfied: jsonschema>=2.6 in /usr/local/lib/python3.10/dist-packages (from nbformat>=5.1->nbconvert->jupyter==1.0.0->d2l) (4.19.2)\n",
            "Requirement already satisfied: wcwidth in /usr/local/lib/python3.10/dist-packages (from prompt-toolkit!=3.0.0,!=3.0.1,<3.1.0,>=2.0.0->jupyter-console->jupyter==1.0.0->d2l) (0.2.13)\n",
            "Requirement already satisfied: ptyprocess in /usr/local/lib/python3.10/dist-packages (from terminado>=0.8.3->notebook->jupyter==1.0.0->d2l) (0.7.0)\n",
            "Requirement already satisfied: argon2-cffi-bindings in /usr/local/lib/python3.10/dist-packages (from argon2-cffi->notebook->jupyter==1.0.0->d2l) (21.2.0)\n",
            "Requirement already satisfied: soupsieve>1.2 in /usr/local/lib/python3.10/dist-packages (from beautifulsoup4->nbconvert->jupyter==1.0.0->d2l) (2.5)\n",
            "Requirement already satisfied: webencodings in /usr/local/lib/python3.10/dist-packages (from bleach->nbconvert->jupyter==1.0.0->d2l) (0.5.1)\n",
            "Requirement already satisfied: parso<0.9.0,>=0.8.3 in /usr/local/lib/python3.10/dist-packages (from jedi>=0.16->ipython>=5.0.0->ipykernel->jupyter==1.0.0->d2l) (0.8.4)\n",
            "Requirement already satisfied: attrs>=22.2.0 in /usr/local/lib/python3.10/dist-packages (from jsonschema>=2.6->nbformat>=5.1->nbconvert->jupyter==1.0.0->d2l) (23.2.0)\n",
            "Requirement already satisfied: jsonschema-specifications>=2023.03.6 in /usr/local/lib/python3.10/dist-packages (from jsonschema>=2.6->nbformat>=5.1->nbconvert->jupyter==1.0.0->d2l) (2023.12.1)\n",
            "Requirement already satisfied: referencing>=0.28.4 in /usr/local/lib/python3.10/dist-packages (from jsonschema>=2.6->nbformat>=5.1->nbconvert->jupyter==1.0.0->d2l) (0.35.1)\n",
            "Requirement already satisfied: rpds-py>=0.7.1 in /usr/local/lib/python3.10/dist-packages (from jsonschema>=2.6->nbformat>=5.1->nbconvert->jupyter==1.0.0->d2l) (0.18.1)\n",
            "Requirement already satisfied: jupyter-server<3,>=1.8 in /usr/local/lib/python3.10/dist-packages (from notebook-shim>=0.2.3->nbclassic>=0.4.7->notebook->jupyter==1.0.0->d2l) (1.24.0)\n",
            "Requirement already satisfied: cffi>=1.0.1 in /usr/local/lib/python3.10/dist-packages (from argon2-cffi-bindings->argon2-cffi->notebook->jupyter==1.0.0->d2l) (1.16.0)\n",
            "Requirement already satisfied: pycparser in /usr/local/lib/python3.10/dist-packages (from cffi>=1.0.1->argon2-cffi-bindings->argon2-cffi->notebook->jupyter==1.0.0->d2l) (2.22)\n",
            "Requirement already satisfied: anyio<4,>=3.1.0 in /usr/local/lib/python3.10/dist-packages (from jupyter-server<3,>=1.8->notebook-shim>=0.2.3->nbclassic>=0.4.7->notebook->jupyter==1.0.0->d2l) (3.7.1)\n",
            "Requirement already satisfied: websocket-client in /usr/local/lib/python3.10/dist-packages (from jupyter-server<3,>=1.8->notebook-shim>=0.2.3->nbclassic>=0.4.7->notebook->jupyter==1.0.0->d2l) (1.8.0)\n",
            "Requirement already satisfied: sniffio>=1.1 in /usr/local/lib/python3.10/dist-packages (from anyio<4,>=3.1.0->jupyter-server<3,>=1.8->notebook-shim>=0.2.3->nbclassic>=0.4.7->notebook->jupyter==1.0.0->d2l) (1.3.1)\n",
            "Requirement already satisfied: exceptiongroup in /usr/local/lib/python3.10/dist-packages (from anyio<4,>=3.1.0->jupyter-server<3,>=1.8->notebook-shim>=0.2.3->nbclassic>=0.4.7->notebook->jupyter==1.0.0->d2l) (1.2.1)\n",
            "Installing collected packages: qtpy, pyparsing, numpy, matplotlib-inline, jedi, scipy, matplotlib, qtconsole, jupyter, d2l\n",
            "  Attempting uninstall: pyparsing\n",
            "    Found existing installation: pyparsing 3.1.2\n",
            "    Uninstalling pyparsing-3.1.2:\n",
            "      Successfully uninstalled pyparsing-3.1.2\n",
            "  Attempting uninstall: numpy\n",
            "    Found existing installation: numpy 1.25.2\n",
            "    Uninstalling numpy-1.25.2:\n",
            "      Successfully uninstalled numpy-1.25.2\n",
            "  Attempting uninstall: matplotlib-inline\n",
            "    Found existing installation: matplotlib-inline 0.1.7\n",
            "    Uninstalling matplotlib-inline-0.1.7:\n",
            "      Successfully uninstalled matplotlib-inline-0.1.7\n",
            "  Attempting uninstall: scipy\n",
            "    Found existing installation: scipy 1.11.4\n",
            "    Uninstalling scipy-1.11.4:\n",
            "      Successfully uninstalled scipy-1.11.4\n",
            "  Attempting uninstall: matplotlib\n",
            "    Found existing installation: matplotlib 3.7.1\n",
            "    Uninstalling matplotlib-3.7.1:\n",
            "      Successfully uninstalled matplotlib-3.7.1\n",
            "\u001b[31mERROR: pip's dependency resolver does not currently take into account all the packages that are installed. This behaviour is the source of the following dependency conflicts.\n",
            "chex 0.1.86 requires numpy>=1.24.1, but you have numpy 1.23.5 which is incompatible.\n",
            "pandas-stubs 2.0.3.230814 requires numpy>=1.25.0; python_version >= \"3.9\", but you have numpy 1.23.5 which is incompatible.\u001b[0m\u001b[31m\n",
            "\u001b[0mSuccessfully installed d2l-1.0.3 jedi-0.19.1 jupyter-1.0.0 matplotlib-3.7.2 matplotlib-inline-0.1.6 numpy-1.23.5 pyparsing-3.0.9 qtconsole-5.5.2 qtpy-2.4.1 scipy-1.10.1\n"
          ]
        },
        {
          "output_type": "display_data",
          "data": {
            "application/vnd.colab-display-data+json": {
              "pip_warning": {
                "packages": [
                  "matplotlib",
                  "matplotlib_inline",
                  "mpl_toolkits",
                  "numpy"
                ]
              },
              "id": "2e791d1a058c4bd8b240337a403a8963"
            }
          },
          "metadata": {}
        },
        {
          "output_type": "stream",
          "name": "stdout",
          "text": [
            "Requirement already satisfied: nltk in /usr/local/lib/python3.10/dist-packages (3.8.1)\n",
            "Requirement already satisfied: click in /usr/local/lib/python3.10/dist-packages (from nltk) (8.1.7)\n",
            "Requirement already satisfied: joblib in /usr/local/lib/python3.10/dist-packages (from nltk) (1.4.2)\n",
            "Requirement already satisfied: regex>=2021.8.3 in /usr/local/lib/python3.10/dist-packages (from nltk) (2024.5.15)\n",
            "Requirement already satisfied: tqdm in /usr/local/lib/python3.10/dist-packages (from nltk) (4.66.4)\n"
          ]
        }
      ],
      "source": [
        "import sys\n",
        "\n",
        "# Installa googletrans se non è già installato\n",
        "if 'googletrans' not in sys.modules:\n",
        "    !pip install googletrans==4.0.0-rc1\n",
        "\n",
        "# Installa langdetect se non è già installato\n",
        "if 'langdetect' not in sys.modules:\n",
        "    !pip install langdetect\n",
        "\n",
        "# Installa d2l se non è già installato\n",
        "if 'd2l' not in sys.modules:\n",
        "    !pip install d2l\n",
        "\n",
        "# Installa nltk se non è già installato\n",
        "if 'nltk' not in sys.modules:\n",
        "    !pip install nltk"
      ]
    },
    {
      "cell_type": "code",
      "execution_count": null,
      "metadata": {
        "id": "yRhYTX6mAGx-"
      },
      "outputs": [],
      "source": [
        "# Librerie per la manipolazione dei dati\n",
        "import pandas as pd\n",
        "import numpy as np\n",
        "import scipy.io as sio  # Per lavorare con file MATLAB\n",
        "\n",
        "# Librerie per l'elaborazione del linguaggio naturale (NLP)\n",
        "import nltk\n",
        "from nltk.corpus import stopwords, wordnet\n",
        "from nltk.stem import WordNetLemmatizer\n",
        "from googletrans import Translator  # Per la traduzione\n",
        "from langdetect import detect, LangDetectException  # Per il rilevamento della lingua\n",
        "\n",
        "# Librerie per l'apprendimento automatico\n",
        "from sklearn.model_selection import train_test_split\n",
        "from sklearn.metrics import accuracy_score, precision_recall_fscore_support, confusion_matrix\n",
        "import tensorflow as tf\n",
        "from transformers import DistilBertTokenizer, DistilBertForSequenceClassification, AdamW, get_linear_schedule_with_warmup, TFDistilBertForSequenceClassification\n",
        "from transformers.optimization_tf import AdamWeightDecay\n",
        "\n",
        "# Librerie per l'elaborazione parallela\n",
        "import os\n",
        "import multiprocessing\n",
        "\n",
        "# Librerie per la gestione delle reti neurali\n",
        "import torch\n",
        "import torch.nn as nn\n",
        "from torch.utils.data import Dataset, DataLoader\n",
        "from torch.nn import CrossEntropyLoss\n",
        "\n",
        "# Altre librerie di supporto\n",
        "from tqdm import tqdm  # Per la barra di avanzamento\n",
        "import d2l  # Deep Learning 2.0, una libreria per l'approfondimento sull'apprendimento automatico\n",
        "import time  # Per la gestione del tempo\n",
        "\n",
        "import json\n",
        "import base64\n",
        "import io\n",
        "import seaborn as sns\n",
        "import re\n",
        "\n",
        "import matplotlib.pyplot as plt"
      ]
    },
    {
      "cell_type": "code",
      "execution_count": null,
      "metadata": {
        "id": "w1ehJp3EQOxd",
        "colab": {
          "base_uri": "https://localhost:8080/"
        },
        "outputId": "ec73e278-11db-45cc-e2a7-8d2da72f0a2f"
      },
      "outputs": [
        {
          "output_type": "stream",
          "name": "stderr",
          "text": [
            "[nltk_data] Downloading package stopwords to /root/nltk_data...\n",
            "[nltk_data]   Unzipping corpora/stopwords.zip.\n",
            "[nltk_data] Downloading package averaged_perceptron_tagger to\n",
            "[nltk_data]     /root/nltk_data...\n",
            "[nltk_data]   Unzipping taggers/averaged_perceptron_tagger.zip.\n",
            "[nltk_data] Downloading package wordnet to /root/nltk_data...\n"
          ]
        },
        {
          "output_type": "execute_result",
          "data": {
            "text/plain": [
              "True"
            ]
          },
          "metadata": {},
          "execution_count": 3
        }
      ],
      "source": [
        "nltk.download('stopwords')\n",
        "nltk.download('averaged_perceptron_tagger')\n",
        "nltk.download('wordnet')"
      ]
    },
    {
      "cell_type": "markdown",
      "metadata": {
        "id": "C4K65O2N-gvB"
      },
      "source": [
        "# Check Device"
      ]
    },
    {
      "cell_type": "code",
      "execution_count": null,
      "metadata": {
        "id": "9EkWT3ks__Dv"
      },
      "outputs": [],
      "source": [
        "# Imposta il dispositivo per l'esecuzione del modello su GPU se disponibile, altrimenti usa la CPU\n",
        "device = torch.device(\"cuda:0\" if torch.cuda.is_available() else \"cpu\")"
      ]
    },
    {
      "cell_type": "code",
      "execution_count": null,
      "metadata": {
        "id": "5pKmGR7G-gHq",
        "colab": {
          "base_uri": "https://localhost:8080/"
        },
        "outputId": "16590fda-085e-47c4-fe0a-698ca793c4f0"
      },
      "outputs": [
        {
          "output_type": "stream",
          "name": "stdout",
          "text": [
            "Version: 2.3.0+cu121\n",
            "Avaible?: True\n",
            "Device: Tesla T4\n",
            "Run GPU?: cuda:0\n"
          ]
        }
      ],
      "source": [
        "print(\"Version: \" + str(torch.__version__))\n",
        "print(\"Avaible?: \" + str(torch.cuda.is_available()))\n",
        "print(\"Device: \" + str(torch.cuda.get_device_name(0)))\n",
        "print(\"Run GPU?: \" + str(device))"
      ]
    },
    {
      "cell_type": "markdown",
      "metadata": {
        "id": "8VLB8JQEADtV"
      },
      "source": [
        "# Path"
      ]
    },
    {
      "cell_type": "code",
      "execution_count": null,
      "metadata": {
        "id": "R56yNiuRAGW3"
      },
      "outputs": [],
      "source": [
        "DATA_PATH = '/content/drive/MyDrive/CCS/Dataset'\n",
        "DATASET_PATH = DATA_PATH + '/enron_spam_data.csv'\n",
        "DATASET_CLEAR_PATH = DATA_PATH + '/enron_spam_data_clear.csv'\n",
        "TRAIN_PATH = DATA_PATH + '/train.csv'\n",
        "VAL_PATH = DATA_PATH + '/val.csv'\n",
        "TEST_PATH = DATA_PATH + '/test.csv'\n",
        "WEIGHTS_PATH = DATA_PATH + '/Weights'\n",
        "TRAIN_FINAL_PATH = DATA_PATH + '/train_final.csv'\n",
        "BEST_WEIGHT_PATH = WEIGHTS_PATH + '/Best_Weight'\n",
        "MODEL_PATH = DATA_PATH + '/Model'"
      ]
    },
    {
      "cell_type": "markdown",
      "metadata": {
        "id": "uO1hnfv1Bi57"
      },
      "source": [
        "# Data Visualization & Pre-Processing"
      ]
    },
    {
      "cell_type": "markdown",
      "source": [
        "\n",
        "\n",
        "1.   lettura del set di dati da file CSV mediante l'uso della libreria Pandas\n",
        "2.   creazione della colonna target mediante la sostituzione della lable spam con il valore 1 e della lable ham con il valore 0\n",
        "3.   unione delle colonne Subject e Message al fine di ottenere il testo da utilizzare per la classificazione\n",
        "4.   rimozione delle informazioni non necessarie (Date, Subject, Message e Message ID)\n",
        "5.   creazione del dataframe finale composto dalle coppie (testo, label) = (Test, Spam/Ham)"
      ],
      "metadata": {
        "id": "nO73wdPjIIZn"
      }
    },
    {
      "cell_type": "code",
      "execution_count": null,
      "metadata": {
        "id": "AYtE4dEZELrI"
      },
      "outputs": [],
      "source": [
        "# Leggi il file CSV e assicurati che contenga colonne 'text' e 'label'\n",
        "df = pd.read_csv(DATASET_PATH)\n",
        "\n",
        "# Riconfigura la colonna 'Spam/Ham' in 1 per 'spam' e 0 per 'ham'\n",
        "df['Spam/Ham'] = df['Spam/Ham'].map({'spam': 1, 'ham': 0})\n",
        "\n",
        "# Unisci le colonne 'Subject' e 'Message' in una nuova colonna chiamata 'Text'\n",
        "df['Text'] = df['Subject'] + ' ' + df['Message']\n",
        "\n",
        "# Rimuovi le colonne specificate\n",
        "df = df.drop(columns=['Date', 'Subject', 'Message', 'Message ID'])\n",
        "\n",
        "# Ordina le colonne: 'Message ID', 'Text', 'Spam/Ham'\n",
        "df = df[['Text', 'Spam/Ham']]"
      ]
    },
    {
      "cell_type": "markdown",
      "source": [
        "**visualizzazione ed analisi dei dati**\n",
        "1.   conteggio del numero di messaggi presenti per ogni etichetta così da stabilire se il dataset è bilanciato o meno\n",
        "2.   individuazione e dei valori mancanti presenti all'interno delle istanze\n",
        "2.   conteggio e calcolo in percentuale dei valori mancanti per ognuna delle classi coinvolte (Spam e Ham)\n",
        "3.   analisi delle istanze con valori mancanti così da stabilire se questi sono presenti all'interno di Subject, di Text o entrambi\n",
        "\n"
      ],
      "metadata": {
        "id": "XuEHg0ZQJkIU"
      }
    },
    {
      "cell_type": "code",
      "execution_count": null,
      "metadata": {
        "id": "RbUzq7j4HzUj",
        "colab": {
          "base_uri": "https://localhost:8080/"
        },
        "outputId": "074e290d-1672-4931-b3ec-bb6d89f96dbd"
      },
      "outputs": [
        {
          "output_type": "stream",
          "name": "stdout",
          "text": [
            "Valori mancanti per etichetta e percentuale:\n",
            "\n",
            "Label 0:\n",
            "Text        52\n",
            "Spam/Ham     0\n",
            "dtype: int64\n",
            "\n",
            "Percentuale dei valori mancanti per label 0:\n",
            "Text        0.314294\n",
            "Spam/Ham    0.000000\n",
            "dtype: float64\n",
            "\n",
            "Label 1:\n",
            "Text        557\n",
            "Spam/Ham      0\n",
            "dtype: int64\n",
            "\n",
            "Percentuale dei valori mancanti per label 1:\n",
            "Text        3.243841\n",
            "Spam/Ham    0.000000\n",
            "dtype: float64\n",
            "\n",
            "Numero totale di messaggi per ciascuna etichetta:\n",
            "Label 1: 17171 messaggi\n",
            "Label 0: 16545 messaggi\n"
          ]
        }
      ],
      "source": [
        "# Stampa il numero totale di messaggi per ciascuna etichetta\n",
        "print(\"\\nNumero totale di messaggi per ciascuna etichetta:\")\n",
        "for label, total in total_per_label.items():\n",
        "    print(f\"Label {label}: {total} messaggi\")\n",
        "\n",
        "# Individua i valori mancanti per ciascuna riga\n",
        "missing_values = df.isnull()\n",
        "\n",
        "# Conta i valori mancanti per ogni etichetta\n",
        "missing_per_label = {}\n",
        "total_per_label = df['Spam/Ham'].value_counts()\n",
        "for label in df['Spam/Ham'].unique():\n",
        "    missing_in_label = missing_values[df['Spam/Ham'] == label]\n",
        "    missing_per_label[label] = missing_in_label.sum()\n",
        "\n",
        "# Calcola la percentuale dei valori mancanti per ogni etichetta\n",
        "percent_missing_per_label = {label: (counts / total_per_label[label] * 100) for label, counts in missing_per_label.items()}\n",
        "\n",
        "# Stampa le informazioni sui valori mancanti per ogni etichetta\n",
        "print(\"Valori mancanti per etichetta e percentuale:\")\n",
        "for label, counts in missing_per_label.items():\n",
        "    print(f\"\\nLabel {label}:\")\n",
        "    perc = percent_missing_per_label[label]\n",
        "    print(counts)\n",
        "    print(f\"\\nPercentuale dei valori mancanti per label {label}:\")\n",
        "    print(percent_missing_per_label[label])\n",
        "\n",
        "# Controlla se in quelli in cui manca il subject manca anche il body\n",
        "missing_subject_and_body = df[missing_values['Text']]\n",
        "\n",
        "# Conta quanti messaggi sono label 0 e quanti 1\n",
        "missing_subject_and_body_per_label = missing_subject_and_body['Spam/Ham'].value_counts()"
      ]
    },
    {
      "cell_type": "markdown",
      "source": [
        "**gestione dei valori mancanti**\n",
        "1.   rimozione dei valori mancanti mediante la rimozione delle istanze che non presentano alcun contenuto in corrispondenza della colonna Text"
      ],
      "metadata": {
        "id": "FlnWwXu-Mhwq"
      }
    },
    {
      "cell_type": "code",
      "execution_count": null,
      "metadata": {
        "id": "aDCGtE1bZGb6"
      },
      "outputs": [],
      "source": [
        "# Elimina le righe contenenti missing value\n",
        "df.dropna(subset=['Text'], inplace=True)"
      ]
    },
    {
      "cell_type": "markdown",
      "source": [
        "**data pre-processing**\n",
        "1.   definizione di una funzione per la conversione del testo da una qualsiasi lingua alla lingua inglese\n",
        "2.   definizionne di una funzione di lemmatizzazione\n",
        "3.   definizione di una funzione di processing del testo\n",
        "    *  conversione del testo in lingua inglese\n",
        "    *  rimozione di elementi non rilevanti ai fini della classificazione (es. articoli, congiunzioni, ...)\n",
        "    *  tokenizzazione del testo al fine di ottenere i token che verranno forniti in ingresso alla rete\n",
        "    *  rimozione delle stopword\n",
        "    *  lemmatizzazione\n",
        "\n"
      ],
      "metadata": {
        "id": "PXiz0iBvM5Nz"
      }
    },
    {
      "cell_type": "code",
      "execution_count": null,
      "metadata": {
        "id": "HjnhX1B3NzWX"
      },
      "outputs": [],
      "source": [
        "# Funzione di traduzione in inglese\n",
        "def translate_to_english(text):\n",
        "    # Verifica se il testo è già in inglese\n",
        "    try:\n",
        "        detected_lang = detect(text)\n",
        "        if detected_lang == 'en':\n",
        "            return text\n",
        "    except LangDetectException as e:\n",
        "        print(f\"Error detecting language: {e}\")\n",
        "        return text  # Se non riesce a rilevare la lingua, considera il testo come già in inglese\n",
        "\n",
        "    translator = Translator()\n",
        "    chunk_size = 500  # Definisci la dimensione del chunk\n",
        "    chunks = [text[i:i + chunk_size] for i in range(0, len(text), chunk_size)]  # Dividi il testo in chunk\n",
        "    translated_chunks = []\n",
        "\n",
        "    try:\n",
        "        for chunk in chunks:\n",
        "            translated_chunk = translator.translate(chunk, src='auto', dest='en').text\n",
        "            translated_chunks.append(translated_chunk)\n",
        "        translated_text = ' '.join(translated_chunks)  # Concatenazione dei chunk tradotti\n",
        "        return translated_text\n",
        "    except Exception as e:\n",
        "        print(f\"Translation failed for text: {text}. Error: {e}\")\n",
        "        return text  # Se la traduzione fallisce, restituisci il testo originale\n",
        "\n",
        "# Funzione di lemmatizzazione con nltk\n",
        "def get_wordnet_pos(word):\n",
        "    \"\"\"Mappa i tag di POS a WordNet POS.\"\"\"\n",
        "    tag = nltk.pos_tag([word])[0][1][0].upper()\n",
        "    tag_dict = {\n",
        "        'J': wordnet.ADJ,\n",
        "        'N': wordnet.NOUN,\n",
        "        'V': wordnet.VERB,\n",
        "        'R': wordnet.ADV\n",
        "    }\n",
        "    return tag_dict.get(tag, wordnet.NOUN)\n",
        "\n",
        "# Funzione di pre-elaborazione del testo\n",
        "def preprocess_text(text):\n",
        "    translated_text = translate_to_english(text)\n",
        "    clean_text = re.sub(r'[^\\w\\s]', '', translated_text)\n",
        "    clean_text = re.sub(r'\\b(in|the|all|for|and|on)\\b', '_connector_', clean_text)\n",
        "\n",
        "    tokenizer = DistilBertTokenizer.from_pretrained('distilbert-base-uncased')\n",
        "    tokens = tokenizer.tokenize(clean_text)\n",
        "\n",
        "    stop_words = set(stopwords.words('english'))\n",
        "\n",
        "    # Rimozione delle stop words senza tqdm\n",
        "    filtered_tokens = [word for word in tokens if word not in stop_words]\n",
        "\n",
        "    # Lemmatizzazione\n",
        "    lemmatizer = WordNetLemmatizer()\n",
        "    lemmatized_tokens = [lemmatizer.lemmatize(word, get_wordnet_pos(word)) for word in filtered_tokens]\n",
        "\n",
        "    processed_text = ' '.join(lemmatized_tokens)\n",
        "    return processed_text\n"
      ]
    },
    {
      "cell_type": "markdown",
      "source": [
        "applicazione delle operazioni di pre-processing al dataset.\n"
      ],
      "metadata": {
        "id": "gjt3Z-N70ILS"
      }
    },
    {
      "cell_type": "code",
      "execution_count": null,
      "metadata": {
        "id": "KM6SYGaRWOQ_",
        "colab": {
          "base_uri": "https://localhost:8080/",
          "height": 391,
          "referenced_widgets": [
            "c48b632392414668a889f573cdc39e38",
            "554e07b4227241b8b2736565f4678ddb",
            "3542fa0d2fc94f3ba8275e6169031184",
            "45f5afe44e504ae694f4c8e6a51df911",
            "6a7d1c30eae84a4486c98f58e5bb49df",
            "4a9893940ec44f269ef356bcddcb5d92",
            "262ffe819d9847d386c7e46a73a62817",
            "45afce5d6fa649d2aff53ad0242c0c6d",
            "19bb34b8e05c4923a9a03bbeea2ff450",
            "c5036d59368b4932a2c4e0afbdea44d0",
            "e1ccab79e47f40b39a6969bee8bae612",
            "0320eb5274f34583b6ba9bb6b38fb462",
            "af756ad7adcc494f9a6cde01b43e6a9c",
            "44465959ba0e47b9a9bd32f6b88eb802",
            "cc0de7aa09784834b1d81bd783307cf7",
            "f8d44251f80046ebbec425006a42887b",
            "d03ccf1320bf4deea42c8db470ead0c4",
            "549745feeaeb4c1bab4421315902f39a",
            "1025d73a1b0f43549be62ba481fe5e69",
            "c8af1a3ad2134e9f9abc7aaf1eaf965f",
            "15ded6c7b28f42899f2ac6026b78d124",
            "5e497a49b7254fc4a05f33656a58133c",
            "14999ac9b4cd4190900532268569f5f3",
            "5540091f12584afdbab03b813ee91641",
            "d87e3518ad7e4709b6f217762c970469",
            "01361de28f05409c81a9e5e47738f39b",
            "1d42f269978847728bc550cea4f284a0",
            "48c684581b9a4b519e8ecf17f57aab36",
            "f49f66c81c8b4a20954aecaece88d1bb",
            "f48f0a5f9b5e4e82a0cc0ed595df9b9f",
            "3aefedffceb74e0ca1f895cbeaa03f95",
            "fec33f0dea014816b0000690726579c7",
            "eff3b0baf75a4784879e6662956ff25f",
            "6b756cb3e08d41b9a8fb955dbdf488c3",
            "e829f4c8b419477399c5c2c133153e6d",
            "711fe8006be041a398abf4bb7a92b88d",
            "b0391b274e434ed4b486f71e5bfe5249",
            "b96c0b4139c949009cacea585056755a",
            "44567a21d5694770b93425efbae574c2",
            "a4def27c0981454d9a389a81a6f3e9ea",
            "4d199083f86640799b4290edc45d8eb2",
            "b48498ca68bc4cbeb684e43773474d16",
            "13e77ac8024442a6a968625d8a5cee4d",
            "e7baf2fff2dd43d088a4953d531433b4"
          ]
        },
        "outputId": "450c7760-b58a-4cce-8f9f-9fd7182ea7ef"
      },
      "outputs": [
        {
          "metadata": {
            "tags": null
          },
          "name": "stderr",
          "output_type": "stream",
          "text": [
            "/usr/local/lib/python3.10/dist-packages/huggingface_hub/utils/_token.py:89: UserWarning: \n",
            "The secret `HF_TOKEN` does not exist in your Colab secrets.\n",
            "To authenticate with the Hugging Face Hub, create a token in your settings tab (https://huggingface.co/settings/tokens), set it as secret in your Google Colab and restart your session.\n",
            "You will be able to reuse this secret in all of your notebooks.\n",
            "Please note that authentication is recommended but still optional to access public models or datasets.\n",
            "  warnings.warn(\n"
          ]
        },
        {
          "data": {
            "application/vnd.jupyter.widget-view+json": {
              "model_id": "c48b632392414668a889f573cdc39e38",
              "version_major": 2,
              "version_minor": 0
            },
            "text/plain": [
              "tokenizer_config.json:   0%|          | 0.00/48.0 [00:00<?, ?B/s]"
            ]
          },
          "metadata": {},
          "output_type": "display_data"
        },
        {
          "data": {
            "application/vnd.jupyter.widget-view+json": {
              "model_id": "0320eb5274f34583b6ba9bb6b38fb462",
              "version_major": 2,
              "version_minor": 0
            },
            "text/plain": [
              "vocab.txt:   0%|          | 0.00/232k [00:00<?, ?B/s]"
            ]
          },
          "metadata": {},
          "output_type": "display_data"
        },
        {
          "data": {
            "application/vnd.jupyter.widget-view+json": {
              "model_id": "14999ac9b4cd4190900532268569f5f3",
              "version_major": 2,
              "version_minor": 0
            },
            "text/plain": [
              "tokenizer.json:   0%|          | 0.00/466k [00:00<?, ?B/s]"
            ]
          },
          "metadata": {},
          "output_type": "display_data"
        },
        {
          "metadata": {
            "tags": null
          },
          "name": "stderr",
          "output_type": "stream",
          "text": [
            "/usr/local/lib/python3.10/dist-packages/huggingface_hub/file_download.py:1132: FutureWarning: `resume_download` is deprecated and will be removed in version 1.0.0. Downloads always resume when possible. If you want to force a new download, use `force_download=True`.\n",
            "  warnings.warn(\n"
          ]
        },
        {
          "data": {
            "application/vnd.jupyter.widget-view+json": {
              "model_id": "6b756cb3e08d41b9a8fb955dbdf488c3",
              "version_major": 2,
              "version_minor": 0
            },
            "text/plain": [
              "config.json:   0%|          | 0.00/483 [00:00<?, ?B/s]"
            ]
          },
          "metadata": {},
          "output_type": "display_data"
        },
        {
          "output_type": "stream",
          "name": "stdout",
          "text": [
            "Error detecting language: No features in text.\n",
            "Error detecting language: No features in text.\n",
            "Error detecting language: No features in text.\n"
          ]
        }
      ],
      "source": [
        "# Applica le trasformazioni alla colonna 'Text'\n",
        "df['Text'] = df['Text'].apply(preprocess_text)"
      ]
    },
    {
      "cell_type": "code",
      "execution_count": null,
      "metadata": {
        "id": "JFQg1ZxFWPnr"
      },
      "outputs": [],
      "source": [
        "df"
      ]
    },
    {
      "cell_type": "markdown",
      "source": [
        "salvataggio del set di dati trasformato al fine di favorire futuri training e testing"
      ],
      "metadata": {
        "id": "nMMkmY8w3VhD"
      }
    },
    {
      "cell_type": "code",
      "execution_count": null,
      "metadata": {
        "id": "KeEWglGhX8xU"
      },
      "outputs": [],
      "source": [
        "# Salva il DataFrame modificato in un nuovo file CSV\n",
        "df.to_csv(DATASET_CLEAR_PATH, index=False)"
      ]
    },
    {
      "cell_type": "markdown",
      "metadata": {
        "id": "4g3daj8TBcZO"
      },
      "source": [
        "# Split"
      ]
    },
    {
      "cell_type": "markdown",
      "source": [
        "caricamento del dataset, ottenuto mediante un precedente pre-processing del dataset originale così da renderlo compatibile con l'addestramento della rete DistilBert"
      ],
      "metadata": {
        "id": "gzqOc2Dv47P6"
      }
    },
    {
      "cell_type": "code",
      "execution_count": null,
      "metadata": {
        "id": "WqPjwhHcnFG_"
      },
      "outputs": [],
      "source": [
        "# Carica il tuo csv in un DataFrame pandas\n",
        "df = pd.read_csv(DATASET_CLEAR_PATH)"
      ]
    },
    {
      "cell_type": "markdown",
      "metadata": {
        "id": "EV37ETDCZBS_"
      },
      "source": [
        "divisione dei dati, in modo stratificato, in set di addestramento (65%), validazione (15%) e test (20%) mediante l'uso della funzione train_test_split"
      ]
    },
    {
      "cell_type": "code",
      "execution_count": null,
      "metadata": {
        "id": "amCqd41ODg9q"
      },
      "outputs": [],
      "source": [
        "# Supponiamo che 'colonna_target' sia la tua variabile target\n",
        "X = df.drop('Spam/Ham', axis=1)\n",
        "y = df['Spam/Ham']\n",
        "\n",
        "# Dividi i dati in set di addestramento e altri dati (validazione + test)\n",
        "X_train, X_other, y_train, y_other = train_test_split(X, y, test_size=0.35, stratify=y, random_state=42)\n",
        "\n",
        "# Dividi ulteriormente X_other e y_other in set di validazione e test\n",
        "X_val, X_test, y_val, y_test = train_test_split(X_other, y_other, test_size=(0.2/0.35), stratify=y_other, random_state=42)"
      ]
    },
    {
      "cell_type": "markdown",
      "source": [
        "salvataggio dei tre set di dati ottenuti in tre file CSV"
      ],
      "metadata": {
        "id": "FHo6ubAn5VZN"
      }
    },
    {
      "cell_type": "code",
      "execution_count": null,
      "metadata": {
        "id": "pWH4YsSSZ1TF"
      },
      "outputs": [],
      "source": [
        "# Salva il set di addestramento in un file CSV\n",
        "train = pd.concat([X_train, y_train], axis=1)\n",
        "train.to_csv(TRAIN_PATH, index=False)\n",
        "\n",
        "# Salva il set di validazione in un file CSV\n",
        "val = pd.concat([X_val, y_val], axis=1)\n",
        "val.to_csv(VAL_PATH, index=False)\n",
        "\n",
        "# Salva il set di test in un file CSV\n",
        "test = pd.concat([X_test, y_test], axis=1)\n",
        "test.to_csv(TEST_PATH, index=False)"
      ]
    },
    {
      "cell_type": "code",
      "execution_count": null,
      "metadata": {
        "id": "LVCGy1wPajST"
      },
      "outputs": [],
      "source": [
        "train_data = pd.read_csv(TRAIN_PATH)\n",
        "val_data = pd.read_csv(VAL_PATH)\n",
        "test_data = pd.read_csv(TEST_PATH)"
      ]
    },
    {
      "cell_type": "markdown",
      "source": [
        "**visualizzazione dei dati di train**"
      ],
      "metadata": {
        "id": "7aCJcLYR5iUv"
      }
    },
    {
      "cell_type": "code",
      "execution_count": null,
      "metadata": {
        "colab": {
          "base_uri": "https://localhost:8080/",
          "height": 424
        },
        "id": "4o8Fnau3atVh",
        "outputId": "3e4a435b-85f2-4b25-be07-d95a83e5ddbf"
      },
      "outputs": [
        {
          "output_type": "execute_result",
          "data": {
            "text/plain": [
              "                                                    Text  Spam/Ham\n",
              "0      ad _ connector _ felt stiff ##en _ connector _...         1\n",
              "1      wait _ connector _ name early ##lar ##ena age ...         1\n",
              "2      waste money buying e usa 8 op 03 ##5 4 wo 5 ##...         1\n",
              "3      software 3000 shatter hello get thousand softw...         1\n",
              "4      vale ##ro meter treat sep ##erate ##ly ticket ...         0\n",
              "...                                                  ...       ...\n",
              "21514  mark palmer ask forward per mark palmer instru...         0\n",
              "21515  _ connector _ _ connector _ top page google gu...         1\n",
              "21516  _ connector _ best sa 7 _ 0 ##d erin ##g ##l #...         1\n",
              "21517  color cop ##ier hello l ##yn certainly hope en...         0\n",
              "21518  proposal submission francois _ connector _ ken...         0\n",
              "\n",
              "[21519 rows x 2 columns]"
            ],
            "text/html": [
              "\n",
              "  <div id=\"df-4804dece-b561-4a46-a699-6ed0f2b4a617\" class=\"colab-df-container\">\n",
              "    <div>\n",
              "<style scoped>\n",
              "    .dataframe tbody tr th:only-of-type {\n",
              "        vertical-align: middle;\n",
              "    }\n",
              "\n",
              "    .dataframe tbody tr th {\n",
              "        vertical-align: top;\n",
              "    }\n",
              "\n",
              "    .dataframe thead th {\n",
              "        text-align: right;\n",
              "    }\n",
              "</style>\n",
              "<table border=\"1\" class=\"dataframe\">\n",
              "  <thead>\n",
              "    <tr style=\"text-align: right;\">\n",
              "      <th></th>\n",
              "      <th>Text</th>\n",
              "      <th>Spam/Ham</th>\n",
              "    </tr>\n",
              "  </thead>\n",
              "  <tbody>\n",
              "    <tr>\n",
              "      <th>0</th>\n",
              "      <td>ad _ connector _ felt stiff ##en _ connector _...</td>\n",
              "      <td>1</td>\n",
              "    </tr>\n",
              "    <tr>\n",
              "      <th>1</th>\n",
              "      <td>wait _ connector _ name early ##lar ##ena age ...</td>\n",
              "      <td>1</td>\n",
              "    </tr>\n",
              "    <tr>\n",
              "      <th>2</th>\n",
              "      <td>waste money buying e usa 8 op 03 ##5 4 wo 5 ##...</td>\n",
              "      <td>1</td>\n",
              "    </tr>\n",
              "    <tr>\n",
              "      <th>3</th>\n",
              "      <td>software 3000 shatter hello get thousand softw...</td>\n",
              "      <td>1</td>\n",
              "    </tr>\n",
              "    <tr>\n",
              "      <th>4</th>\n",
              "      <td>vale ##ro meter treat sep ##erate ##ly ticket ...</td>\n",
              "      <td>0</td>\n",
              "    </tr>\n",
              "    <tr>\n",
              "      <th>...</th>\n",
              "      <td>...</td>\n",
              "      <td>...</td>\n",
              "    </tr>\n",
              "    <tr>\n",
              "      <th>21514</th>\n",
              "      <td>mark palmer ask forward per mark palmer instru...</td>\n",
              "      <td>0</td>\n",
              "    </tr>\n",
              "    <tr>\n",
              "      <th>21515</th>\n",
              "      <td>_ connector _ _ connector _ top page google gu...</td>\n",
              "      <td>1</td>\n",
              "    </tr>\n",
              "    <tr>\n",
              "      <th>21516</th>\n",
              "      <td>_ connector _ best sa 7 _ 0 ##d erin ##g ##l #...</td>\n",
              "      <td>1</td>\n",
              "    </tr>\n",
              "    <tr>\n",
              "      <th>21517</th>\n",
              "      <td>color cop ##ier hello l ##yn certainly hope en...</td>\n",
              "      <td>0</td>\n",
              "    </tr>\n",
              "    <tr>\n",
              "      <th>21518</th>\n",
              "      <td>proposal submission francois _ connector _ ken...</td>\n",
              "      <td>0</td>\n",
              "    </tr>\n",
              "  </tbody>\n",
              "</table>\n",
              "<p>21519 rows × 2 columns</p>\n",
              "</div>\n",
              "    <div class=\"colab-df-buttons\">\n",
              "\n",
              "  <div class=\"colab-df-container\">\n",
              "    <button class=\"colab-df-convert\" onclick=\"convertToInteractive('df-4804dece-b561-4a46-a699-6ed0f2b4a617')\"\n",
              "            title=\"Convert this dataframe to an interactive table.\"\n",
              "            style=\"display:none;\">\n",
              "\n",
              "  <svg xmlns=\"http://www.w3.org/2000/svg\" height=\"24px\" viewBox=\"0 -960 960 960\">\n",
              "    <path d=\"M120-120v-720h720v720H120Zm60-500h600v-160H180v160Zm220 220h160v-160H400v160Zm0 220h160v-160H400v160ZM180-400h160v-160H180v160Zm440 0h160v-160H620v160ZM180-180h160v-160H180v160Zm440 0h160v-160H620v160Z\"/>\n",
              "  </svg>\n",
              "    </button>\n",
              "\n",
              "  <style>\n",
              "    .colab-df-container {\n",
              "      display:flex;\n",
              "      gap: 12px;\n",
              "    }\n",
              "\n",
              "    .colab-df-convert {\n",
              "      background-color: #E8F0FE;\n",
              "      border: none;\n",
              "      border-radius: 50%;\n",
              "      cursor: pointer;\n",
              "      display: none;\n",
              "      fill: #1967D2;\n",
              "      height: 32px;\n",
              "      padding: 0 0 0 0;\n",
              "      width: 32px;\n",
              "    }\n",
              "\n",
              "    .colab-df-convert:hover {\n",
              "      background-color: #E2EBFA;\n",
              "      box-shadow: 0px 1px 2px rgba(60, 64, 67, 0.3), 0px 1px 3px 1px rgba(60, 64, 67, 0.15);\n",
              "      fill: #174EA6;\n",
              "    }\n",
              "\n",
              "    .colab-df-buttons div {\n",
              "      margin-bottom: 4px;\n",
              "    }\n",
              "\n",
              "    [theme=dark] .colab-df-convert {\n",
              "      background-color: #3B4455;\n",
              "      fill: #D2E3FC;\n",
              "    }\n",
              "\n",
              "    [theme=dark] .colab-df-convert:hover {\n",
              "      background-color: #434B5C;\n",
              "      box-shadow: 0px 1px 3px 1px rgba(0, 0, 0, 0.15);\n",
              "      filter: drop-shadow(0px 1px 2px rgba(0, 0, 0, 0.3));\n",
              "      fill: #FFFFFF;\n",
              "    }\n",
              "  </style>\n",
              "\n",
              "    <script>\n",
              "      const buttonEl =\n",
              "        document.querySelector('#df-4804dece-b561-4a46-a699-6ed0f2b4a617 button.colab-df-convert');\n",
              "      buttonEl.style.display =\n",
              "        google.colab.kernel.accessAllowed ? 'block' : 'none';\n",
              "\n",
              "      async function convertToInteractive(key) {\n",
              "        const element = document.querySelector('#df-4804dece-b561-4a46-a699-6ed0f2b4a617');\n",
              "        const dataTable =\n",
              "          await google.colab.kernel.invokeFunction('convertToInteractive',\n",
              "                                                    [key], {});\n",
              "        if (!dataTable) return;\n",
              "\n",
              "        const docLinkHtml = 'Like what you see? Visit the ' +\n",
              "          '<a target=\"_blank\" href=https://colab.research.google.com/notebooks/data_table.ipynb>data table notebook</a>'\n",
              "          + ' to learn more about interactive tables.';\n",
              "        element.innerHTML = '';\n",
              "        dataTable['output_type'] = 'display_data';\n",
              "        await google.colab.output.renderOutput(dataTable, element);\n",
              "        const docLink = document.createElement('div');\n",
              "        docLink.innerHTML = docLinkHtml;\n",
              "        element.appendChild(docLink);\n",
              "      }\n",
              "    </script>\n",
              "  </div>\n",
              "\n",
              "\n",
              "<div id=\"df-f8c2f663-0840-4bb0-ae2d-dc87cff04d6d\">\n",
              "  <button class=\"colab-df-quickchart\" onclick=\"quickchart('df-f8c2f663-0840-4bb0-ae2d-dc87cff04d6d')\"\n",
              "            title=\"Suggest charts\"\n",
              "            style=\"display:none;\">\n",
              "\n",
              "<svg xmlns=\"http://www.w3.org/2000/svg\" height=\"24px\"viewBox=\"0 0 24 24\"\n",
              "     width=\"24px\">\n",
              "    <g>\n",
              "        <path d=\"M19 3H5c-1.1 0-2 .9-2 2v14c0 1.1.9 2 2 2h14c1.1 0 2-.9 2-2V5c0-1.1-.9-2-2-2zM9 17H7v-7h2v7zm4 0h-2V7h2v10zm4 0h-2v-4h2v4z\"/>\n",
              "    </g>\n",
              "</svg>\n",
              "  </button>\n",
              "\n",
              "<style>\n",
              "  .colab-df-quickchart {\n",
              "      --bg-color: #E8F0FE;\n",
              "      --fill-color: #1967D2;\n",
              "      --hover-bg-color: #E2EBFA;\n",
              "      --hover-fill-color: #174EA6;\n",
              "      --disabled-fill-color: #AAA;\n",
              "      --disabled-bg-color: #DDD;\n",
              "  }\n",
              "\n",
              "  [theme=dark] .colab-df-quickchart {\n",
              "      --bg-color: #3B4455;\n",
              "      --fill-color: #D2E3FC;\n",
              "      --hover-bg-color: #434B5C;\n",
              "      --hover-fill-color: #FFFFFF;\n",
              "      --disabled-bg-color: #3B4455;\n",
              "      --disabled-fill-color: #666;\n",
              "  }\n",
              "\n",
              "  .colab-df-quickchart {\n",
              "    background-color: var(--bg-color);\n",
              "    border: none;\n",
              "    border-radius: 50%;\n",
              "    cursor: pointer;\n",
              "    display: none;\n",
              "    fill: var(--fill-color);\n",
              "    height: 32px;\n",
              "    padding: 0;\n",
              "    width: 32px;\n",
              "  }\n",
              "\n",
              "  .colab-df-quickchart:hover {\n",
              "    background-color: var(--hover-bg-color);\n",
              "    box-shadow: 0 1px 2px rgba(60, 64, 67, 0.3), 0 1px 3px 1px rgba(60, 64, 67, 0.15);\n",
              "    fill: var(--button-hover-fill-color);\n",
              "  }\n",
              "\n",
              "  .colab-df-quickchart-complete:disabled,\n",
              "  .colab-df-quickchart-complete:disabled:hover {\n",
              "    background-color: var(--disabled-bg-color);\n",
              "    fill: var(--disabled-fill-color);\n",
              "    box-shadow: none;\n",
              "  }\n",
              "\n",
              "  .colab-df-spinner {\n",
              "    border: 2px solid var(--fill-color);\n",
              "    border-color: transparent;\n",
              "    border-bottom-color: var(--fill-color);\n",
              "    animation:\n",
              "      spin 1s steps(1) infinite;\n",
              "  }\n",
              "\n",
              "  @keyframes spin {\n",
              "    0% {\n",
              "      border-color: transparent;\n",
              "      border-bottom-color: var(--fill-color);\n",
              "      border-left-color: var(--fill-color);\n",
              "    }\n",
              "    20% {\n",
              "      border-color: transparent;\n",
              "      border-left-color: var(--fill-color);\n",
              "      border-top-color: var(--fill-color);\n",
              "    }\n",
              "    30% {\n",
              "      border-color: transparent;\n",
              "      border-left-color: var(--fill-color);\n",
              "      border-top-color: var(--fill-color);\n",
              "      border-right-color: var(--fill-color);\n",
              "    }\n",
              "    40% {\n",
              "      border-color: transparent;\n",
              "      border-right-color: var(--fill-color);\n",
              "      border-top-color: var(--fill-color);\n",
              "    }\n",
              "    60% {\n",
              "      border-color: transparent;\n",
              "      border-right-color: var(--fill-color);\n",
              "    }\n",
              "    80% {\n",
              "      border-color: transparent;\n",
              "      border-right-color: var(--fill-color);\n",
              "      border-bottom-color: var(--fill-color);\n",
              "    }\n",
              "    90% {\n",
              "      border-color: transparent;\n",
              "      border-bottom-color: var(--fill-color);\n",
              "    }\n",
              "  }\n",
              "</style>\n",
              "\n",
              "  <script>\n",
              "    async function quickchart(key) {\n",
              "      const quickchartButtonEl =\n",
              "        document.querySelector('#' + key + ' button');\n",
              "      quickchartButtonEl.disabled = true;  // To prevent multiple clicks.\n",
              "      quickchartButtonEl.classList.add('colab-df-spinner');\n",
              "      try {\n",
              "        const charts = await google.colab.kernel.invokeFunction(\n",
              "            'suggestCharts', [key], {});\n",
              "      } catch (error) {\n",
              "        console.error('Error during call to suggestCharts:', error);\n",
              "      }\n",
              "      quickchartButtonEl.classList.remove('colab-df-spinner');\n",
              "      quickchartButtonEl.classList.add('colab-df-quickchart-complete');\n",
              "    }\n",
              "    (() => {\n",
              "      let quickchartButtonEl =\n",
              "        document.querySelector('#df-f8c2f663-0840-4bb0-ae2d-dc87cff04d6d button');\n",
              "      quickchartButtonEl.style.display =\n",
              "        google.colab.kernel.accessAllowed ? 'block' : 'none';\n",
              "    })();\n",
              "  </script>\n",
              "</div>\n",
              "    </div>\n",
              "  </div>\n"
            ],
            "application/vnd.google.colaboratory.intrinsic+json": {
              "type": "dataframe",
              "variable_name": "train_data",
              "summary": "{\n  \"name\": \"train_data\",\n  \"rows\": 21519,\n  \"fields\": [\n    {\n      \"column\": \"Text\",\n      \"properties\": {\n        \"dtype\": \"string\",\n        \"num_unique_values\": 20021,\n        \"samples\": [\n          \"number web market public institution _ connector _ organization private sector _ connector _ municipal official technically proven maximum quality traffic road staff soldier work _ connector _ safety safety _ connector _ protective addition approximately compose business _ connector _ light clothes 4 ##with minimum cost _ connector _ 500 variety product range reach find everything look _ connector _ please note _ connector _ first _ connector _ single web market _ connector _ sector regard ce ##m ##re lodge safety ltd ##sti http www ##ce ##m ##rel ##oj ##istic com tr life partner\",\n          \"feel old go _ connector _ click _ connector _ help father pain go away http online internet ##stor ##e com v 1 g r v ##lco ##d 1 n c 1 l 1 http online internet ##stor ##e com pay ##pal account carl ##ene mu ##rdo ##ck\",\n          \"chronic cullen 247 _ _ online doctor ##z 70 _ connector _ best pain killer _ connector _ popular med ##s val ##ium _ xx ##ana ##x _ cia ##lis http www vc ##off ##e 245 pill bi ##z b 32 spitfire fa ##go ##tt announce\"\n        ],\n        \"semantic_type\": \"\",\n        \"description\": \"\"\n      }\n    },\n    {\n      \"column\": \"Spam/Ham\",\n      \"properties\": {\n        \"dtype\": \"number\",\n        \"std\": 0,\n        \"min\": 0,\n        \"max\": 1,\n        \"num_unique_values\": 2,\n        \"samples\": [\n          0,\n          1\n        ],\n        \"semantic_type\": \"\",\n        \"description\": \"\"\n      }\n    }\n  ]\n}"
            }
          },
          "metadata": {},
          "execution_count": 9
        }
      ],
      "source": [
        "train_data"
      ]
    },
    {
      "cell_type": "code",
      "execution_count": null,
      "metadata": {
        "colab": {
          "base_uri": "https://localhost:8080/",
          "height": 452
        },
        "id": "rsxcKaWqblml",
        "outputId": "e56756ac-4010-4842-bb6f-b8f8c46579aa"
      },
      "outputs": [
        {
          "output_type": "display_data",
          "data": {
            "text/plain": [
              "<Figure size 640x480 with 1 Axes>"
            ],
            "image/png": "[encoded data removed]"
          },
          "metadata": {}
        }
      ],
      "source": [
        "from matplotlib import pyplot as plt\n",
        "train_data['Spam/Ham'].plot(kind='hist', bins=20, title='Spam/Ham')\n",
        "plt.gca().spines[['top', 'right',]].set_visible(False)"
      ]
    },
    {
      "cell_type": "markdown",
      "source": [
        "**visualizzazione dei dati di validazione**"
      ],
      "metadata": {
        "id": "0PCiGeBw5uQD"
      }
    },
    {
      "cell_type": "code",
      "execution_count": null,
      "metadata": {
        "colab": {
          "base_uri": "https://localhost:8080/",
          "height": 424
        },
        "id": "GAKsH83wa0aG",
        "outputId": "054cbf6d-439a-4fc2-bc32-0fda91236999"
      },
      "outputs": [
        {
          "output_type": "execute_result",
          "data": {
            "text/plain": [
              "                                                   Text  Spam/Ham\n",
              "0     new power ##mo ##d 97 xl ##s marty absolutely ...         0\n",
              "1     start date 1 15 02 hour ##ah ##ead hour 2 star...         0\n",
              "2     spa ##m mail warn notification attachment remo...         1\n",
              "3     computer file protection dear hulk ##j ##r wan...         1\n",
              "4     confirmation order automatic confirmation _ co...         0\n",
              "...                                                 ...       ...\n",
              "4961  hp ##l expense contract f ##yi call question t...         0\n",
              "4962  urgent please dr dan nk ##anga zenith internat...         1\n",
              "4963  cheap online tablet shu ##nt willow ##y ti ##t...         1\n",
              "4964  interview schedule _ connector _ greg mi ##kk ...         0\n",
              "4965  _ connector _ porn get rich sc ##eh ##eme quan...         1\n",
              "\n",
              "[4966 rows x 2 columns]"
            ],
            "text/html": [
              "\n",
              "  <div id=\"df-6363d8da-8a45-40fb-8d83-6479616cb826\" class=\"colab-df-container\">\n",
              "    <div>\n",
              "<style scoped>\n",
              "    .dataframe tbody tr th:only-of-type {\n",
              "        vertical-align: middle;\n",
              "    }\n",
              "\n",
              "    .dataframe tbody tr th {\n",
              "        vertical-align: top;\n",
              "    }\n",
              "\n",
              "    .dataframe thead th {\n",
              "        text-align: right;\n",
              "    }\n",
              "</style>\n",
              "<table border=\"1\" class=\"dataframe\">\n",
              "  <thead>\n",
              "    <tr style=\"text-align: right;\">\n",
              "      <th></th>\n",
              "      <th>Text</th>\n",
              "      <th>Spam/Ham</th>\n",
              "    </tr>\n",
              "  </thead>\n",
              "  <tbody>\n",
              "    <tr>\n",
              "      <th>0</th>\n",
              "      <td>new power ##mo ##d 97 xl ##s marty absolutely ...</td>\n",
              "      <td>0</td>\n",
              "    </tr>\n",
              "    <tr>\n",
              "      <th>1</th>\n",
              "      <td>start date 1 15 02 hour ##ah ##ead hour 2 star...</td>\n",
              "      <td>0</td>\n",
              "    </tr>\n",
              "    <tr>\n",
              "      <th>2</th>\n",
              "      <td>spa ##m mail warn notification attachment remo...</td>\n",
              "      <td>1</td>\n",
              "    </tr>\n",
              "    <tr>\n",
              "      <th>3</th>\n",
              "      <td>computer file protection dear hulk ##j ##r wan...</td>\n",
              "      <td>1</td>\n",
              "    </tr>\n",
              "    <tr>\n",
              "      <th>4</th>\n",
              "      <td>confirmation order automatic confirmation _ co...</td>\n",
              "      <td>0</td>\n",
              "    </tr>\n",
              "    <tr>\n",
              "      <th>...</th>\n",
              "      <td>...</td>\n",
              "      <td>...</td>\n",
              "    </tr>\n",
              "    <tr>\n",
              "      <th>4961</th>\n",
              "      <td>hp ##l expense contract f ##yi call question t...</td>\n",
              "      <td>0</td>\n",
              "    </tr>\n",
              "    <tr>\n",
              "      <th>4962</th>\n",
              "      <td>urgent please dr dan nk ##anga zenith internat...</td>\n",
              "      <td>1</td>\n",
              "    </tr>\n",
              "    <tr>\n",
              "      <th>4963</th>\n",
              "      <td>cheap online tablet shu ##nt willow ##y ti ##t...</td>\n",
              "      <td>1</td>\n",
              "    </tr>\n",
              "    <tr>\n",
              "      <th>4964</th>\n",
              "      <td>interview schedule _ connector _ greg mi ##kk ...</td>\n",
              "      <td>0</td>\n",
              "    </tr>\n",
              "    <tr>\n",
              "      <th>4965</th>\n",
              "      <td>_ connector _ porn get rich sc ##eh ##eme quan...</td>\n",
              "      <td>1</td>\n",
              "    </tr>\n",
              "  </tbody>\n",
              "</table>\n",
              "<p>4966 rows × 2 columns</p>\n",
              "</div>\n",
              "    <div class=\"colab-df-buttons\">\n",
              "\n",
              "  <div class=\"colab-df-container\">\n",
              "    <button class=\"colab-df-convert\" onclick=\"convertToInteractive('df-6363d8da-8a45-40fb-8d83-6479616cb826')\"\n",
              "            title=\"Convert this dataframe to an interactive table.\"\n",
              "            style=\"display:none;\">\n",
              "\n",
              "  <svg xmlns=\"http://www.w3.org/2000/svg\" height=\"24px\" viewBox=\"0 -960 960 960\">\n",
              "    <path d=\"M120-120v-720h720v720H120Zm60-500h600v-160H180v160Zm220 220h160v-160H400v160Zm0 220h160v-160H400v160ZM180-400h160v-160H180v160Zm440 0h160v-160H620v160ZM180-180h160v-160H180v160Zm440 0h160v-160H620v160Z\"/>\n",
              "  </svg>\n",
              "    </button>\n",
              "\n",
              "  <style>\n",
              "    .colab-df-container {\n",
              "      display:flex;\n",
              "      gap: 12px;\n",
              "    }\n",
              "\n",
              "    .colab-df-convert {\n",
              "      background-color: #E8F0FE;\n",
              "      border: none;\n",
              "      border-radius: 50%;\n",
              "      cursor: pointer;\n",
              "      display: none;\n",
              "      fill: #1967D2;\n",
              "      height: 32px;\n",
              "      padding: 0 0 0 0;\n",
              "      width: 32px;\n",
              "    }\n",
              "\n",
              "    .colab-df-convert:hover {\n",
              "      background-color: #E2EBFA;\n",
              "      box-shadow: 0px 1px 2px rgba(60, 64, 67, 0.3), 0px 1px 3px 1px rgba(60, 64, 67, 0.15);\n",
              "      fill: #174EA6;\n",
              "    }\n",
              "\n",
              "    .colab-df-buttons div {\n",
              "      margin-bottom: 4px;\n",
              "    }\n",
              "\n",
              "    [theme=dark] .colab-df-convert {\n",
              "      background-color: #3B4455;\n",
              "      fill: #D2E3FC;\n",
              "    }\n",
              "\n",
              "    [theme=dark] .colab-df-convert:hover {\n",
              "      background-color: #434B5C;\n",
              "      box-shadow: 0px 1px 3px 1px rgba(0, 0, 0, 0.15);\n",
              "      filter: drop-shadow(0px 1px 2px rgba(0, 0, 0, 0.3));\n",
              "      fill: #FFFFFF;\n",
              "    }\n",
              "  </style>\n",
              "\n",
              "    <script>\n",
              "      const buttonEl =\n",
              "        document.querySelector('#df-6363d8da-8a45-40fb-8d83-6479616cb826 button.colab-df-convert');\n",
              "      buttonEl.style.display =\n",
              "        google.colab.kernel.accessAllowed ? 'block' : 'none';\n",
              "\n",
              "      async function convertToInteractive(key) {\n",
              "        const element = document.querySelector('#df-6363d8da-8a45-40fb-8d83-6479616cb826');\n",
              "        const dataTable =\n",
              "          await google.colab.kernel.invokeFunction('convertToInteractive',\n",
              "                                                    [key], {});\n",
              "        if (!dataTable) return;\n",
              "\n",
              "        const docLinkHtml = 'Like what you see? Visit the ' +\n",
              "          '<a target=\"_blank\" href=https://colab.research.google.com/notebooks/data_table.ipynb>data table notebook</a>'\n",
              "          + ' to learn more about interactive tables.';\n",
              "        element.innerHTML = '';\n",
              "        dataTable['output_type'] = 'display_data';\n",
              "        await google.colab.output.renderOutput(dataTable, element);\n",
              "        const docLink = document.createElement('div');\n",
              "        docLink.innerHTML = docLinkHtml;\n",
              "        element.appendChild(docLink);\n",
              "      }\n",
              "    </script>\n",
              "  </div>\n",
              "\n",
              "\n",
              "<div id=\"df-3342e682-b000-48ac-be9c-49c5dac580e0\">\n",
              "  <button class=\"colab-df-quickchart\" onclick=\"quickchart('df-3342e682-b000-48ac-be9c-49c5dac580e0')\"\n",
              "            title=\"Suggest charts\"\n",
              "            style=\"display:none;\">\n",
              "\n",
              "<svg xmlns=\"http://www.w3.org/2000/svg\" height=\"24px\"viewBox=\"0 0 24 24\"\n",
              "     width=\"24px\">\n",
              "    <g>\n",
              "        <path d=\"M19 3H5c-1.1 0-2 .9-2 2v14c0 1.1.9 2 2 2h14c1.1 0 2-.9 2-2V5c0-1.1-.9-2-2-2zM9 17H7v-7h2v7zm4 0h-2V7h2v10zm4 0h-2v-4h2v4z\"/>\n",
              "    </g>\n",
              "</svg>\n",
              "  </button>\n",
              "\n",
              "<style>\n",
              "  .colab-df-quickchart {\n",
              "      --bg-color: #E8F0FE;\n",
              "      --fill-color: #1967D2;\n",
              "      --hover-bg-color: #E2EBFA;\n",
              "      --hover-fill-color: #174EA6;\n",
              "      --disabled-fill-color: #AAA;\n",
              "      --disabled-bg-color: #DDD;\n",
              "  }\n",
              "\n",
              "  [theme=dark] .colab-df-quickchart {\n",
              "      --bg-color: #3B4455;\n",
              "      --fill-color: #D2E3FC;\n",
              "      --hover-bg-color: #434B5C;\n",
              "      --hover-fill-color: #FFFFFF;\n",
              "      --disabled-bg-color: #3B4455;\n",
              "      --disabled-fill-color: #666;\n",
              "  }\n",
              "\n",
              "  .colab-df-quickchart {\n",
              "    background-color: var(--bg-color);\n",
              "    border: none;\n",
              "    border-radius: 50%;\n",
              "    cursor: pointer;\n",
              "    display: none;\n",
              "    fill: var(--fill-color);\n",
              "    height: 32px;\n",
              "    padding: 0;\n",
              "    width: 32px;\n",
              "  }\n",
              "\n",
              "  .colab-df-quickchart:hover {\n",
              "    background-color: var(--hover-bg-color);\n",
              "    box-shadow: 0 1px 2px rgba(60, 64, 67, 0.3), 0 1px 3px 1px rgba(60, 64, 67, 0.15);\n",
              "    fill: var(--button-hover-fill-color);\n",
              "  }\n",
              "\n",
              "  .colab-df-quickchart-complete:disabled,\n",
              "  .colab-df-quickchart-complete:disabled:hover {\n",
              "    background-color: var(--disabled-bg-color);\n",
              "    fill: var(--disabled-fill-color);\n",
              "    box-shadow: none;\n",
              "  }\n",
              "\n",
              "  .colab-df-spinner {\n",
              "    border: 2px solid var(--fill-color);\n",
              "    border-color: transparent;\n",
              "    border-bottom-color: var(--fill-color);\n",
              "    animation:\n",
              "      spin 1s steps(1) infinite;\n",
              "  }\n",
              "\n",
              "  @keyframes spin {\n",
              "    0% {\n",
              "      border-color: transparent;\n",
              "      border-bottom-color: var(--fill-color);\n",
              "      border-left-color: var(--fill-color);\n",
              "    }\n",
              "    20% {\n",
              "      border-color: transparent;\n",
              "      border-left-color: var(--fill-color);\n",
              "      border-top-color: var(--fill-color);\n",
              "    }\n",
              "    30% {\n",
              "      border-color: transparent;\n",
              "      border-left-color: var(--fill-color);\n",
              "      border-top-color: var(--fill-color);\n",
              "      border-right-color: var(--fill-color);\n",
              "    }\n",
              "    40% {\n",
              "      border-color: transparent;\n",
              "      border-right-color: var(--fill-color);\n",
              "      border-top-color: var(--fill-color);\n",
              "    }\n",
              "    60% {\n",
              "      border-color: transparent;\n",
              "      border-right-color: var(--fill-color);\n",
              "    }\n",
              "    80% {\n",
              "      border-color: transparent;\n",
              "      border-right-color: var(--fill-color);\n",
              "      border-bottom-color: var(--fill-color);\n",
              "    }\n",
              "    90% {\n",
              "      border-color: transparent;\n",
              "      border-bottom-color: var(--fill-color);\n",
              "    }\n",
              "  }\n",
              "</style>\n",
              "\n",
              "  <script>\n",
              "    async function quickchart(key) {\n",
              "      const quickchartButtonEl =\n",
              "        document.querySelector('#' + key + ' button');\n",
              "      quickchartButtonEl.disabled = true;  // To prevent multiple clicks.\n",
              "      quickchartButtonEl.classList.add('colab-df-spinner');\n",
              "      try {\n",
              "        const charts = await google.colab.kernel.invokeFunction(\n",
              "            'suggestCharts', [key], {});\n",
              "      } catch (error) {\n",
              "        console.error('Error during call to suggestCharts:', error);\n",
              "      }\n",
              "      quickchartButtonEl.classList.remove('colab-df-spinner');\n",
              "      quickchartButtonEl.classList.add('colab-df-quickchart-complete');\n",
              "    }\n",
              "    (() => {\n",
              "      let quickchartButtonEl =\n",
              "        document.querySelector('#df-3342e682-b000-48ac-be9c-49c5dac580e0 button');\n",
              "      quickchartButtonEl.style.display =\n",
              "        google.colab.kernel.accessAllowed ? 'block' : 'none';\n",
              "    })();\n",
              "  </script>\n",
              "</div>\n",
              "    </div>\n",
              "  </div>\n"
            ],
            "application/vnd.google.colaboratory.intrinsic+json": {
              "type": "dataframe",
              "variable_name": "val_data",
              "summary": "{\n  \"name\": \"val_data\",\n  \"rows\": 4966,\n  \"fields\": [\n    {\n      \"column\": \"Text\",\n      \"properties\": {\n        \"dtype\": \"string\",\n        \"num_unique_values\": 4898,\n        \"samples\": [\n          \"etc theatre event cat please see attach announcement _ connector _ cat margaret ##uce ##tte _ connector _ coordinator _ connector _ event thanks\",\n          \"want submit website search engine know submit ##ting website _ connector _ search engine may increase online sale dramatically invest time _ connector _ money website simply must submit website online otherwise wii ##i invisible vi ##rt ##ua ##ii ##y mean effort spent _ connector _ vain want pe ##op ##ie know website _ connector _ boost revenue _ connector _ way make site vi ##ib ##ie _ connector _ place pe ##op ##ie search _ connector _ information e submit website _ connector _ mu ##iti ##ple search engine submit website ##ii ##ne _ connector _ watch visitor stream e business best regard josef ##ach ##ap ##man _ _ _ _ _ _ _ _ _ _ _ _ _ _ _ _ _ _ _ _ _ _ _ _ _ _ _ _ _ _ _ _ _ _ _ _ _ _ _ _ _ _ _ _ _ _ _ _ _ _ _ _ interested _ _ _ _ _ _ _ _ _ _ _ _ _ _ _ _ _ _ _ _ _ _ _ _ _ _ _ _ _ _ _ _ _ _ _ _ _ _ _ _ _ _ _ _ _ _ _ _ _ _ _ _\",\n          \"e ##ol project vince update _ connector _ thing go regard e ##ol meeting john arnold yesterday show accomplish date _ connector _ think fairly impressed _ connector _ information available ask _ connector _ input _ connector _ express interest _ connector _ couple report make create _ connector _ format _ connector _ data _ connector _ spoke clayton _ connector _ already make change reflect number _ connector _ modification john request also continue research _ connector _ issue automate trading platform _ connector _ e ##ol information _ connector _ na ##da ##q operates _ connector _ look website _ connector _ ec ##ns archipelago island _ connector _ in ##tine ##t also look _ connector _ international security exchange ##e web site seem explain much system suggestion would appreciate want find e ##ol currently _ connector _ modification may necessary _ connector _ _ connector _ exist system finish reading _ connector _ material _ connector _ website investigate _ connector _ try put together presentation _ connector _ _ connector _ greg w ##hall ##ey tom\"\n        ],\n        \"semantic_type\": \"\",\n        \"description\": \"\"\n      }\n    },\n    {\n      \"column\": \"Spam/Ham\",\n      \"properties\": {\n        \"dtype\": \"number\",\n        \"std\": 0,\n        \"min\": 0,\n        \"max\": 1,\n        \"num_unique_values\": 2,\n        \"samples\": [\n          1,\n          0\n        ],\n        \"semantic_type\": \"\",\n        \"description\": \"\"\n      }\n    }\n  ]\n}"
            }
          },
          "metadata": {},
          "execution_count": 11
        }
      ],
      "source": [
        "val_data"
      ]
    },
    {
      "cell_type": "code",
      "execution_count": null,
      "metadata": {
        "colab": {
          "base_uri": "https://localhost:8080/",
          "height": 452
        },
        "id": "HMtKH7XGbpjt",
        "outputId": "e84c23c0-8dff-43f9-b5ef-c201a04b622d"
      },
      "outputs": [
        {
          "output_type": "display_data",
          "data": {
            "text/plain": [
              "<Figure size 640x480 with 1 Axes>"
            ],
            "image/png": "[encoded data removed]"
          },
          "metadata": {}
        }
      ],
      "source": [
        "from matplotlib import pyplot as plt\n",
        "val_data['Spam/Ham'].plot(kind='hist', bins=20, title='Spam/Ham')\n",
        "plt.gca().spines[['top', 'right',]].set_visible(False)"
      ]
    },
    {
      "cell_type": "markdown",
      "source": [
        "**visualizzazione dei dati di test**"
      ],
      "metadata": {
        "id": "5D9tlLBX5yaq"
      }
    },
    {
      "cell_type": "code",
      "execution_count": null,
      "metadata": {
        "colab": {
          "base_uri": "https://localhost:8080/",
          "height": 424
        },
        "id": "RU4Dj2qGa1dT",
        "outputId": "4227bcbf-c717-42ec-8b0e-97bc39df8c22"
      },
      "outputs": [
        {
          "output_type": "execute_result",
          "data": {
            "text/plain": [
              "                                                   Text  Spam/Ham\n",
              "0     rag hard erection formula herbal alternative _...         1\n",
              "1     brent note sally rough draft note visit yester...         0\n",
              "2     commodity logic leslie reef work _ connector _...         0\n",
              "3     start date 1 14 02 hour ##ah ##ead hour 13 sta...         0\n",
              "4     cheap pharmacy rc would like cheap overseas dr...         1\n",
              "...                                                 ...       ...\n",
              "6617  98 63 ##7 ##3 go 98 63 ##7 ##3 sit ##ara deal ...         0\n",
              "6618  inn ##ume ##rable 88 vic ##od ##in professor g...         1\n",
              "6619  ad ##b proposal zu ##ma chris 20 ##a crescent ...         1\n",
              "6620  f ##w status plan revision hi louise attach sc...         0\n",
              "6621  strong v ##lag ##ra body b ##gc ##olo ##r blac...         1\n",
              "\n",
              "[6622 rows x 2 columns]"
            ],
            "text/html": [
              "\n",
              "  <div id=\"df-485c5de8-0ab9-49c7-9d5f-f8acd0f6c9e3\" class=\"colab-df-container\">\n",
              "    <div>\n",
              "<style scoped>\n",
              "    .dataframe tbody tr th:only-of-type {\n",
              "        vertical-align: middle;\n",
              "    }\n",
              "\n",
              "    .dataframe tbody tr th {\n",
              "        vertical-align: top;\n",
              "    }\n",
              "\n",
              "    .dataframe thead th {\n",
              "        text-align: right;\n",
              "    }\n",
              "</style>\n",
              "<table border=\"1\" class=\"dataframe\">\n",
              "  <thead>\n",
              "    <tr style=\"text-align: right;\">\n",
              "      <th></th>\n",
              "      <th>Text</th>\n",
              "      <th>Spam/Ham</th>\n",
              "    </tr>\n",
              "  </thead>\n",
              "  <tbody>\n",
              "    <tr>\n",
              "      <th>0</th>\n",
              "      <td>rag hard erection formula herbal alternative _...</td>\n",
              "      <td>1</td>\n",
              "    </tr>\n",
              "    <tr>\n",
              "      <th>1</th>\n",
              "      <td>brent note sally rough draft note visit yester...</td>\n",
              "      <td>0</td>\n",
              "    </tr>\n",
              "    <tr>\n",
              "      <th>2</th>\n",
              "      <td>commodity logic leslie reef work _ connector _...</td>\n",
              "      <td>0</td>\n",
              "    </tr>\n",
              "    <tr>\n",
              "      <th>3</th>\n",
              "      <td>start date 1 14 02 hour ##ah ##ead hour 13 sta...</td>\n",
              "      <td>0</td>\n",
              "    </tr>\n",
              "    <tr>\n",
              "      <th>4</th>\n",
              "      <td>cheap pharmacy rc would like cheap overseas dr...</td>\n",
              "      <td>1</td>\n",
              "    </tr>\n",
              "    <tr>\n",
              "      <th>...</th>\n",
              "      <td>...</td>\n",
              "      <td>...</td>\n",
              "    </tr>\n",
              "    <tr>\n",
              "      <th>6617</th>\n",
              "      <td>98 63 ##7 ##3 go 98 63 ##7 ##3 sit ##ara deal ...</td>\n",
              "      <td>0</td>\n",
              "    </tr>\n",
              "    <tr>\n",
              "      <th>6618</th>\n",
              "      <td>inn ##ume ##rable 88 vic ##od ##in professor g...</td>\n",
              "      <td>1</td>\n",
              "    </tr>\n",
              "    <tr>\n",
              "      <th>6619</th>\n",
              "      <td>ad ##b proposal zu ##ma chris 20 ##a crescent ...</td>\n",
              "      <td>1</td>\n",
              "    </tr>\n",
              "    <tr>\n",
              "      <th>6620</th>\n",
              "      <td>f ##w status plan revision hi louise attach sc...</td>\n",
              "      <td>0</td>\n",
              "    </tr>\n",
              "    <tr>\n",
              "      <th>6621</th>\n",
              "      <td>strong v ##lag ##ra body b ##gc ##olo ##r blac...</td>\n",
              "      <td>1</td>\n",
              "    </tr>\n",
              "  </tbody>\n",
              "</table>\n",
              "<p>6622 rows × 2 columns</p>\n",
              "</div>\n",
              "    <div class=\"colab-df-buttons\">\n",
              "\n",
              "  <div class=\"colab-df-container\">\n",
              "    <button class=\"colab-df-convert\" onclick=\"convertToInteractive('df-485c5de8-0ab9-49c7-9d5f-f8acd0f6c9e3')\"\n",
              "            title=\"Convert this dataframe to an interactive table.\"\n",
              "            style=\"display:none;\">\n",
              "\n",
              "  <svg xmlns=\"http://www.w3.org/2000/svg\" height=\"24px\" viewBox=\"0 -960 960 960\">\n",
              "    <path d=\"M120-120v-720h720v720H120Zm60-500h600v-160H180v160Zm220 220h160v-160H400v160Zm0 220h160v-160H400v160ZM180-400h160v-160H180v160Zm440 0h160v-160H620v160ZM180-180h160v-160H180v160Zm440 0h160v-160H620v160Z\"/>\n",
              "  </svg>\n",
              "    </button>\n",
              "\n",
              "  <style>\n",
              "    .colab-df-container {\n",
              "      display:flex;\n",
              "      gap: 12px;\n",
              "    }\n",
              "\n",
              "    .colab-df-convert {\n",
              "      background-color: #E8F0FE;\n",
              "      border: none;\n",
              "      border-radius: 50%;\n",
              "      cursor: pointer;\n",
              "      display: none;\n",
              "      fill: #1967D2;\n",
              "      height: 32px;\n",
              "      padding: 0 0 0 0;\n",
              "      width: 32px;\n",
              "    }\n",
              "\n",
              "    .colab-df-convert:hover {\n",
              "      background-color: #E2EBFA;\n",
              "      box-shadow: 0px 1px 2px rgba(60, 64, 67, 0.3), 0px 1px 3px 1px rgba(60, 64, 67, 0.15);\n",
              "      fill: #174EA6;\n",
              "    }\n",
              "\n",
              "    .colab-df-buttons div {\n",
              "      margin-bottom: 4px;\n",
              "    }\n",
              "\n",
              "    [theme=dark] .colab-df-convert {\n",
              "      background-color: #3B4455;\n",
              "      fill: #D2E3FC;\n",
              "    }\n",
              "\n",
              "    [theme=dark] .colab-df-convert:hover {\n",
              "      background-color: #434B5C;\n",
              "      box-shadow: 0px 1px 3px 1px rgba(0, 0, 0, 0.15);\n",
              "      filter: drop-shadow(0px 1px 2px rgba(0, 0, 0, 0.3));\n",
              "      fill: #FFFFFF;\n",
              "    }\n",
              "  </style>\n",
              "\n",
              "    <script>\n",
              "      const buttonEl =\n",
              "        document.querySelector('#df-485c5de8-0ab9-49c7-9d5f-f8acd0f6c9e3 button.colab-df-convert');\n",
              "      buttonEl.style.display =\n",
              "        google.colab.kernel.accessAllowed ? 'block' : 'none';\n",
              "\n",
              "      async function convertToInteractive(key) {\n",
              "        const element = document.querySelector('#df-485c5de8-0ab9-49c7-9d5f-f8acd0f6c9e3');\n",
              "        const dataTable =\n",
              "          await google.colab.kernel.invokeFunction('convertToInteractive',\n",
              "                                                    [key], {});\n",
              "        if (!dataTable) return;\n",
              "\n",
              "        const docLinkHtml = 'Like what you see? Visit the ' +\n",
              "          '<a target=\"_blank\" href=https://colab.research.google.com/notebooks/data_table.ipynb>data table notebook</a>'\n",
              "          + ' to learn more about interactive tables.';\n",
              "        element.innerHTML = '';\n",
              "        dataTable['output_type'] = 'display_data';\n",
              "        await google.colab.output.renderOutput(dataTable, element);\n",
              "        const docLink = document.createElement('div');\n",
              "        docLink.innerHTML = docLinkHtml;\n",
              "        element.appendChild(docLink);\n",
              "      }\n",
              "    </script>\n",
              "  </div>\n",
              "\n",
              "\n",
              "<div id=\"df-02ba2af2-1cb6-4fc0-8e49-7cd3fa1a99d1\">\n",
              "  <button class=\"colab-df-quickchart\" onclick=\"quickchart('df-02ba2af2-1cb6-4fc0-8e49-7cd3fa1a99d1')\"\n",
              "            title=\"Suggest charts\"\n",
              "            style=\"display:none;\">\n",
              "\n",
              "<svg xmlns=\"http://www.w3.org/2000/svg\" height=\"24px\"viewBox=\"0 0 24 24\"\n",
              "     width=\"24px\">\n",
              "    <g>\n",
              "        <path d=\"M19 3H5c-1.1 0-2 .9-2 2v14c0 1.1.9 2 2 2h14c1.1 0 2-.9 2-2V5c0-1.1-.9-2-2-2zM9 17H7v-7h2v7zm4 0h-2V7h2v10zm4 0h-2v-4h2v4z\"/>\n",
              "    </g>\n",
              "</svg>\n",
              "  </button>\n",
              "\n",
              "<style>\n",
              "  .colab-df-quickchart {\n",
              "      --bg-color: #E8F0FE;\n",
              "      --fill-color: #1967D2;\n",
              "      --hover-bg-color: #E2EBFA;\n",
              "      --hover-fill-color: #174EA6;\n",
              "      --disabled-fill-color: #AAA;\n",
              "      --disabled-bg-color: #DDD;\n",
              "  }\n",
              "\n",
              "  [theme=dark] .colab-df-quickchart {\n",
              "      --bg-color: #3B4455;\n",
              "      --fill-color: #D2E3FC;\n",
              "      --hover-bg-color: #434B5C;\n",
              "      --hover-fill-color: #FFFFFF;\n",
              "      --disabled-bg-color: #3B4455;\n",
              "      --disabled-fill-color: #666;\n",
              "  }\n",
              "\n",
              "  .colab-df-quickchart {\n",
              "    background-color: var(--bg-color);\n",
              "    border: none;\n",
              "    border-radius: 50%;\n",
              "    cursor: pointer;\n",
              "    display: none;\n",
              "    fill: var(--fill-color);\n",
              "    height: 32px;\n",
              "    padding: 0;\n",
              "    width: 32px;\n",
              "  }\n",
              "\n",
              "  .colab-df-quickchart:hover {\n",
              "    background-color: var(--hover-bg-color);\n",
              "    box-shadow: 0 1px 2px rgba(60, 64, 67, 0.3), 0 1px 3px 1px rgba(60, 64, 67, 0.15);\n",
              "    fill: var(--button-hover-fill-color);\n",
              "  }\n",
              "\n",
              "  .colab-df-quickchart-complete:disabled,\n",
              "  .colab-df-quickchart-complete:disabled:hover {\n",
              "    background-color: var(--disabled-bg-color);\n",
              "    fill: var(--disabled-fill-color);\n",
              "    box-shadow: none;\n",
              "  }\n",
              "\n",
              "  .colab-df-spinner {\n",
              "    border: 2px solid var(--fill-color);\n",
              "    border-color: transparent;\n",
              "    border-bottom-color: var(--fill-color);\n",
              "    animation:\n",
              "      spin 1s steps(1) infinite;\n",
              "  }\n",
              "\n",
              "  @keyframes spin {\n",
              "    0% {\n",
              "      border-color: transparent;\n",
              "      border-bottom-color: var(--fill-color);\n",
              "      border-left-color: var(--fill-color);\n",
              "    }\n",
              "    20% {\n",
              "      border-color: transparent;\n",
              "      border-left-color: var(--fill-color);\n",
              "      border-top-color: var(--fill-color);\n",
              "    }\n",
              "    30% {\n",
              "      border-color: transparent;\n",
              "      border-left-color: var(--fill-color);\n",
              "      border-top-color: var(--fill-color);\n",
              "      border-right-color: var(--fill-color);\n",
              "    }\n",
              "    40% {\n",
              "      border-color: transparent;\n",
              "      border-right-color: var(--fill-color);\n",
              "      border-top-color: var(--fill-color);\n",
              "    }\n",
              "    60% {\n",
              "      border-color: transparent;\n",
              "      border-right-color: var(--fill-color);\n",
              "    }\n",
              "    80% {\n",
              "      border-color: transparent;\n",
              "      border-right-color: var(--fill-color);\n",
              "      border-bottom-color: var(--fill-color);\n",
              "    }\n",
              "    90% {\n",
              "      border-color: transparent;\n",
              "      border-bottom-color: var(--fill-color);\n",
              "    }\n",
              "  }\n",
              "</style>\n",
              "\n",
              "  <script>\n",
              "    async function quickchart(key) {\n",
              "      const quickchartButtonEl =\n",
              "        document.querySelector('#' + key + ' button');\n",
              "      quickchartButtonEl.disabled = true;  // To prevent multiple clicks.\n",
              "      quickchartButtonEl.classList.add('colab-df-spinner');\n",
              "      try {\n",
              "        const charts = await google.colab.kernel.invokeFunction(\n",
              "            'suggestCharts', [key], {});\n",
              "      } catch (error) {\n",
              "        console.error('Error during call to suggestCharts:', error);\n",
              "      }\n",
              "      quickchartButtonEl.classList.remove('colab-df-spinner');\n",
              "      quickchartButtonEl.classList.add('colab-df-quickchart-complete');\n",
              "    }\n",
              "    (() => {\n",
              "      let quickchartButtonEl =\n",
              "        document.querySelector('#df-02ba2af2-1cb6-4fc0-8e49-7cd3fa1a99d1 button');\n",
              "      quickchartButtonEl.style.display =\n",
              "        google.colab.kernel.accessAllowed ? 'block' : 'none';\n",
              "    })();\n",
              "  </script>\n",
              "</div>\n",
              "    </div>\n",
              "  </div>\n"
            ],
            "application/vnd.google.colaboratory.intrinsic+json": {
              "type": "dataframe",
              "variable_name": "test_data",
              "summary": "{\n  \"name\": \"test_data\",\n  \"rows\": 6622,\n  \"fields\": [\n    {\n      \"column\": \"Text\",\n      \"properties\": {\n        \"dtype\": \"string\",\n        \"num_unique_values\": 6472,\n        \"samples\": [\n          \"en ##ron ##cre ##dit com credit pricing methodology dear _ connector _ attach paper describe _ connector _ propose methodology _ connector _ pricing _ connector _ bankruptcy swap ##s _ connector _ credit market group launch next week _ connector _ methodology intentionally sim ##pl ##istic _ connector _ emphasis _ connector _ provide transparent model give price _ connector _ quick easy understand manner rather create new rocket science could one _ connector _ please review _ connector _ paper _ connector _ give feedback _ connector _ _ connector _ approach _ connector _ advice _ connector _ _ connector _ area still development give u peace mind _ connector _ big launch bryan could ##rea ##d _ connector _ outline _ connector _ section need om ##itt ##ing expand _ connector _ publication _ connector _ _ connector _ website many thanks ben\",\n          \"window xp office xp 80 let ##he chin ##ook ice found bright discus heat turn second work round present sure street put lie wear guide word food lot hold piece long insect read join together difficult front long able answer star child differ left boat thick back third key three need pair ocean company _ connector _ well child take go happen walk seven soon new change\",\n          \"en ##ron hp ##l current _ connector _ july 26 2000 te ##co tap 3000 ##0 en ##ron ##90 ##00 ##0 ##er ##c l ##s hp ##l l ##sk ic 3000 ##0 en ##ron\"\n        ],\n        \"semantic_type\": \"\",\n        \"description\": \"\"\n      }\n    },\n    {\n      \"column\": \"Spam/Ham\",\n      \"properties\": {\n        \"dtype\": \"number\",\n        \"std\": 0,\n        \"min\": 0,\n        \"max\": 1,\n        \"num_unique_values\": 2,\n        \"samples\": [\n          0,\n          1\n        ],\n        \"semantic_type\": \"\",\n        \"description\": \"\"\n      }\n    }\n  ]\n}"
            }
          },
          "metadata": {},
          "execution_count": 13
        }
      ],
      "source": [
        "test_data"
      ]
    },
    {
      "cell_type": "code",
      "execution_count": null,
      "metadata": {
        "colab": {
          "base_uri": "https://localhost:8080/",
          "height": 452
        },
        "id": "5_PSf3f5brx4",
        "outputId": "7f38a79f-8248-45c7-f0e4-705b0243f9e2"
      },
      "outputs": [
        {
          "output_type": "display_data",
          "data": {
            "text/plain": [
              "<Figure size 640x480 with 1 Axes>"
            ],
            "image/png": "[encoded data removed]"
          },
          "metadata": {}
        }
      ],
      "source": [
        "from matplotlib import pyplot as plt\n",
        "test_data['Spam/Ham'].plot(kind='hist', bins=20, title='Spam/Ham')\n",
        "plt.gca().spines[['top', 'right',]].set_visible(False)"
      ]
    },
    {
      "cell_type": "markdown",
      "metadata": {
        "id": "qTnNnrTud1xd"
      },
      "source": [
        "# Model Definition"
      ]
    },
    {
      "cell_type": "markdown",
      "source": [
        "Caricamento del modello DistilBert per la classificazione di sequenze in versione pre-trained.\n",
        "\n",
        "Il modello, una versione \"distillata\" di Bert (rete ampiamente utilizzata nell'elaborazione di dati testuali), è stato scelto per via delle sue dimensioni più ridotte che si traducono in un tempo di addestramento minore senza tuttavia penalizzare le prestazioni."
      ],
      "metadata": {
        "id": "qfhu12xE56Xl"
      }
    },
    {
      "cell_type": "code",
      "execution_count": null,
      "metadata": {
        "id": "g0G3h4rmeSfM",
        "colab": {
          "base_uri": "https://localhost:8080/"
        },
        "outputId": "82e46450-d660-4ec4-fd41-6361cdf9935d"
      },
      "outputs": [
        {
          "output_type": "stream",
          "name": "stderr",
          "text": [
            "Some weights of DistilBertForSequenceClassification were not initialized from the model checkpoint at distilbert-base-uncased and are newly initialized: ['classifier.bias', 'classifier.weight', 'pre_classifier.bias', 'pre_classifier.weight']\n",
            "You should probably TRAIN this model on a down-stream task to be able to use it for predictions and inference.\n"
          ]
        }
      ],
      "source": [
        "model_name = 'distilbert-base-uncased'\n",
        "model = DistilBertForSequenceClassification.from_pretrained(model_name, num_labels=2).to(device)"
      ]
    },
    {
      "cell_type": "markdown",
      "source": [
        "1.   Sostituzione del livello di classificazione (Linear) con una sequenza composta da un livello di attivazione ReLu, un livello di Dropout ed un livello lineare\n",
        "2.   Blocco dell'addestramento dei livelli di feature extraction della rete"
      ],
      "metadata": {
        "id": "trwPZhxBkJJH"
      }
    },
    {
      "cell_type": "code",
      "source": [
        "# Replace the last layer for binary classification\n",
        "num_ftrs = model.classifier.out_features                                        # Number of output features from the penultimate layer\n",
        "# Replace the classifier layer\n",
        "model.classifier = nn.Sequential( nn.ReLU(),\n",
        "                                  nn.Dropout(0.2),\n",
        "                                  nn.Linear(model.classifier.in_features, 2).to(device)\n",
        "                                  )\n",
        "# Freeze all layers except the classifier layer\n",
        "for name, param in model.named_parameters():\n",
        "    if 'classifier' not in name:\n",
        "        param.requires_grad = False"
      ],
      "metadata": {
        "id": "MNCFb2dskAWh"
      },
      "execution_count": null,
      "outputs": []
    },
    {
      "cell_type": "markdown",
      "source": [
        "Caricamento del vocabolario ottenuto dalla funzione di tokenizzazione di Bert"
      ],
      "metadata": {
        "id": "EmDqPA_X9PgU"
      }
    },
    {
      "cell_type": "code",
      "execution_count": null,
      "metadata": {
        "id": "rLAHLXvjd5FJ",
        "colab": {
          "base_uri": "https://localhost:8080/",
          "height": 113,
          "referenced_widgets": [
            "6eb41809915d4af2b3845e6f93f3aabc",
            "00c74c98f6764281bb7d0394309cfb37",
            "630e3892b8e7453fb00172e89ba7f701",
            "5c4df37fef164fbf859472b4ddc0da0e",
            "2f0189ba1edf4a27853111c6199b7fd7",
            "8f195af99ff449448901a97dbc69dac7",
            "3c9ce1c572354f4a8777a6f08dc0e6a9",
            "0fc14ed53c1d4dd58f13591f68bbbbb2",
            "26dd79f6cea74e499a697e4a6f502128",
            "09e4a12a00464a44b824e5cdefa8a211",
            "052b96a5bd1140ccb6a0d21057711fd8",
            "80a5302f16be4385abbe334ecbcffff7",
            "7ed0762642a9474687591a49fef9458d",
            "46e3a9cd1ca14a09847e4db66d9626ee",
            "c425826885e640b08e3ed941872e98ff",
            "a6ee70c4228f428589aad1ee4429040c",
            "5cbf4bfcfa68436589da35e3fe6831c1",
            "ceb46f38fe7641699569925f8b8c15d5",
            "356aa1df82364565a6d87c195483fd07",
            "561a9602e0164873a6e23d35a937caf9",
            "8f18736ac7d64567b673a07d77124670",
            "45760197bf4e471c91cd6d84ac662809",
            "8a7156dc59154392bbf0c07d20c3eec4",
            "c9180513d89b4aec910cb92e6f5736cf",
            "e5a2daddda1049d2ad9dc3988390876b",
            "29b336fbc51f41ab847dc985891bec07",
            "abca6978cd414bb093af67bcbcc8801f",
            "7b0e813dc729433ba15a5cb7b58d8f11",
            "80ac971aeb4148e9b232d3ebfd5f9085",
            "68ddfc6508394443a49779c163e2ed79",
            "ed3bcc16863342349aac9376d182ff2a",
            "155cb7c387fc4171bfd82f64be07640a",
            "b1544395db1240b1909024212709643f"
          ]
        },
        "outputId": "2d687176-a265-49f4-b5a6-82e481964af5"
      },
      "outputs": [
        {
          "output_type": "display_data",
          "data": {
            "text/plain": [
              "tokenizer_config.json:   0%|          | 0.00/48.0 [00:00<?, ?B/s]"
            ],
            "application/vnd.jupyter.widget-view+json": {
              "version_major": 2,
              "version_minor": 0,
              "model_id": "6eb41809915d4af2b3845e6f93f3aabc"
            }
          },
          "metadata": {}
        },
        {
          "output_type": "display_data",
          "data": {
            "text/plain": [
              "vocab.txt:   0%|          | 0.00/232k [00:00<?, ?B/s]"
            ],
            "application/vnd.jupyter.widget-view+json": {
              "version_major": 2,
              "version_minor": 0,
              "model_id": "80a5302f16be4385abbe334ecbcffff7"
            }
          },
          "metadata": {}
        },
        {
          "output_type": "display_data",
          "data": {
            "text/plain": [
              "tokenizer.json:   0%|          | 0.00/466k [00:00<?, ?B/s]"
            ],
            "application/vnd.jupyter.widget-view+json": {
              "version_major": 2,
              "version_minor": 0,
              "model_id": "8a7156dc59154392bbf0c07d20c3eec4"
            }
          },
          "metadata": {}
        }
      ],
      "source": [
        "def get_vocab_from_model(model_name):\n",
        "    tokenizer = DistilBertTokenizer.from_pretrained(model_name)\n",
        "    return tokenizer.get_vocab()\n",
        "\n",
        "vocab = get_vocab_from_model(model_name)"
      ]
    },
    {
      "cell_type": "markdown",
      "metadata": {
        "id": "n3rqIp54bXgZ"
      },
      "source": [
        "# DataLoader Train e Validation"
      ]
    },
    {
      "cell_type": "markdown",
      "source": [
        "**Definizione della classe per la gestione del set di dati**\n",
        "\n",
        "\n",
        "1.   Prelievo dei singoli token e della classe da ogni istanza\n",
        "2.   Per ogni istanza, associazione di un id posizionale ad ogni singolo token\n",
        "\n"
      ],
      "metadata": {
        "id": "1teQ_WkdWDMA"
      }
    },
    {
      "cell_type": "code",
      "execution_count": null,
      "metadata": {
        "id": "wOkYUsGfbZf_"
      },
      "outputs": [],
      "source": [
        "class DistilBERTDataset(torch.utils.data.Dataset):\n",
        "    def __init__(self, dataframe, max_len, model_name):\n",
        "        self.tokenizer = DistilBertTokenizer.from_pretrained(model_name)\n",
        "\n",
        "        dataframe['Text'] = dataframe['Text'].fillna('').astype(str)\n",
        "\n",
        "        sentences = dataframe['Text']\n",
        "        labels = dataframe['Spam/Ham']\n",
        "\n",
        "        all_tokens = [self.tokenizer.tokenize(s) for s in sentences]\n",
        "\n",
        "        self.labels = torch.tensor(labels.values, dtype=torch.long)\n",
        "        self.max_len = max_len\n",
        "        self.all_token_ids, self.valid_lens = self._preprocess(all_tokens)\n",
        "        print('Read ' + str(len(self.all_token_ids)) + ' examples')\n",
        "\n",
        "    def _preprocess(self, all_tokens):\n",
        "        pool = multiprocessing.Pool(4)  # Use 4 worker processes\n",
        "        out = pool.map(self._mp_worker, all_tokens)\n",
        "        all_token_ids = [token_ids for token_ids, valid_len in out]\n",
        "        valid_lens = [valid_len for token_ids, valid_len in out]\n",
        "        return (torch.tensor(all_token_ids, dtype=torch.long),\n",
        "                torch.tensor(valid_lens, dtype=torch.long))\n",
        "\n",
        "    def _mp_worker(self, tokens):\n",
        "        self._truncate_tokens(tokens)\n",
        "        token_ids = self.tokenizer.convert_tokens_to_ids(tokens)\n",
        "        token_ids += [self.tokenizer.pad_token_id] * (self.max_len - len(token_ids))\n",
        "        valid_len = len(tokens)\n",
        "        return token_ids, valid_len\n",
        "\n",
        "    def _truncate_tokens(self, tokens):\n",
        "        while len(tokens) > self.max_len - 2:\n",
        "            tokens.pop()\n",
        "\n",
        "    def __getitem__(self, idx):\n",
        "        input_tensor = self.all_token_ids[idx]\n",
        "        valid_len_tensor = self.valid_lens[idx]\n",
        "        label_tensor = self.labels[idx]\n",
        "        return (input_tensor, valid_len_tensor), label_tensor\n",
        "\n",
        "    def __len__(self):\n",
        "        return len(self.all_token_ids)"
      ]
    },
    {
      "cell_type": "markdown",
      "source": [
        "Prelievo dei set di dati per il train e la validation dai file CSV su cui sono stati precedentemente memorizzati"
      ],
      "metadata": {
        "id": "pfYtDMbiXQvW"
      }
    },
    {
      "cell_type": "code",
      "execution_count": null,
      "metadata": {
        "id": "bJvdKke12JMM"
      },
      "outputs": [],
      "source": [
        "train_data = pd.read_csv(TRAIN_PATH)\n",
        "val_data = pd.read_csv(VAL_PATH)"
      ]
    },
    {
      "cell_type": "markdown",
      "source": [
        "Caricamento dei set di dati mediante la funzione DataLoader disponibile per le istanze della classe sopra definita"
      ],
      "metadata": {
        "id": "jLHowA6EXdWV"
      }
    },
    {
      "cell_type": "code",
      "execution_count": null,
      "metadata": {
        "colab": {
          "base_uri": "https://localhost:8080/"
        },
        "id": "uMtV_mnGcF56",
        "outputId": "a2165cfc-b110-4454-8971-35e5227dc8e4"
      },
      "outputs": [
        {
          "output_type": "stream",
          "name": "stderr",
          "text": [
            "/usr/lib/python3.10/multiprocessing/popen_fork.py:66: RuntimeWarning: os.fork() was called. os.fork() is incompatible with multithreaded code, and JAX is multithreaded, so this will likely lead to a deadlock.\n",
            "  self.pid = os.fork()\n"
          ]
        },
        {
          "output_type": "stream",
          "name": "stdout",
          "text": [
            "Read 21519 examples\n"
          ]
        },
        {
          "output_type": "stream",
          "name": "stderr",
          "text": [
            "/usr/lib/python3.10/multiprocessing/popen_fork.py:66: RuntimeWarning: os.fork() was called. os.fork() is incompatible with multithreaded code, and JAX is multithreaded, so this will likely lead to a deadlock.\n",
            "  self.pid = os.fork()\n"
          ]
        },
        {
          "output_type": "stream",
          "name": "stdout",
          "text": [
            "Read 4966 examples\n"
          ]
        }
      ],
      "source": [
        "batch_size = 512\n",
        "max_len = 128\n",
        "\n",
        "train_set = DistilBERTDataset(train_data, max_len, model_name)\n",
        "val_set = DistilBERTDataset(val_data, max_len, model_name)"
      ]
    },
    {
      "cell_type": "code",
      "execution_count": null,
      "metadata": {
        "id": "W1U3RRx8CkVl"
      },
      "outputs": [],
      "source": [
        "train_dataloader = torch.utils.data.DataLoader(train_set, batch_size, shuffle=True,num_workers=2)\n",
        "val_dataloader = torch.utils.data.DataLoader(val_set, batch_size, shuffle=True,num_workers=2)"
      ]
    },
    {
      "cell_type": "markdown",
      "metadata": {
        "id": "y1QapB8PBm4T"
      },
      "source": [
        "# Training con Validation"
      ]
    },
    {
      "cell_type": "markdown",
      "source": [
        "Definizione della funzione di addestramento della rete con i set di dati di train e validation per l'individuazione degli iper-parametri ottimali per l'addestramento finale."
      ],
      "metadata": {
        "id": "FuUm2sg6Sp_P"
      }
    },
    {
      "cell_type": "code",
      "execution_count": null,
      "metadata": {
        "id": "fi39Hoo7ta0g"
      },
      "outputs": [],
      "source": [
        "def train_loop_validation(train_dataloader, val_dataloader, startEpoch, numEpochs, model_conv, criterion, optimizer, best_acc, best_loss, best_epoca, outputPath, scheduler=None):\n",
        "\n",
        "    train_files = ['lossTrain.txt', 'AccTrain.txt', 'lossVal.txt', 'AccVal.txt']\n",
        "    for filename in train_files:\n",
        "        filepath = os.path.join(outputPath, filename)\n",
        "        if os.path.exists(filepath):\n",
        "            os.remove(filepath)\n",
        "\n",
        "    for epoch in range(startEpoch, numEpochs + 1):\n",
        "        since = time.time()\n",
        "\n",
        "        modelLoss_train = 0.0\n",
        "        modelAcc_train = 0.0\n",
        "\n",
        "        model_conv.train()\n",
        "        totalSize = 0\n",
        "\n",
        "        # Training loop\n",
        "        for batch in tqdm(train_dataloader, total=len(train_dataloader), desc=f\"Epoch {epoch}/{numEpochs} - Training\"):\n",
        "            (inputs, valid_lens), labels = batch\n",
        "\n",
        "            inputs = inputs.to(device)\n",
        "            valid_lens = valid_lens.to(device)\n",
        "            labels = labels.to(device)\n",
        "\n",
        "            optimizer.zero_grad()\n",
        "\n",
        "            # Forward pass\n",
        "            outputs = model_conv(inputs)\n",
        "            logits = outputs.logits  # Access logits from SequenceClassifierOutput\n",
        "            loss = criterion(logits, labels)\n",
        "\n",
        "            # Backward pass and optimization\n",
        "            loss.backward()\n",
        "            optimizer.step()\n",
        "\n",
        "            modelLoss_train += loss.item() * inputs.size(0)\n",
        "            _, preds = torch.max(logits, 1)\n",
        "            modelAcc_train += (preds == labels).sum().item()\n",
        "            totalSize += inputs.size(0)\n",
        "\n",
        "        epoch_loss = modelLoss_train / totalSize\n",
        "        epoch_acc = modelAcc_train / totalSize\n",
        "\n",
        "        # Validation loop\n",
        "        model_conv.eval()\n",
        "        modelLoss_val = 0.0\n",
        "        modelAcc_val = 0.0\n",
        "        totalSize_val = 0\n",
        "\n",
        "        with torch.no_grad():\n",
        "            for batch in tqdm(val_dataloader, total=len(val_dataloader), desc=f\"Epoch {epoch}/{numEpochs} - Validation\"):\n",
        "                (inputs, valid_lens), labels = batch\n",
        "\n",
        "                inputs = inputs.to(device)\n",
        "                valid_lens = valid_lens.to(device)\n",
        "                labels = labels.to(device)  # No need for .view(-1, 1) and .float()\n",
        "\n",
        "                outputs = model_conv(inputs)\n",
        "                logits = outputs.logits  # Access logits from SequenceClassifierOutput\n",
        "                loss = criterion(logits, labels)\n",
        "\n",
        "                modelLoss_val += loss.item() * inputs.size(0)\n",
        "                _, preds = torch.max(logits, 1)\n",
        "                modelAcc_val += (preds == labels).sum().item()\n",
        "                totalSize_val += inputs.size(0)\n",
        "\n",
        "        val_loss = modelLoss_val / totalSize_val\n",
        "        val_acc = modelAcc_val / totalSize_val\n",
        "\n",
        "        time_elapsed = time.time() - since\n",
        "        current_lr = optimizer.param_groups[0]['lr']\n",
        "\n",
        "        print('[Epoch %d][TRAIN on %d [Loss: %.4f  ACC: %.4f]][VAL on %d [Loss: %.4f  ACC: %.4f]][TIME: %.0f m %.0f s] [LR: %.5f]'\n",
        "              % (epoch, totalSize, epoch_loss, epoch_acc, totalSize_val, val_loss, val_acc, time_elapsed // 60, time_elapsed % 60, current_lr))\n",
        "\n",
        "        if val_acc > best_acc or (val_acc == best_acc and val_loss < best_loss):\n",
        "            best_acc = val_acc\n",
        "            best_loss = val_loss\n",
        "            best_epoca = epoch\n",
        "            print('     .... Saving best weights ....')\n",
        "            torch.save(model_conv.state_dict(), os.path.join(outputPath, 'best_model_weights.pth'))\n",
        "\n",
        "        with open(os.path.join(outputPath, 'lossTrain.txt'), 'a') as f:\n",
        "            f.write(f'{epoch_loss}\\n')\n",
        "        with open(os.path.join(outputPath, 'AccTrain.txt'), 'a') as f:\n",
        "            f.write(f'{epoch_acc}\\n')\n",
        "        with open(os.path.join(outputPath, 'lossVal.txt'), 'a') as f:\n",
        "            f.write(f'{val_loss}\\n')\n",
        "        with open(os.path.join(outputPath, 'AccVal.txt'), 'a') as f:\n",
        "            f.write(f'{val_acc}\\n')\n",
        "\n",
        "        if scheduler:\n",
        "            scheduler.step(val_loss)\n",
        "\n",
        "    return best_epoca"
      ]
    },
    {
      "cell_type": "code",
      "execution_count": null,
      "metadata": {
        "colab": {
          "base_uri": "https://localhost:8080/"
        },
        "id": "l6jTDT_Xwf66",
        "outputId": "39ba40c3-e1c6-42d8-ce0f-8b92efec3363"
      },
      "outputs": [
        {
          "output_type": "stream",
          "name": "stderr",
          "text": [
            "Some weights of DistilBertForSequenceClassification were not initialized from the model checkpoint at distilbert-base-uncased and are newly initialized: ['classifier.bias', 'classifier.weight', 'pre_classifier.bias', 'pre_classifier.weight']\n",
            "You should probably TRAIN this model on a down-stream task to be able to use it for predictions and inference.\n"
          ]
        }
      ],
      "source": [
        "device = torch.device(\"cuda\" if torch.cuda.is_available() else \"cpu\") #vedo se la GPU è disponibile\n",
        "\n",
        "#gia stato fatto in model definition\n",
        "model = DistilBertForSequenceClassification.from_pretrained(model_name, num_labels=2).to(device)"
      ]
    },
    {
      "cell_type": "markdown",
      "source": [
        "Settaggio degli iper-parametri"
      ],
      "metadata": {
        "id": "zuFMf3DShmiQ"
      }
    },
    {
      "cell_type": "code",
      "source": [
        "# Updated hyperparameters\n",
        "learning_rate = 0.0008                                                           # Learning rate for the optimizer\n",
        "num_epochs = 40                                                                 # Total number of epochs for training\n",
        "startEpoch = 1                                                                  # Initial epoch (useful for resuming interrupted training)\n",
        "best_acc = 0.0                                                                  # Initial best accuracy (to track the best model)\n",
        "best_loss = float('inf')                                                        # Initial best loss (to track the best model)\n",
        "best_epoch = -1                                                                 # Epoch corresponding to the best saved model"
      ],
      "metadata": {
        "id": "ZC1kjC5ThlSe"
      },
      "execution_count": null,
      "outputs": []
    },
    {
      "cell_type": "markdown",
      "source": [
        "**Preparazione del modello per l'addestramento**\n",
        "\n",
        "\n",
        "1.   Scelta della funzione di perdita (CrossEntropy) e dell'ottimizzatore (AdamW)\n",
        "\n"
      ],
      "metadata": {
        "id": "AO2XEyc-T8VG"
      }
    },
    {
      "cell_type": "code",
      "execution_count": null,
      "metadata": {
        "id": "6Cb2TPU2vMnm"
      },
      "outputs": [],
      "source": [
        "# Define criterion and optimizer\n",
        "criterion = nn.CrossEntropyLoss().to(device) #scelgo come loss function la CrossEntropy()\n",
        "optimizer = AdamW(model.parameters(), lr=learning_rate, correct_bias=False) #scelgo AdamW come ottimizzatore"
      ]
    },
    {
      "cell_type": "markdown",
      "source": [
        "Addestramento della rete"
      ],
      "metadata": {
        "id": "n4nutZpbUyNP"
      }
    },
    {
      "cell_type": "code",
      "execution_count": null,
      "metadata": {
        "colab": {
          "base_uri": "https://localhost:8080/"
        },
        "id": "vrkaARhDvhX7",
        "outputId": "9fce273d-683a-44bc-b0de-62c889f3ef49"
      },
      "outputs": [
        {
          "output_type": "stream",
          "name": "stderr",
          "text": [
            "Epoch 1/40 - Training: 100%|██████████| 43/43 [01:17<00:00,  1.81s/it]\n",
            "Epoch 1/40 - Validation: 100%|██████████| 10/10 [00:17<00:00,  1.73s/it]\n"
          ]
        },
        {
          "output_type": "stream",
          "name": "stdout",
          "text": [
            "[Epoch 1][TRAIN on 21519 [Loss: 0.5232  ACC: 0.7146]][VAL on 4966 [Loss: 0.5280  ACC: 0.7191]][TIME: 1 m 35 s] [LR: 0.00080]\n",
            "     .... Saving best weights ....\n"
          ]
        },
        {
          "output_type": "stream",
          "name": "stderr",
          "text": [
            "Epoch 2/40 - Training: 100%|██████████| 43/43 [01:17<00:00,  1.80s/it]\n",
            "Epoch 2/40 - Validation: 100%|██████████| 10/10 [00:17<00:00,  1.74s/it]\n"
          ]
        },
        {
          "output_type": "stream",
          "name": "stdout",
          "text": [
            "[Epoch 2][TRAIN on 21519 [Loss: 0.3794  ACC: 0.8182]][VAL on 4966 [Loss: 0.3373  ACC: 0.8598]][TIME: 1 m 35 s] [LR: 0.00080]\n",
            "     .... Saving best weights ....\n"
          ]
        },
        {
          "output_type": "stream",
          "name": "stderr",
          "text": [
            "Epoch 3/40 - Training: 100%|██████████| 43/43 [01:16<00:00,  1.79s/it]\n",
            "Epoch 3/40 - Validation: 100%|██████████| 10/10 [00:17<00:00,  1.74s/it]\n"
          ]
        },
        {
          "output_type": "stream",
          "name": "stdout",
          "text": [
            "[Epoch 3][TRAIN on 21519 [Loss: 0.3343  ACC: 0.8467]][VAL on 4966 [Loss: 0.3506  ACC: 0.7968]][TIME: 1 m 34 s] [LR: 0.00080]\n"
          ]
        },
        {
          "output_type": "stream",
          "name": "stderr",
          "text": [
            "Epoch 4/40 - Training: 100%|██████████| 43/43 [01:16<00:00,  1.79s/it]\n",
            "Epoch 4/40 - Validation: 100%|██████████| 10/10 [00:17<00:00,  1.75s/it]\n"
          ]
        },
        {
          "output_type": "stream",
          "name": "stdout",
          "text": [
            "[Epoch 4][TRAIN on 21519 [Loss: 0.3160  ACC: 0.8557]][VAL on 4966 [Loss: 0.2839  ACC: 0.8905]][TIME: 1 m 34 s] [LR: 0.00080]\n",
            "     .... Saving best weights ....\n"
          ]
        },
        {
          "output_type": "stream",
          "name": "stderr",
          "text": [
            "Epoch 5/40 - Training: 100%|██████████| 43/43 [01:17<00:00,  1.79s/it]\n",
            "Epoch 5/40 - Validation: 100%|██████████| 10/10 [00:17<00:00,  1.75s/it]\n"
          ]
        },
        {
          "output_type": "stream",
          "name": "stdout",
          "text": [
            "[Epoch 5][TRAIN on 21519 [Loss: 0.3074  ACC: 0.8624]][VAL on 4966 [Loss: 0.3527  ACC: 0.7942]][TIME: 1 m 35 s] [LR: 0.00080]\n"
          ]
        },
        {
          "output_type": "stream",
          "name": "stderr",
          "text": [
            "Epoch 6/40 - Training: 100%|██████████| 43/43 [01:16<00:00,  1.78s/it]\n",
            "Epoch 6/40 - Validation: 100%|██████████| 10/10 [00:17<00:00,  1.74s/it]\n"
          ]
        },
        {
          "output_type": "stream",
          "name": "stdout",
          "text": [
            "[Epoch 6][TRAIN on 21519 [Loss: 0.3045  ACC: 0.8619]][VAL on 4966 [Loss: 0.2975  ACC: 0.8397]][TIME: 1 m 34 s] [LR: 0.00080]\n"
          ]
        },
        {
          "output_type": "stream",
          "name": "stderr",
          "text": [
            "Epoch 7/40 - Training: 100%|██████████| 43/43 [01:16<00:00,  1.78s/it]\n",
            "Epoch 7/40 - Validation: 100%|██████████| 10/10 [00:17<00:00,  1.73s/it]\n"
          ]
        },
        {
          "output_type": "stream",
          "name": "stdout",
          "text": [
            "[Epoch 7][TRAIN on 21519 [Loss: 0.2928  ACC: 0.8715]][VAL on 4966 [Loss: 0.2617  ACC: 0.9029]][TIME: 1 m 34 s] [LR: 0.00080]\n",
            "     .... Saving best weights ....\n"
          ]
        },
        {
          "output_type": "stream",
          "name": "stderr",
          "text": [
            "Epoch 8/40 - Training: 100%|██████████| 43/43 [01:17<00:00,  1.80s/it]\n",
            "Epoch 8/40 - Validation: 100%|██████████| 10/10 [00:17<00:00,  1.72s/it]\n"
          ]
        },
        {
          "output_type": "stream",
          "name": "stdout",
          "text": [
            "[Epoch 8][TRAIN on 21519 [Loss: 0.2877  ACC: 0.8735]][VAL on 4966 [Loss: 0.2787  ACC: 0.8707]][TIME: 1 m 34 s] [LR: 0.00080]\n"
          ]
        },
        {
          "output_type": "stream",
          "name": "stderr",
          "text": [
            "Epoch 9/40 - Training: 100%|██████████| 43/43 [01:16<00:00,  1.79s/it]\n",
            "Epoch 9/40 - Validation: 100%|██████████| 10/10 [00:17<00:00,  1.74s/it]\n"
          ]
        },
        {
          "output_type": "stream",
          "name": "stdout",
          "text": [
            "[Epoch 9][TRAIN on 21519 [Loss: 0.2827  ACC: 0.8780]][VAL on 4966 [Loss: 0.2701  ACC: 0.8800]][TIME: 1 m 34 s] [LR: 0.00080]\n"
          ]
        },
        {
          "output_type": "stream",
          "name": "stderr",
          "text": [
            "Epoch 10/40 - Training: 100%|██████████| 43/43 [01:16<00:00,  1.79s/it]\n",
            "Epoch 10/40 - Validation: 100%|██████████| 10/10 [00:17<00:00,  1.74s/it]\n"
          ]
        },
        {
          "output_type": "stream",
          "name": "stdout",
          "text": [
            "[Epoch 10][TRAIN on 21519 [Loss: 0.2751  ACC: 0.8826]][VAL on 4966 [Loss: 0.2462  ACC: 0.9011]][TIME: 1 m 34 s] [LR: 0.00080]\n"
          ]
        },
        {
          "output_type": "stream",
          "name": "stderr",
          "text": [
            "Epoch 11/40 - Training: 100%|██████████| 43/43 [01:16<00:00,  1.78s/it]\n",
            "Epoch 11/40 - Validation: 100%|██████████| 10/10 [00:17<00:00,  1.75s/it]\n"
          ]
        },
        {
          "output_type": "stream",
          "name": "stdout",
          "text": [
            "[Epoch 11][TRAIN on 21519 [Loss: 0.2725  ACC: 0.8788]][VAL on 4966 [Loss: 0.2805  ACC: 0.8621]][TIME: 1 m 34 s] [LR: 0.00080]\n"
          ]
        },
        {
          "output_type": "stream",
          "name": "stderr",
          "text": [
            "Epoch 12/40 - Training: 100%|██████████| 43/43 [01:16<00:00,  1.79s/it]\n",
            "Epoch 12/40 - Validation: 100%|██████████| 10/10 [00:17<00:00,  1.75s/it]\n"
          ]
        },
        {
          "output_type": "stream",
          "name": "stdout",
          "text": [
            "[Epoch 12][TRAIN on 21519 [Loss: 0.2873  ACC: 0.8737]][VAL on 4966 [Loss: 0.2731  ACC: 0.8768]][TIME: 1 m 34 s] [LR: 0.00080]\n"
          ]
        },
        {
          "output_type": "stream",
          "name": "stderr",
          "text": [
            "Epoch 13/40 - Training: 100%|██████████| 43/43 [01:16<00:00,  1.79s/it]\n",
            "Epoch 13/40 - Validation: 100%|██████████| 10/10 [00:17<00:00,  1.74s/it]\n"
          ]
        },
        {
          "output_type": "stream",
          "name": "stdout",
          "text": [
            "[Epoch 13][TRAIN on 21519 [Loss: 0.2721  ACC: 0.8821]][VAL on 4966 [Loss: 0.2361  ACC: 0.9128]][TIME: 1 m 34 s] [LR: 0.00080]\n",
            "     .... Saving best weights ....\n"
          ]
        },
        {
          "output_type": "stream",
          "name": "stderr",
          "text": [
            "Epoch 14/40 - Training: 100%|██████████| 43/43 [01:16<00:00,  1.79s/it]\n",
            "Epoch 14/40 - Validation: 100%|██████████| 10/10 [00:17<00:00,  1.74s/it]\n"
          ]
        },
        {
          "output_type": "stream",
          "name": "stdout",
          "text": [
            "[Epoch 14][TRAIN on 21519 [Loss: 0.2645  ACC: 0.8855]][VAL on 4966 [Loss: 0.2420  ACC: 0.8979]][TIME: 1 m 34 s] [LR: 0.00080]\n"
          ]
        },
        {
          "output_type": "stream",
          "name": "stderr",
          "text": [
            "Epoch 15/40 - Training: 100%|██████████| 43/43 [01:16<00:00,  1.79s/it]\n",
            "Epoch 15/40 - Validation: 100%|██████████| 10/10 [00:17<00:00,  1.75s/it]\n"
          ]
        },
        {
          "output_type": "stream",
          "name": "stdout",
          "text": [
            "[Epoch 15][TRAIN on 21519 [Loss: 0.2681  ACC: 0.8838]][VAL on 4966 [Loss: 0.2695  ACC: 0.8693]][TIME: 1 m 34 s] [LR: 0.00080]\n"
          ]
        },
        {
          "output_type": "stream",
          "name": "stderr",
          "text": [
            "Epoch 16/40 - Training: 100%|██████████| 43/43 [01:16<00:00,  1.79s/it]\n",
            "Epoch 16/40 - Validation: 100%|██████████| 10/10 [00:17<00:00,  1.76s/it]\n"
          ]
        },
        {
          "output_type": "stream",
          "name": "stdout",
          "text": [
            "[Epoch 16][TRAIN on 21519 [Loss: 0.2615  ACC: 0.8869]][VAL on 4966 [Loss: 0.2247  ACC: 0.9152]][TIME: 1 m 34 s] [LR: 0.00080]\n",
            "     .... Saving best weights ....\n"
          ]
        },
        {
          "output_type": "stream",
          "name": "stderr",
          "text": [
            "Epoch 17/40 - Training: 100%|██████████| 43/43 [01:16<00:00,  1.79s/it]\n",
            "Epoch 17/40 - Validation: 100%|██████████| 10/10 [00:17<00:00,  1.76s/it]\n"
          ]
        },
        {
          "output_type": "stream",
          "name": "stdout",
          "text": [
            "[Epoch 17][TRAIN on 21519 [Loss: 0.2606  ACC: 0.8864]][VAL on 4966 [Loss: 0.2201  ACC: 0.9168]][TIME: 1 m 34 s] [LR: 0.00080]\n",
            "     .... Saving best weights ....\n"
          ]
        },
        {
          "output_type": "stream",
          "name": "stderr",
          "text": [
            "Epoch 18/40 - Training: 100%|██████████| 43/43 [01:16<00:00,  1.79s/it]\n",
            "Epoch 18/40 - Validation: 100%|██████████| 10/10 [00:17<00:00,  1.75s/it]\n"
          ]
        },
        {
          "output_type": "stream",
          "name": "stdout",
          "text": [
            "[Epoch 18][TRAIN on 21519 [Loss: 0.2574  ACC: 0.8891]][VAL on 4966 [Loss: 0.2267  ACC: 0.9094]][TIME: 1 m 35 s] [LR: 0.00080]\n"
          ]
        },
        {
          "output_type": "stream",
          "name": "stderr",
          "text": [
            "Epoch 19/40 - Training: 100%|██████████| 43/43 [01:16<00:00,  1.79s/it]\n",
            "Epoch 19/40 - Validation: 100%|██████████| 10/10 [00:17<00:00,  1.75s/it]\n"
          ]
        },
        {
          "output_type": "stream",
          "name": "stdout",
          "text": [
            "[Epoch 19][TRAIN on 21519 [Loss: 0.2599  ACC: 0.8871]][VAL on 4966 [Loss: 0.2651  ACC: 0.8691]][TIME: 1 m 34 s] [LR: 0.00080]\n"
          ]
        },
        {
          "output_type": "stream",
          "name": "stderr",
          "text": [
            "Epoch 20/40 - Training: 100%|██████████| 43/43 [01:16<00:00,  1.78s/it]\n",
            "Epoch 20/40 - Validation: 100%|██████████| 10/10 [00:17<00:00,  1.75s/it]\n"
          ]
        },
        {
          "output_type": "stream",
          "name": "stdout",
          "text": [
            "[Epoch 20][TRAIN on 21519 [Loss: 0.2591  ACC: 0.8872]][VAL on 4966 [Loss: 0.2508  ACC: 0.8828]][TIME: 1 m 34 s] [LR: 0.00080]\n"
          ]
        },
        {
          "output_type": "stream",
          "name": "stderr",
          "text": [
            "Epoch 21/40 - Training: 100%|██████████| 43/43 [01:16<00:00,  1.79s/it]\n",
            "Epoch 21/40 - Validation: 100%|██████████| 10/10 [00:17<00:00,  1.75s/it]\n"
          ]
        },
        {
          "output_type": "stream",
          "name": "stdout",
          "text": [
            "[Epoch 21][TRAIN on 21519 [Loss: 0.2528  ACC: 0.8905]][VAL on 4966 [Loss: 0.2201  ACC: 0.9168]][TIME: 1 m 34 s] [LR: 0.00080]\n",
            "     .... Saving best weights ....\n"
          ]
        },
        {
          "output_type": "stream",
          "name": "stderr",
          "text": [
            "Epoch 22/40 - Training: 100%|██████████| 43/43 [01:16<00:00,  1.79s/it]\n",
            "Epoch 22/40 - Validation: 100%|██████████| 10/10 [00:17<00:00,  1.74s/it]\n"
          ]
        },
        {
          "output_type": "stream",
          "name": "stdout",
          "text": [
            "[Epoch 22][TRAIN on 21519 [Loss: 0.2487  ACC: 0.8924]][VAL on 4966 [Loss: 0.2456  ACC: 0.8884]][TIME: 1 m 34 s] [LR: 0.00080]\n"
          ]
        },
        {
          "output_type": "stream",
          "name": "stderr",
          "text": [
            "Epoch 23/40 - Training: 100%|██████████| 43/43 [01:16<00:00,  1.79s/it]\n",
            "Epoch 23/40 - Validation: 100%|██████████| 10/10 [00:17<00:00,  1.74s/it]\n"
          ]
        },
        {
          "output_type": "stream",
          "name": "stdout",
          "text": [
            "[Epoch 23][TRAIN on 21519 [Loss: 0.2489  ACC: 0.8922]][VAL on 4966 [Loss: 0.2162  ACC: 0.9199]][TIME: 1 m 34 s] [LR: 0.00080]\n",
            "     .... Saving best weights ....\n"
          ]
        },
        {
          "output_type": "stream",
          "name": "stderr",
          "text": [
            "Epoch 24/40 - Training: 100%|██████████| 43/43 [01:16<00:00,  1.79s/it]\n",
            "Epoch 24/40 - Validation: 100%|██████████| 10/10 [00:17<00:00,  1.73s/it]\n"
          ]
        },
        {
          "output_type": "stream",
          "name": "stdout",
          "text": [
            "[Epoch 24][TRAIN on 21519 [Loss: 0.2479  ACC: 0.8923]][VAL on 4966 [Loss: 0.2263  ACC: 0.9124]][TIME: 1 m 34 s] [LR: 0.00080]\n"
          ]
        },
        {
          "output_type": "stream",
          "name": "stderr",
          "text": [
            "Epoch 25/40 - Training: 100%|██████████| 43/43 [01:16<00:00,  1.79s/it]\n",
            "Epoch 25/40 - Validation: 100%|██████████| 10/10 [00:17<00:00,  1.73s/it]\n"
          ]
        },
        {
          "output_type": "stream",
          "name": "stdout",
          "text": [
            "[Epoch 25][TRAIN on 21519 [Loss: 0.2552  ACC: 0.8892]][VAL on 4966 [Loss: 0.2599  ACC: 0.8701]][TIME: 1 m 34 s] [LR: 0.00080]\n"
          ]
        },
        {
          "output_type": "stream",
          "name": "stderr",
          "text": [
            "Epoch 26/40 - Training: 100%|██████████| 43/43 [01:16<00:00,  1.78s/it]\n",
            "Epoch 26/40 - Validation: 100%|██████████| 10/10 [00:17<00:00,  1.73s/it]\n"
          ]
        },
        {
          "output_type": "stream",
          "name": "stdout",
          "text": [
            "[Epoch 26][TRAIN on 21519 [Loss: 0.2548  ACC: 0.8895]][VAL on 4966 [Loss: 0.2225  ACC: 0.9160]][TIME: 1 m 34 s] [LR: 0.00080]\n"
          ]
        },
        {
          "output_type": "stream",
          "name": "stderr",
          "text": [
            "Epoch 27/40 - Training: 100%|██████████| 43/43 [01:16<00:00,  1.79s/it]\n",
            "Epoch 27/40 - Validation: 100%|██████████| 10/10 [00:17<00:00,  1.74s/it]\n"
          ]
        },
        {
          "output_type": "stream",
          "name": "stdout",
          "text": [
            "[Epoch 27][TRAIN on 21519 [Loss: 0.2523  ACC: 0.8941]][VAL on 4966 [Loss: 0.2159  ACC: 0.9120]][TIME: 1 m 34 s] [LR: 0.00080]\n"
          ]
        },
        {
          "output_type": "stream",
          "name": "stderr",
          "text": [
            "Epoch 28/40 - Training: 100%|██████████| 43/43 [01:16<00:00,  1.79s/it]\n",
            "Epoch 28/40 - Validation: 100%|██████████| 10/10 [00:17<00:00,  1.75s/it]\n"
          ]
        },
        {
          "output_type": "stream",
          "name": "stdout",
          "text": [
            "[Epoch 28][TRAIN on 21519 [Loss: 0.2505  ACC: 0.8932]][VAL on 4966 [Loss: 0.2085  ACC: 0.9225]][TIME: 1 m 34 s] [LR: 0.00080]\n",
            "     .... Saving best weights ....\n"
          ]
        },
        {
          "output_type": "stream",
          "name": "stderr",
          "text": [
            "Epoch 29/40 - Training: 100%|██████████| 43/43 [01:16<00:00,  1.78s/it]\n",
            "Epoch 29/40 - Validation: 100%|██████████| 10/10 [00:17<00:00,  1.74s/it]\n"
          ]
        },
        {
          "output_type": "stream",
          "name": "stdout",
          "text": [
            "[Epoch 29][TRAIN on 21519 [Loss: 0.2391  ACC: 0.8977]][VAL on 4966 [Loss: 0.2171  ACC: 0.9082]][TIME: 1 m 34 s] [LR: 0.00080]\n"
          ]
        },
        {
          "output_type": "stream",
          "name": "stderr",
          "text": [
            "Epoch 30/40 - Training: 100%|██████████| 43/43 [01:16<00:00,  1.78s/it]\n",
            "Epoch 30/40 - Validation: 100%|██████████| 10/10 [00:17<00:00,  1.74s/it]\n"
          ]
        },
        {
          "output_type": "stream",
          "name": "stdout",
          "text": [
            "[Epoch 30][TRAIN on 21519 [Loss: 0.2390  ACC: 0.8994]][VAL on 4966 [Loss: 0.2026  ACC: 0.9229]][TIME: 1 m 34 s] [LR: 0.00080]\n",
            "     .... Saving best weights ....\n"
          ]
        },
        {
          "output_type": "stream",
          "name": "stderr",
          "text": [
            "Epoch 31/40 - Training: 100%|██████████| 43/43 [01:16<00:00,  1.79s/it]\n",
            "Epoch 31/40 - Validation: 100%|██████████| 10/10 [00:17<00:00,  1.75s/it]\n"
          ]
        },
        {
          "output_type": "stream",
          "name": "stdout",
          "text": [
            "[Epoch 31][TRAIN on 21519 [Loss: 0.2444  ACC: 0.8925]][VAL on 4966 [Loss: 0.2158  ACC: 0.9080]][TIME: 1 m 34 s] [LR: 0.00080]\n"
          ]
        },
        {
          "output_type": "stream",
          "name": "stderr",
          "text": [
            "Epoch 32/40 - Training: 100%|██████████| 43/43 [01:16<00:00,  1.79s/it]\n",
            "Epoch 32/40 - Validation: 100%|██████████| 10/10 [00:17<00:00,  1.76s/it]\n"
          ]
        },
        {
          "output_type": "stream",
          "name": "stdout",
          "text": [
            "[Epoch 32][TRAIN on 21519 [Loss: 0.2370  ACC: 0.8999]][VAL on 4966 [Loss: 0.2101  ACC: 0.9180]][TIME: 1 m 35 s] [LR: 0.00080]\n"
          ]
        },
        {
          "output_type": "stream",
          "name": "stderr",
          "text": [
            "Epoch 33/40 - Training: 100%|██████████| 43/43 [01:16<00:00,  1.79s/it]\n",
            "Epoch 33/40 - Validation: 100%|██████████| 10/10 [00:17<00:00,  1.76s/it]\n"
          ]
        },
        {
          "output_type": "stream",
          "name": "stdout",
          "text": [
            "[Epoch 33][TRAIN on 21519 [Loss: 0.2390  ACC: 0.8986]][VAL on 4966 [Loss: 0.2178  ACC: 0.9078]][TIME: 1 m 34 s] [LR: 0.00080]\n"
          ]
        },
        {
          "output_type": "stream",
          "name": "stderr",
          "text": [
            "Epoch 34/40 - Training: 100%|██████████| 43/43 [01:16<00:00,  1.79s/it]\n",
            "Epoch 34/40 - Validation: 100%|██████████| 10/10 [00:17<00:00,  1.75s/it]\n"
          ]
        },
        {
          "output_type": "stream",
          "name": "stdout",
          "text": [
            "[Epoch 34][TRAIN on 21519 [Loss: 0.2383  ACC: 0.8992]][VAL on 4966 [Loss: 0.2216  ACC: 0.8999]][TIME: 1 m 35 s] [LR: 0.00080]\n"
          ]
        },
        {
          "output_type": "stream",
          "name": "stderr",
          "text": [
            "Epoch 35/40 - Training: 100%|██████████| 43/43 [01:16<00:00,  1.79s/it]\n",
            "Epoch 35/40 - Validation: 100%|██████████| 10/10 [00:17<00:00,  1.74s/it]\n"
          ]
        },
        {
          "output_type": "stream",
          "name": "stdout",
          "text": [
            "[Epoch 35][TRAIN on 21519 [Loss: 0.2399  ACC: 0.8955]][VAL on 4966 [Loss: 0.2287  ACC: 0.9092]][TIME: 1 m 34 s] [LR: 0.00080]\n"
          ]
        },
        {
          "output_type": "stream",
          "name": "stderr",
          "text": [
            "Epoch 36/40 - Training: 100%|██████████| 43/43 [01:16<00:00,  1.79s/it]\n",
            "Epoch 36/40 - Validation: 100%|██████████| 10/10 [00:17<00:00,  1.75s/it]\n"
          ]
        },
        {
          "output_type": "stream",
          "name": "stdout",
          "text": [
            "[Epoch 36][TRAIN on 21519 [Loss: 0.2444  ACC: 0.8934]][VAL on 4966 [Loss: 0.2088  ACC: 0.9197]][TIME: 1 m 34 s] [LR: 0.00080]\n"
          ]
        },
        {
          "output_type": "stream",
          "name": "stderr",
          "text": [
            "Epoch 37/40 - Training: 100%|██████████| 43/43 [01:17<00:00,  1.79s/it]\n",
            "Epoch 37/40 - Validation: 100%|██████████| 10/10 [00:17<00:00,  1.75s/it]\n"
          ]
        },
        {
          "output_type": "stream",
          "name": "stdout",
          "text": [
            "[Epoch 37][TRAIN on 21519 [Loss: 0.2411  ACC: 0.8962]][VAL on 4966 [Loss: 0.2130  ACC: 0.9110]][TIME: 1 m 35 s] [LR: 0.00080]\n"
          ]
        },
        {
          "output_type": "stream",
          "name": "stderr",
          "text": [
            "Epoch 38/40 - Training: 100%|██████████| 43/43 [01:16<00:00,  1.79s/it]\n",
            "Epoch 38/40 - Validation: 100%|██████████| 10/10 [00:17<00:00,  1.76s/it]\n"
          ]
        },
        {
          "output_type": "stream",
          "name": "stdout",
          "text": [
            "[Epoch 38][TRAIN on 21519 [Loss: 0.2374  ACC: 0.8999]][VAL on 4966 [Loss: 0.2179  ACC: 0.9070]][TIME: 1 m 35 s] [LR: 0.00080]\n"
          ]
        },
        {
          "output_type": "stream",
          "name": "stderr",
          "text": [
            "Epoch 39/40 - Training: 100%|██████████| 43/43 [01:16<00:00,  1.79s/it]\n",
            "Epoch 39/40 - Validation: 100%|██████████| 10/10 [00:17<00:00,  1.75s/it]\n"
          ]
        },
        {
          "output_type": "stream",
          "name": "stdout",
          "text": [
            "[Epoch 39][TRAIN on 21519 [Loss: 0.2423  ACC: 0.8971]][VAL on 4966 [Loss: 0.2182  ACC: 0.9050]][TIME: 1 m 34 s] [LR: 0.00080]\n"
          ]
        },
        {
          "output_type": "stream",
          "name": "stderr",
          "text": [
            "Epoch 40/40 - Training: 100%|██████████| 43/43 [01:16<00:00,  1.79s/it]\n",
            "Epoch 40/40 - Validation: 100%|██████████| 10/10 [00:17<00:00,  1.75s/it]"
          ]
        },
        {
          "output_type": "stream",
          "name": "stdout",
          "text": [
            "[Epoch 40][TRAIN on 21519 [Loss: 0.2346  ACC: 0.8998]][VAL on 4966 [Loss: 0.2028  ACC: 0.9130]][TIME: 1 m 35 s] [LR: 0.00080]\n"
          ]
        },
        {
          "output_type": "stream",
          "name": "stderr",
          "text": [
            "\n"
          ]
        }
      ],
      "source": [
        "# Call the training function with validation\n",
        "best_epoch = train_loop_validation(train_dataloader, val_dataloader, startEpoch, num_epochs, model, criterion, optimizer, best_acc, best_loss, best_epoch, WEIGHTS_PATH)"
      ]
    },
    {
      "cell_type": "markdown",
      "metadata": {
        "id": "GESxxEpy2aL2"
      },
      "source": [
        "# Metrics Plot"
      ]
    },
    {
      "cell_type": "markdown",
      "source": [
        "**Visualizzazione dell'andamento dell'addestramento**\n",
        "\n",
        "\n",
        "1.   Confronto tra la curva di loss ottenuta nel train e quella ottenuta nella validation\n",
        "2.   Confronto tra la curva di accuracy ottenuta nel train e quella ottenuta nella validation\n",
        "\n"
      ],
      "metadata": {
        "id": "-Wm7JWUcU_ty"
      }
    },
    {
      "cell_type": "code",
      "execution_count": null,
      "metadata": {
        "id": "QQX5nwmf2bkd"
      },
      "outputs": [],
      "source": [
        "# Initialization of lists for losses and accuracies\n",
        "loss_model_train = []\n",
        "loss_model_val = []\n",
        "acc_model_train = []\n",
        "acc_model_val = []\n",
        "\n",
        "# Reading training loss files\n",
        "loss_train_path = os.path.join(WEIGHTS_PATH, 'lossTrain.txt')\n",
        "with open(loss_train_path, 'r') as file:\n",
        "    loss_model_train = [float(line.strip()) for line in file.readlines()]\n",
        "\n",
        "# Reading validation loss files\n",
        "loss_val_path = os.path.join(WEIGHTS_PATH, 'lossVal.txt')\n",
        "with open(loss_val_path, 'r') as file:\n",
        "    loss_model_val = [float(line.strip()) for line in file.readlines()]\n",
        "\n",
        "# Plotting training and validation losses\n",
        "plt.figure()\n",
        "plt.title(\"Model: Training Vs Validation Losses\")\n",
        "plt.xlabel('Epoch')\n",
        "plt.ylabel('Loss')\n",
        "plt.plot(range(1, len(loss_model_train) + 1), loss_model_train, color='r', label=\"Training Loss\")\n",
        "plt.plot(range(1, len(loss_model_val) + 1), loss_model_val, color='g', label=\"Validation Loss\")\n",
        "plt.legend()\n",
        "plt.savefig(os.path.join(WEIGHTS_PATH, 'LossTrainVal.png'))\n",
        "\n",
        "# Reading training accuracy files\n",
        "acc_train_path = os.path.join(WEIGHTS_PATH, 'AccTrain.txt')\n",
        "with open(acc_train_path, 'r') as file:\n",
        "    acc_model_train = [float(line.strip()) for line in file.readlines()]\n",
        "\n",
        "# Reading validation accuracy files\n",
        "acc_val_path = os.path.join(WEIGHTS_PATH, 'AccVal.txt')\n",
        "with open(acc_val_path, 'r') as file:\n",
        "    acc_model_val = [float(line.strip()) for line in file.readlines()]\n",
        "\n",
        "# Plotting training and validation accuracies\n",
        "plt.figure()\n",
        "plt.title(\"Training Vs Validation Accuracies\")\n",
        "plt.xlabel('Epoch')\n",
        "plt.ylabel('Accuracy')\n",
        "plt.plot(range(1, len(acc_model_train) + 1), acc_model_train, color='r', label=\"Training Accuracy\")\n",
        "plt.plot(range(1, len(acc_model_val) + 1), acc_model_val, color='g', label=\"Validation Accuracy\")\n",
        "plt.legend()\n",
        "plt.savefig(os.path.join(WEIGHTS_PATH, 'AccTrainVal.png'))"
      ]
    },
    {
      "cell_type": "markdown",
      "metadata": {
        "id": "vCxZq4pT7SP7"
      },
      "source": [
        "# Dataloader Dataset"
      ]
    },
    {
      "cell_type": "markdown",
      "source": [
        "**Definizione della classe per la gestione del set di dati**\n",
        "\n",
        "\n",
        "1.   Prelievo dei singoli token e della classe da ogni istanza\n",
        "2.   Per ogni istanza, associazione di un id posizionale ad ogni singolo token\n",
        "\n"
      ],
      "metadata": {
        "id": "T3ADhWeEYv77"
      }
    },
    {
      "cell_type": "code",
      "execution_count": null,
      "metadata": {
        "id": "hxfdxj7VCn0v"
      },
      "outputs": [],
      "source": [
        "class DistilBERTDataset(torch.utils.data.Dataset):\n",
        "    def __init__(self, dataframe, max_len, model_name):\n",
        "        self.tokenizer = DistilBertTokenizer.from_pretrained(model_name)\n",
        "\n",
        "        dataframe['Text'] = dataframe['Text'].fillna('').astype(str)\n",
        "\n",
        "        sentences = dataframe['Text']\n",
        "        labels = dataframe['Spam/Ham']\n",
        "\n",
        "        all_tokens = [self.tokenizer.tokenize(s) for s in sentences]\n",
        "\n",
        "        self.labels = torch.tensor(labels.values, dtype=torch.long)\n",
        "        self.max_len = max_len\n",
        "        self.all_token_ids, self.valid_lens = self._preprocess(all_tokens)\n",
        "        print('Read ' + str(len(self.all_token_ids)) + ' examples')\n",
        "\n",
        "    def _preprocess(self, all_tokens):\n",
        "        pool = multiprocessing.Pool(4)  # Use 4 worker processes\n",
        "        out = pool.map(self._mp_worker, all_tokens)\n",
        "        all_token_ids = [token_ids for token_ids, valid_len in out]\n",
        "        valid_lens = [valid_len for token_ids, valid_len in out]\n",
        "        return (torch.tensor(all_token_ids, dtype=torch.long),\n",
        "                torch.tensor(valid_lens, dtype=torch.long))\n",
        "\n",
        "    def _mp_worker(self, tokens):\n",
        "        self._truncate_tokens(tokens)\n",
        "        token_ids = self.tokenizer.convert_tokens_to_ids(tokens)\n",
        "        token_ids += [self.tokenizer.pad_token_id] * (self.max_len - len(token_ids))\n",
        "        valid_len = len(tokens)\n",
        "        return token_ids, valid_len\n",
        "\n",
        "    def _truncate_tokens(self, tokens):\n",
        "        while len(tokens) > self.max_len - 2:\n",
        "            tokens.pop()\n",
        "\n",
        "    def __getitem__(self, idx):\n",
        "        input_tensor = self.all_token_ids[idx]\n",
        "        valid_len_tensor = self.valid_lens[idx]\n",
        "        label_tensor = self.labels[idx]\n",
        "        return (input_tensor, valid_len_tensor), label_tensor\n",
        "\n",
        "    def __len__(self):\n",
        "        return len(self.all_token_ids)"
      ]
    },
    {
      "cell_type": "markdown",
      "source": [
        "**Gestione del set di dati per l'addestramento**\n",
        "\n",
        "1.   Creazione del set di dati di train finale mediante la concatenzione dei due set di dati utilizzati precedentemente per l'addestramento con dataset di train e validation.\n",
        "2.   Salvataggio del nuovo set di dati in formato CSV\n",
        "\n"
      ],
      "metadata": {
        "id": "S0JfiTadY10j"
      }
    },
    {
      "cell_type": "code",
      "execution_count": null,
      "metadata": {
        "id": "jF0v-E8i7Yqn"
      },
      "outputs": [],
      "source": [
        "# Leggi i dati dai file CSV\n",
        "train_data = pd.read_csv(TRAIN_PATH)\n",
        "val_data = pd.read_csv(VAL_PATH)\n",
        "\n",
        "# Unisci i due DataFrame\n",
        "combined_data = pd.concat([train_data, val_data], ignore_index=True)\n",
        "\n",
        "# Fai lo shuffle del DataFrame combinato\n",
        "shuffled_data = combined_data.sample(frac=1).reset_index(drop=True)\n",
        "\n",
        "# Salva il DataFrame combinato e mescolato al percorso specificato\n",
        "shuffled_data.to_csv(TRAIN_FINAL_PATH, index=False)"
      ]
    },
    {
      "cell_type": "markdown",
      "source": [
        "Caricamento dei set di dati mediante la funzione DataLoader disponibile per le istanze della classe sopra definita"
      ],
      "metadata": {
        "id": "2fKuD5nAZnSR"
      }
    },
    {
      "cell_type": "code",
      "execution_count": null,
      "metadata": {
        "colab": {
          "base_uri": "https://localhost:8080/"
        },
        "id": "-LiqMCHHCZGl",
        "outputId": "7e0409e8-52e4-408f-d5ca-5827dd9a4735"
      },
      "outputs": [
        {
          "output_type": "stream",
          "name": "stderr",
          "text": [
            "/usr/lib/python3.10/multiprocessing/popen_fork.py:66: RuntimeWarning: os.fork() was called. os.fork() is incompatible with multithreaded code, and JAX is multithreaded, so this will likely lead to a deadlock.\n",
            "  self.pid = os.fork()\n"
          ]
        },
        {
          "output_type": "stream",
          "name": "stdout",
          "text": [
            "Read 26485 examples\n"
          ]
        }
      ],
      "source": [
        "batch_size = 512\n",
        "max_len = 128\n",
        "\n",
        "final_train_data = pd.read_csv(TRAIN_FINAL_PATH)\n",
        "\n",
        "final_train_set = DistilBERTDataset(final_train_data, max_len, model_name)\n",
        "final_train_dataloader = torch.utils.data.DataLoader(final_train_set, batch_size, shuffle=True,num_workers=2)"
      ]
    },
    {
      "cell_type": "markdown",
      "metadata": {
        "id": "UDdLk48g7S2w"
      },
      "source": [
        "# Training"
      ]
    },
    {
      "cell_type": "markdown",
      "source": [
        "Definizione della funzione di addestramento della rete con il solo set di dati di train da usare per l'addestramento finale."
      ],
      "metadata": {
        "id": "N9Ij07l9Z-Df"
      }
    },
    {
      "cell_type": "code",
      "execution_count": null,
      "metadata": {
        "id": "VIFCYvgODsCT"
      },
      "outputs": [],
      "source": [
        "def train_loop(train_dataloader, startEpoch, numEpochs, model_conv, criterion, optimizer, outputPath, scheduler=None):\n",
        "\n",
        "    train_files = ['lossTrain.txt', 'AccTrain.txt']\n",
        "    for filename in train_files:\n",
        "        filepath = os.path.join(outputPath, filename)\n",
        "        if os.path.exists(filepath):\n",
        "            os.remove(filepath)\n",
        "\n",
        "    for epoch in range(startEpoch, numEpochs + 1):\n",
        "        since = time.time()\n",
        "\n",
        "        modelLoss_train = 0.0\n",
        "        modelAcc_train = 0.0\n",
        "\n",
        "        model_conv.train()\n",
        "        totalSize = 0\n",
        "\n",
        "        # Training loop\n",
        "        for batch in tqdm(train_dataloader, total=len(train_dataloader), desc=f\"Epoch {epoch}/{numEpochs} - Training\"):\n",
        "            (inputs, valid_lens), labels = batch\n",
        "\n",
        "            inputs = inputs.to(device)\n",
        "            valid_lens = valid_lens.to(device)\n",
        "            labels = labels.to(device)\n",
        "\n",
        "            optimizer.zero_grad()\n",
        "\n",
        "            # Forward pass\n",
        "            outputs = model_conv(inputs)\n",
        "            logits = outputs.logits  # Access logits from the SequenceClassifierOutput object\n",
        "            loss = criterion(logits, labels)\n",
        "\n",
        "            # Backward pass and optimization\n",
        "            loss.backward()\n",
        "            optimizer.step()\n",
        "\n",
        "            modelLoss_train += loss.item() * inputs.size(0)\n",
        "            _, preds = torch.max(logits, 1)\n",
        "            modelAcc_train += (preds == labels).sum().item()\n",
        "            totalSize += inputs.size(0)\n",
        "\n",
        "        epoch_loss = modelLoss_train / totalSize\n",
        "        epoch_acc = modelAcc_train / totalSize\n",
        "\n",
        "        time_elapsed = time.time() - since\n",
        "        current_lr = optimizer.param_groups[0]['lr']\n",
        "\n",
        "        print('[Epoch %d][TRAIN on %d [Loss: %.4f  ACC: %.4f]][TIME: %.0f m %.0f s] [LR: %.5f]'\n",
        "              % (epoch, totalSize, epoch_loss, epoch_acc, time_elapsed // 60, time_elapsed % 60, current_lr))\n",
        "\n",
        "        # Save weights after each epoch, overwriting them\n",
        "        torch.save(model_conv.state_dict(), os.path.join(outputPath, 'weights.pth'))\n",
        "\n",
        "        with open(os.path.join(outputPath, 'lossTrain.txt'), 'a') as f:\n",
        "            f.write(f'{epoch_loss}\\n')\n",
        "        with open(os.path.join(outputPath, 'AccTrain.txt'), 'a') as f:\n",
        "            f.write(f'{epoch_acc}\\n')\n",
        "\n",
        "        if scheduler:\n",
        "            scheduler.step(epoch_loss)"
      ]
    },
    {
      "cell_type": "code",
      "execution_count": null,
      "metadata": {
        "id": "qjP1PGWVESYu",
        "colab": {
          "base_uri": "https://localhost:8080/"
        },
        "outputId": "be7f8c4e-9ec8-4bca-c1bd-78422981e71c"
      },
      "outputs": [
        {
          "output_type": "stream",
          "name": "stderr",
          "text": [
            "Some weights of DistilBertForSequenceClassification were not initialized from the model checkpoint at distilbert-base-uncased and are newly initialized: ['classifier.bias', 'classifier.weight', 'pre_classifier.bias', 'pre_classifier.weight']\n",
            "You should probably TRAIN this model on a down-stream task to be able to use it for predictions and inference.\n"
          ]
        }
      ],
      "source": [
        "device = torch.device(\"cuda\" if torch.cuda.is_available() else \"cpu\")\n",
        "\n",
        "#già fatto in model definition\n",
        "model = DistilBertForSequenceClassification.from_pretrained(model_name, num_labels=2).to(device)"
      ]
    },
    {
      "cell_type": "markdown",
      "source": [
        "Settaggio degli iper-parametri"
      ],
      "metadata": {
        "id": "sGMv9q4bheQR"
      }
    },
    {
      "cell_type": "code",
      "source": [
        "# Updated hyperparameters\n",
        "learning_rate = 0.0008                                                          # Learning rate for the optimizer\n",
        "num_epochs = 30                                                                 # Total number of epochs for training\n",
        "startEpoch = 1                                                                  # Initial epoch (useful for resuming interrupted training)\n",
        "best_acc = 0.0                                                                  # Initial best accuracy (to track the best model)\n",
        "best_loss = float('inf')                                                        # Initial best loss (to track the best model)\n",
        "best_epoch = -1                                                                 # Epoch corresponding to the best saved model"
      ],
      "metadata": {
        "id": "UuGB3baRZ1yW"
      },
      "execution_count": null,
      "outputs": []
    },
    {
      "cell_type": "markdown",
      "source": [
        "**Preparazione del modello per l'addestramento**\n",
        "\n",
        "1.  Scelta della funzione di perdita (CrossEntropy) e dell'ottimizzatore (AdamW)\n",
        "\n"
      ],
      "metadata": {
        "id": "cW7exvKJeFlX"
      }
    },
    {
      "cell_type": "code",
      "execution_count": null,
      "metadata": {
        "id": "SFLzjRYQELVZ"
      },
      "outputs": [],
      "source": [
        "# Define criterion and optimizer\n",
        "criterion = nn.CrossEntropyLoss().to(device)\n",
        "optimizer = AdamW(model.parameters(), lr=learning_rate, correct_bias=False)"
      ]
    },
    {
      "cell_type": "markdown",
      "source": [
        "Addestramento della rete"
      ],
      "metadata": {
        "id": "doG_CAOweLVY"
      }
    },
    {
      "cell_type": "code",
      "execution_count": null,
      "metadata": {
        "colab": {
          "base_uri": "https://localhost:8080/"
        },
        "id": "7-YdLQOnEMw1",
        "outputId": "1279a705-a8e4-4c29-ecf2-5ccb0d84acf8"
      },
      "outputs": [
        {
          "output_type": "stream",
          "name": "stderr",
          "text": [
            "Epoch 1/30 - Training: 100%|██████████| 52/52 [01:39<00:00,  1.91s/it]\n"
          ]
        },
        {
          "output_type": "stream",
          "name": "stdout",
          "text": [
            "[Epoch 1][TRAIN on 26485 [Loss: 0.5208  ACC: 0.7128]][TIME: 1 m 39 s] [LR: 0.00080]\n"
          ]
        },
        {
          "output_type": "stream",
          "name": "stderr",
          "text": [
            "Epoch 2/30 - Training: 100%|██████████| 52/52 [01:39<00:00,  1.91s/it]\n"
          ]
        },
        {
          "output_type": "stream",
          "name": "stdout",
          "text": [
            "[Epoch 2][TRAIN on 26485 [Loss: 0.3433  ACC: 0.8374]][TIME: 1 m 39 s] [LR: 0.00080]\n"
          ]
        },
        {
          "output_type": "stream",
          "name": "stderr",
          "text": [
            "Epoch 3/30 - Training: 100%|██████████| 52/52 [01:39<00:00,  1.91s/it]\n"
          ]
        },
        {
          "output_type": "stream",
          "name": "stdout",
          "text": [
            "[Epoch 3][TRAIN on 26485 [Loss: 0.3252  ACC: 0.8509]][TIME: 1 m 39 s] [LR: 0.00080]\n"
          ]
        },
        {
          "output_type": "stream",
          "name": "stderr",
          "text": [
            "Epoch 4/30 - Training: 100%|██████████| 52/52 [01:39<00:00,  1.91s/it]\n"
          ]
        },
        {
          "output_type": "stream",
          "name": "stdout",
          "text": [
            "[Epoch 4][TRAIN on 26485 [Loss: 0.3030  ACC: 0.8675]][TIME: 1 m 39 s] [LR: 0.00080]\n"
          ]
        },
        {
          "output_type": "stream",
          "name": "stderr",
          "text": [
            "Epoch 5/30 - Training: 100%|██████████| 52/52 [01:39<00:00,  1.91s/it]\n"
          ]
        },
        {
          "output_type": "stream",
          "name": "stdout",
          "text": [
            "[Epoch 5][TRAIN on 26485 [Loss: 0.2958  ACC: 0.8689]][TIME: 1 m 39 s] [LR: 0.00080]\n"
          ]
        },
        {
          "output_type": "stream",
          "name": "stderr",
          "text": [
            "Epoch 6/30 - Training: 100%|██████████| 52/52 [01:39<00:00,  1.92s/it]\n"
          ]
        },
        {
          "output_type": "stream",
          "name": "stdout",
          "text": [
            "[Epoch 6][TRAIN on 26485 [Loss: 0.2850  ACC: 0.8743]][TIME: 1 m 40 s] [LR: 0.00080]\n"
          ]
        },
        {
          "output_type": "stream",
          "name": "stderr",
          "text": [
            "Epoch 7/30 - Training: 100%|██████████| 52/52 [01:38<00:00,  1.90s/it]\n"
          ]
        },
        {
          "output_type": "stream",
          "name": "stdout",
          "text": [
            "[Epoch 7][TRAIN on 26485 [Loss: 0.2739  ACC: 0.8821]][TIME: 1 m 39 s] [LR: 0.00080]\n"
          ]
        },
        {
          "output_type": "stream",
          "name": "stderr",
          "text": [
            "Epoch 8/30 - Training: 100%|██████████| 52/52 [01:39<00:00,  1.91s/it]\n"
          ]
        },
        {
          "output_type": "stream",
          "name": "stdout",
          "text": [
            "[Epoch 8][TRAIN on 26485 [Loss: 0.2734  ACC: 0.8818]][TIME: 1 m 39 s] [LR: 0.00080]\n"
          ]
        },
        {
          "output_type": "stream",
          "name": "stderr",
          "text": [
            "Epoch 9/30 - Training: 100%|██████████| 52/52 [01:38<00:00,  1.90s/it]\n"
          ]
        },
        {
          "output_type": "stream",
          "name": "stdout",
          "text": [
            "[Epoch 9][TRAIN on 26485 [Loss: 0.2688  ACC: 0.8827]][TIME: 1 m 39 s] [LR: 0.00080]\n"
          ]
        },
        {
          "output_type": "stream",
          "name": "stderr",
          "text": [
            "Epoch 10/30 - Training: 100%|██████████| 52/52 [01:39<00:00,  1.91s/it]\n"
          ]
        },
        {
          "output_type": "stream",
          "name": "stdout",
          "text": [
            "[Epoch 10][TRAIN on 26485 [Loss: 0.2662  ACC: 0.8834]][TIME: 1 m 39 s] [LR: 0.00080]\n"
          ]
        },
        {
          "output_type": "stream",
          "name": "stderr",
          "text": [
            "Epoch 11/30 - Training: 100%|██████████| 52/52 [01:39<00:00,  1.91s/it]\n"
          ]
        },
        {
          "output_type": "stream",
          "name": "stdout",
          "text": [
            "[Epoch 11][TRAIN on 26485 [Loss: 0.2572  ACC: 0.8896]][TIME: 1 m 39 s] [LR: 0.00080]\n"
          ]
        },
        {
          "output_type": "stream",
          "name": "stderr",
          "text": [
            "Epoch 12/30 - Training: 100%|██████████| 52/52 [01:39<00:00,  1.91s/it]\n"
          ]
        },
        {
          "output_type": "stream",
          "name": "stdout",
          "text": [
            "[Epoch 12][TRAIN on 26485 [Loss: 0.2626  ACC: 0.8843]][TIME: 1 m 39 s] [LR: 0.00080]\n"
          ]
        },
        {
          "output_type": "stream",
          "name": "stderr",
          "text": [
            "Epoch 13/30 - Training: 100%|██████████| 52/52 [01:39<00:00,  1.91s/it]\n"
          ]
        },
        {
          "output_type": "stream",
          "name": "stdout",
          "text": [
            "[Epoch 13][TRAIN on 26485 [Loss: 0.2529  ACC: 0.8903]][TIME: 1 m 39 s] [LR: 0.00080]\n"
          ]
        },
        {
          "output_type": "stream",
          "name": "stderr",
          "text": [
            "Epoch 14/30 - Training: 100%|██████████| 52/52 [01:39<00:00,  1.91s/it]\n"
          ]
        },
        {
          "output_type": "stream",
          "name": "stdout",
          "text": [
            "[Epoch 14][TRAIN on 26485 [Loss: 0.2506  ACC: 0.8928]][TIME: 1 m 39 s] [LR: 0.00080]\n"
          ]
        },
        {
          "output_type": "stream",
          "name": "stderr",
          "text": [
            "Epoch 15/30 - Training: 100%|██████████| 52/52 [01:39<00:00,  1.91s/it]\n"
          ]
        },
        {
          "output_type": "stream",
          "name": "stdout",
          "text": [
            "[Epoch 15][TRAIN on 26485 [Loss: 0.2497  ACC: 0.8926]][TIME: 1 m 39 s] [LR: 0.00080]\n"
          ]
        },
        {
          "output_type": "stream",
          "name": "stderr",
          "text": [
            "Epoch 16/30 - Training: 100%|██████████| 52/52 [01:39<00:00,  1.91s/it]\n"
          ]
        },
        {
          "output_type": "stream",
          "name": "stdout",
          "text": [
            "[Epoch 16][TRAIN on 26485 [Loss: 0.2455  ACC: 0.8945]][TIME: 1 m 40 s] [LR: 0.00080]\n"
          ]
        },
        {
          "output_type": "stream",
          "name": "stderr",
          "text": [
            "Epoch 17/30 - Training: 100%|██████████| 52/52 [01:39<00:00,  1.91s/it]\n"
          ]
        },
        {
          "output_type": "stream",
          "name": "stdout",
          "text": [
            "[Epoch 17][TRAIN on 26485 [Loss: 0.2480  ACC: 0.8928]][TIME: 1 m 39 s] [LR: 0.00080]\n"
          ]
        },
        {
          "output_type": "stream",
          "name": "stderr",
          "text": [
            "Epoch 18/30 - Training: 100%|██████████| 52/52 [01:39<00:00,  1.91s/it]\n"
          ]
        },
        {
          "output_type": "stream",
          "name": "stdout",
          "text": [
            "[Epoch 18][TRAIN on 26485 [Loss: 0.2427  ACC: 0.8963]][TIME: 1 m 40 s] [LR: 0.00080]\n"
          ]
        },
        {
          "output_type": "stream",
          "name": "stderr",
          "text": [
            "Epoch 19/30 - Training: 100%|██████████| 52/52 [01:39<00:00,  1.91s/it]\n"
          ]
        },
        {
          "output_type": "stream",
          "name": "stdout",
          "text": [
            "[Epoch 19][TRAIN on 26485 [Loss: 0.2449  ACC: 0.8947]][TIME: 1 m 40 s] [LR: 0.00080]\n"
          ]
        },
        {
          "output_type": "stream",
          "name": "stderr",
          "text": [
            "Epoch 20/30 - Training: 100%|██████████| 52/52 [01:39<00:00,  1.91s/it]\n"
          ]
        },
        {
          "output_type": "stream",
          "name": "stdout",
          "text": [
            "[Epoch 20][TRAIN on 26485 [Loss: 0.2416  ACC: 0.8959]][TIME: 1 m 39 s] [LR: 0.00080]\n"
          ]
        },
        {
          "output_type": "stream",
          "name": "stderr",
          "text": [
            "Epoch 21/30 - Training: 100%|██████████| 52/52 [01:39<00:00,  1.91s/it]\n"
          ]
        },
        {
          "output_type": "stream",
          "name": "stdout",
          "text": [
            "[Epoch 21][TRAIN on 26485 [Loss: 0.2358  ACC: 0.9004]][TIME: 1 m 40 s] [LR: 0.00080]\n"
          ]
        },
        {
          "output_type": "stream",
          "name": "stderr",
          "text": [
            "Epoch 22/30 - Training: 100%|██████████| 52/52 [01:39<00:00,  1.91s/it]\n"
          ]
        },
        {
          "output_type": "stream",
          "name": "stdout",
          "text": [
            "[Epoch 22][TRAIN on 26485 [Loss: 0.2429  ACC: 0.8950]][TIME: 1 m 40 s] [LR: 0.00080]\n"
          ]
        },
        {
          "output_type": "stream",
          "name": "stderr",
          "text": [
            "Epoch 23/30 - Training: 100%|██████████| 52/52 [01:39<00:00,  1.91s/it]\n"
          ]
        },
        {
          "output_type": "stream",
          "name": "stdout",
          "text": [
            "[Epoch 23][TRAIN on 26485 [Loss: 0.2353  ACC: 0.8982]][TIME: 1 m 39 s] [LR: 0.00080]\n"
          ]
        },
        {
          "output_type": "stream",
          "name": "stderr",
          "text": [
            "Epoch 24/30 - Training: 100%|██████████| 52/52 [01:39<00:00,  1.90s/it]\n"
          ]
        },
        {
          "output_type": "stream",
          "name": "stdout",
          "text": [
            "[Epoch 24][TRAIN on 26485 [Loss: 0.2354  ACC: 0.8971]][TIME: 1 m 39 s] [LR: 0.00080]\n"
          ]
        },
        {
          "output_type": "stream",
          "name": "stderr",
          "text": [
            "Epoch 25/30 - Training: 100%|██████████| 52/52 [01:39<00:00,  1.91s/it]\n"
          ]
        },
        {
          "output_type": "stream",
          "name": "stdout",
          "text": [
            "[Epoch 25][TRAIN on 26485 [Loss: 0.2327  ACC: 0.9016]][TIME: 1 m 39 s] [LR: 0.00080]\n"
          ]
        },
        {
          "output_type": "stream",
          "name": "stderr",
          "text": [
            "Epoch 26/30 - Training: 100%|██████████| 52/52 [01:39<00:00,  1.91s/it]\n"
          ]
        },
        {
          "output_type": "stream",
          "name": "stdout",
          "text": [
            "[Epoch 26][TRAIN on 26485 [Loss: 0.2285  ACC: 0.9010]][TIME: 1 m 39 s] [LR: 0.00080]\n"
          ]
        },
        {
          "output_type": "stream",
          "name": "stderr",
          "text": [
            "Epoch 27/30 - Training: 100%|██████████| 52/52 [01:39<00:00,  1.91s/it]\n"
          ]
        },
        {
          "output_type": "stream",
          "name": "stdout",
          "text": [
            "[Epoch 27][TRAIN on 26485 [Loss: 0.2303  ACC: 0.9011]][TIME: 1 m 40 s] [LR: 0.00080]\n"
          ]
        },
        {
          "output_type": "stream",
          "name": "stderr",
          "text": [
            "Epoch 28/30 - Training: 100%|██████████| 52/52 [01:39<00:00,  1.91s/it]\n"
          ]
        },
        {
          "output_type": "stream",
          "name": "stdout",
          "text": [
            "[Epoch 28][TRAIN on 26485 [Loss: 0.2250  ACC: 0.9037]][TIME: 1 m 39 s] [LR: 0.00080]\n"
          ]
        },
        {
          "output_type": "stream",
          "name": "stderr",
          "text": [
            "Epoch 29/30 - Training: 100%|██████████| 52/52 [01:39<00:00,  1.91s/it]\n"
          ]
        },
        {
          "output_type": "stream",
          "name": "stdout",
          "text": [
            "[Epoch 29][TRAIN on 26485 [Loss: 0.2267  ACC: 0.9027]][TIME: 1 m 40 s] [LR: 0.00080]\n"
          ]
        },
        {
          "output_type": "stream",
          "name": "stderr",
          "text": [
            "Epoch 30/30 - Training: 100%|██████████| 52/52 [01:39<00:00,  1.91s/it]\n"
          ]
        },
        {
          "output_type": "stream",
          "name": "stdout",
          "text": [
            "[Epoch 30][TRAIN on 26485 [Loss: 0.2226  ACC: 0.9050]][TIME: 1 m 39 s] [LR: 0.00080]\n"
          ]
        }
      ],
      "source": [
        "# Call the training function\n",
        "train_loop(final_train_dataloader, startEpoch, num_epochs, model, criterion, optimizer, BEST_WEIGHT_PATH)"
      ]
    },
    {
      "cell_type": "markdown",
      "metadata": {
        "id": "u9YkryN5BoFp"
      },
      "source": [
        "# Testing"
      ]
    },
    {
      "cell_type": "markdown",
      "source": [
        "Caricamento del modello per il test"
      ],
      "metadata": {
        "id": "tvi5f3xRe147"
      }
    },
    {
      "cell_type": "code",
      "source": [
        "model = DistilBertForSequenceClassification.from_pretrained(model_name, num_labels=2).to(device)\n",
        "\n",
        "# Replace the last layer for binary classification\n",
        "num_ftrs = model.classifier.out_features                                        # Number of output features from the penultimate layer\n",
        "# Replace the classifier layer\n",
        "model.classifier = nn.Sequential( nn.ReLU(),\n",
        "                                  nn.Dropout(0.2),\n",
        "                                  nn.Linear(model.classifier.in_features, 2).to(device)\n",
        "                                  )\n",
        "\n",
        "# Define criterion\n",
        "criterion = nn.CrossEntropyLoss().to(device) #scelgo come loss function la CrossEntropy()"
      ],
      "metadata": {
        "colab": {
          "base_uri": "https://localhost:8080/"
        },
        "id": "nVwqq6KRYGMv",
        "outputId": "80f4ca38-1908-45ff-d359-835ac367f522"
      },
      "execution_count": null,
      "outputs": [
        {
          "output_type": "stream",
          "name": "stderr",
          "text": [
            "Some weights of DistilBertForSequenceClassification were not initialized from the model checkpoint at distilbert-base-uncased and are newly initialized: ['classifier.bias', 'classifier.weight', 'pre_classifier.bias', 'pre_classifier.weight']\n",
            "You should probably TRAIN this model on a down-stream task to be able to use it for predictions and inference.\n"
          ]
        }
      ]
    },
    {
      "cell_type": "markdown",
      "source": [
        "Caricamento del set di dati di test"
      ],
      "metadata": {
        "id": "UYhrX54leihA"
      }
    },
    {
      "cell_type": "code",
      "execution_count": null,
      "metadata": {
        "id": "tCHroCKhCguZ",
        "colab": {
          "base_uri": "https://localhost:8080/"
        },
        "outputId": "77c45bce-1c0b-4fcb-f392-b8a5e8ba1fef"
      },
      "outputs": [
        {
          "output_type": "stream",
          "name": "stderr",
          "text": [
            "/usr/lib/python3.10/multiprocessing/popen_fork.py:66: RuntimeWarning: os.fork() was called. os.fork() is incompatible with multithreaded code, and JAX is multithreaded, so this will likely lead to a deadlock.\n",
            "  self.pid = os.fork()\n"
          ]
        },
        {
          "output_type": "stream",
          "name": "stdout",
          "text": [
            "Read 6622 examples\n"
          ]
        }
      ],
      "source": [
        "batch_size = 512\n",
        "max_len = 128\n",
        "\n",
        "test_data = pd.read_csv(TEST_PATH)\n",
        "test_set = DistilBERTDataset(test_data, max_len, model_name)\n",
        "test_dataloader = torch.utils.data.DataLoader(test_set, batch_size, shuffle=True,num_workers=2)"
      ]
    },
    {
      "cell_type": "markdown",
      "source": [
        "**Definizione della funzione di test del modello**\n",
        "\n",
        "\n",
        "1.   Calcolo dell'accuracy\n",
        "2.   Visualizzazione della confusion matrix\n",
        "\n"
      ],
      "metadata": {
        "id": "u7nKs1s7e_nh"
      }
    },
    {
      "cell_type": "code",
      "execution_count": null,
      "metadata": {
        "id": "KYRIiENLy2XY"
      },
      "outputs": [],
      "source": [
        "def test_model(model, test_dataloader, best_weights_path, device):\n",
        "    # Carica i pesi del modello\n",
        "    model.load_state_dict(torch.load(best_weights_path + '/weights.pth'))\n",
        "    model.to(device)  # Assicurati che il modello sia nel dispositivo corretto\n",
        "    model.eval()  # Imposta il modello in modalità di valutazione\n",
        "\n",
        "    all_preds = []\n",
        "    all_labels = []\n",
        "\n",
        "    # Disattiva il calcolo dei gradienti per la valutazione\n",
        "    with torch.no_grad():\n",
        "        for data in test_dataloader:\n",
        "            inputs, labels = data\n",
        "            input_ids, valid_lens = inputs\n",
        "            input_ids, valid_lens, labels = input_ids.to(device), valid_lens.to(device), labels.to(device)\n",
        "\n",
        "            outputs = model(input_ids, attention_mask=None)\n",
        "            logits = outputs.logits\n",
        "            _, preds = torch.max(logits, 1)\n",
        "\n",
        "            all_preds.extend(preds.cpu().numpy())\n",
        "            all_labels.extend(labels.cpu().numpy())\n",
        "\n",
        "    # Calcola le metriche di accuratezza\n",
        "    accuracy = accuracy_score(all_labels, all_preds)\n",
        "\n",
        "    print(f'Accuracy: {accuracy:.4f}')\n",
        "\n",
        "    # Calcola la confusion matrix\n",
        "    cm = confusion_matrix(all_labels, all_preds)\n",
        "\n",
        "    # Visualizza la confusion matrix\n",
        "    plt.figure(figsize=(10, 7))\n",
        "    sns.heatmap(cm, annot=True, fmt='d', cmap='Blues', xticklabels=True, yticklabels=True)\n",
        "    plt.xlabel('Predicted')\n",
        "    plt.ylabel('True')\n",
        "    plt.title('Confusion Matrix')\n",
        "    plt.show()\n",
        "\n",
        "    #Visualizzazione di alcune delle istanze classificate scorrettamente\n"
      ]
    },
    {
      "cell_type": "markdown",
      "source": [
        "Test del modello sul set di dati di test"
      ],
      "metadata": {
        "id": "ZLA96bXjfqXw"
      }
    },
    {
      "cell_type": "code",
      "execution_count": null,
      "metadata": {
        "colab": {
          "base_uri": "https://localhost:8080/",
          "height": 713
        },
        "id": "uWTaaFJceLat",
        "outputId": "0ffa40b5-1e61-4c76-c6ca-a60983b7e0c9"
      },
      "outputs": [
        {
          "output_type": "stream",
          "name": "stderr",
          "text": [
            "/usr/lib/python3.10/multiprocessing/popen_fork.py:66: RuntimeWarning: os.fork() was called. os.fork() is incompatible with multithreaded code, and JAX is multithreaded, so this will likely lead to a deadlock.\n",
            "  self.pid = os.fork()\n"
          ]
        },
        {
          "output_type": "stream",
          "name": "stdout",
          "text": [
            "Accuracy: 0.9289\n"
          ]
        },
        {
          "output_type": "display_data",
          "data": {
            "text/plain": [
              "<Figure size 1000x700 with 2 Axes>"
            ],
            "image/png": "[encoded data removed]"
          },
          "metadata": {}
        }
      ],
      "source": [
        "test_model(model, test_dataloader, BEST_WEIGHT_PATH, device)"
      ]
    },
    {
      "cell_type": "markdown",
      "metadata": {
        "id": "7fuzJyElz1wv"
      },
      "source": [
        "# TensorFlow Conversion and Save"
      ]
    },
    {
      "cell_type": "code",
      "execution_count": null,
      "metadata": {
        "id": "17vMdIhxz1iJ",
        "colab": {
          "base_uri": "https://localhost:8080/",
          "height": 458,
          "referenced_widgets": [
            "210a35d6b6124c3ebd432f397164f11a",
            "26d45335492a46d68100221248c56bf4",
            "e3d7bd21f6dd497294f72dd92fee496e",
            "d29025992720469594582f1ffbc7e0fc",
            "6a39de8fa17742abbc0033caf8df50b6",
            "de60d7b3479a4586a9216d1064784687",
            "7a3d4d662ada4d37ad7799695b5a56c9",
            "4ed64bb25c4a473db353540d9fdaf468",
            "3c86a2b1db2f441489db09fe1ee741c0",
            "5b2ff3f721c14210a4095f4a20a1977b",
            "b2c71a7da427473b997b17552a1c4c0a",
            "97177eb59c444e6da62e8a4ad7b4e2af",
            "e70d7185dba44a44b7354f8b62c9582f",
            "6018b68534a14b31b38792820f54ab8e",
            "d5acde788c6740b991818e8a7fc36b6b",
            "99b55ff7bb1a4091b5051a6c380040f0",
            "2d57d7537f4143ae98c84f45dbd9d3a5",
            "51f1b482c91c437bad210ef5d76b9cdb",
            "22c76e83850a4a558967506888591b13",
            "43ca3e83875442719f6c64f8f1fc1857",
            "e25ca1b302414b24b1905bb0f8cf74d3",
            "f966f8ed2065472180967c3023885605"
          ]
        },
        "outputId": "9577cc19-fbd2-435e-9dcd-699177a958b4"
      },
      "outputs": [
        {
          "output_type": "stream",
          "name": "stderr",
          "text": [
            "/usr/local/lib/python3.10/dist-packages/huggingface_hub/utils/_token.py:89: UserWarning: \n",
            "The secret `HF_TOKEN` does not exist in your Colab secrets.\n",
            "To authenticate with the Hugging Face Hub, create a token in your settings tab (https://huggingface.co/settings/tokens), set it as secret in your Google Colab and restart your session.\n",
            "You will be able to reuse this secret in all of your notebooks.\n",
            "Please note that authentication is recommended but still optional to access public models or datasets.\n",
            "  warnings.warn(\n"
          ]
        },
        {
          "output_type": "display_data",
          "data": {
            "text/plain": [
              "config.json:   0%|          | 0.00/483 [00:00<?, ?B/s]"
            ],
            "application/vnd.jupyter.widget-view+json": {
              "version_major": 2,
              "version_minor": 0,
              "model_id": "210a35d6b6124c3ebd432f397164f11a"
            }
          },
          "metadata": {}
        },
        {
          "output_type": "display_data",
          "data": {
            "text/plain": [
              "model.safetensors:   0%|          | 0.00/268M [00:00<?, ?B/s]"
            ],
            "application/vnd.jupyter.widget-view+json": {
              "version_major": 2,
              "version_minor": 0,
              "model_id": "97177eb59c444e6da62e8a4ad7b4e2af"
            }
          },
          "metadata": {}
        },
        {
          "output_type": "stream",
          "name": "stderr",
          "text": [
            "Some weights of DistilBertForSequenceClassification were not initialized from the model checkpoint at distilbert-base-uncased and are newly initialized: ['classifier.bias', 'classifier.weight', 'pre_classifier.bias', 'pre_classifier.weight']\n",
            "You should probably TRAIN this model on a down-stream task to be able to use it for predictions and inference.\n",
            "Some weights of the PyTorch model were not used when initializing the TF 2.0 model TFDistilBertForSequenceClassification: ['vocab_transform.weight', 'vocab_layer_norm.bias', 'vocab_transform.bias', 'vocab_projector.bias', 'vocab_layer_norm.weight']\n",
            "- This IS expected if you are initializing TFDistilBertForSequenceClassification from a PyTorch model trained on another task or with another architecture (e.g. initializing a TFBertForSequenceClassification model from a BertForPreTraining model).\n",
            "- This IS NOT expected if you are initializing TFDistilBertForSequenceClassification from a PyTorch model that you expect to be exactly identical (e.g. initializing a TFBertForSequenceClassification model from a BertForSequenceClassification model).\n",
            "Some weights or buffers of the TF 2.0 model TFDistilBertForSequenceClassification were not initialized from the PyTorch model and are newly initialized: ['pre_classifier.weight', 'pre_classifier.bias', 'classifier.weight', 'classifier.bias']\n",
            "You should probably TRAIN this model on a down-stream task to be able to use it for predictions and inference.\n",
            "WARNING:tensorflow:Skipping full serialization of TF-Keras layer <tf_keras.src.layers.regularization.dropout.Dropout object at 0x7c99c3982f50>, because it is not built.\n",
            "WARNING:tensorflow:Skipping full serialization of TF-Keras layer <tf_keras.src.layers.regularization.dropout.Dropout object at 0x7c99c03edb70>, because it is not built.\n",
            "WARNING:tensorflow:Skipping full serialization of TF-Keras layer <tf_keras.src.layers.regularization.dropout.Dropout object at 0x7c99c39e8760>, because it is not built.\n",
            "WARNING:tensorflow:Skipping full serialization of TF-Keras layer <tf_keras.src.layers.regularization.dropout.Dropout object at 0x7c99c39eb310>, because it is not built.\n",
            "WARNING:tensorflow:Skipping full serialization of TF-Keras layer <tf_keras.src.layers.regularization.dropout.Dropout object at 0x7c99c0425f00>, because it is not built.\n",
            "WARNING:tensorflow:Skipping full serialization of TF-Keras layer <tf_keras.src.layers.regularization.dropout.Dropout object at 0x7c99c0430af0>, because it is not built.\n"
          ]
        },
        {
          "output_type": "stream",
          "name": "stdout",
          "text": [
            "Modello salvato in formato PB e pesi salvati in formato H5.\n"
          ]
        }
      ],
      "source": [
        "# Assicurati che le cartelle esistano\n",
        "os.makedirs(MODEL_PATH, exist_ok=True)\n",
        "\n",
        "# Carica il modello PyTorch\n",
        "model_name = 'distilbert-base-uncased'\n",
        "pytorch_model = DistilBertForSequenceClassification.from_pretrained(model_name, num_labels=2)\n",
        "\n",
        "# Verifica il numero di classi nel modello PyTorch\n",
        "num_labels_pytorch = pytorch_model.num_labels\n",
        "\n",
        "# Carica i pesi del modello PyTorch\n",
        "pytorch_model.load_state_dict(torch.load(os.path.join(BEST_WEIGHT_PATH, 'weights.pth')))\n",
        "weights = pytorch_model.classifier.weight.detach().numpy().T\n",
        "biases = pytorch_model.classifier.bias.detach().numpy()\n",
        "\n",
        "# Carica il modello TensorFlow\n",
        "tf_model = TFDistilBertForSequenceClassification.from_pretrained(model_name, num_labels=num_labels_pytorch)\n",
        "\n",
        "# Imposta i pesi per il layer classifier\n",
        "tf_model.classifier.set_weights([weights, biases])\n",
        "\n",
        "# Salva i pesi del modello TensorFlow in un unico file H5\n",
        "weights_h5_path = os.path.join(MODEL_PATH, 'weights.h5')\n",
        "tf_model.save_weights(weights_h5_path)\n",
        "\n",
        "# Salva il modello TensorFlow in formato PB\n",
        "model_pb_path = os.path.join(MODEL_PATH, 'saved_model.pb')\n",
        "tf.saved_model.save(tf_model, model_pb_path)\n",
        "\n",
        "print(\"Modello salvato in formato PB e pesi salvati in formato H5.\")"
      ]
    }
  ],
  "metadata": {
    "colab": {
      "collapsed_sections": [
        "4ZBbEhVO9_39",
        "C4K65O2N-gvB",
        "uO1hnfv1Bi57",
        "4g3daj8TBcZO",
        "qTnNnrTud1xd",
        "n3rqIp54bXgZ",
        "GESxxEpy2aL2",
        "vCxZq4pT7SP7",
        "7fuzJyElz1wv"
      ],
      "provenance": [],
      "gpuType": "T4"
    },
    "kernelspec": {
      "display_name": "Python 3",
      "name": "python3"
    },
    "language_info": {
      "name": "python"
    },
    "accelerator": "GPU",
    "widgets": {
      "application/vnd.jupyter.widget-state+json": {
        "210a35d6b6124c3ebd432f397164f11a": {
          "model_module": "@jupyter-widgets/controls",
          "model_name": "HBoxModel",
          "model_module_version": "1.5.0",
          "state": {
            "_dom_classes": [],
            "_model_module": "@jupyter-widgets/controls",
            "_model_module_version": "1.5.0",
            "_model_name": "HBoxModel",
            "_view_count": null,
            "_view_module": "@jupyter-widgets/controls",
            "_view_module_version": "1.5.0",
            "_view_name": "HBoxView",
            "box_style": "",
            "children": [
              "IPY_MODEL_26d45335492a46d68100221248c56bf4",
              "IPY_MODEL_e3d7bd21f6dd497294f72dd92fee496e",
              "IPY_MODEL_d29025992720469594582f1ffbc7e0fc"
            ],
            "layout": "IPY_MODEL_6a39de8fa17742abbc0033caf8df50b6"
          }
        },
        "26d45335492a46d68100221248c56bf4": {
          "model_module": "@jupyter-widgets/controls",
          "model_name": "HTMLModel",
          "model_module_version": "1.5.0",
          "state": {
            "_dom_classes": [],
            "_model_module": "@jupyter-widgets/controls",
            "_model_module_version": "1.5.0",
            "_model_name": "HTMLModel",
            "_view_count": null,
            "_view_module": "@jupyter-widgets/controls",
            "_view_module_version": "1.5.0",
            "_view_name": "HTMLView",
            "description": "",
            "description_tooltip": null,
            "layout": "IPY_MODEL_de60d7b3479a4586a9216d1064784687",
            "placeholder": "​",
            "style": "IPY_MODEL_7a3d4d662ada4d37ad7799695b5a56c9",
            "value": "config.json: 100%"
          }
        },
        "e3d7bd21f6dd497294f72dd92fee496e": {
          "model_module": "@jupyter-widgets/controls",
          "model_name": "FloatProgressModel",
          "model_module_version": "1.5.0",
          "state": {
            "_dom_classes": [],
            "_model_module": "@jupyter-widgets/controls",
            "_model_module_version": "1.5.0",
            "_model_name": "FloatProgressModel",
            "_view_count": null,
            "_view_module": "@jupyter-widgets/controls",
            "_view_module_version": "1.5.0",
            "_view_name": "ProgressView",
            "bar_style": "success",
            "description": "",
            "description_tooltip": null,
            "layout": "IPY_MODEL_4ed64bb25c4a473db353540d9fdaf468",
            "max": 483,
            "min": 0,
            "orientation": "horizontal",
            "style": "IPY_MODEL_3c86a2b1db2f441489db09fe1ee741c0",
            "value": 483
          }
        },
        "d29025992720469594582f1ffbc7e0fc": {
          "model_module": "@jupyter-widgets/controls",
          "model_name": "HTMLModel",
          "model_module_version": "1.5.0",
          "state": {
            "_dom_classes": [],
            "_model_module": "@jupyter-widgets/controls",
            "_model_module_version": "1.5.0",
            "_model_name": "HTMLModel",
            "_view_count": null,
            "_view_module": "@jupyter-widgets/controls",
            "_view_module_version": "1.5.0",
            "_view_name": "HTMLView",
            "description": "",
            "description_tooltip": null,
            "layout": "IPY_MODEL_5b2ff3f721c14210a4095f4a20a1977b",
            "placeholder": "​",
            "style": "IPY_MODEL_b2c71a7da427473b997b17552a1c4c0a",
            "value": " 483/483 [00:00&lt;00:00, 5.97kB/s]"
          }
        },
        "6a39de8fa17742abbc0033caf8df50b6": {
          "model_module": "@jupyter-widgets/base",
          "model_name": "LayoutModel",
          "model_module_version": "1.2.0",
          "state": {
            "_model_module": "@jupyter-widgets/base",
            "_model_module_version": "1.2.0",
            "_model_name": "LayoutModel",
            "_view_count": null,
            "_view_module": "@jupyter-widgets/base",
            "_view_module_version": "1.2.0",
            "_view_name": "LayoutView",
            "align_content": null,
            "align_items": null,
            "align_self": null,
            "border": null,
            "bottom": null,
            "display": null,
            "flex": null,
            "flex_flow": null,
            "grid_area": null,
            "grid_auto_columns": null,
            "grid_auto_flow": null,
            "grid_auto_rows": null,
            "grid_column": null,
            "grid_gap": null,
            "grid_row": null,
            "grid_template_areas": null,
            "grid_template_columns": null,
            "grid_template_rows": null,
            "height": null,
            "justify_content": null,
            "justify_items": null,
            "left": null,
            "margin": null,
            "max_height": null,
            "max_width": null,
            "min_height": null,
            "min_width": null,
            "object_fit": null,
            "object_position": null,
            "order": null,
            "overflow": null,
            "overflow_x": null,
            "overflow_y": null,
            "padding": null,
            "right": null,
            "top": null,
            "visibility": null,
            "width": null
          }
        },
        "de60d7b3479a4586a9216d1064784687": {
          "model_module": "@jupyter-widgets/base",
          "model_name": "LayoutModel",
          "model_module_version": "1.2.0",
          "state": {
            "_model_module": "@jupyter-widgets/base",
            "_model_module_version": "1.2.0",
            "_model_name": "LayoutModel",
            "_view_count": null,
            "_view_module": "@jupyter-widgets/base",
            "_view_module_version": "1.2.0",
            "_view_name": "LayoutView",
            "align_content": null,
            "align_items": null,
            "align_self": null,
            "border": null,
            "bottom": null,
            "display": null,
            "flex": null,
            "flex_flow": null,
            "grid_area": null,
            "grid_auto_columns": null,
            "grid_auto_flow": null,
            "grid_auto_rows": null,
            "grid_column": null,
            "grid_gap": null,
            "grid_row": null,
            "grid_template_areas": null,
            "grid_template_columns": null,
            "grid_template_rows": null,
            "height": null,
            "justify_content": null,
            "justify_items": null,
            "left": null,
            "margin": null,
            "max_height": null,
            "max_width": null,
            "min_height": null,
            "min_width": null,
            "object_fit": null,
            "object_position": null,
            "order": null,
            "overflow": null,
            "overflow_x": null,
            "overflow_y": null,
            "padding": null,
            "right": null,
            "top": null,
            "visibility": null,
            "width": null
          }
        },
        "7a3d4d662ada4d37ad7799695b5a56c9": {
          "model_module": "@jupyter-widgets/controls",
          "model_name": "DescriptionStyleModel",
          "model_module_version": "1.5.0",
          "state": {
            "_model_module": "@jupyter-widgets/controls",
            "_model_module_version": "1.5.0",
            "_model_name": "DescriptionStyleModel",
            "_view_count": null,
            "_view_module": "@jupyter-widgets/base",
            "_view_module_version": "1.2.0",
            "_view_name": "StyleView",
            "description_width": ""
          }
        },
        "4ed64bb25c4a473db353540d9fdaf468": {
          "model_module": "@jupyter-widgets/base",
          "model_name": "LayoutModel",
          "model_module_version": "1.2.0",
          "state": {
            "_model_module": "@jupyter-widgets/base",
            "_model_module_version": "1.2.0",
            "_model_name": "LayoutModel",
            "_view_count": null,
            "_view_module": "@jupyter-widgets/base",
            "_view_module_version": "1.2.0",
            "_view_name": "LayoutView",
            "align_content": null,
            "align_items": null,
            "align_self": null,
            "border": null,
            "bottom": null,
            "display": null,
            "flex": null,
            "flex_flow": null,
            "grid_area": null,
            "grid_auto_columns": null,
            "grid_auto_flow": null,
            "grid_auto_rows": null,
            "grid_column": null,
            "grid_gap": null,
            "grid_row": null,
            "grid_template_areas": null,
            "grid_template_columns": null,
            "grid_template_rows": null,
            "height": null,
            "justify_content": null,
            "justify_items": null,
            "left": null,
            "margin": null,
            "max_height": null,
            "max_width": null,
            "min_height": null,
            "min_width": null,
            "object_fit": null,
            "object_position": null,
            "order": null,
            "overflow": null,
            "overflow_x": null,
            "overflow_y": null,
            "padding": null,
            "right": null,
            "top": null,
            "visibility": null,
            "width": null
          }
        },
        "3c86a2b1db2f441489db09fe1ee741c0": {
          "model_module": "@jupyter-widgets/controls",
          "model_name": "ProgressStyleModel",
          "model_module_version": "1.5.0",
          "state": {
            "_model_module": "@jupyter-widgets/controls",
            "_model_module_version": "1.5.0",
            "_model_name": "ProgressStyleModel",
            "_view_count": null,
            "_view_module": "@jupyter-widgets/base",
            "_view_module_version": "1.2.0",
            "_view_name": "StyleView",
            "bar_color": null,
            "description_width": ""
          }
        },
        "5b2ff3f721c14210a4095f4a20a1977b": {
          "model_module": "@jupyter-widgets/base",
          "model_name": "LayoutModel",
          "model_module_version": "1.2.0",
          "state": {
            "_model_module": "@jupyter-widgets/base",
            "_model_module_version": "1.2.0",
            "_model_name": "LayoutModel",
            "_view_count": null,
            "_view_module": "@jupyter-widgets/base",
            "_view_module_version": "1.2.0",
            "_view_name": "LayoutView",
            "align_content": null,
            "align_items": null,
            "align_self": null,
            "border": null,
            "bottom": null,
            "display": null,
            "flex": null,
            "flex_flow": null,
            "grid_area": null,
            "grid_auto_columns": null,
            "grid_auto_flow": null,
            "grid_auto_rows": null,
            "grid_column": null,
            "grid_gap": null,
            "grid_row": null,
            "grid_template_areas": null,
            "grid_template_columns": null,
            "grid_template_rows": null,
            "height": null,
            "justify_content": null,
            "justify_items": null,
            "left": null,
            "margin": null,
            "max_height": null,
            "max_width": null,
            "min_height": null,
            "min_width": null,
            "object_fit": null,
            "object_position": null,
            "order": null,
            "overflow": null,
            "overflow_x": null,
            "overflow_y": null,
            "padding": null,
            "right": null,
            "top": null,
            "visibility": null,
            "width": null
          }
        },
        "b2c71a7da427473b997b17552a1c4c0a": {
          "model_module": "@jupyter-widgets/controls",
          "model_name": "DescriptionStyleModel",
          "model_module_version": "1.5.0",
          "state": {
            "_model_module": "@jupyter-widgets/controls",
            "_model_module_version": "1.5.0",
            "_model_name": "DescriptionStyleModel",
            "_view_count": null,
            "_view_module": "@jupyter-widgets/base",
            "_view_module_version": "1.2.0",
            "_view_name": "StyleView",
            "description_width": ""
          }
        },
        "97177eb59c444e6da62e8a4ad7b4e2af": {
          "model_module": "@jupyter-widgets/controls",
          "model_name": "HBoxModel",
          "model_module_version": "1.5.0",
          "state": {
            "_dom_classes": [],
            "_model_module": "@jupyter-widgets/controls",
            "_model_module_version": "1.5.0",
            "_model_name": "HBoxModel",
            "_view_count": null,
            "_view_module": "@jupyter-widgets/controls",
            "_view_module_version": "1.5.0",
            "_view_name": "HBoxView",
            "box_style": "",
            "children": [
              "IPY_MODEL_e70d7185dba44a44b7354f8b62c9582f",
              "IPY_MODEL_6018b68534a14b31b38792820f54ab8e",
              "IPY_MODEL_d5acde788c6740b991818e8a7fc36b6b"
            ],
            "layout": "IPY_MODEL_99b55ff7bb1a4091b5051a6c380040f0"
          }
        },
        "e70d7185dba44a44b7354f8b62c9582f": {
          "model_module": "@jupyter-widgets/controls",
          "model_name": "HTMLModel",
          "model_module_version": "1.5.0",
          "state": {
            "_dom_classes": [],
            "_model_module": "@jupyter-widgets/controls",
            "_model_module_version": "1.5.0",
            "_model_name": "HTMLModel",
            "_view_count": null,
            "_view_module": "@jupyter-widgets/controls",
            "_view_module_version": "1.5.0",
            "_view_name": "HTMLView",
            "description": "",
            "description_tooltip": null,
            "layout": "IPY_MODEL_2d57d7537f4143ae98c84f45dbd9d3a5",
            "placeholder": "​",
            "style": "IPY_MODEL_51f1b482c91c437bad210ef5d76b9cdb",
            "value": "model.safetensors: 100%"
          }
        },
        "6018b68534a14b31b38792820f54ab8e": {
          "model_module": "@jupyter-widgets/controls",
          "model_name": "FloatProgressModel",
          "model_module_version": "1.5.0",
          "state": {
            "_dom_classes": [],
            "_model_module": "@jupyter-widgets/controls",
            "_model_module_version": "1.5.0",
            "_model_name": "FloatProgressModel",
            "_view_count": null,
            "_view_module": "@jupyter-widgets/controls",
            "_view_module_version": "1.5.0",
            "_view_name": "ProgressView",
            "bar_style": "success",
            "description": "",
            "description_tooltip": null,
            "layout": "IPY_MODEL_22c76e83850a4a558967506888591b13",
            "max": 267954768,
            "min": 0,
            "orientation": "horizontal",
            "style": "IPY_MODEL_43ca3e83875442719f6c64f8f1fc1857",
            "value": 267954768
          }
        },
        "d5acde788c6740b991818e8a7fc36b6b": {
          "model_module": "@jupyter-widgets/controls",
          "model_name": "HTMLModel",
          "model_module_version": "1.5.0",
          "state": {
            "_dom_classes": [],
            "_model_module": "@jupyter-widgets/controls",
            "_model_module_version": "1.5.0",
            "_model_name": "HTMLModel",
            "_view_count": null,
            "_view_module": "@jupyter-widgets/controls",
            "_view_module_version": "1.5.0",
            "_view_name": "HTMLView",
            "description": "",
            "description_tooltip": null,
            "layout": "IPY_MODEL_e25ca1b302414b24b1905bb0f8cf74d3",
            "placeholder": "​",
            "style": "IPY_MODEL_f966f8ed2065472180967c3023885605",
            "value": " 268M/268M [00:04&lt;00:00, 45.6MB/s]"
          }
        },
        "99b55ff7bb1a4091b5051a6c380040f0": {
          "model_module": "@jupyter-widgets/base",
          "model_name": "LayoutModel",
          "model_module_version": "1.2.0",
          "state": {
            "_model_module": "@jupyter-widgets/base",
            "_model_module_version": "1.2.0",
            "_model_name": "LayoutModel",
            "_view_count": null,
            "_view_module": "@jupyter-widgets/base",
            "_view_module_version": "1.2.0",
            "_view_name": "LayoutView",
            "align_content": null,
            "align_items": null,
            "align_self": null,
            "border": null,
            "bottom": null,
            "display": null,
            "flex": null,
            "flex_flow": null,
            "grid_area": null,
            "grid_auto_columns": null,
            "grid_auto_flow": null,
            "grid_auto_rows": null,
            "grid_column": null,
            "grid_gap": null,
            "grid_row": null,
            "grid_template_areas": null,
            "grid_template_columns": null,
            "grid_template_rows": null,
            "height": null,
            "justify_content": null,
            "justify_items": null,
            "left": null,
            "margin": null,
            "max_height": null,
            "max_width": null,
            "min_height": null,
            "min_width": null,
            "object_fit": null,
            "object_position": null,
            "order": null,
            "overflow": null,
            "overflow_x": null,
            "overflow_y": null,
            "padding": null,
            "right": null,
            "top": null,
            "visibility": null,
            "width": null
          }
        },
        "2d57d7537f4143ae98c84f45dbd9d3a5": {
          "model_module": "@jupyter-widgets/base",
          "model_name": "LayoutModel",
          "model_module_version": "1.2.0",
          "state": {
            "_model_module": "@jupyter-widgets/base",
            "_model_module_version": "1.2.0",
            "_model_name": "LayoutModel",
            "_view_count": null,
            "_view_module": "@jupyter-widgets/base",
            "_view_module_version": "1.2.0",
            "_view_name": "LayoutView",
            "align_content": null,
            "align_items": null,
            "align_self": null,
            "border": null,
            "bottom": null,
            "display": null,
            "flex": null,
            "flex_flow": null,
            "grid_area": null,
            "grid_auto_columns": null,
            "grid_auto_flow": null,
            "grid_auto_rows": null,
            "grid_column": null,
            "grid_gap": null,
            "grid_row": null,
            "grid_template_areas": null,
            "grid_template_columns": null,
            "grid_template_rows": null,
            "height": null,
            "justify_content": null,
            "justify_items": null,
            "left": null,
            "margin": null,
            "max_height": null,
            "max_width": null,
            "min_height": null,
            "min_width": null,
            "object_fit": null,
            "object_position": null,
            "order": null,
            "overflow": null,
            "overflow_x": null,
            "overflow_y": null,
            "padding": null,
            "right": null,
            "top": null,
            "visibility": null,
            "width": null
          }
        },
        "51f1b482c91c437bad210ef5d76b9cdb": {
          "model_module": "@jupyter-widgets/controls",
          "model_name": "DescriptionStyleModel",
          "model_module_version": "1.5.0",
          "state": {
            "_model_module": "@jupyter-widgets/controls",
            "_model_module_version": "1.5.0",
            "_model_name": "DescriptionStyleModel",
            "_view_count": null,
            "_view_module": "@jupyter-widgets/base",
            "_view_module_version": "1.2.0",
            "_view_name": "StyleView",
            "description_width": ""
          }
        },
        "22c76e83850a4a558967506888591b13": {
          "model_module": "@jupyter-widgets/base",
          "model_name": "LayoutModel",
          "model_module_version": "1.2.0",
          "state": {
            "_model_module": "@jupyter-widgets/base",
            "_model_module_version": "1.2.0",
            "_model_name": "LayoutModel",
            "_view_count": null,
            "_view_module": "@jupyter-widgets/base",
            "_view_module_version": "1.2.0",
            "_view_name": "LayoutView",
            "align_content": null,
            "align_items": null,
            "align_self": null,
            "border": null,
            "bottom": null,
            "display": null,
            "flex": null,
            "flex_flow": null,
            "grid_area": null,
            "grid_auto_columns": null,
            "grid_auto_flow": null,
            "grid_auto_rows": null,
            "grid_column": null,
            "grid_gap": null,
            "grid_row": null,
            "grid_template_areas": null,
            "grid_template_columns": null,
            "grid_template_rows": null,
            "height": null,
            "justify_content": null,
            "justify_items": null,
            "left": null,
            "margin": null,
            "max_height": null,
            "max_width": null,
            "min_height": null,
            "min_width": null,
            "object_fit": null,
            "object_position": null,
            "order": null,
            "overflow": null,
            "overflow_x": null,
            "overflow_y": null,
            "padding": null,
            "right": null,
            "top": null,
            "visibility": null,
            "width": null
          }
        },
        "43ca3e83875442719f6c64f8f1fc1857": {
          "model_module": "@jupyter-widgets/controls",
          "model_name": "ProgressStyleModel",
          "model_module_version": "1.5.0",
          "state": {
            "_model_module": "@jupyter-widgets/controls",
            "_model_module_version": "1.5.0",
            "_model_name": "ProgressStyleModel",
            "_view_count": null,
            "_view_module": "@jupyter-widgets/base",
            "_view_module_version": "1.2.0",
            "_view_name": "StyleView",
            "bar_color": null,
            "description_width": ""
          }
        },
        "e25ca1b302414b24b1905bb0f8cf74d3": {
          "model_module": "@jupyter-widgets/base",
          "model_name": "LayoutModel",
          "model_module_version": "1.2.0",
          "state": {
            "_model_module": "@jupyter-widgets/base",
            "_model_module_version": "1.2.0",
            "_model_name": "LayoutModel",
            "_view_count": null,
            "_view_module": "@jupyter-widgets/base",
            "_view_module_version": "1.2.0",
            "_view_name": "LayoutView",
            "align_content": null,
            "align_items": null,
            "align_self": null,
            "border": null,
            "bottom": null,
            "display": null,
            "flex": null,
            "flex_flow": null,
            "grid_area": null,
            "grid_auto_columns": null,
            "grid_auto_flow": null,
            "grid_auto_rows": null,
            "grid_column": null,
            "grid_gap": null,
            "grid_row": null,
            "grid_template_areas": null,
            "grid_template_columns": null,
            "grid_template_rows": null,
            "height": null,
            "justify_content": null,
            "justify_items": null,
            "left": null,
            "margin": null,
            "max_height": null,
            "max_width": null,
            "min_height": null,
            "min_width": null,
            "object_fit": null,
            "object_position": null,
            "order": null,
            "overflow": null,
            "overflow_x": null,
            "overflow_y": null,
            "padding": null,
            "right": null,
            "top": null,
            "visibility": null,
            "width": null
          }
        },
        "f966f8ed2065472180967c3023885605": {
          "model_module": "@jupyter-widgets/controls",
          "model_name": "DescriptionStyleModel",
          "model_module_version": "1.5.0",
          "state": {
            "_model_module": "@jupyter-widgets/controls",
            "_model_module_version": "1.5.0",
            "_model_name": "DescriptionStyleModel",
            "_view_count": null,
            "_view_module": "@jupyter-widgets/base",
            "_view_module_version": "1.2.0",
            "_view_name": "StyleView",
            "description_width": ""
          }
        },
        "c48b632392414668a889f573cdc39e38": {
          "model_module": "@jupyter-widgets/controls",
          "model_name": "HBoxModel",
          "model_module_version": "1.5.0",
          "state": {
            "_dom_classes": [],
            "_model_module": "@jupyter-widgets/controls",
            "_model_module_version": "1.5.0",
            "_model_name": "HBoxModel",
            "_view_count": null,
            "_view_module": "@jupyter-widgets/controls",
            "_view_module_version": "1.5.0",
            "_view_name": "HBoxView",
            "box_style": "",
            "children": [
              "IPY_MODEL_554e07b4227241b8b2736565f4678ddb",
              "IPY_MODEL_3542fa0d2fc94f3ba8275e6169031184",
              "IPY_MODEL_45f5afe44e504ae694f4c8e6a51df911"
            ],
            "layout": "IPY_MODEL_6a7d1c30eae84a4486c98f58e5bb49df"
          }
        },
        "554e07b4227241b8b2736565f4678ddb": {
          "model_module": "@jupyter-widgets/controls",
          "model_name": "HTMLModel",
          "model_module_version": "1.5.0",
          "state": {
            "_dom_classes": [],
            "_model_module": "@jupyter-widgets/controls",
            "_model_module_version": "1.5.0",
            "_model_name": "HTMLModel",
            "_view_count": null,
            "_view_module": "@jupyter-widgets/controls",
            "_view_module_version": "1.5.0",
            "_view_name": "HTMLView",
            "description": "",
            "description_tooltip": null,
            "layout": "IPY_MODEL_4a9893940ec44f269ef356bcddcb5d92",
            "placeholder": "​",
            "style": "IPY_MODEL_262ffe819d9847d386c7e46a73a62817",
            "value": "tokenizer_config.json: 100%"
          }
        },
        "3542fa0d2fc94f3ba8275e6169031184": {
          "model_module": "@jupyter-widgets/controls",
          "model_name": "FloatProgressModel",
          "model_module_version": "1.5.0",
          "state": {
            "_dom_classes": [],
            "_model_module": "@jupyter-widgets/controls",
            "_model_module_version": "1.5.0",
            "_model_name": "FloatProgressModel",
            "_view_count": null,
            "_view_module": "@jupyter-widgets/controls",
            "_view_module_version": "1.5.0",
            "_view_name": "ProgressView",
            "bar_style": "success",
            "description": "",
            "description_tooltip": null,
            "layout": "IPY_MODEL_45afce5d6fa649d2aff53ad0242c0c6d",
            "max": 48,
            "min": 0,
            "orientation": "horizontal",
            "style": "IPY_MODEL_19bb34b8e05c4923a9a03bbeea2ff450",
            "value": 48
          }
        },
        "45f5afe44e504ae694f4c8e6a51df911": {
          "model_module": "@jupyter-widgets/controls",
          "model_name": "HTMLModel",
          "model_module_version": "1.5.0",
          "state": {
            "_dom_classes": [],
            "_model_module": "@jupyter-widgets/controls",
            "_model_module_version": "1.5.0",
            "_model_name": "HTMLModel",
            "_view_count": null,
            "_view_module": "@jupyter-widgets/controls",
            "_view_module_version": "1.5.0",
            "_view_name": "HTMLView",
            "description": "",
            "description_tooltip": null,
            "layout": "IPY_MODEL_c5036d59368b4932a2c4e0afbdea44d0",
            "placeholder": "​",
            "style": "IPY_MODEL_e1ccab79e47f40b39a6969bee8bae612",
            "value": " 48.0/48.0 [00:00&lt;00:00, 3.09kB/s]"
          }
        },
        "6a7d1c30eae84a4486c98f58e5bb49df": {
          "model_module": "@jupyter-widgets/base",
          "model_name": "LayoutModel",
          "model_module_version": "1.2.0",
          "state": {
            "_model_module": "@jupyter-widgets/base",
            "_model_module_version": "1.2.0",
            "_model_name": "LayoutModel",
            "_view_count": null,
            "_view_module": "@jupyter-widgets/base",
            "_view_module_version": "1.2.0",
            "_view_name": "LayoutView",
            "align_content": null,
            "align_items": null,
            "align_self": null,
            "border": null,
            "bottom": null,
            "display": null,
            "flex": null,
            "flex_flow": null,
            "grid_area": null,
            "grid_auto_columns": null,
            "grid_auto_flow": null,
            "grid_auto_rows": null,
            "grid_column": null,
            "grid_gap": null,
            "grid_row": null,
            "grid_template_areas": null,
            "grid_template_columns": null,
            "grid_template_rows": null,
            "height": null,
            "justify_content": null,
            "justify_items": null,
            "left": null,
            "margin": null,
            "max_height": null,
            "max_width": null,
            "min_height": null,
            "min_width": null,
            "object_fit": null,
            "object_position": null,
            "order": null,
            "overflow": null,
            "overflow_x": null,
            "overflow_y": null,
            "padding": null,
            "right": null,
            "top": null,
            "visibility": null,
            "width": null
          }
        },
        "4a9893940ec44f269ef356bcddcb5d92": {
          "model_module": "@jupyter-widgets/base",
          "model_name": "LayoutModel",
          "model_module_version": "1.2.0",
          "state": {
            "_model_module": "@jupyter-widgets/base",
            "_model_module_version": "1.2.0",
            "_model_name": "LayoutModel",
            "_view_count": null,
            "_view_module": "@jupyter-widgets/base",
            "_view_module_version": "1.2.0",
            "_view_name": "LayoutView",
            "align_content": null,
            "align_items": null,
            "align_self": null,
            "border": null,
            "bottom": null,
            "display": null,
            "flex": null,
            "flex_flow": null,
            "grid_area": null,
            "grid_auto_columns": null,
            "grid_auto_flow": null,
            "grid_auto_rows": null,
            "grid_column": null,
            "grid_gap": null,
            "grid_row": null,
            "grid_template_areas": null,
            "grid_template_columns": null,
            "grid_template_rows": null,
            "height": null,
            "justify_content": null,
            "justify_items": null,
            "left": null,
            "margin": null,
            "max_height": null,
            "max_width": null,
            "min_height": null,
            "min_width": null,
            "object_fit": null,
            "object_position": null,
            "order": null,
            "overflow": null,
            "overflow_x": null,
            "overflow_y": null,
            "padding": null,
            "right": null,
            "top": null,
            "visibility": null,
            "width": null
          }
        },
        "262ffe819d9847d386c7e46a73a62817": {
          "model_module": "@jupyter-widgets/controls",
          "model_name": "DescriptionStyleModel",
          "model_module_version": "1.5.0",
          "state": {
            "_model_module": "@jupyter-widgets/controls",
            "_model_module_version": "1.5.0",
            "_model_name": "DescriptionStyleModel",
            "_view_count": null,
            "_view_module": "@jupyter-widgets/base",
            "_view_module_version": "1.2.0",
            "_view_name": "StyleView",
            "description_width": ""
          }
        },
        "45afce5d6fa649d2aff53ad0242c0c6d": {
          "model_module": "@jupyter-widgets/base",
          "model_name": "LayoutModel",
          "model_module_version": "1.2.0",
          "state": {
            "_model_module": "@jupyter-widgets/base",
            "_model_module_version": "1.2.0",
            "_model_name": "LayoutModel",
            "_view_count": null,
            "_view_module": "@jupyter-widgets/base",
            "_view_module_version": "1.2.0",
            "_view_name": "LayoutView",
            "align_content": null,
            "align_items": null,
            "align_self": null,
            "border": null,
            "bottom": null,
            "display": null,
            "flex": null,
            "flex_flow": null,
            "grid_area": null,
            "grid_auto_columns": null,
            "grid_auto_flow": null,
            "grid_auto_rows": null,
            "grid_column": null,
            "grid_gap": null,
            "grid_row": null,
            "grid_template_areas": null,
            "grid_template_columns": null,
            "grid_template_rows": null,
            "height": null,
            "justify_content": null,
            "justify_items": null,
            "left": null,
            "margin": null,
            "max_height": null,
            "max_width": null,
            "min_height": null,
            "min_width": null,
            "object_fit": null,
            "object_position": null,
            "order": null,
            "overflow": null,
            "overflow_x": null,
            "overflow_y": null,
            "padding": null,
            "right": null,
            "top": null,
            "visibility": null,
            "width": null
          }
        },
        "19bb34b8e05c4923a9a03bbeea2ff450": {
          "model_module": "@jupyter-widgets/controls",
          "model_name": "ProgressStyleModel",
          "model_module_version": "1.5.0",
          "state": {
            "_model_module": "@jupyter-widgets/controls",
            "_model_module_version": "1.5.0",
            "_model_name": "ProgressStyleModel",
            "_view_count": null,
            "_view_module": "@jupyter-widgets/base",
            "_view_module_version": "1.2.0",
            "_view_name": "StyleView",
            "bar_color": null,
            "description_width": ""
          }
        },
        "c5036d59368b4932a2c4e0afbdea44d0": {
          "model_module": "@jupyter-widgets/base",
          "model_name": "LayoutModel",
          "model_module_version": "1.2.0",
          "state": {
            "_model_module": "@jupyter-widgets/base",
            "_model_module_version": "1.2.0",
            "_model_name": "LayoutModel",
            "_view_count": null,
            "_view_module": "@jupyter-widgets/base",
            "_view_module_version": "1.2.0",
            "_view_name": "LayoutView",
            "align_content": null,
            "align_items": null,
            "align_self": null,
            "border": null,
            "bottom": null,
            "display": null,
            "flex": null,
            "flex_flow": null,
            "grid_area": null,
            "grid_auto_columns": null,
            "grid_auto_flow": null,
            "grid_auto_rows": null,
            "grid_column": null,
            "grid_gap": null,
            "grid_row": null,
            "grid_template_areas": null,
            "grid_template_columns": null,
            "grid_template_rows": null,
            "height": null,
            "justify_content": null,
            "justify_items": null,
            "left": null,
            "margin": null,
            "max_height": null,
            "max_width": null,
            "min_height": null,
            "min_width": null,
            "object_fit": null,
            "object_position": null,
            "order": null,
            "overflow": null,
            "overflow_x": null,
            "overflow_y": null,
            "padding": null,
            "right": null,
            "top": null,
            "visibility": null,
            "width": null
          }
        },
        "e1ccab79e47f40b39a6969bee8bae612": {
          "model_module": "@jupyter-widgets/controls",
          "model_name": "DescriptionStyleModel",
          "model_module_version": "1.5.0",
          "state": {
            "_model_module": "@jupyter-widgets/controls",
            "_model_module_version": "1.5.0",
            "_model_name": "DescriptionStyleModel",
            "_view_count": null,
            "_view_module": "@jupyter-widgets/base",
            "_view_module_version": "1.2.0",
            "_view_name": "StyleView",
            "description_width": ""
          }
        },
        "0320eb5274f34583b6ba9bb6b38fb462": {
          "model_module": "@jupyter-widgets/controls",
          "model_name": "HBoxModel",
          "model_module_version": "1.5.0",
          "state": {
            "_dom_classes": [],
            "_model_module": "@jupyter-widgets/controls",
            "_model_module_version": "1.5.0",
            "_model_name": "HBoxModel",
            "_view_count": null,
            "_view_module": "@jupyter-widgets/controls",
            "_view_module_version": "1.5.0",
            "_view_name": "HBoxView",
            "box_style": "",
            "children": [
              "IPY_MODEL_af756ad7adcc494f9a6cde01b43e6a9c",
              "IPY_MODEL_44465959ba0e47b9a9bd32f6b88eb802",
              "IPY_MODEL_cc0de7aa09784834b1d81bd783307cf7"
            ],
            "layout": "IPY_MODEL_f8d44251f80046ebbec425006a42887b"
          }
        },
        "af756ad7adcc494f9a6cde01b43e6a9c": {
          "model_module": "@jupyter-widgets/controls",
          "model_name": "HTMLModel",
          "model_module_version": "1.5.0",
          "state": {
            "_dom_classes": [],
            "_model_module": "@jupyter-widgets/controls",
            "_model_module_version": "1.5.0",
            "_model_name": "HTMLModel",
            "_view_count": null,
            "_view_module": "@jupyter-widgets/controls",
            "_view_module_version": "1.5.0",
            "_view_name": "HTMLView",
            "description": "",
            "description_tooltip": null,
            "layout": "IPY_MODEL_d03ccf1320bf4deea42c8db470ead0c4",
            "placeholder": "​",
            "style": "IPY_MODEL_549745feeaeb4c1bab4421315902f39a",
            "value": "vocab.txt: 100%"
          }
        },
        "44465959ba0e47b9a9bd32f6b88eb802": {
          "model_module": "@jupyter-widgets/controls",
          "model_name": "FloatProgressModel",
          "model_module_version": "1.5.0",
          "state": {
            "_dom_classes": [],
            "_model_module": "@jupyter-widgets/controls",
            "_model_module_version": "1.5.0",
            "_model_name": "FloatProgressModel",
            "_view_count": null,
            "_view_module": "@jupyter-widgets/controls",
            "_view_module_version": "1.5.0",
            "_view_name": "ProgressView",
            "bar_style": "success",
            "description": "",
            "description_tooltip": null,
            "layout": "IPY_MODEL_1025d73a1b0f43549be62ba481fe5e69",
            "max": 231508,
            "min": 0,
            "orientation": "horizontal",
            "style": "IPY_MODEL_c8af1a3ad2134e9f9abc7aaf1eaf965f",
            "value": 231508
          }
        },
        "cc0de7aa09784834b1d81bd783307cf7": {
          "model_module": "@jupyter-widgets/controls",
          "model_name": "HTMLModel",
          "model_module_version": "1.5.0",
          "state": {
            "_dom_classes": [],
            "_model_module": "@jupyter-widgets/controls",
            "_model_module_version": "1.5.0",
            "_model_name": "HTMLModel",
            "_view_count": null,
            "_view_module": "@jupyter-widgets/controls",
            "_view_module_version": "1.5.0",
            "_view_name": "HTMLView",
            "description": "",
            "description_tooltip": null,
            "layout": "IPY_MODEL_15ded6c7b28f42899f2ac6026b78d124",
            "placeholder": "​",
            "style": "IPY_MODEL_5e497a49b7254fc4a05f33656a58133c",
            "value": " 232k/232k [00:00&lt;00:00, 3.56MB/s]"
          }
        },
        "f8d44251f80046ebbec425006a42887b": {
          "model_module": "@jupyter-widgets/base",
          "model_name": "LayoutModel",
          "model_module_version": "1.2.0",
          "state": {
            "_model_module": "@jupyter-widgets/base",
            "_model_module_version": "1.2.0",
            "_model_name": "LayoutModel",
            "_view_count": null,
            "_view_module": "@jupyter-widgets/base",
            "_view_module_version": "1.2.0",
            "_view_name": "LayoutView",
            "align_content": null,
            "align_items": null,
            "align_self": null,
            "border": null,
            "bottom": null,
            "display": null,
            "flex": null,
            "flex_flow": null,
            "grid_area": null,
            "grid_auto_columns": null,
            "grid_auto_flow": null,
            "grid_auto_rows": null,
            "grid_column": null,
            "grid_gap": null,
            "grid_row": null,
            "grid_template_areas": null,
            "grid_template_columns": null,
            "grid_template_rows": null,
            "height": null,
            "justify_content": null,
            "justify_items": null,
            "left": null,
            "margin": null,
            "max_height": null,
            "max_width": null,
            "min_height": null,
            "min_width": null,
            "object_fit": null,
            "object_position": null,
            "order": null,
            "overflow": null,
            "overflow_x": null,
            "overflow_y": null,
            "padding": null,
            "right": null,
            "top": null,
            "visibility": null,
            "width": null
          }
        },
        "d03ccf1320bf4deea42c8db470ead0c4": {
          "model_module": "@jupyter-widgets/base",
          "model_name": "LayoutModel",
          "model_module_version": "1.2.0",
          "state": {
            "_model_module": "@jupyter-widgets/base",
            "_model_module_version": "1.2.0",
            "_model_name": "LayoutModel",
            "_view_count": null,
            "_view_module": "@jupyter-widgets/base",
            "_view_module_version": "1.2.0",
            "_view_name": "LayoutView",
            "align_content": null,
            "align_items": null,
            "align_self": null,
            "border": null,
            "bottom": null,
            "display": null,
            "flex": null,
            "flex_flow": null,
            "grid_area": null,
            "grid_auto_columns": null,
            "grid_auto_flow": null,
            "grid_auto_rows": null,
            "grid_column": null,
            "grid_gap": null,
            "grid_row": null,
            "grid_template_areas": null,
            "grid_template_columns": null,
            "grid_template_rows": null,
            "height": null,
            "justify_content": null,
            "justify_items": null,
            "left": null,
            "margin": null,
            "max_height": null,
            "max_width": null,
            "min_height": null,
            "min_width": null,
            "object_fit": null,
            "object_position": null,
            "order": null,
            "overflow": null,
            "overflow_x": null,
            "overflow_y": null,
            "padding": null,
            "right": null,
            "top": null,
            "visibility": null,
            "width": null
          }
        },
        "549745feeaeb4c1bab4421315902f39a": {
          "model_module": "@jupyter-widgets/controls",
          "model_name": "DescriptionStyleModel",
          "model_module_version": "1.5.0",
          "state": {
            "_model_module": "@jupyter-widgets/controls",
            "_model_module_version": "1.5.0",
            "_model_name": "DescriptionStyleModel",
            "_view_count": null,
            "_view_module": "@jupyter-widgets/base",
            "_view_module_version": "1.2.0",
            "_view_name": "StyleView",
            "description_width": ""
          }
        },
        "1025d73a1b0f43549be62ba481fe5e69": {
          "model_module": "@jupyter-widgets/base",
          "model_name": "LayoutModel",
          "model_module_version": "1.2.0",
          "state": {
            "_model_module": "@jupyter-widgets/base",
            "_model_module_version": "1.2.0",
            "_model_name": "LayoutModel",
            "_view_count": null,
            "_view_module": "@jupyter-widgets/base",
            "_view_module_version": "1.2.0",
            "_view_name": "LayoutView",
            "align_content": null,
            "align_items": null,
            "align_self": null,
            "border": null,
            "bottom": null,
            "display": null,
            "flex": null,
            "flex_flow": null,
            "grid_area": null,
            "grid_auto_columns": null,
            "grid_auto_flow": null,
            "grid_auto_rows": null,
            "grid_column": null,
            "grid_gap": null,
            "grid_row": null,
            "grid_template_areas": null,
            "grid_template_columns": null,
            "grid_template_rows": null,
            "height": null,
            "justify_content": null,
            "justify_items": null,
            "left": null,
            "margin": null,
            "max_height": null,
            "max_width": null,
            "min_height": null,
            "min_width": null,
            "object_fit": null,
            "object_position": null,
            "order": null,
            "overflow": null,
            "overflow_x": null,
            "overflow_y": null,
            "padding": null,
            "right": null,
            "top": null,
            "visibility": null,
            "width": null
          }
        },
        "c8af1a3ad2134e9f9abc7aaf1eaf965f": {
          "model_module": "@jupyter-widgets/controls",
          "model_name": "ProgressStyleModel",
          "model_module_version": "1.5.0",
          "state": {
            "_model_module": "@jupyter-widgets/controls",
            "_model_module_version": "1.5.0",
            "_model_name": "ProgressStyleModel",
            "_view_count": null,
            "_view_module": "@jupyter-widgets/base",
            "_view_module_version": "1.2.0",
            "_view_name": "StyleView",
            "bar_color": null,
            "description_width": ""
          }
        },
        "15ded6c7b28f42899f2ac6026b78d124": {
          "model_module": "@jupyter-widgets/base",
          "model_name": "LayoutModel",
          "model_module_version": "1.2.0",
          "state": {
            "_model_module": "@jupyter-widgets/base",
            "_model_module_version": "1.2.0",
            "_model_name": "LayoutModel",
            "_view_count": null,
            "_view_module": "@jupyter-widgets/base",
            "_view_module_version": "1.2.0",
            "_view_name": "LayoutView",
            "align_content": null,
            "align_items": null,
            "align_self": null,
            "border": null,
            "bottom": null,
            "display": null,
            "flex": null,
            "flex_flow": null,
            "grid_area": null,
            "grid_auto_columns": null,
            "grid_auto_flow": null,
            "grid_auto_rows": null,
            "grid_column": null,
            "grid_gap": null,
            "grid_row": null,
            "grid_template_areas": null,
            "grid_template_columns": null,
            "grid_template_rows": null,
            "height": null,
            "justify_content": null,
            "justify_items": null,
            "left": null,
            "margin": null,
            "max_height": null,
            "max_width": null,
            "min_height": null,
            "min_width": null,
            "object_fit": null,
            "object_position": null,
            "order": null,
            "overflow": null,
            "overflow_x": null,
            "overflow_y": null,
            "padding": null,
            "right": null,
            "top": null,
            "visibility": null,
            "width": null
          }
        },
        "5e497a49b7254fc4a05f33656a58133c": {
          "model_module": "@jupyter-widgets/controls",
          "model_name": "DescriptionStyleModel",
          "model_module_version": "1.5.0",
          "state": {
            "_model_module": "@jupyter-widgets/controls",
            "_model_module_version": "1.5.0",
            "_model_name": "DescriptionStyleModel",
            "_view_count": null,
            "_view_module": "@jupyter-widgets/base",
            "_view_module_version": "1.2.0",
            "_view_name": "StyleView",
            "description_width": ""
          }
        },
        "14999ac9b4cd4190900532268569f5f3": {
          "model_module": "@jupyter-widgets/controls",
          "model_name": "HBoxModel",
          "model_module_version": "1.5.0",
          "state": {
            "_dom_classes": [],
            "_model_module": "@jupyter-widgets/controls",
            "_model_module_version": "1.5.0",
            "_model_name": "HBoxModel",
            "_view_count": null,
            "_view_module": "@jupyter-widgets/controls",
            "_view_module_version": "1.5.0",
            "_view_name": "HBoxView",
            "box_style": "",
            "children": [
              "IPY_MODEL_5540091f12584afdbab03b813ee91641",
              "IPY_MODEL_d87e3518ad7e4709b6f217762c970469",
              "IPY_MODEL_01361de28f05409c81a9e5e47738f39b"
            ],
            "layout": "IPY_MODEL_1d42f269978847728bc550cea4f284a0"
          }
        },
        "5540091f12584afdbab03b813ee91641": {
          "model_module": "@jupyter-widgets/controls",
          "model_name": "HTMLModel",
          "model_module_version": "1.5.0",
          "state": {
            "_dom_classes": [],
            "_model_module": "@jupyter-widgets/controls",
            "_model_module_version": "1.5.0",
            "_model_name": "HTMLModel",
            "_view_count": null,
            "_view_module": "@jupyter-widgets/controls",
            "_view_module_version": "1.5.0",
            "_view_name": "HTMLView",
            "description": "",
            "description_tooltip": null,
            "layout": "IPY_MODEL_48c684581b9a4b519e8ecf17f57aab36",
            "placeholder": "​",
            "style": "IPY_MODEL_f49f66c81c8b4a20954aecaece88d1bb",
            "value": "tokenizer.json: 100%"
          }
        },
        "d87e3518ad7e4709b6f217762c970469": {
          "model_module": "@jupyter-widgets/controls",
          "model_name": "FloatProgressModel",
          "model_module_version": "1.5.0",
          "state": {
            "_dom_classes": [],
            "_model_module": "@jupyter-widgets/controls",
            "_model_module_version": "1.5.0",
            "_model_name": "FloatProgressModel",
            "_view_count": null,
            "_view_module": "@jupyter-widgets/controls",
            "_view_module_version": "1.5.0",
            "_view_name": "ProgressView",
            "bar_style": "success",
            "description": "",
            "description_tooltip": null,
            "layout": "IPY_MODEL_f48f0a5f9b5e4e82a0cc0ed595df9b9f",
            "max": 466062,
            "min": 0,
            "orientation": "horizontal",
            "style": "IPY_MODEL_3aefedffceb74e0ca1f895cbeaa03f95",
            "value": 466062
          }
        },
        "01361de28f05409c81a9e5e47738f39b": {
          "model_module": "@jupyter-widgets/controls",
          "model_name": "HTMLModel",
          "model_module_version": "1.5.0",
          "state": {
            "_dom_classes": [],
            "_model_module": "@jupyter-widgets/controls",
            "_model_module_version": "1.5.0",
            "_model_name": "HTMLModel",
            "_view_count": null,
            "_view_module": "@jupyter-widgets/controls",
            "_view_module_version": "1.5.0",
            "_view_name": "HTMLView",
            "description": "",
            "description_tooltip": null,
            "layout": "IPY_MODEL_fec33f0dea014816b0000690726579c7",
            "placeholder": "​",
            "style": "IPY_MODEL_eff3b0baf75a4784879e6662956ff25f",
            "value": " 466k/466k [00:00&lt;00:00, 3.48MB/s]"
          }
        },
        "1d42f269978847728bc550cea4f284a0": {
          "model_module": "@jupyter-widgets/base",
          "model_name": "LayoutModel",
          "model_module_version": "1.2.0",
          "state": {
            "_model_module": "@jupyter-widgets/base",
            "_model_module_version": "1.2.0",
            "_model_name": "LayoutModel",
            "_view_count": null,
            "_view_module": "@jupyter-widgets/base",
            "_view_module_version": "1.2.0",
            "_view_name": "LayoutView",
            "align_content": null,
            "align_items": null,
            "align_self": null,
            "border": null,
            "bottom": null,
            "display": null,
            "flex": null,
            "flex_flow": null,
            "grid_area": null,
            "grid_auto_columns": null,
            "grid_auto_flow": null,
            "grid_auto_rows": null,
            "grid_column": null,
            "grid_gap": null,
            "grid_row": null,
            "grid_template_areas": null,
            "grid_template_columns": null,
            "grid_template_rows": null,
            "height": null,
            "justify_content": null,
            "justify_items": null,
            "left": null,
            "margin": null,
            "max_height": null,
            "max_width": null,
            "min_height": null,
            "min_width": null,
            "object_fit": null,
            "object_position": null,
            "order": null,
            "overflow": null,
            "overflow_x": null,
            "overflow_y": null,
            "padding": null,
            "right": null,
            "top": null,
            "visibility": null,
            "width": null
          }
        },
        "48c684581b9a4b519e8ecf17f57aab36": {
          "model_module": "@jupyter-widgets/base",
          "model_name": "LayoutModel",
          "model_module_version": "1.2.0",
          "state": {
            "_model_module": "@jupyter-widgets/base",
            "_model_module_version": "1.2.0",
            "_model_name": "LayoutModel",
            "_view_count": null,
            "_view_module": "@jupyter-widgets/base",
            "_view_module_version": "1.2.0",
            "_view_name": "LayoutView",
            "align_content": null,
            "align_items": null,
            "align_self": null,
            "border": null,
            "bottom": null,
            "display": null,
            "flex": null,
            "flex_flow": null,
            "grid_area": null,
            "grid_auto_columns": null,
            "grid_auto_flow": null,
            "grid_auto_rows": null,
            "grid_column": null,
            "grid_gap": null,
            "grid_row": null,
            "grid_template_areas": null,
            "grid_template_columns": null,
            "grid_template_rows": null,
            "height": null,
            "justify_content": null,
            "justify_items": null,
            "left": null,
            "margin": null,
            "max_height": null,
            "max_width": null,
            "min_height": null,
            "min_width": null,
            "object_fit": null,
            "object_position": null,
            "order": null,
            "overflow": null,
            "overflow_x": null,
            "overflow_y": null,
            "padding": null,
            "right": null,
            "top": null,
            "visibility": null,
            "width": null
          }
        },
        "f49f66c81c8b4a20954aecaece88d1bb": {
          "model_module": "@jupyter-widgets/controls",
          "model_name": "DescriptionStyleModel",
          "model_module_version": "1.5.0",
          "state": {
            "_model_module": "@jupyter-widgets/controls",
            "_model_module_version": "1.5.0",
            "_model_name": "DescriptionStyleModel",
            "_view_count": null,
            "_view_module": "@jupyter-widgets/base",
            "_view_module_version": "1.2.0",
            "_view_name": "StyleView",
            "description_width": ""
          }
        },
        "f48f0a5f9b5e4e82a0cc0ed595df9b9f": {
          "model_module": "@jupyter-widgets/base",
          "model_name": "LayoutModel",
          "model_module_version": "1.2.0",
          "state": {
            "_model_module": "@jupyter-widgets/base",
            "_model_module_version": "1.2.0",
            "_model_name": "LayoutModel",
            "_view_count": null,
            "_view_module": "@jupyter-widgets/base",
            "_view_module_version": "1.2.0",
            "_view_name": "LayoutView",
            "align_content": null,
            "align_items": null,
            "align_self": null,
            "border": null,
            "bottom": null,
            "display": null,
            "flex": null,
            "flex_flow": null,
            "grid_area": null,
            "grid_auto_columns": null,
            "grid_auto_flow": null,
            "grid_auto_rows": null,
            "grid_column": null,
            "grid_gap": null,
            "grid_row": null,
            "grid_template_areas": null,
            "grid_template_columns": null,
            "grid_template_rows": null,
            "height": null,
            "justify_content": null,
            "justify_items": null,
            "left": null,
            "margin": null,
            "max_height": null,
            "max_width": null,
            "min_height": null,
            "min_width": null,
            "object_fit": null,
            "object_position": null,
            "order": null,
            "overflow": null,
            "overflow_x": null,
            "overflow_y": null,
            "padding": null,
            "right": null,
            "top": null,
            "visibility": null,
            "width": null
          }
        },
        "3aefedffceb74e0ca1f895cbeaa03f95": {
          "model_module": "@jupyter-widgets/controls",
          "model_name": "ProgressStyleModel",
          "model_module_version": "1.5.0",
          "state": {
            "_model_module": "@jupyter-widgets/controls",
            "_model_module_version": "1.5.0",
            "_model_name": "ProgressStyleModel",
            "_view_count": null,
            "_view_module": "@jupyter-widgets/base",
            "_view_module_version": "1.2.0",
            "_view_name": "StyleView",
            "bar_color": null,
            "description_width": ""
          }
        },
        "fec33f0dea014816b0000690726579c7": {
          "model_module": "@jupyter-widgets/base",
          "model_name": "LayoutModel",
          "model_module_version": "1.2.0",
          "state": {
            "_model_module": "@jupyter-widgets/base",
            "_model_module_version": "1.2.0",
            "_model_name": "LayoutModel",
            "_view_count": null,
            "_view_module": "@jupyter-widgets/base",
            "_view_module_version": "1.2.0",
            "_view_name": "LayoutView",
            "align_content": null,
            "align_items": null,
            "align_self": null,
            "border": null,
            "bottom": null,
            "display": null,
            "flex": null,
            "flex_flow": null,
            "grid_area": null,
            "grid_auto_columns": null,
            "grid_auto_flow": null,
            "grid_auto_rows": null,
            "grid_column": null,
            "grid_gap": null,
            "grid_row": null,
            "grid_template_areas": null,
            "grid_template_columns": null,
            "grid_template_rows": null,
            "height": null,
            "justify_content": null,
            "justify_items": null,
            "left": null,
            "margin": null,
            "max_height": null,
            "max_width": null,
            "min_height": null,
            "min_width": null,
            "object_fit": null,
            "object_position": null,
            "order": null,
            "overflow": null,
            "overflow_x": null,
            "overflow_y": null,
            "padding": null,
            "right": null,
            "top": null,
            "visibility": null,
            "width": null
          }
        },
        "eff3b0baf75a4784879e6662956ff25f": {
          "model_module": "@jupyter-widgets/controls",
          "model_name": "DescriptionStyleModel",
          "model_module_version": "1.5.0",
          "state": {
            "_model_module": "@jupyter-widgets/controls",
            "_model_module_version": "1.5.0",
            "_model_name": "DescriptionStyleModel",
            "_view_count": null,
            "_view_module": "@jupyter-widgets/base",
            "_view_module_version": "1.2.0",
            "_view_name": "StyleView",
            "description_width": ""
          }
        },
        "6b756cb3e08d41b9a8fb955dbdf488c3": {
          "model_module": "@jupyter-widgets/controls",
          "model_name": "HBoxModel",
          "model_module_version": "1.5.0",
          "state": {
            "_dom_classes": [],
            "_model_module": "@jupyter-widgets/controls",
            "_model_module_version": "1.5.0",
            "_model_name": "HBoxModel",
            "_view_count": null,
            "_view_module": "@jupyter-widgets/controls",
            "_view_module_version": "1.5.0",
            "_view_name": "HBoxView",
            "box_style": "",
            "children": [
              "IPY_MODEL_e829f4c8b419477399c5c2c133153e6d",
              "IPY_MODEL_711fe8006be041a398abf4bb7a92b88d",
              "IPY_MODEL_b0391b274e434ed4b486f71e5bfe5249"
            ],
            "layout": "IPY_MODEL_b96c0b4139c949009cacea585056755a"
          }
        },
        "e829f4c8b419477399c5c2c133153e6d": {
          "model_module": "@jupyter-widgets/controls",
          "model_name": "HTMLModel",
          "model_module_version": "1.5.0",
          "state": {
            "_dom_classes": [],
            "_model_module": "@jupyter-widgets/controls",
            "_model_module_version": "1.5.0",
            "_model_name": "HTMLModel",
            "_view_count": null,
            "_view_module": "@jupyter-widgets/controls",
            "_view_module_version": "1.5.0",
            "_view_name": "HTMLView",
            "description": "",
            "description_tooltip": null,
            "layout": "IPY_MODEL_44567a21d5694770b93425efbae574c2",
            "placeholder": "​",
            "style": "IPY_MODEL_a4def27c0981454d9a389a81a6f3e9ea",
            "value": "config.json: 100%"
          }
        },
        "711fe8006be041a398abf4bb7a92b88d": {
          "model_module": "@jupyter-widgets/controls",
          "model_name": "FloatProgressModel",
          "model_module_version": "1.5.0",
          "state": {
            "_dom_classes": [],
            "_model_module": "@jupyter-widgets/controls",
            "_model_module_version": "1.5.0",
            "_model_name": "FloatProgressModel",
            "_view_count": null,
            "_view_module": "@jupyter-widgets/controls",
            "_view_module_version": "1.5.0",
            "_view_name": "ProgressView",
            "bar_style": "success",
            "description": "",
            "description_tooltip": null,
            "layout": "IPY_MODEL_4d199083f86640799b4290edc45d8eb2",
            "max": 483,
            "min": 0,
            "orientation": "horizontal",
            "style": "IPY_MODEL_b48498ca68bc4cbeb684e43773474d16",
            "value": 483
          }
        },
        "b0391b274e434ed4b486f71e5bfe5249": {
          "model_module": "@jupyter-widgets/controls",
          "model_name": "HTMLModel",
          "model_module_version": "1.5.0",
          "state": {
            "_dom_classes": [],
            "_model_module": "@jupyter-widgets/controls",
            "_model_module_version": "1.5.0",
            "_model_name": "HTMLModel",
            "_view_count": null,
            "_view_module": "@jupyter-widgets/controls",
            "_view_module_version": "1.5.0",
            "_view_name": "HTMLView",
            "description": "",
            "description_tooltip": null,
            "layout": "IPY_MODEL_13e77ac8024442a6a968625d8a5cee4d",
            "placeholder": "​",
            "style": "IPY_MODEL_e7baf2fff2dd43d088a4953d531433b4",
            "value": " 483/483 [00:00&lt;00:00, 31.7kB/s]"
          }
        },
        "b96c0b4139c949009cacea585056755a": {
          "model_module": "@jupyter-widgets/base",
          "model_name": "LayoutModel",
          "model_module_version": "1.2.0",
          "state": {
            "_model_module": "@jupyter-widgets/base",
            "_model_module_version": "1.2.0",
            "_model_name": "LayoutModel",
            "_view_count": null,
            "_view_module": "@jupyter-widgets/base",
            "_view_module_version": "1.2.0",
            "_view_name": "LayoutView",
            "align_content": null,
            "align_items": null,
            "align_self": null,
            "border": null,
            "bottom": null,
            "display": null,
            "flex": null,
            "flex_flow": null,
            "grid_area": null,
            "grid_auto_columns": null,
            "grid_auto_flow": null,
            "grid_auto_rows": null,
            "grid_column": null,
            "grid_gap": null,
            "grid_row": null,
            "grid_template_areas": null,
            "grid_template_columns": null,
            "grid_template_rows": null,
            "height": null,
            "justify_content": null,
            "justify_items": null,
            "left": null,
            "margin": null,
            "max_height": null,
            "max_width": null,
            "min_height": null,
            "min_width": null,
            "object_fit": null,
            "object_position": null,
            "order": null,
            "overflow": null,
            "overflow_x": null,
            "overflow_y": null,
            "padding": null,
            "right": null,
            "top": null,
            "visibility": null,
            "width": null
          }
        },
        "44567a21d5694770b93425efbae574c2": {
          "model_module": "@jupyter-widgets/base",
          "model_name": "LayoutModel",
          "model_module_version": "1.2.0",
          "state": {
            "_model_module": "@jupyter-widgets/base",
            "_model_module_version": "1.2.0",
            "_model_name": "LayoutModel",
            "_view_count": null,
            "_view_module": "@jupyter-widgets/base",
            "_view_module_version": "1.2.0",
            "_view_name": "LayoutView",
            "align_content": null,
            "align_items": null,
            "align_self": null,
            "border": null,
            "bottom": null,
            "display": null,
            "flex": null,
            "flex_flow": null,
            "grid_area": null,
            "grid_auto_columns": null,
            "grid_auto_flow": null,
            "grid_auto_rows": null,
            "grid_column": null,
            "grid_gap": null,
            "grid_row": null,
            "grid_template_areas": null,
            "grid_template_columns": null,
            "grid_template_rows": null,
            "height": null,
            "justify_content": null,
            "justify_items": null,
            "left": null,
            "margin": null,
            "max_height": null,
            "max_width": null,
            "min_height": null,
            "min_width": null,
            "object_fit": null,
            "object_position": null,
            "order": null,
            "overflow": null,
            "overflow_x": null,
            "overflow_y": null,
            "padding": null,
            "right": null,
            "top": null,
            "visibility": null,
            "width": null
          }
        },
        "a4def27c0981454d9a389a81a6f3e9ea": {
          "model_module": "@jupyter-widgets/controls",
          "model_name": "DescriptionStyleModel",
          "model_module_version": "1.5.0",
          "state": {
            "_model_module": "@jupyter-widgets/controls",
            "_model_module_version": "1.5.0",
            "_model_name": "DescriptionStyleModel",
            "_view_count": null,
            "_view_module": "@jupyter-widgets/base",
            "_view_module_version": "1.2.0",
            "_view_name": "StyleView",
            "description_width": ""
          }
        },
        "4d199083f86640799b4290edc45d8eb2": {
          "model_module": "@jupyter-widgets/base",
          "model_name": "LayoutModel",
          "model_module_version": "1.2.0",
          "state": {
            "_model_module": "@jupyter-widgets/base",
            "_model_module_version": "1.2.0",
            "_model_name": "LayoutModel",
            "_view_count": null,
            "_view_module": "@jupyter-widgets/base",
            "_view_module_version": "1.2.0",
            "_view_name": "LayoutView",
            "align_content": null,
            "align_items": null,
            "align_self": null,
            "border": null,
            "bottom": null,
            "display": null,
            "flex": null,
            "flex_flow": null,
            "grid_area": null,
            "grid_auto_columns": null,
            "grid_auto_flow": null,
            "grid_auto_rows": null,
            "grid_column": null,
            "grid_gap": null,
            "grid_row": null,
            "grid_template_areas": null,
            "grid_template_columns": null,
            "grid_template_rows": null,
            "height": null,
            "justify_content": null,
            "justify_items": null,
            "left": null,
            "margin": null,
            "max_height": null,
            "max_width": null,
            "min_height": null,
            "min_width": null,
            "object_fit": null,
            "object_position": null,
            "order": null,
            "overflow": null,
            "overflow_x": null,
            "overflow_y": null,
            "padding": null,
            "right": null,
            "top": null,
            "visibility": null,
            "width": null
          }
        },
        "b48498ca68bc4cbeb684e43773474d16": {
          "model_module": "@jupyter-widgets/controls",
          "model_name": "ProgressStyleModel",
          "model_module_version": "1.5.0",
          "state": {
            "_model_module": "@jupyter-widgets/controls",
            "_model_module_version": "1.5.0",
            "_model_name": "ProgressStyleModel",
            "_view_count": null,
            "_view_module": "@jupyter-widgets/base",
            "_view_module_version": "1.2.0",
            "_view_name": "StyleView",
            "bar_color": null,
            "description_width": ""
          }
        },
        "13e77ac8024442a6a968625d8a5cee4d": {
          "model_module": "@jupyter-widgets/base",
          "model_name": "LayoutModel",
          "model_module_version": "1.2.0",
          "state": {
            "_model_module": "@jupyter-widgets/base",
            "_model_module_version": "1.2.0",
            "_model_name": "LayoutModel",
            "_view_count": null,
            "_view_module": "@jupyter-widgets/base",
            "_view_module_version": "1.2.0",
            "_view_name": "LayoutView",
            "align_content": null,
            "align_items": null,
            "align_self": null,
            "border": null,
            "bottom": null,
            "display": null,
            "flex": null,
            "flex_flow": null,
            "grid_area": null,
            "grid_auto_columns": null,
            "grid_auto_flow": null,
            "grid_auto_rows": null,
            "grid_column": null,
            "grid_gap": null,
            "grid_row": null,
            "grid_template_areas": null,
            "grid_template_columns": null,
            "grid_template_rows": null,
            "height": null,
            "justify_content": null,
            "justify_items": null,
            "left": null,
            "margin": null,
            "max_height": null,
            "max_width": null,
            "min_height": null,
            "min_width": null,
            "object_fit": null,
            "object_position": null,
            "order": null,
            "overflow": null,
            "overflow_x": null,
            "overflow_y": null,
            "padding": null,
            "right": null,
            "top": null,
            "visibility": null,
            "width": null
          }
        },
        "e7baf2fff2dd43d088a4953d531433b4": {
          "model_module": "@jupyter-widgets/controls",
          "model_name": "DescriptionStyleModel",
          "model_module_version": "1.5.0",
          "state": {
            "_model_module": "@jupyter-widgets/controls",
            "_model_module_version": "1.5.0",
            "_model_name": "DescriptionStyleModel",
            "_view_count": null,
            "_view_module": "@jupyter-widgets/base",
            "_view_module_version": "1.2.0",
            "_view_name": "StyleView",
            "description_width": ""
          }
        },
        "6eb41809915d4af2b3845e6f93f3aabc": {
          "model_module": "@jupyter-widgets/controls",
          "model_name": "HBoxModel",
          "model_module_version": "1.5.0",
          "state": {
            "_dom_classes": [],
            "_model_module": "@jupyter-widgets/controls",
            "_model_module_version": "1.5.0",
            "_model_name": "HBoxModel",
            "_view_count": null,
            "_view_module": "@jupyter-widgets/controls",
            "_view_module_version": "1.5.0",
            "_view_name": "HBoxView",
            "box_style": "",
            "children": [
              "IPY_MODEL_00c74c98f6764281bb7d0394309cfb37",
              "IPY_MODEL_630e3892b8e7453fb00172e89ba7f701",
              "IPY_MODEL_5c4df37fef164fbf859472b4ddc0da0e"
            ],
            "layout": "IPY_MODEL_2f0189ba1edf4a27853111c6199b7fd7"
          }
        },
        "00c74c98f6764281bb7d0394309cfb37": {
          "model_module": "@jupyter-widgets/controls",
          "model_name": "HTMLModel",
          "model_module_version": "1.5.0",
          "state": {
            "_dom_classes": [],
            "_model_module": "@jupyter-widgets/controls",
            "_model_module_version": "1.5.0",
            "_model_name": "HTMLModel",
            "_view_count": null,
            "_view_module": "@jupyter-widgets/controls",
            "_view_module_version": "1.5.0",
            "_view_name": "HTMLView",
            "description": "",
            "description_tooltip": null,
            "layout": "IPY_MODEL_8f195af99ff449448901a97dbc69dac7",
            "placeholder": "​",
            "style": "IPY_MODEL_3c9ce1c572354f4a8777a6f08dc0e6a9",
            "value": "tokenizer_config.json: 100%"
          }
        },
        "630e3892b8e7453fb00172e89ba7f701": {
          "model_module": "@jupyter-widgets/controls",
          "model_name": "FloatProgressModel",
          "model_module_version": "1.5.0",
          "state": {
            "_dom_classes": [],
            "_model_module": "@jupyter-widgets/controls",
            "_model_module_version": "1.5.0",
            "_model_name": "FloatProgressModel",
            "_view_count": null,
            "_view_module": "@jupyter-widgets/controls",
            "_view_module_version": "1.5.0",
            "_view_name": "ProgressView",
            "bar_style": "success",
            "description": "",
            "description_tooltip": null,
            "layout": "IPY_MODEL_0fc14ed53c1d4dd58f13591f68bbbbb2",
            "max": 48,
            "min": 0,
            "orientation": "horizontal",
            "style": "IPY_MODEL_26dd79f6cea74e499a697e4a6f502128",
            "value": 48
          }
        },
        "5c4df37fef164fbf859472b4ddc0da0e": {
          "model_module": "@jupyter-widgets/controls",
          "model_name": "HTMLModel",
          "model_module_version": "1.5.0",
          "state": {
            "_dom_classes": [],
            "_model_module": "@jupyter-widgets/controls",
            "_model_module_version": "1.5.0",
            "_model_name": "HTMLModel",
            "_view_count": null,
            "_view_module": "@jupyter-widgets/controls",
            "_view_module_version": "1.5.0",
            "_view_name": "HTMLView",
            "description": "",
            "description_tooltip": null,
            "layout": "IPY_MODEL_09e4a12a00464a44b824e5cdefa8a211",
            "placeholder": "​",
            "style": "IPY_MODEL_052b96a5bd1140ccb6a0d21057711fd8",
            "value": " 48.0/48.0 [00:00&lt;00:00, 2.68kB/s]"
          }
        },
        "2f0189ba1edf4a27853111c6199b7fd7": {
          "model_module": "@jupyter-widgets/base",
          "model_name": "LayoutModel",
          "model_module_version": "1.2.0",
          "state": {
            "_model_module": "@jupyter-widgets/base",
            "_model_module_version": "1.2.0",
            "_model_name": "LayoutModel",
            "_view_count": null,
            "_view_module": "@jupyter-widgets/base",
            "_view_module_version": "1.2.0",
            "_view_name": "LayoutView",
            "align_content": null,
            "align_items": null,
            "align_self": null,
            "border": null,
            "bottom": null,
            "display": null,
            "flex": null,
            "flex_flow": null,
            "grid_area": null,
            "grid_auto_columns": null,
            "grid_auto_flow": null,
            "grid_auto_rows": null,
            "grid_column": null,
            "grid_gap": null,
            "grid_row": null,
            "grid_template_areas": null,
            "grid_template_columns": null,
            "grid_template_rows": null,
            "height": null,
            "justify_content": null,
            "justify_items": null,
            "left": null,
            "margin": null,
            "max_height": null,
            "max_width": null,
            "min_height": null,
            "min_width": null,
            "object_fit": null,
            "object_position": null,
            "order": null,
            "overflow": null,
            "overflow_x": null,
            "overflow_y": null,
            "padding": null,
            "right": null,
            "top": null,
            "visibility": null,
            "width": null
          }
        },
        "8f195af99ff449448901a97dbc69dac7": {
          "model_module": "@jupyter-widgets/base",
          "model_name": "LayoutModel",
          "model_module_version": "1.2.0",
          "state": {
            "_model_module": "@jupyter-widgets/base",
            "_model_module_version": "1.2.0",
            "_model_name": "LayoutModel",
            "_view_count": null,
            "_view_module": "@jupyter-widgets/base",
            "_view_module_version": "1.2.0",
            "_view_name": "LayoutView",
            "align_content": null,
            "align_items": null,
            "align_self": null,
            "border": null,
            "bottom": null,
            "display": null,
            "flex": null,
            "flex_flow": null,
            "grid_area": null,
            "grid_auto_columns": null,
            "grid_auto_flow": null,
            "grid_auto_rows": null,
            "grid_column": null,
            "grid_gap": null,
            "grid_row": null,
            "grid_template_areas": null,
            "grid_template_columns": null,
            "grid_template_rows": null,
            "height": null,
            "justify_content": null,
            "justify_items": null,
            "left": null,
            "margin": null,
            "max_height": null,
            "max_width": null,
            "min_height": null,
            "min_width": null,
            "object_fit": null,
            "object_position": null,
            "order": null,
            "overflow": null,
            "overflow_x": null,
            "overflow_y": null,
            "padding": null,
            "right": null,
            "top": null,
            "visibility": null,
            "width": null
          }
        },
        "3c9ce1c572354f4a8777a6f08dc0e6a9": {
          "model_module": "@jupyter-widgets/controls",
          "model_name": "DescriptionStyleModel",
          "model_module_version": "1.5.0",
          "state": {
            "_model_module": "@jupyter-widgets/controls",
            "_model_module_version": "1.5.0",
            "_model_name": "DescriptionStyleModel",
            "_view_count": null,
            "_view_module": "@jupyter-widgets/base",
            "_view_module_version": "1.2.0",
            "_view_name": "StyleView",
            "description_width": ""
          }
        },
        "0fc14ed53c1d4dd58f13591f68bbbbb2": {
          "model_module": "@jupyter-widgets/base",
          "model_name": "LayoutModel",
          "model_module_version": "1.2.0",
          "state": {
            "_model_module": "@jupyter-widgets/base",
            "_model_module_version": "1.2.0",
            "_model_name": "LayoutModel",
            "_view_count": null,
            "_view_module": "@jupyter-widgets/base",
            "_view_module_version": "1.2.0",
            "_view_name": "LayoutView",
            "align_content": null,
            "align_items": null,
            "align_self": null,
            "border": null,
            "bottom": null,
            "display": null,
            "flex": null,
            "flex_flow": null,
            "grid_area": null,
            "grid_auto_columns": null,
            "grid_auto_flow": null,
            "grid_auto_rows": null,
            "grid_column": null,
            "grid_gap": null,
            "grid_row": null,
            "grid_template_areas": null,
            "grid_template_columns": null,
            "grid_template_rows": null,
            "height": null,
            "justify_content": null,
            "justify_items": null,
            "left": null,
            "margin": null,
            "max_height": null,
            "max_width": null,
            "min_height": null,
            "min_width": null,
            "object_fit": null,
            "object_position": null,
            "order": null,
            "overflow": null,
            "overflow_x": null,
            "overflow_y": null,
            "padding": null,
            "right": null,
            "top": null,
            "visibility": null,
            "width": null
          }
        },
        "26dd79f6cea74e499a697e4a6f502128": {
          "model_module": "@jupyter-widgets/controls",
          "model_name": "ProgressStyleModel",
          "model_module_version": "1.5.0",
          "state": {
            "_model_module": "@jupyter-widgets/controls",
            "_model_module_version": "1.5.0",
            "_model_name": "ProgressStyleModel",
            "_view_count": null,
            "_view_module": "@jupyter-widgets/base",
            "_view_module_version": "1.2.0",
            "_view_name": "StyleView",
            "bar_color": null,
            "description_width": ""
          }
        },
        "09e4a12a00464a44b824e5cdefa8a211": {
          "model_module": "@jupyter-widgets/base",
          "model_name": "LayoutModel",
          "model_module_version": "1.2.0",
          "state": {
            "_model_module": "@jupyter-widgets/base",
            "_model_module_version": "1.2.0",
            "_model_name": "LayoutModel",
            "_view_count": null,
            "_view_module": "@jupyter-widgets/base",
            "_view_module_version": "1.2.0",
            "_view_name": "LayoutView",
            "align_content": null,
            "align_items": null,
            "align_self": null,
            "border": null,
            "bottom": null,
            "display": null,
            "flex": null,
            "flex_flow": null,
            "grid_area": null,
            "grid_auto_columns": null,
            "grid_auto_flow": null,
            "grid_auto_rows": null,
            "grid_column": null,
            "grid_gap": null,
            "grid_row": null,
            "grid_template_areas": null,
            "grid_template_columns": null,
            "grid_template_rows": null,
            "height": null,
            "justify_content": null,
            "justify_items": null,
            "left": null,
            "margin": null,
            "max_height": null,
            "max_width": null,
            "min_height": null,
            "min_width": null,
            "object_fit": null,
            "object_position": null,
            "order": null,
            "overflow": null,
            "overflow_x": null,
            "overflow_y": null,
            "padding": null,
            "right": null,
            "top": null,
            "visibility": null,
            "width": null
          }
        },
        "052b96a5bd1140ccb6a0d21057711fd8": {
          "model_module": "@jupyter-widgets/controls",
          "model_name": "DescriptionStyleModel",
          "model_module_version": "1.5.0",
          "state": {
            "_model_module": "@jupyter-widgets/controls",
            "_model_module_version": "1.5.0",
            "_model_name": "DescriptionStyleModel",
            "_view_count": null,
            "_view_module": "@jupyter-widgets/base",
            "_view_module_version": "1.2.0",
            "_view_name": "StyleView",
            "description_width": ""
          }
        },
        "80a5302f16be4385abbe334ecbcffff7": {
          "model_module": "@jupyter-widgets/controls",
          "model_name": "HBoxModel",
          "model_module_version": "1.5.0",
          "state": {
            "_dom_classes": [],
            "_model_module": "@jupyter-widgets/controls",
            "_model_module_version": "1.5.0",
            "_model_name": "HBoxModel",
            "_view_count": null,
            "_view_module": "@jupyter-widgets/controls",
            "_view_module_version": "1.5.0",
            "_view_name": "HBoxView",
            "box_style": "",
            "children": [
              "IPY_MODEL_7ed0762642a9474687591a49fef9458d",
              "IPY_MODEL_46e3a9cd1ca14a09847e4db66d9626ee",
              "IPY_MODEL_c425826885e640b08e3ed941872e98ff"
            ],
            "layout": "IPY_MODEL_a6ee70c4228f428589aad1ee4429040c"
          }
        },
        "7ed0762642a9474687591a49fef9458d": {
          "model_module": "@jupyter-widgets/controls",
          "model_name": "HTMLModel",
          "model_module_version": "1.5.0",
          "state": {
            "_dom_classes": [],
            "_model_module": "@jupyter-widgets/controls",
            "_model_module_version": "1.5.0",
            "_model_name": "HTMLModel",
            "_view_count": null,
            "_view_module": "@jupyter-widgets/controls",
            "_view_module_version": "1.5.0",
            "_view_name": "HTMLView",
            "description": "",
            "description_tooltip": null,
            "layout": "IPY_MODEL_5cbf4bfcfa68436589da35e3fe6831c1",
            "placeholder": "​",
            "style": "IPY_MODEL_ceb46f38fe7641699569925f8b8c15d5",
            "value": "vocab.txt: 100%"
          }
        },
        "46e3a9cd1ca14a09847e4db66d9626ee": {
          "model_module": "@jupyter-widgets/controls",
          "model_name": "FloatProgressModel",
          "model_module_version": "1.5.0",
          "state": {
            "_dom_classes": [],
            "_model_module": "@jupyter-widgets/controls",
            "_model_module_version": "1.5.0",
            "_model_name": "FloatProgressModel",
            "_view_count": null,
            "_view_module": "@jupyter-widgets/controls",
            "_view_module_version": "1.5.0",
            "_view_name": "ProgressView",
            "bar_style": "success",
            "description": "",
            "description_tooltip": null,
            "layout": "IPY_MODEL_356aa1df82364565a6d87c195483fd07",
            "max": 231508,
            "min": 0,
            "orientation": "horizontal",
            "style": "IPY_MODEL_561a9602e0164873a6e23d35a937caf9",
            "value": 231508
          }
        },
        "c425826885e640b08e3ed941872e98ff": {
          "model_module": "@jupyter-widgets/controls",
          "model_name": "HTMLModel",
          "model_module_version": "1.5.0",
          "state": {
            "_dom_classes": [],
            "_model_module": "@jupyter-widgets/controls",
            "_model_module_version": "1.5.0",
            "_model_name": "HTMLModel",
            "_view_count": null,
            "_view_module": "@jupyter-widgets/controls",
            "_view_module_version": "1.5.0",
            "_view_name": "HTMLView",
            "description": "",
            "description_tooltip": null,
            "layout": "IPY_MODEL_8f18736ac7d64567b673a07d77124670",
            "placeholder": "​",
            "style": "IPY_MODEL_45760197bf4e471c91cd6d84ac662809",
            "value": " 232k/232k [00:00&lt;00:00, 1.42MB/s]"
          }
        },
        "a6ee70c4228f428589aad1ee4429040c": {
          "model_module": "@jupyter-widgets/base",
          "model_name": "LayoutModel",
          "model_module_version": "1.2.0",
          "state": {
            "_model_module": "@jupyter-widgets/base",
            "_model_module_version": "1.2.0",
            "_model_name": "LayoutModel",
            "_view_count": null,
            "_view_module": "@jupyter-widgets/base",
            "_view_module_version": "1.2.0",
            "_view_name": "LayoutView",
            "align_content": null,
            "align_items": null,
            "align_self": null,
            "border": null,
            "bottom": null,
            "display": null,
            "flex": null,
            "flex_flow": null,
            "grid_area": null,
            "grid_auto_columns": null,
            "grid_auto_flow": null,
            "grid_auto_rows": null,
            "grid_column": null,
            "grid_gap": null,
            "grid_row": null,
            "grid_template_areas": null,
            "grid_template_columns": null,
            "grid_template_rows": null,
            "height": null,
            "justify_content": null,
            "justify_items": null,
            "left": null,
            "margin": null,
            "max_height": null,
            "max_width": null,
            "min_height": null,
            "min_width": null,
            "object_fit": null,
            "object_position": null,
            "order": null,
            "overflow": null,
            "overflow_x": null,
            "overflow_y": null,
            "padding": null,
            "right": null,
            "top": null,
            "visibility": null,
            "width": null
          }
        },
        "5cbf4bfcfa68436589da35e3fe6831c1": {
          "model_module": "@jupyter-widgets/base",
          "model_name": "LayoutModel",
          "model_module_version": "1.2.0",
          "state": {
            "_model_module": "@jupyter-widgets/base",
            "_model_module_version": "1.2.0",
            "_model_name": "LayoutModel",
            "_view_count": null,
            "_view_module": "@jupyter-widgets/base",
            "_view_module_version": "1.2.0",
            "_view_name": "LayoutView",
            "align_content": null,
            "align_items": null,
            "align_self": null,
            "border": null,
            "bottom": null,
            "display": null,
            "flex": null,
            "flex_flow": null,
            "grid_area": null,
            "grid_auto_columns": null,
            "grid_auto_flow": null,
            "grid_auto_rows": null,
            "grid_column": null,
            "grid_gap": null,
            "grid_row": null,
            "grid_template_areas": null,
            "grid_template_columns": null,
            "grid_template_rows": null,
            "height": null,
            "justify_content": null,
            "justify_items": null,
            "left": null,
            "margin": null,
            "max_height": null,
            "max_width": null,
            "min_height": null,
            "min_width": null,
            "object_fit": null,
            "object_position": null,
            "order": null,
            "overflow": null,
            "overflow_x": null,
            "overflow_y": null,
            "padding": null,
            "right": null,
            "top": null,
            "visibility": null,
            "width": null
          }
        },
        "ceb46f38fe7641699569925f8b8c15d5": {
          "model_module": "@jupyter-widgets/controls",
          "model_name": "DescriptionStyleModel",
          "model_module_version": "1.5.0",
          "state": {
            "_model_module": "@jupyter-widgets/controls",
            "_model_module_version": "1.5.0",
            "_model_name": "DescriptionStyleModel",
            "_view_count": null,
            "_view_module": "@jupyter-widgets/base",
            "_view_module_version": "1.2.0",
            "_view_name": "StyleView",
            "description_width": ""
          }
        },
        "356aa1df82364565a6d87c195483fd07": {
          "model_module": "@jupyter-widgets/base",
          "model_name": "LayoutModel",
          "model_module_version": "1.2.0",
          "state": {
            "_model_module": "@jupyter-widgets/base",
            "_model_module_version": "1.2.0",
            "_model_name": "LayoutModel",
            "_view_count": null,
            "_view_module": "@jupyter-widgets/base",
            "_view_module_version": "1.2.0",
            "_view_name": "LayoutView",
            "align_content": null,
            "align_items": null,
            "align_self": null,
            "border": null,
            "bottom": null,
            "display": null,
            "flex": null,
            "flex_flow": null,
            "grid_area": null,
            "grid_auto_columns": null,
            "grid_auto_flow": null,
            "grid_auto_rows": null,
            "grid_column": null,
            "grid_gap": null,
            "grid_row": null,
            "grid_template_areas": null,
            "grid_template_columns": null,
            "grid_template_rows": null,
            "height": null,
            "justify_content": null,
            "justify_items": null,
            "left": null,
            "margin": null,
            "max_height": null,
            "max_width": null,
            "min_height": null,
            "min_width": null,
            "object_fit": null,
            "object_position": null,
            "order": null,
            "overflow": null,
            "overflow_x": null,
            "overflow_y": null,
            "padding": null,
            "right": null,
            "top": null,
            "visibility": null,
            "width": null
          }
        },
        "561a9602e0164873a6e23d35a937caf9": {
          "model_module": "@jupyter-widgets/controls",
          "model_name": "ProgressStyleModel",
          "model_module_version": "1.5.0",
          "state": {
            "_model_module": "@jupyter-widgets/controls",
            "_model_module_version": "1.5.0",
            "_model_name": "ProgressStyleModel",
            "_view_count": null,
            "_view_module": "@jupyter-widgets/base",
            "_view_module_version": "1.2.0",
            "_view_name": "StyleView",
            "bar_color": null,
            "description_width": ""
          }
        },
        "8f18736ac7d64567b673a07d77124670": {
          "model_module": "@jupyter-widgets/base",
          "model_name": "LayoutModel",
          "model_module_version": "1.2.0",
          "state": {
            "_model_module": "@jupyter-widgets/base",
            "_model_module_version": "1.2.0",
            "_model_name": "LayoutModel",
            "_view_count": null,
            "_view_module": "@jupyter-widgets/base",
            "_view_module_version": "1.2.0",
            "_view_name": "LayoutView",
            "align_content": null,
            "align_items": null,
            "align_self": null,
            "border": null,
            "bottom": null,
            "display": null,
            "flex": null,
            "flex_flow": null,
            "grid_area": null,
            "grid_auto_columns": null,
            "grid_auto_flow": null,
            "grid_auto_rows": null,
            "grid_column": null,
            "grid_gap": null,
            "grid_row": null,
            "grid_template_areas": null,
            "grid_template_columns": null,
            "grid_template_rows": null,
            "height": null,
            "justify_content": null,
            "justify_items": null,
            "left": null,
            "margin": null,
            "max_height": null,
            "max_width": null,
            "min_height": null,
            "min_width": null,
            "object_fit": null,
            "object_position": null,
            "order": null,
            "overflow": null,
            "overflow_x": null,
            "overflow_y": null,
            "padding": null,
            "right": null,
            "top": null,
            "visibility": null,
            "width": null
          }
        },
        "45760197bf4e471c91cd6d84ac662809": {
          "model_module": "@jupyter-widgets/controls",
          "model_name": "DescriptionStyleModel",
          "model_module_version": "1.5.0",
          "state": {
            "_model_module": "@jupyter-widgets/controls",
            "_model_module_version": "1.5.0",
            "_model_name": "DescriptionStyleModel",
            "_view_count": null,
            "_view_module": "@jupyter-widgets/base",
            "_view_module_version": "1.2.0",
            "_view_name": "StyleView",
            "description_width": ""
          }
        },
        "8a7156dc59154392bbf0c07d20c3eec4": {
          "model_module": "@jupyter-widgets/controls",
          "model_name": "HBoxModel",
          "model_module_version": "1.5.0",
          "state": {
            "_dom_classes": [],
            "_model_module": "@jupyter-widgets/controls",
            "_model_module_version": "1.5.0",
            "_model_name": "HBoxModel",
            "_view_count": null,
            "_view_module": "@jupyter-widgets/controls",
            "_view_module_version": "1.5.0",
            "_view_name": "HBoxView",
            "box_style": "",
            "children": [
              "IPY_MODEL_c9180513d89b4aec910cb92e6f5736cf",
              "IPY_MODEL_e5a2daddda1049d2ad9dc3988390876b",
              "IPY_MODEL_29b336fbc51f41ab847dc985891bec07"
            ],
            "layout": "IPY_MODEL_abca6978cd414bb093af67bcbcc8801f"
          }
        },
        "c9180513d89b4aec910cb92e6f5736cf": {
          "model_module": "@jupyter-widgets/controls",
          "model_name": "HTMLModel",
          "model_module_version": "1.5.0",
          "state": {
            "_dom_classes": [],
            "_model_module": "@jupyter-widgets/controls",
            "_model_module_version": "1.5.0",
            "_model_name": "HTMLModel",
            "_view_count": null,
            "_view_module": "@jupyter-widgets/controls",
            "_view_module_version": "1.5.0",
            "_view_name": "HTMLView",
            "description": "",
            "description_tooltip": null,
            "layout": "IPY_MODEL_7b0e813dc729433ba15a5cb7b58d8f11",
            "placeholder": "​",
            "style": "IPY_MODEL_80ac971aeb4148e9b232d3ebfd5f9085",
            "value": "tokenizer.json: 100%"
          }
        },
        "e5a2daddda1049d2ad9dc3988390876b": {
          "model_module": "@jupyter-widgets/controls",
          "model_name": "FloatProgressModel",
          "model_module_version": "1.5.0",
          "state": {
            "_dom_classes": [],
            "_model_module": "@jupyter-widgets/controls",
            "_model_module_version": "1.5.0",
            "_model_name": "FloatProgressModel",
            "_view_count": null,
            "_view_module": "@jupyter-widgets/controls",
            "_view_module_version": "1.5.0",
            "_view_name": "ProgressView",
            "bar_style": "success",
            "description": "",
            "description_tooltip": null,
            "layout": "IPY_MODEL_68ddfc6508394443a49779c163e2ed79",
            "max": 466062,
            "min": 0,
            "orientation": "horizontal",
            "style": "IPY_MODEL_ed3bcc16863342349aac9376d182ff2a",
            "value": 466062
          }
        },
        "29b336fbc51f41ab847dc985891bec07": {
          "model_module": "@jupyter-widgets/controls",
          "model_name": "HTMLModel",
          "model_module_version": "1.5.0",
          "state": {
            "_dom_classes": [],
            "_model_module": "@jupyter-widgets/controls",
            "_model_module_version": "1.5.0",
            "_model_name": "HTMLModel",
            "_view_count": null,
            "_view_module": "@jupyter-widgets/controls",
            "_view_module_version": "1.5.0",
            "_view_name": "HTMLView",
            "description": "",
            "description_tooltip": null,
            "layout": "IPY_MODEL_155cb7c387fc4171bfd82f64be07640a",
            "placeholder": "​",
            "style": "IPY_MODEL_b1544395db1240b1909024212709643f",
            "value": " 466k/466k [00:00&lt;00:00, 1.98MB/s]"
          }
        },
        "abca6978cd414bb093af67bcbcc8801f": {
          "model_module": "@jupyter-widgets/base",
          "model_name": "LayoutModel",
          "model_module_version": "1.2.0",
          "state": {
            "_model_module": "@jupyter-widgets/base",
            "_model_module_version": "1.2.0",
            "_model_name": "LayoutModel",
            "_view_count": null,
            "_view_module": "@jupyter-widgets/base",
            "_view_module_version": "1.2.0",
            "_view_name": "LayoutView",
            "align_content": null,
            "align_items": null,
            "align_self": null,
            "border": null,
            "bottom": null,
            "display": null,
            "flex": null,
            "flex_flow": null,
            "grid_area": null,
            "grid_auto_columns": null,
            "grid_auto_flow": null,
            "grid_auto_rows": null,
            "grid_column": null,
            "grid_gap": null,
            "grid_row": null,
            "grid_template_areas": null,
            "grid_template_columns": null,
            "grid_template_rows": null,
            "height": null,
            "justify_content": null,
            "justify_items": null,
            "left": null,
            "margin": null,
            "max_height": null,
            "max_width": null,
            "min_height": null,
            "min_width": null,
            "object_fit": null,
            "object_position": null,
            "order": null,
            "overflow": null,
            "overflow_x": null,
            "overflow_y": null,
            "padding": null,
            "right": null,
            "top": null,
            "visibility": null,
            "width": null
          }
        },
        "7b0e813dc729433ba15a5cb7b58d8f11": {
          "model_module": "@jupyter-widgets/base",
          "model_name": "LayoutModel",
          "model_module_version": "1.2.0",
          "state": {
            "_model_module": "@jupyter-widgets/base",
            "_model_module_version": "1.2.0",
            "_model_name": "LayoutModel",
            "_view_count": null,
            "_view_module": "@jupyter-widgets/base",
            "_view_module_version": "1.2.0",
            "_view_name": "LayoutView",
            "align_content": null,
            "align_items": null,
            "align_self": null,
            "border": null,
            "bottom": null,
            "display": null,
            "flex": null,
            "flex_flow": null,
            "grid_area": null,
            "grid_auto_columns": null,
            "grid_auto_flow": null,
            "grid_auto_rows": null,
            "grid_column": null,
            "grid_gap": null,
            "grid_row": null,
            "grid_template_areas": null,
            "grid_template_columns": null,
            "grid_template_rows": null,
            "height": null,
            "justify_content": null,
            "justify_items": null,
            "left": null,
            "margin": null,
            "max_height": null,
            "max_width": null,
            "min_height": null,
            "min_width": null,
            "object_fit": null,
            "object_position": null,
            "order": null,
            "overflow": null,
            "overflow_x": null,
            "overflow_y": null,
            "padding": null,
            "right": null,
            "top": null,
            "visibility": null,
            "width": null
          }
        },
        "80ac971aeb4148e9b232d3ebfd5f9085": {
          "model_module": "@jupyter-widgets/controls",
          "model_name": "DescriptionStyleModel",
          "model_module_version": "1.5.0",
          "state": {
            "_model_module": "@jupyter-widgets/controls",
            "_model_module_version": "1.5.0",
            "_model_name": "DescriptionStyleModel",
            "_view_count": null,
            "_view_module": "@jupyter-widgets/base",
            "_view_module_version": "1.2.0",
            "_view_name": "StyleView",
            "description_width": ""
          }
        },
        "68ddfc6508394443a49779c163e2ed79": {
          "model_module": "@jupyter-widgets/base",
          "model_name": "LayoutModel",
          "model_module_version": "1.2.0",
          "state": {
            "_model_module": "@jupyter-widgets/base",
            "_model_module_version": "1.2.0",
            "_model_name": "LayoutModel",
            "_view_count": null,
            "_view_module": "@jupyter-widgets/base",
            "_view_module_version": "1.2.0",
            "_view_name": "LayoutView",
            "align_content": null,
            "align_items": null,
            "align_self": null,
            "border": null,
            "bottom": null,
            "display": null,
            "flex": null,
            "flex_flow": null,
            "grid_area": null,
            "grid_auto_columns": null,
            "grid_auto_flow": null,
            "grid_auto_rows": null,
            "grid_column": null,
            "grid_gap": null,
            "grid_row": null,
            "grid_template_areas": null,
            "grid_template_columns": null,
            "grid_template_rows": null,
            "height": null,
            "justify_content": null,
            "justify_items": null,
            "left": null,
            "margin": null,
            "max_height": null,
            "max_width": null,
            "min_height": null,
            "min_width": null,
            "object_fit": null,
            "object_position": null,
            "order": null,
            "overflow": null,
            "overflow_x": null,
            "overflow_y": null,
            "padding": null,
            "right": null,
            "top": null,
            "visibility": null,
            "width": null
          }
        },
        "ed3bcc16863342349aac9376d182ff2a": {
          "model_module": "@jupyter-widgets/controls",
          "model_name": "ProgressStyleModel",
          "model_module_version": "1.5.0",
          "state": {
            "_model_module": "@jupyter-widgets/controls",
            "_model_module_version": "1.5.0",
            "_model_name": "ProgressStyleModel",
            "_view_count": null,
            "_view_module": "@jupyter-widgets/base",
            "_view_module_version": "1.2.0",
            "_view_name": "StyleView",
            "bar_color": null,
            "description_width": ""
          }
        },
        "155cb7c387fc4171bfd82f64be07640a": {
          "model_module": "@jupyter-widgets/base",
          "model_name": "LayoutModel",
          "model_module_version": "1.2.0",
          "state": {
            "_model_module": "@jupyter-widgets/base",
            "_model_module_version": "1.2.0",
            "_model_name": "LayoutModel",
            "_view_count": null,
            "_view_module": "@jupyter-widgets/base",
            "_view_module_version": "1.2.0",
            "_view_name": "LayoutView",
            "align_content": null,
            "align_items": null,
            "align_self": null,
            "border": null,
            "bottom": null,
            "display": null,
            "flex": null,
            "flex_flow": null,
            "grid_area": null,
            "grid_auto_columns": null,
            "grid_auto_flow": null,
            "grid_auto_rows": null,
            "grid_column": null,
            "grid_gap": null,
            "grid_row": null,
            "grid_template_areas": null,
            "grid_template_columns": null,
            "grid_template_rows": null,
            "height": null,
            "justify_content": null,
            "justify_items": null,
            "left": null,
            "margin": null,
            "max_height": null,
            "max_width": null,
            "min_height": null,
            "min_width": null,
            "object_fit": null,
            "object_position": null,
            "order": null,
            "overflow": null,
            "overflow_x": null,
            "overflow_y": null,
            "padding": null,
            "right": null,
            "top": null,
            "visibility": null,
            "width": null
          }
        },
        "b1544395db1240b1909024212709643f": {
          "model_module": "@jupyter-widgets/controls",
          "model_name": "DescriptionStyleModel",
          "model_module_version": "1.5.0",
          "state": {
            "_model_module": "@jupyter-widgets/controls",
            "_model_module_version": "1.5.0",
            "_model_name": "DescriptionStyleModel",
            "_view_count": null,
            "_view_module": "@jupyter-widgets/base",
            "_view_module_version": "1.2.0",
            "_view_name": "StyleView",
            "description_width": ""
          }
        }
      }
    }
  },
  "nbformat": 4,
  "nbformat_minor": 0
}